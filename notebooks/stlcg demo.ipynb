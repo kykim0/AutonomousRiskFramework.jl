{
 "cells": [
  {
   "cell_type": "code",
   "execution_count": 1,
   "metadata": {},
   "outputs": [
    {
     "name": "stderr",
     "output_type": "stream",
     "text": [
      "\u001b[32m\u001b[1m Activating\u001b[22m\u001b[39m environment at `~/projects/AutonomousRiskFramework/STLCG.jl/Project.toml`\n"
     ]
    }
   ],
   "source": [
    "using Pkg\n",
    "Pkg.activate(\"../STLCG.jl/.\")"
   ]
  },
  {
   "cell_type": "code",
   "execution_count": 2,
   "metadata": {},
   "outputs": [
    {
     "name": "stderr",
     "output_type": "stream",
     "text": [
      "┌ Info: Precompiling STLCG [6ababdf7-4701-4f28-b3b2-5630f64e3c98]\n",
      "└ @ Base loading.jl:1278\n",
      "WARNING: Method definition collapse_nothings(AbstractArray{Nothing, N} where N) in module Zygote at /home/karen/.julia/packages/Zygote/dl6QE/src/lib/broadcast.jl:131 overwritten in module STLCG at /home/karen/projects/AutonomousRiskFramework/STLCG.jl/src/STLCG.jl:39.\n",
      "  ** incremental compilation may be fatally broken for this module **\n",
      "\n"
     ]
    }
   ],
   "source": [
    "using Revise\n",
    "using STLCG\n",
    "using EllipsisNotation\n",
    "using Plots"
   ]
  },
  {
   "cell_type": "markdown",
   "metadata": {},
   "source": [
    "## Short demo"
   ]
  },
  {
   "cell_type": "code",
   "execution_count": 22,
   "metadata": {},
   "outputs": [
    {
     "data": {
      "image/svg+xml": [
       "<?xml version=\"1.0\" encoding=\"utf-8\"?>\n",
       "<svg xmlns=\"http://www.w3.org/2000/svg\" xmlns:xlink=\"http://www.w3.org/1999/xlink\" width=\"600\" height=\"400\" viewBox=\"0 0 2400 1600\">\n",
       "<defs>\n",
       "  <clipPath id=\"clip950\">\n",
       "    <rect x=\"0\" y=\"0\" width=\"2400\" height=\"1600\"/>\n",
       "  </clipPath>\n",
       "</defs>\n",
       "<path clip-path=\"url(#clip950)\" d=\"\n",
       "M0 1600 L2400 1600 L2400 0 L0 0  Z\n",
       "  \" fill=\"#ffffff\" fill-rule=\"evenodd\" fill-opacity=\"1\"/>\n",
       "<defs>\n",
       "  <clipPath id=\"clip951\">\n",
       "    <rect x=\"480\" y=\"0\" width=\"1681\" height=\"1600\"/>\n",
       "  </clipPath>\n",
       "</defs>\n",
       "<path clip-path=\"url(#clip950)\" d=\"\n",
       "M133.589 1486.45 L2352.76 1486.45 L2352.76 47.2441 L133.589 47.2441  Z\n",
       "  \" fill=\"#ffffff\" fill-rule=\"evenodd\" fill-opacity=\"1\"/>\n",
       "<defs>\n",
       "  <clipPath id=\"clip952\">\n",
       "    <rect x=\"133\" y=\"47\" width=\"2220\" height=\"1440\"/>\n",
       "  </clipPath>\n",
       "</defs>\n",
       "<polyline clip-path=\"url(#clip952)\" style=\"stroke:#000000; stroke-width:2; stroke-opacity:0.1; fill:none\" points=\"\n",
       "  345.935,1486.45 345.935,47.2441 \n",
       "  \"/>\n",
       "<polyline clip-path=\"url(#clip952)\" style=\"stroke:#000000; stroke-width:2; stroke-opacity:0.1; fill:none\" points=\"\n",
       "  645.014,1486.45 645.014,47.2441 \n",
       "  \"/>\n",
       "<polyline clip-path=\"url(#clip952)\" style=\"stroke:#000000; stroke-width:2; stroke-opacity:0.1; fill:none\" points=\"\n",
       "  944.093,1486.45 944.093,47.2441 \n",
       "  \"/>\n",
       "<polyline clip-path=\"url(#clip952)\" style=\"stroke:#000000; stroke-width:2; stroke-opacity:0.1; fill:none\" points=\"\n",
       "  1243.17,1486.45 1243.17,47.2441 \n",
       "  \"/>\n",
       "<polyline clip-path=\"url(#clip952)\" style=\"stroke:#000000; stroke-width:2; stroke-opacity:0.1; fill:none\" points=\"\n",
       "  1542.25,1486.45 1542.25,47.2441 \n",
       "  \"/>\n",
       "<polyline clip-path=\"url(#clip952)\" style=\"stroke:#000000; stroke-width:2; stroke-opacity:0.1; fill:none\" points=\"\n",
       "  1841.33,1486.45 1841.33,47.2441 \n",
       "  \"/>\n",
       "<polyline clip-path=\"url(#clip952)\" style=\"stroke:#000000; stroke-width:2; stroke-opacity:0.1; fill:none\" points=\"\n",
       "  2140.41,1486.45 2140.41,47.2441 \n",
       "  \"/>\n",
       "<polyline clip-path=\"url(#clip950)\" style=\"stroke:#000000; stroke-width:4; stroke-opacity:1; fill:none\" points=\"\n",
       "  133.589,1486.45 2352.76,1486.45 \n",
       "  \"/>\n",
       "<polyline clip-path=\"url(#clip950)\" style=\"stroke:#000000; stroke-width:4; stroke-opacity:1; fill:none\" points=\"\n",
       "  345.935,1486.45 345.935,1469.18 \n",
       "  \"/>\n",
       "<polyline clip-path=\"url(#clip950)\" style=\"stroke:#000000; stroke-width:4; stroke-opacity:1; fill:none\" points=\"\n",
       "  645.014,1486.45 645.014,1469.18 \n",
       "  \"/>\n",
       "<polyline clip-path=\"url(#clip950)\" style=\"stroke:#000000; stroke-width:4; stroke-opacity:1; fill:none\" points=\"\n",
       "  944.093,1486.45 944.093,1469.18 \n",
       "  \"/>\n",
       "<polyline clip-path=\"url(#clip950)\" style=\"stroke:#000000; stroke-width:4; stroke-opacity:1; fill:none\" points=\"\n",
       "  1243.17,1486.45 1243.17,1469.18 \n",
       "  \"/>\n",
       "<polyline clip-path=\"url(#clip950)\" style=\"stroke:#000000; stroke-width:4; stroke-opacity:1; fill:none\" points=\"\n",
       "  1542.25,1486.45 1542.25,1469.18 \n",
       "  \"/>\n",
       "<polyline clip-path=\"url(#clip950)\" style=\"stroke:#000000; stroke-width:4; stroke-opacity:1; fill:none\" points=\"\n",
       "  1841.33,1486.45 1841.33,1469.18 \n",
       "  \"/>\n",
       "<polyline clip-path=\"url(#clip950)\" style=\"stroke:#000000; stroke-width:4; stroke-opacity:1; fill:none\" points=\"\n",
       "  2140.41,1486.45 2140.41,1469.18 \n",
       "  \"/>\n",
       "<path clip-path=\"url(#clip950)\" d=\"M 0 0 M340.588 1543.18 L356.907 1543.18 L356.907 1547.12 L334.963 1547.12 L334.963 1543.18 Q337.625 1540.43 342.208 1535.8 Q346.815 1531.15 347.995 1529.81 Q350.241 1527.28 351.12 1525.55 Q352.023 1523.79 352.023 1522.1 Q352.023 1519.34 350.079 1517.61 Q348.157 1515.87 345.056 1515.87 Q342.857 1515.87 340.403 1516.63 Q337.972 1517.4 335.195 1518.95 L335.195 1514.23 Q338.019 1513.09 340.472 1512.51 Q342.926 1511.93 344.963 1511.93 Q350.333 1511.93 353.528 1514.62 Q356.722 1517.31 356.722 1521.8 Q356.722 1523.93 355.912 1525.85 Q355.125 1527.74 353.019 1530.34 Q352.44 1531.01 349.338 1534.23 Q346.236 1537.42 340.588 1543.18 Z\" fill=\"#000000\" fill-rule=\"evenodd\" fill-opacity=\"1\" /><path clip-path=\"url(#clip950)\" d=\"M 0 0 M648.024 1516.63 L636.218 1535.08 L648.024 1535.08 L648.024 1516.63 M646.797 1512.56 L652.676 1512.56 L652.676 1535.08 L657.607 1535.08 L657.607 1538.97 L652.676 1538.97 L652.676 1547.12 L648.024 1547.12 L648.024 1538.97 L632.422 1538.97 L632.422 1534.46 L646.797 1512.56 Z\" fill=\"#000000\" fill-rule=\"evenodd\" fill-opacity=\"1\" /><path clip-path=\"url(#clip950)\" d=\"M 0 0 M944.499 1527.98 Q941.35 1527.98 939.499 1530.13 Q937.67 1532.28 937.67 1536.03 Q937.67 1539.76 939.499 1541.93 Q941.35 1544.09 944.499 1544.09 Q947.647 1544.09 949.475 1541.93 Q951.327 1539.76 951.327 1536.03 Q951.327 1532.28 949.475 1530.13 Q947.647 1527.98 944.499 1527.98 M953.781 1513.32 L953.781 1517.58 Q952.022 1516.75 950.216 1516.31 Q948.434 1515.87 946.674 1515.87 Q942.045 1515.87 939.591 1519 Q937.161 1522.12 936.813 1528.44 Q938.179 1526.43 940.239 1525.36 Q942.299 1524.27 944.776 1524.27 Q949.985 1524.27 952.994 1527.44 Q956.026 1530.59 956.026 1536.03 Q956.026 1541.36 952.878 1544.57 Q949.73 1547.79 944.499 1547.79 Q938.503 1547.79 935.332 1543.21 Q932.161 1538.6 932.161 1529.87 Q932.161 1521.68 936.049 1516.82 Q939.938 1511.93 946.489 1511.93 Q948.248 1511.93 950.031 1512.28 Q951.836 1512.63 953.781 1513.32 Z\" fill=\"#000000\" fill-rule=\"evenodd\" fill-opacity=\"1\" /><path clip-path=\"url(#clip950)\" d=\"M 0 0 M1243.17 1530.71 Q1239.84 1530.71 1237.92 1532.49 Q1236.02 1534.27 1236.02 1537.4 Q1236.02 1540.52 1237.92 1542.31 Q1239.84 1544.09 1243.17 1544.09 Q1246.51 1544.09 1248.43 1542.31 Q1250.35 1540.5 1250.35 1537.4 Q1250.35 1534.27 1248.43 1532.49 Q1246.53 1530.71 1243.17 1530.71 M1238.5 1528.72 Q1235.49 1527.98 1233.8 1525.92 Q1232.13 1523.86 1232.13 1520.89 Q1232.13 1516.75 1235.07 1514.34 Q1238.03 1511.93 1243.17 1511.93 Q1248.33 1511.93 1251.27 1514.34 Q1254.21 1516.75 1254.21 1520.89 Q1254.21 1523.86 1252.52 1525.92 Q1250.86 1527.98 1247.87 1528.72 Q1251.25 1529.5 1253.13 1531.8 Q1255.02 1534.09 1255.02 1537.4 Q1255.02 1542.42 1251.95 1545.11 Q1248.89 1547.79 1243.17 1547.79 Q1237.45 1547.79 1234.38 1545.11 Q1231.32 1542.42 1231.32 1537.4 Q1231.32 1534.09 1233.22 1531.8 Q1235.12 1529.5 1238.5 1528.72 M1236.78 1521.33 Q1236.78 1524.02 1238.45 1525.52 Q1240.14 1527.03 1243.17 1527.03 Q1246.18 1527.03 1247.87 1525.52 Q1249.58 1524.02 1249.58 1521.33 Q1249.58 1518.65 1247.87 1517.14 Q1246.18 1515.64 1243.17 1515.64 Q1240.14 1515.64 1238.45 1517.14 Q1236.78 1518.65 1236.78 1521.33 Z\" fill=\"#000000\" fill-rule=\"evenodd\" fill-opacity=\"1\" /><path clip-path=\"url(#clip950)\" d=\"M 0 0 M1519.13 1543.18 L1526.77 1543.18 L1526.77 1516.82 L1518.46 1518.49 L1518.46 1514.23 L1526.72 1512.56 L1531.4 1512.56 L1531.4 1543.18 L1539.03 1543.18 L1539.03 1547.12 L1519.13 1547.12 L1519.13 1543.18 Z\" fill=\"#000000\" fill-rule=\"evenodd\" fill-opacity=\"1\" /><path clip-path=\"url(#clip950)\" d=\"M 0 0 M1554.1 1515.64 Q1550.49 1515.64 1548.66 1519.2 Q1546.86 1522.75 1546.86 1529.87 Q1546.86 1536.98 1548.66 1540.55 Q1550.49 1544.09 1554.1 1544.09 Q1557.74 1544.09 1559.54 1540.55 Q1561.37 1536.98 1561.37 1529.87 Q1561.37 1522.75 1559.54 1519.2 Q1557.74 1515.64 1554.1 1515.64 M1554.1 1511.93 Q1559.91 1511.93 1562.97 1516.54 Q1566.05 1521.12 1566.05 1529.87 Q1566.05 1538.6 1562.97 1543.21 Q1559.91 1547.79 1554.1 1547.79 Q1548.29 1547.79 1545.21 1543.21 Q1542.16 1538.6 1542.16 1529.87 Q1542.16 1521.12 1545.21 1516.54 Q1548.29 1511.93 1554.1 1511.93 Z\" fill=\"#000000\" fill-rule=\"evenodd\" fill-opacity=\"1\" /><path clip-path=\"url(#clip950)\" d=\"M 0 0 M1819 1543.18 L1826.64 1543.18 L1826.64 1516.82 L1818.33 1518.49 L1818.33 1514.23 L1826.6 1512.56 L1831.27 1512.56 L1831.27 1543.18 L1838.91 1543.18 L1838.91 1547.12 L1819 1547.12 L1819 1543.18 Z\" fill=\"#000000\" fill-rule=\"evenodd\" fill-opacity=\"1\" /><path clip-path=\"url(#clip950)\" d=\"M 0 0 M1848.01 1543.18 L1864.33 1543.18 L1864.33 1547.12 L1842.38 1547.12 L1842.38 1543.18 Q1845.05 1540.43 1849.63 1535.8 Q1854.24 1531.15 1855.42 1529.81 Q1857.66 1527.28 1858.54 1525.55 Q1859.44 1523.79 1859.44 1522.1 Q1859.44 1519.34 1857.5 1517.61 Q1855.58 1515.87 1852.48 1515.87 Q1850.28 1515.87 1847.82 1516.63 Q1845.39 1517.4 1842.62 1518.95 L1842.62 1514.23 Q1845.44 1513.09 1847.89 1512.51 Q1850.35 1511.93 1852.38 1511.93 Q1857.75 1511.93 1860.95 1514.62 Q1864.14 1517.31 1864.14 1521.8 Q1864.14 1523.93 1863.33 1525.85 Q1862.55 1527.74 1860.44 1530.34 Q1859.86 1531.01 1856.76 1534.23 Q1853.66 1537.42 1848.01 1543.18 Z\" fill=\"#000000\" fill-rule=\"evenodd\" fill-opacity=\"1\" /><path clip-path=\"url(#clip950)\" d=\"M 0 0 M2117.04 1543.18 L2124.68 1543.18 L2124.68 1516.82 L2116.37 1518.49 L2116.37 1514.23 L2124.63 1512.56 L2129.31 1512.56 L2129.31 1543.18 L2136.95 1543.18 L2136.95 1547.12 L2117.04 1547.12 L2117.04 1543.18 Z\" fill=\"#000000\" fill-rule=\"evenodd\" fill-opacity=\"1\" /><path clip-path=\"url(#clip950)\" d=\"M 0 0 M2154.87 1516.63 L2143.06 1535.08 L2154.87 1535.08 L2154.87 1516.63 M2153.64 1512.56 L2159.52 1512.56 L2159.52 1535.08 L2164.45 1535.08 L2164.45 1538.97 L2159.52 1538.97 L2159.52 1547.12 L2154.87 1547.12 L2154.87 1538.97 L2139.26 1538.97 L2139.26 1534.46 L2153.64 1512.56 Z\" fill=\"#000000\" fill-rule=\"evenodd\" fill-opacity=\"1\" /><polyline clip-path=\"url(#clip952)\" style=\"stroke:#000000; stroke-width:2; stroke-opacity:0.1; fill:none\" points=\"\n",
       "  133.589,1276 2352.76,1276 \n",
       "  \"/>\n",
       "<polyline clip-path=\"url(#clip952)\" style=\"stroke:#000000; stroke-width:2; stroke-opacity:0.1; fill:none\" points=\"\n",
       "  133.589,1021.42 2352.76,1021.42 \n",
       "  \"/>\n",
       "<polyline clip-path=\"url(#clip952)\" style=\"stroke:#000000; stroke-width:2; stroke-opacity:0.1; fill:none\" points=\"\n",
       "  133.589,766.846 2352.76,766.846 \n",
       "  \"/>\n",
       "<polyline clip-path=\"url(#clip952)\" style=\"stroke:#000000; stroke-width:2; stroke-opacity:0.1; fill:none\" points=\"\n",
       "  133.589,512.27 2352.76,512.27 \n",
       "  \"/>\n",
       "<polyline clip-path=\"url(#clip952)\" style=\"stroke:#000000; stroke-width:2; stroke-opacity:0.1; fill:none\" points=\"\n",
       "  133.589,257.694 2352.76,257.694 \n",
       "  \"/>\n",
       "<polyline clip-path=\"url(#clip950)\" style=\"stroke:#000000; stroke-width:4; stroke-opacity:1; fill:none\" points=\"\n",
       "  133.589,1486.45 133.589,47.2441 \n",
       "  \"/>\n",
       "<polyline clip-path=\"url(#clip950)\" style=\"stroke:#000000; stroke-width:4; stroke-opacity:1; fill:none\" points=\"\n",
       "  133.589,1276 160.219,1276 \n",
       "  \"/>\n",
       "<polyline clip-path=\"url(#clip950)\" style=\"stroke:#000000; stroke-width:4; stroke-opacity:1; fill:none\" points=\"\n",
       "  133.589,1021.42 160.219,1021.42 \n",
       "  \"/>\n",
       "<polyline clip-path=\"url(#clip950)\" style=\"stroke:#000000; stroke-width:4; stroke-opacity:1; fill:none\" points=\"\n",
       "  133.589,766.846 160.219,766.846 \n",
       "  \"/>\n",
       "<polyline clip-path=\"url(#clip950)\" style=\"stroke:#000000; stroke-width:4; stroke-opacity:1; fill:none\" points=\"\n",
       "  133.589,512.27 160.219,512.27 \n",
       "  \"/>\n",
       "<polyline clip-path=\"url(#clip950)\" style=\"stroke:#000000; stroke-width:4; stroke-opacity:1; fill:none\" points=\"\n",
       "  133.589,257.694 160.219,257.694 \n",
       "  \"/>\n",
       "<path clip-path=\"url(#clip950)\" d=\"M 0 0 M90.4595 1274.64 Q93.816 1275.36 95.691 1277.63 Q97.5891 1279.9 97.5891 1283.23 Q97.5891 1288.35 94.0706 1291.15 Q90.5521 1293.95 84.0707 1293.95 Q81.8947 1293.95 79.5799 1293.51 Q77.2883 1293.09 74.8346 1292.24 L74.8346 1287.72 Q76.779 1288.86 79.0938 1289.44 Q81.4086 1290.01 83.9318 1290.01 Q88.3299 1290.01 90.6215 1288.28 Q92.9363 1286.54 92.9363 1283.23 Q92.9363 1280.18 90.7836 1278.46 Q88.654 1276.73 84.8345 1276.73 L80.8068 1276.73 L80.8068 1272.88 L85.0197 1272.88 Q88.4688 1272.88 90.2975 1271.52 Q92.1262 1270.13 92.1262 1267.54 Q92.1262 1264.88 90.228 1263.46 Q88.353 1262.03 84.8345 1262.03 Q82.9133 1262.03 80.7142 1262.45 Q78.5151 1262.86 75.8763 1263.74 L75.8763 1259.57 Q78.5383 1258.83 80.8531 1258.46 Q83.191 1258.09 85.2512 1258.09 Q90.5752 1258.09 93.6771 1260.52 Q96.7789 1262.93 96.7789 1267.05 Q96.7789 1269.92 95.1354 1271.91 Q93.4919 1273.88 90.4595 1274.64 Z\" fill=\"#000000\" fill-rule=\"evenodd\" fill-opacity=\"1\" /><path clip-path=\"url(#clip950)\" d=\"M 0 0 M86.0614 1019.56 Q82.9133 1019.56 81.0614 1021.71 Q79.2327 1023.86 79.2327 1027.61 Q79.2327 1031.34 81.0614 1033.52 Q82.9133 1035.67 86.0614 1035.67 Q89.2095 1035.67 91.0382 1033.52 Q92.89 1031.34 92.89 1027.61 Q92.89 1023.86 91.0382 1021.71 Q89.2095 1019.56 86.0614 1019.56 M95.3437 1004.91 L95.3437 1009.17 Q93.5845 1008.33 91.7789 1007.89 Q89.9965 1007.45 88.2373 1007.45 Q83.6077 1007.45 81.154 1010.58 Q78.7235 1013.7 78.3762 1020.02 Q79.742 1018.01 81.8021 1016.94 Q83.8623 1015.86 86.3392 1015.86 Q91.5475 1015.86 94.5567 1019.03 Q97.5891 1022.17 97.5891 1027.61 Q97.5891 1032.94 94.441 1036.16 Q91.2928 1039.37 86.0614 1039.37 Q80.066 1039.37 76.8948 1034.79 Q73.7235 1030.18 73.7235 1021.46 Q73.7235 1013.26 77.6124 1008.4 Q81.5012 1003.52 88.0521 1003.52 Q89.8114 1003.52 91.5938 1003.86 Q93.3993 1004.21 95.3437 1004.91 Z\" fill=\"#000000\" fill-rule=\"evenodd\" fill-opacity=\"1\" /><path clip-path=\"url(#clip950)\" d=\"M 0 0 M75.9688 783.408 L75.9688 779.149 Q77.7281 779.982 79.5336 780.422 Q81.3392 780.862 83.0753 780.862 Q87.7049 780.862 90.1354 777.76 Q92.5891 774.635 92.9363 768.293 Q91.5938 770.283 89.5336 771.348 Q87.4734 772.413 84.9734 772.413 Q79.7883 772.413 76.7559 769.288 Q73.7466 766.14 73.7466 760.7 Q73.7466 755.376 76.8948 752.159 Q80.0429 748.941 85.2743 748.941 Q91.2697 748.941 94.4178 753.547 Q97.5891 758.131 97.5891 766.881 Q97.5891 775.052 93.7002 779.936 Q89.8345 784.797 83.2836 784.797 Q81.5244 784.797 79.7188 784.45 Q77.9133 784.103 75.9688 783.408 M85.2743 768.756 Q88.4225 768.756 90.2512 766.603 Q92.103 764.45 92.103 760.7 Q92.103 756.973 90.2512 754.821 Q88.4225 752.645 85.2743 752.645 Q82.1262 752.645 80.2744 754.821 Q78.4457 756.973 78.4457 760.7 Q78.4457 764.45 80.2744 766.603 Q82.1262 768.756 85.2743 768.756 Z\" fill=\"#000000\" fill-rule=\"evenodd\" fill-opacity=\"1\" /><path clip-path=\"url(#clip950)\" d=\"M 0 0 M52.2653 525.615 L59.9041 525.615 L59.9041 499.249 L51.594 500.916 L51.594 496.657 L59.8578 494.99 L64.5337 494.99 L64.5337 525.615 L72.1726 525.615 L72.1726 529.55 L52.2653 529.55 L52.2653 525.615 Z\" fill=\"#000000\" fill-rule=\"evenodd\" fill-opacity=\"1\" /><path clip-path=\"url(#clip950)\" d=\"M 0 0 M81.2697 525.615 L97.5891 525.615 L97.5891 529.55 L75.6448 529.55 L75.6448 525.615 Q78.3068 522.86 82.8901 518.23 Q87.4966 513.578 88.6771 512.235 Q90.9225 509.712 91.8021 507.976 Q92.7049 506.217 92.7049 504.527 Q92.7049 501.772 90.7604 500.036 Q88.8391 498.3 85.7373 498.3 Q83.5382 498.3 81.0846 499.064 Q78.654 499.828 75.8763 501.379 L75.8763 496.657 Q78.7003 495.522 81.154 494.944 Q83.6077 494.365 85.6447 494.365 Q91.0151 494.365 94.2095 497.05 Q97.4039 499.735 97.4039 504.226 Q97.4039 506.356 96.5937 508.277 Q95.8067 510.175 93.7002 512.768 Q93.1215 513.439 90.0197 516.656 Q86.9179 519.851 81.2697 525.615 Z\" fill=\"#000000\" fill-rule=\"evenodd\" fill-opacity=\"1\" /><path clip-path=\"url(#clip950)\" d=\"M 0 0 M51.6634 271.039 L59.3023 271.039 L59.3023 244.673 L50.9921 246.34 L50.9921 242.08 L59.256 240.414 L63.9319 240.414 L63.9319 271.039 L71.5707 271.039 L71.5707 274.974 L51.6634 274.974 L51.6634 271.039 Z\" fill=\"#000000\" fill-rule=\"evenodd\" fill-opacity=\"1\" /><path clip-path=\"url(#clip950)\" d=\"M 0 0 M76.6864 240.414 L95.0428 240.414 L95.0428 244.349 L80.9688 244.349 L80.9688 252.821 Q81.9873 252.474 83.0058 252.312 Q84.0244 252.127 85.0429 252.127 Q90.8299 252.127 94.2095 255.298 Q97.5891 258.469 97.5891 263.886 Q97.5891 269.464 94.1169 272.566 Q90.6447 275.645 84.3253 275.645 Q82.1494 275.645 79.8809 275.275 Q77.6355 274.904 75.2281 274.164 L75.2281 269.464 Q77.3114 270.599 79.5336 271.154 Q81.7559 271.71 84.2327 271.71 Q88.2373 271.71 90.5752 269.603 Q92.9132 267.497 92.9132 263.886 Q92.9132 260.275 90.5752 258.168 Q88.2373 256.062 84.2327 256.062 Q82.3577 256.062 80.4827 256.478 Q78.6309 256.895 76.6864 257.775 L76.6864 240.414 Z\" fill=\"#000000\" fill-rule=\"evenodd\" fill-opacity=\"1\" /><polyline clip-path=\"url(#clip952)\" style=\"stroke:#009af9; stroke-width:4; stroke-opacity:1; fill:none\" points=\"\n",
       "  196.396,1445.72 345.935,1360.86 495.475,1276 645.014,1191.14 794.554,1106.28 944.093,1021.42 1093.63,936.563 1243.17,851.705 1392.71,766.846 1542.25,681.987 \n",
       "  1691.79,597.129 1841.33,512.27 1990.87,427.411 2140.41,342.552 2289.95,257.694 \n",
       "  \"/>\n",
       "<polyline clip-path=\"url(#clip952)\" style=\"stroke:#e26f46; stroke-width:4; stroke-opacity:1; fill:none\" points=\"\n",
       "  196.396,1276 345.935,1191.14 495.475,1106.28 645.014,1021.42 794.554,936.563 944.093,851.705 1093.63,766.846 1243.17,681.987 1392.71,597.129 1542.25,512.27 \n",
       "  1691.79,427.411 1841.33,342.552 1990.87,257.694 2140.41,172.835 2289.95,87.9763 \n",
       "  \"/>\n",
       "<path clip-path=\"url(#clip950)\" d=\"\n",
       "M1981.19 276.658 L2278.78 276.658 L2278.78 95.2176 L1981.19 95.2176  Z\n",
       "  \" fill=\"#ffffff\" fill-rule=\"evenodd\" fill-opacity=\"1\"/>\n",
       "<polyline clip-path=\"url(#clip950)\" style=\"stroke:#000000; stroke-width:4; stroke-opacity:1; fill:none\" points=\"\n",
       "  1981.19,276.658 2278.78,276.658 2278.78,95.2176 1981.19,95.2176 1981.19,276.658 \n",
       "  \"/>\n",
       "<polyline clip-path=\"url(#clip950)\" style=\"stroke:#009af9; stroke-width:4; stroke-opacity:1; fill:none\" points=\"\n",
       "  2005.85,155.698 2153.79,155.698 \n",
       "  \"/>\n",
       "<path clip-path=\"url(#clip950)\" d=\"M 0 0 M2192.29 175.385 Q2190.49 180.015 2188.77 181.427 Q2187.06 182.839 2184.19 182.839 L2180.79 182.839 L2180.79 179.274 L2183.29 179.274 Q2185.05 179.274 2186.02 178.44 Q2186.99 177.607 2188.17 174.505 L2188.94 172.561 L2178.45 147.052 L2182.96 147.052 L2191.07 167.329 L2199.17 147.052 L2203.68 147.052 L2192.29 175.385 Z\" fill=\"#000000\" fill-rule=\"evenodd\" fill-opacity=\"1\" /><path clip-path=\"url(#clip950)\" d=\"M 0 0 M2209.56 169.042 L2217.2 169.042 L2217.2 142.677 L2208.89 144.343 L2208.89 140.084 L2217.15 138.418 L2221.83 138.418 L2221.83 169.042 L2229.47 169.042 L2229.47 172.978 L2209.56 172.978 L2209.56 169.042 Z\" fill=\"#000000\" fill-rule=\"evenodd\" fill-opacity=\"1\" /><polyline clip-path=\"url(#clip950)\" style=\"stroke:#e26f46; stroke-width:4; stroke-opacity:1; fill:none\" points=\"\n",
       "  2005.85,216.178 2153.79,216.178 \n",
       "  \"/>\n",
       "<path clip-path=\"url(#clip950)\" d=\"M 0 0 M2192.29 235.865 Q2190.49 240.495 2188.77 241.907 Q2187.06 243.319 2184.19 243.319 L2180.79 243.319 L2180.79 239.754 L2183.29 239.754 Q2185.05 239.754 2186.02 238.92 Q2186.99 238.087 2188.17 234.985 L2188.94 233.041 L2178.45 207.532 L2182.96 207.532 L2191.07 227.809 L2199.17 207.532 L2203.68 207.532 L2192.29 235.865 Z\" fill=\"#000000\" fill-rule=\"evenodd\" fill-opacity=\"1\" /><path clip-path=\"url(#clip950)\" d=\"M 0 0 M2212.78 229.522 L2229.1 229.522 L2229.1 233.458 L2207.15 233.458 L2207.15 229.522 Q2209.82 226.768 2214.4 222.138 Q2219.01 217.485 2220.19 216.143 Q2222.43 213.62 2223.31 211.884 Q2224.21 210.124 2224.21 208.435 Q2224.21 205.68 2222.27 203.944 Q2220.35 202.208 2217.25 202.208 Q2215.05 202.208 2212.59 202.972 Q2210.16 203.735 2207.39 205.286 L2207.39 200.564 Q2210.21 199.43 2212.66 198.851 Q2215.12 198.273 2217.15 198.273 Q2222.52 198.273 2225.72 200.958 Q2228.91 203.643 2228.91 208.134 Q2228.91 210.263 2228.1 212.185 Q2227.32 214.083 2225.21 216.675 Q2224.63 217.347 2221.53 220.564 Q2218.43 223.759 2212.78 229.522 Z\" fill=\"#000000\" fill-rule=\"evenodd\" fill-opacity=\"1\" /></svg>\n"
      ]
     },
     "execution_count": 22,
     "metadata": {},
     "output_type": "execute_result"
    }
   ],
   "source": [
    "# setting up the signals\n",
    "# Using very easy signals so we can compare with the correct answer\n",
    "bs = 2\n",
    "t = 15\n",
    "x_dim = 3\n",
    "dim = 2\n",
    "x = Float32.(repeat(reshape(collect(1:t), 1, t, 1), bs, 1, x_dim))\n",
    "y = Float32.(repeat(reshape(collect(1:t), 1, t, 1), bs, 1, x_dim)) .+ 2\n",
    "\n",
    "plot(x[1,:,1])\n",
    "plot!(y[1,:,1])"
   ]
  },
  {
   "cell_type": "markdown",
   "metadata": {},
   "source": [
    "### Make some formulas"
   ]
  },
  {
   "cell_type": "code",
   "execution_count": 16,
   "metadata": {},
   "outputs": [
    {
     "data": {
      "text/plain": [
       "Until\n",
       "  subformula1: LessThan\n",
       "  subformula2: GreaterThan\n",
       "  interval: Nothing nothing\n"
      ]
     },
     "execution_count": 16,
     "metadata": {},
     "output_type": "execute_result"
    }
   ],
   "source": [
    "not = Negation(LessThan(:x, 4.0))\n",
    "lt = LessThan(:x, 0.0)\n",
    "gt = GreaterThan(:y, 0.0)\n",
    "or = Or(subformula1=lt, subformula2=gt)\n",
    "and = And(subformula1=lt, subformula2=gt)\n",
    "alw = Always(subformula=and, interval=nothing)\n",
    "ev = Eventually(subformula=or, interval=nothing)\n",
    "ut = Until(subformula1=lt, subformula2=gt)"
   ]
  },
  {
   "cell_type": "code",
   "execution_count": 5,
   "metadata": {},
   "outputs": [
    {
     "data": {
      "text/plain": [
       "false"
      ]
     },
     "execution_count": 5,
     "metadata": {},
     "output_type": "execute_result"
    }
   ],
   "source": [
    "# parameters: these are the default values, but feel free to change them here to test it out\n",
    "pscale=1    # scale for LessThan, GreaterThan, Equal\n",
    "scale=0     # scale for the minish and maxish function used in temporal operators, implies, and, or\n",
    "keepdims=true      # keep original dimension (should pretty much always be true)\n",
    "distributed=false  # if there are multiple indices that have the same max/min values, then mean over those to the gradient flows through all those values"
   ]
  },
  {
   "cell_type": "markdown",
   "metadata": {},
   "source": [
    "### Evaluating robustness trace"
   ]
  },
  {
   "cell_type": "code",
   "execution_count": 6,
   "metadata": {},
   "outputs": [
    {
     "data": {
      "text/plain": [
       "2×15×3 Array{Float64,3}:\n",
       "[:, :, 1] =\n",
       " -1.0  -2.0  -3.0  -4.0  -5.0  -6.0  …  -11.0  -12.0  -13.0  -14.0  -15.0\n",
       " -1.0  -2.0  -3.0  -4.0  -5.0  -6.0     -11.0  -12.0  -13.0  -14.0  -15.0\n",
       "\n",
       "[:, :, 2] =\n",
       " -1.0  -2.0  -3.0  -4.0  -5.0  -6.0  …  -11.0  -12.0  -13.0  -14.0  -15.0\n",
       " -1.0  -2.0  -3.0  -4.0  -5.0  -6.0     -11.0  -12.0  -13.0  -14.0  -15.0\n",
       "\n",
       "[:, :, 3] =\n",
       " -1.0  -2.0  -3.0  -4.0  -5.0  -6.0  …  -11.0  -12.0  -13.0  -14.0  -15.0\n",
       " -1.0  -2.0  -3.0  -4.0  -5.0  -6.0     -11.0  -12.0  -13.0  -14.0  -15.0"
      ]
     },
     "execution_count": 6,
     "metadata": {},
     "output_type": "execute_result"
    }
   ],
   "source": [
    "ϕ = lt\n",
    "ϕ(x; pscale, scale, keepdims, distributed)\n",
    "# robustness_trace(ϕ, x; pscale, scale, keepdims, distributed)\n",
    "ρt(ϕ, x; pscale, scale, keepdims, distributed)"
   ]
  },
  {
   "cell_type": "markdown",
   "metadata": {},
   "source": [
    "### Evaluating robustness $\\rho$ (not trace)"
   ]
  },
  {
   "cell_type": "code",
   "execution_count": 18,
   "metadata": {},
   "outputs": [
    {
     "data": {
      "text/plain": [
       "2×1×3 Array{Float64,3}:\n",
       "[:, :, 1] =\n",
       " -15.0\n",
       " -15.0\n",
       "\n",
       "[:, :, 2] =\n",
       " -15.0\n",
       " -15.0\n",
       "\n",
       "[:, :, 3] =\n",
       " -15.0\n",
       " -15.0"
      ]
     },
     "execution_count": 18,
     "metadata": {},
     "output_type": "execute_result"
    }
   ],
   "source": [
    "ϕ = ut\n",
    "# robustness(ϕ, x; pscale, scale, keepdims, distributed)\n",
    "ρ(ϕ, (x,y); pscale, scale, keepdims, distributed)"
   ]
  },
  {
   "cell_type": "markdown",
   "metadata": {},
   "source": [
    "# Checking gradients\n",
    "NOTE: Until and Then still suffering from mutating arrays"
   ]
  },
  {
   "cell_type": "code",
   "execution_count": 8,
   "metadata": {},
   "outputs": [
    {
     "data": {
      "text/plain": [
       "2×15×3 Array{Float64,3}:\n",
       "[:, :, 1] =\n",
       " 0.0  0.0  0.0  0.0  0.0  0.0  0.0  0.0  0.0  0.0  0.0  0.0  0.0  0.0  1.0\n",
       " 0.0  0.0  0.0  0.0  0.0  0.0  0.0  0.0  0.0  0.0  0.0  0.0  0.0  0.0  1.0\n",
       "\n",
       "[:, :, 2] =\n",
       " 0.0  0.0  0.0  0.0  0.0  0.0  0.0  0.0  0.0  0.0  0.0  0.0  0.0  0.0  1.0\n",
       " 0.0  0.0  0.0  0.0  0.0  0.0  0.0  0.0  0.0  0.0  0.0  0.0  0.0  0.0  1.0\n",
       "\n",
       "[:, :, 3] =\n",
       " 0.0  0.0  0.0  0.0  0.0  0.0  0.0  0.0  0.0  0.0  0.0  0.0  0.0  0.0  1.0\n",
       " 0.0  0.0  0.0  0.0  0.0  0.0  0.0  0.0  0.0  0.0  0.0  0.0  0.0  0.0  1.0"
      ]
     },
     "execution_count": 8,
     "metadata": {},
     "output_type": "execute_result"
    }
   ],
   "source": [
    "vcat(STLCG.gradient(x -> sum(ρ(ϕ, x; pscale, scale, keepdims, distributed)), x)...)"
   ]
  },
  {
   "cell_type": "code",
   "execution_count": 27,
   "metadata": {},
   "outputs": [
    {
     "data": {
      "text/plain": [
       "4×15×3 Array{Float64,3}:\n",
       "[:, :, 1] =\n",
       " -0.0  -0.0  -0.0  -0.0  -0.0  -0.0  …  -0.0  -0.0  -0.0  -0.0  -0.0  -1.0\n",
       " -0.0  -0.0  -0.0  -0.0  -0.0  -0.0     -0.0  -0.0  -0.0  -0.0  -0.0  -1.0\n",
       "  0.0   0.0   0.0   0.0   0.0   0.0      0.0   0.0   0.0   0.0   0.0   0.0\n",
       "  0.0   0.0   0.0   0.0   0.0   0.0      0.0   0.0   0.0   0.0   0.0   0.0\n",
       "\n",
       "[:, :, 2] =\n",
       " -0.0  -0.0  -0.0  -0.0  -0.0  -0.0  …  -0.0  -0.0  -0.0  -0.0  -0.0  -1.0\n",
       " -0.0  -0.0  -0.0  -0.0  -0.0  -0.0     -0.0  -0.0  -0.0  -0.0  -0.0  -1.0\n",
       "  0.0   0.0   0.0   0.0   0.0   0.0      0.0   0.0   0.0   0.0   0.0   0.0\n",
       "  0.0   0.0   0.0   0.0   0.0   0.0      0.0   0.0   0.0   0.0   0.0   0.0\n",
       "\n",
       "[:, :, 3] =\n",
       " -0.0  -0.0  -0.0  -0.0  -0.0  -0.0  …  -0.0  -0.0  -0.0  -0.0  -0.0  -1.0\n",
       " -0.0  -0.0  -0.0  -0.0  -0.0  -0.0     -0.0  -0.0  -0.0  -0.0  -0.0  -1.0\n",
       "  0.0   0.0   0.0   0.0   0.0   0.0      0.0   0.0   0.0   0.0   0.0   0.0\n",
       "  0.0   0.0   0.0   0.0   0.0   0.0      0.0   0.0   0.0   0.0   0.0   0.0"
      ]
     },
     "execution_count": 27,
     "metadata": {},
     "output_type": "execute_result"
    }
   ],
   "source": [
    "ϕ = alw\n",
    "vcat(STLCG.gradient(x -> sum(ρ(ϕ, x; pscale, scale, keepdims, distributed)), (x,y))[1]...)"
   ]
  },
  {
   "cell_type": "code",
   "execution_count": null,
   "metadata": {},
   "outputs": [],
   "source": []
  }
 ],
 "metadata": {
  "@webio": {
   "lastCommId": null,
   "lastKernelId": null
  },
  "kernelspec": {
   "display_name": "Julia 1.5.2",
   "language": "julia",
   "name": "julia-1.5"
  },
  "language_info": {
   "file_extension": ".jl",
   "mimetype": "application/julia",
   "name": "julia",
   "version": "1.5.2"
  }
 },
 "nbformat": 4,
 "nbformat_minor": 4
}
