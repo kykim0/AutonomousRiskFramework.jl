{
 "cells": [
  {
   "cell_type": "code",
   "execution_count": 1,
   "metadata": {},
   "outputs": [
    {
     "name": "stderr",
     "output_type": "stream",
     "text": [
      "\u001b[32m\u001b[1m Activating\u001b[22m\u001b[39m environment at `~/projects/AutonomousRiskFramework/STLCG.jl/Project.toml`\n"
     ]
    }
   ],
   "source": [
    "using Pkg\n",
    "Pkg.activate(\"/home/karen/projects/AutonomousRiskFramework/STLCG.jl/.\")"
   ]
  },
  {
   "cell_type": "code",
   "execution_count": 8,
   "metadata": {},
   "outputs": [],
   "source": [
    "using Revise\n",
    "using STLCG\n",
    "using EllipsisNotation\n"
   ]
  },
  {
   "cell_type": "code",
   "execution_count": 9,
   "metadata": {},
   "outputs": [
    {
     "name": "stdout",
     "output_type": "stream",
     "text": [
      "sdfs\n"
     ]
    },
    {
     "data": {
      "text/plain": [
       "(nothing,)"
      ]
     },
     "execution_count": 9,
     "metadata": {},
     "output_type": "execute_result"
    }
   ],
   "source": [
    "bs = 2\n",
    "t = 15\n",
    "x_dim = 3\n",
    "dim = 2\n",
    "x = rand(bs, t, x_dim);\n",
    "xs = [x[:,i:i,..] for i in 1:t];\n",
    "\n",
    "\n",
    "op = Always(subformula=x, interval=[5, Inf])\n",
    "h0 = STLCG.init_rnn_cell!(op, x)\n",
    "scale = 0\n",
    "distributed = true\n",
    "\n",
    "# rnn_cell(op, xs[1], op.h0; scale, distributed)\n",
    "STLCG.gradient(x -> sum(STLCG.rnn_cell(op, x, h0; scale, distributed)[1]), xs[1]) # <---- doesn't work\n",
    "# STLCG.gradient(x -> sum(STLCG.rnn_cell(op, x, h0; scale, distributed)[2][1][2]), xs[1]) # <--- works"
   ]
  },
  {
   "cell_type": "code",
   "execution_count": null,
   "metadata": {},
   "outputs": [],
   "source": []
  }
 ],
 "metadata": {
  "@webio": {
   "lastCommId": null,
   "lastKernelId": null
  },
  "kernelspec": {
   "display_name": "Julia 1.5.2",
   "language": "julia",
   "name": "julia-1.5"
  },
  "language_info": {
   "file_extension": ".jl",
   "mimetype": "application/julia",
   "name": "julia",
   "version": "1.5.2"
  }
 },
 "nbformat": 4,
 "nbformat_minor": 4
}
