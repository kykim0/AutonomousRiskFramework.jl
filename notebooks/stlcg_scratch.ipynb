{
 "cells": [
  {
   "cell_type": "code",
   "execution_count": 1,
   "metadata": {},
   "outputs": [
    {
     "name": "stderr",
     "output_type": "stream",
     "text": [
      "\u001b[32m\u001b[1m Activating\u001b[22m\u001b[39m environment at `~/repos/AutonomousRiskFramework/STLCG.jl/Project.toml`\n"
     ]
    }
   ],
   "source": [
    "using Pkg\n",
    "Pkg.activate(\"../STLCG.jl/.\")"
   ]
  },
  {
   "cell_type": "code",
   "execution_count": 2,
   "metadata": {},
   "outputs": [
    {
     "name": "stderr",
     "output_type": "stream",
     "text": [
      "┌ Info: Precompiling STLCG [6ababdf7-4701-4f28-b3b2-5630f64e3c98]\n",
      "└ @ Base loading.jl:1278\n"
     ]
    }
   ],
   "source": [
    "using Revise\n",
    "using STLCG\n",
    "using EllipsisNotation\n"
   ]
  },
  {
   "cell_type": "code",
   "execution_count": 3,
   "metadata": {},
   "outputs": [
    {
     "data": {
      "text/plain": [
       "true"
      ]
     },
     "execution_count": 3,
     "metadata": {},
     "output_type": "execute_result"
    }
   ],
   "source": [
    "bs = 2\n",
    "t = 15\n",
    "x_dim = 3\n",
    "dim = 2\n",
    "x = randn(bs, t, x_dim);\n",
    "y = randn(bs, t, x_dim);\n",
    "\n",
    "xs = [x[:,i:i,..] for i in 1:t];\n",
    "\n",
    "\n",
    "op = Always(subformula=x, interval=[5, Inf])\n",
    "h0 = STLCG.init_rnn_cell!(op, x)\n",
    "scale = 0\n",
    "distributed = true\n",
    "\n",
    "# rnn_cell(op, xs[1], op.h0; scale, distributed)\n",
    "# STLCG.gradient(x -> sum(STLCG.rnn_cell(op, x, h0; scale, distributed)[1]), xs[1]) # <---- doesn't work\n",
    "# STLCG.gradient(x -> sum(STLCG.rnn_cell(op, x, h0; scale, distributed)[2][1][2]), xs[1]) # <--- works"
   ]
  },
  {
   "cell_type": "code",
   "execution_count": 13,
   "metadata": {},
   "outputs": [
    {
     "data": {
      "text/plain": [
       "Always\n",
       "  subformula: STLCG.Or\n",
       "  interval: Nothing nothing\n",
       "  _interval: Array{Float64}((2,)) [0.0, Inf]\n",
       "  rnn_dim: Int8 1\n",
       "  steps: Int8 1\n",
       "  operation: Minish (function of type typeof(Minish))\n",
       "  M: Array{Float64}((1, 1)) [0.0]\n",
       "  b: Array{Float64}((1,)) [1.0]\n"
      ]
     },
     "execution_count": 13,
     "metadata": {},
     "output_type": "execute_result"
    }
   ],
   "source": [
    "op = STLCG.Negation(STLCG.LessThan(:x, 4.0))\n",
    "op1 = STLCG.LessThan(:x, 0.0)\n",
    "op2 = STLCG.GreaterThan(:y, 0.0)\n",
    "op = STLCG.Or(subformula1=op1, subformula2=op2)\n",
    "op = STLCG.Always(subformula=op, interval=nothing)"
   ]
  },
  {
   "cell_type": "code",
   "execution_count": 25,
   "metadata": {},
   "outputs": [
    {
     "data": {
      "text/plain": [
       "2×15×3 Array{Float64,3}:\n",
       "[:, :, 1] =\n",
       " 0.014236  0.0643839  0.129185  0.973042  …  0.789883  0.0558895  0.34267\n",
       " 1.27809   0.366613   0.344831  1.29821      1.46592   1.78059    0.673362\n",
       "\n",
       "[:, :, 2] =\n",
       " 0.17119   0.312389  1.17013    0.310833  …  1.82768  1.03153   2.47358\n",
       " 0.641186  0.692986  0.0428127  0.440219     2.10405  0.639417  0.710165\n",
       "\n",
       "[:, :, 3] =\n",
       " 0.571426  0.622713  1.35888   0.653964  …  0.161919  0.0168242  1.2357\n",
       " 0.439976  0.485175  0.578168  0.252686     0.537099  1.09756    0.510397"
      ]
     },
     "execution_count": 25,
     "metadata": {},
     "output_type": "execute_result"
    }
   ],
   "source": [
    "op.subformula((x,x))"
   ]
  },
  {
   "cell_type": "code",
   "execution_count": 19,
   "metadata": {},
   "outputs": [],
   "source": [
    "outputs, states = STLCG.run_rnn_cell(op, (x,x); scale=0, distributed=false);"
   ]
  },
  {
   "cell_type": "code",
   "execution_count": 48,
   "metadata": {},
   "outputs": [
    {
     "ename": "LoadError",
     "evalue": "MethodError: no method matching *(::Array{Float64,3}, ::Array{Float64,3})\nClosest candidates are:\n  *(::Any, ::Any, !Matched::Any, !Matched::Any...) at operators.jl:538\n  *(!Matched::ChainRulesCore.DoesNotExist, ::Any) at /Users/karenleung/.julia/packages/ChainRulesCore/KvORk/src/differential_arithmetic.jl:28\n  *(!Matched::ChainRulesCore.One, ::Any) at /Users/karenleung/.julia/packages/ChainRulesCore/KvORk/src/differential_arithmetic.jl:98\n  ...",
     "output_type": "error",
     "traceback": [
      "MethodError: no method matching *(::Array{Float64,3}, ::Array{Float64,3})\nClosest candidates are:\n  *(::Any, ::Any, !Matched::Any, !Matched::Any...) at operators.jl:538\n  *(!Matched::ChainRulesCore.DoesNotExist, ::Any) at /Users/karenleung/.julia/packages/ChainRulesCore/KvORk/src/differential_arithmetic.jl:28\n  *(!Matched::ChainRulesCore.One, ::Any) at /Users/karenleung/.julia/packages/ChainRulesCore/KvORk/src/differential_arithmetic.jl:98\n  ...",
      "",
      "Stacktrace:",
      " [1] rnn_cell(::Always, ::Array{Float64,3}, ::Tuple{Array{Float64,3},Array{Float64,3}}; scale::Int64, distributed::Bool) at /Users/karenleung/repos/AutonomousRiskFramework/STLCG.jl/src/STLCG.jl:206",
      " [2] run_rnn_cell(::Always, ::Tuple{Array{Float64,3},Array{Float64,3}}; pscale::Int64, scale::Int64, keepdims::Bool, distributed::Bool) at /Users/karenleung/repos/AutonomousRiskFramework/STLCG.jl/src/STLCG.jl:276",
      " [3] robustness_trace(::Always, ::Tuple{Array{Float64,3},Array{Float64,3}}; pscale::Int64, scale::Int64, keepdims::Bool, distributed::Bool, kwargs::Base.Iterators.Pairs{Union{},Union{},Tuple{},NamedTuple{(),Tuple{}}}) at /Users/karenleung/repos/AutonomousRiskFramework/STLCG.jl/src/STLCG.jl:342",
      " [4] #_#105 at /Users/karenleung/repos/AutonomousRiskFramework/STLCG.jl/src/STLCG.jl:357 [inlined]",
      " [5] top-level scope at In[48]:1",
      " [6] include_string(::Function, ::Module, ::String, ::String) at ./loading.jl:1091",
      " [7] execute_code(::String, ::String) at /Users/karenleung/.julia/packages/IJulia/rWZ9e/src/execute_request.jl:27",
      " [8] execute_request(::ZMQ.Socket, ::IJulia.Msg) at /Users/karenleung/.julia/packages/IJulia/rWZ9e/src/execute_request.jl:86",
      " [9] #invokelatest#1 at ./essentials.jl:710 [inlined]",
      " [10] invokelatest at ./essentials.jl:709 [inlined]",
      " [11] eventloop(::ZMQ.Socket) at /Users/karenleung/.julia/packages/IJulia/rWZ9e/src/eventloop.jl:8",
      " [12] (::IJulia.var\"#15#18\")() at ./task.jl:356"
     ]
    }
   ],
   "source": [
    "op((x,x); distributed=true)"
   ]
  },
  {
   "cell_type": "code",
   "execution_count": 58,
   "metadata": {},
   "outputs": [
    {
     "data": {
      "text/plain": [
       "15"
      ]
     },
     "execution_count": 58,
     "metadata": {},
     "output_type": "execute_result"
    }
   ],
   "source": [
    "xx = STLCG.robustness_trace(op.subformula, (x,y))\n",
    "hc = STLCG.init_rnn_cell!(op, xx)\n",
    "time_dim = size(xx)[2]"
   ]
  },
  {
   "cell_type": "code",
   "execution_count": 66,
   "metadata": {},
   "outputs": [
    {
     "ename": "LoadError",
     "evalue": "MethodError: no method matching *(::Array{Float64,3}, ::Array{Float64,3})\nClosest candidates are:\n  *(::Any, ::Any, !Matched::Any, !Matched::Any...) at operators.jl:538\n  *(!Matched::ChainRulesCore.DoesNotExist, ::Any) at /Users/karenleung/.julia/packages/ChainRulesCore/KvORk/src/differential_arithmetic.jl:28\n  *(!Matched::ChainRulesCore.One, ::Any) at /Users/karenleung/.julia/packages/ChainRulesCore/KvORk/src/differential_arithmetic.jl:98\n  ...",
     "output_type": "error",
     "traceback": [
      "MethodError: no method matching *(::Array{Float64,3}, ::Array{Float64,3})\nClosest candidates are:\n  *(::Any, ::Any, !Matched::Any, !Matched::Any...) at operators.jl:538\n  *(!Matched::ChainRulesCore.DoesNotExist, ::Any) at /Users/karenleung/.julia/packages/ChainRulesCore/KvORk/src/differential_arithmetic.jl:28\n  *(!Matched::ChainRulesCore.One, ::Any) at /Users/karenleung/.julia/packages/ChainRulesCore/KvORk/src/differential_arithmetic.jl:98\n  ...",
      "",
      "Stacktrace:",
      " [1] top-level scope at In[66]:3",
      " [2] include_string(::Function, ::Module, ::String, ::String) at ./loading.jl:1091",
      " [3] execute_code(::String, ::String) at /Users/karenleung/.julia/packages/IJulia/rWZ9e/src/execute_request.jl:27",
      " [4] execute_request(::ZMQ.Socket, ::IJulia.Msg) at /Users/karenleung/.julia/packages/IJulia/rWZ9e/src/execute_request.jl:86",
      " [5] #invokelatest#1 at ./essentials.jl:710 [inlined]",
      " [6] invokelatest at ./essentials.jl:709 [inlined]",
      " [7] eventloop(::ZMQ.Socket) at /Users/karenleung/.julia/packages/IJulia/rWZ9e/src/eventloop.jl:8",
      " [8] (::IJulia.var\"#15#18\")() at ./task.jl:356"
     ]
    }
   ],
   "source": [
    "h0, c = hc\n",
    "z = xx[:,1:1,..]\n",
    "new_h = (h0 * c + z) .* (z .== h0) / (c + 1) + z .* (z .< h0) + h0 .* (z .> h0)\n",
    "new_c = (c + 1.0) .* (z .== h0) + 1.0 .* (z .< h0) + c .* (z .> h0)\n",
    "state = (new_h, new_c)\n",
    "output = new_h\n",
    "o, hc = output, state"
   ]
  },
  {
   "cell_type": "code",
   "execution_count": 95,
   "metadata": {},
   "outputs": [
    {
     "data": {
      "text/plain": [
       "2×1×3 Array{Float64,3}:\n",
       "[:, :, 1] =\n",
       " 0.0030889667542218216\n",
       " 0.021055287814701746\n",
       "\n",
       "[:, :, 2] =\n",
       " 0.17093208932121723\n",
       " 0.04281270670745427\n",
       "\n",
       "[:, :, 3] =\n",
       " 0.016824175231990146\n",
       " 0.0703969655196175"
      ]
     },
     "execution_count": 95,
     "metadata": {},
     "output_type": "execute_result"
    }
   ],
   "source": [
    "op((x,x); distributed=true, scale=0)"
   ]
  },
  {
   "cell_type": "code",
   "execution_count": 96,
   "metadata": {
    "scrolled": true
   },
   "outputs": [
    {
     "data": {
      "text/plain": [
       "2×15×3 Array{Float64,3}:\n",
       "[:, :, 1] =\n",
       " 0.0  0.0  0.0  0.0  0.0  0.0  0.0  0.0  0.0  0.0  -1.0  0.0  0.0  0.0  0.0\n",
       " 0.0  0.0  0.0  0.0  0.0  1.0  0.0  0.0  0.0  0.0   0.0  0.0  0.0  0.0  0.0\n",
       "\n",
       "[:, :, 2] =\n",
       " 0.0  0.0  0.0  0.0  0.0  0.0  -1.0  0.0  0.0  0.0  0.0  0.0  0.0  0.0  0.0\n",
       " 0.0  0.0  1.0  0.0  0.0  0.0   0.0  0.0  0.0  0.0  0.0  0.0  0.0  0.0  0.0\n",
       "\n",
       "[:, :, 3] =\n",
       " 0.0  0.0  0.0  0.0  0.0  0.0  0.0  0.0  0.0  0.0  0.0   0.0  0.0  1.0  0.0\n",
       " 0.0  0.0  0.0  0.0  0.0  0.0  0.0  0.0  0.0  0.0  0.0  -1.0  0.0  0.0  0.0"
      ]
     },
     "execution_count": 96,
     "metadata": {},
     "output_type": "execute_result"
    }
   ],
   "source": [
    "vcat(STLCG.gradient(x -> sum(op((x,x); distributed=true)), x)...)"
   ]
  },
  {
   "cell_type": "code",
   "execution_count": 99,
   "metadata": {},
   "outputs": [
    {
     "data": {
      "text/plain": [
       "15×4 LinearAlgebra.Adjoint{Float64,Array{Float64,2}}:\n",
       " -0.0  -0.0  0.0  0.0\n",
       " -0.0  -0.0  0.0  0.0\n",
       " -0.0  -0.0  0.0  0.0\n",
       " -0.0  -0.0  0.0  0.0\n",
       " -0.0  -0.0  0.0  0.0\n",
       " -0.0  -0.0  0.0  0.0\n",
       " -0.0  -0.0  0.0  0.0\n",
       " -0.0  -0.0  0.0  1.0\n",
       " -0.0  -0.0  0.0  0.0\n",
       " -0.0  -0.0  0.0  0.0\n",
       " -0.0  -0.0  0.0  0.0\n",
       " -0.0  -0.0  1.0  0.0\n",
       " -0.0  -0.0  0.0  0.0\n",
       " -0.0  -0.0  0.0  0.0\n",
       " -0.0  -0.0  0.0  0.0"
      ]
     },
     "execution_count": 99,
     "metadata": {},
     "output_type": "execute_result"
    }
   ],
   "source": [
    "vcat(STLCG.gradient((x, y) -> sum(STLCG.robustness_trace(op, (x,y); distributed=true)), x,y)...)[:,:,1]'"
   ]
  },
  {
   "cell_type": "code",
   "execution_count": 9,
   "metadata": {},
   "outputs": [
    {
     "data": {
      "text/plain": [
       "2×15×3 Array{Float64,3}:\n",
       "[:, :, 1] =\n",
       " 0.0  0.0  0.0  0.0  0.0  1.0  0.0  0.0  0.0  0.0  0.0  0.0  0.0  0.0  0.0\n",
       " 0.0  0.0  0.0  1.0  0.0  0.0  0.0  0.0  0.0  0.0  0.0  0.0  0.0  0.0  0.0\n",
       "\n",
       "[:, :, 2] =\n",
       " 0.0  0.0  0.0  0.0  0.0  0.0  0.0  0.0  0.0  1.0  0.0  0.0  0.0  0.0  0.0\n",
       " 0.0  0.0  1.0  0.0  0.0  0.0  0.0  0.0  0.0  0.0  0.0  0.0  0.0  0.0  0.0\n",
       "\n",
       "[:, :, 3] =\n",
       " 1.0  0.0  0.0  0.0  0.0  0.0  0.0  0.0  0.0  0.0  0.0  0.0  0.0  0.0  0.0\n",
       " 0.0  0.0  1.0  0.0  0.0  0.0  0.0  0.0  0.0  0.0  0.0  0.0  0.0  0.0  0.0"
      ]
     },
     "execution_count": 9,
     "metadata": {},
     "output_type": "execute_result"
    }
   ],
   "source": [
    "vcat(STLCG.gradient(x -> sum(STLCG.run_rnn_cell(op, x, x, scale=0)[1][:,end,:]), x)...)"
   ]
  },
  {
   "cell_type": "code",
   "execution_count": 103,
   "metadata": {},
   "outputs": [
    {
     "data": {
      "text/plain": [
       "Always\n",
       "  subformula: Always\n",
       "  interval: Array{Int64}((2,)) [2, 4]\n",
       "  _interval: Array{Int64}((2,)) [2, 4]\n",
       "  rnn_dim: Int8 4\n",
       "  steps: Int8 5\n",
       "  operation: Minish (function of type typeof(Minish))\n",
       "  M: Array{Float64}((4, 4)) [0.0 1.0 0.0 0.0; 0.0 0.0 1.0 0.0; 0.0 0.0 0.0 1.0; 0.0 0.0 0.0 0.0]\n",
       "  b: Array{Float64}((4,)) [0.0, 0.0, 0.0, 1.0]\n"
      ]
     },
     "execution_count": 103,
     "metadata": {},
     "output_type": "execute_result"
    }
   ],
   "source": [
    "□ϕ = STLCG.□(op, interval=[2,4])"
   ]
  },
  {
   "cell_type": "code",
   "execution_count": 141,
   "metadata": {},
   "outputs": [
    {
     "ename": "LoadError",
     "evalue": "MethodError: no method matching robustness_trace(::Always, ::Array{Float64,3}; keepdims=true, dims=4, distributed=false, scale=0, pscale=1)\nClosest candidates are:\n  robustness_trace(!Matched::STLCG.Or, ::Any; dims, pscale, scale, keepdims, distributed) at In[54]:44\n  robustness_trace(!Matched::STLCG.LessThan, ::Any; pscale, kwargs...) at In[54]:2\n  robustness_trace(!Matched::STLCG.Implies, ::Any; pscale, scale, keepdims, distributed) at In[54]:7 got unsupported keyword argument \"dims\"\n  ...",
     "output_type": "error",
     "traceback": [
      "MethodError: no method matching robustness_trace(::Always, ::Array{Float64,3}; keepdims=true, dims=4, distributed=false, scale=0, pscale=1)\nClosest candidates are:\n  robustness_trace(!Matched::STLCG.Or, ::Any; dims, pscale, scale, keepdims, distributed) at In[54]:44\n  robustness_trace(!Matched::STLCG.LessThan, ::Any; pscale, kwargs...) at In[54]:2\n  robustness_trace(!Matched::STLCG.Implies, ::Any; pscale, scale, keepdims, distributed) at In[54]:7 got unsupported keyword argument \"dims\"\n  ...",
      "",
      "Stacktrace:",
      " [1] top-level scope at In[141]:1",
      " [2] include_string(::Function, ::Module, ::String, ::String) at ./loading.jl:1091"
     ]
    }
   ],
   "source": [
    "robustness_trace(□ϕ, x; args...)"
   ]
  },
  {
   "cell_type": "code",
   "execution_count": null,
   "metadata": {},
   "outputs": [],
   "source": [
    "STLCG.gradient(x -> sum(STLCG.rnn_cell(op, x, h0; scale, distributed)[2][1][2]), xs[1]) # <--- works"
   ]
  },
  {
   "cell_type": "code",
   "execution_count": 4,
   "metadata": {},
   "outputs": [
    {
     "data": {
      "text/plain": [
       "STLCG.Or\n",
       "  subformula1: STLCG.And\n",
       "  subformula2: STLCG.LessThan\n",
       "  operation: Maxish (function of type typeof(Maxish))\n"
      ]
     },
     "execution_count": 4,
     "metadata": {},
     "output_type": "execute_result"
    }
   ],
   "source": [
    "ϕ = STLCG.LessThan(:x, 5)\n",
    "ψ = STLCG.GreaterThan(:x, -3)\n",
    "op = STLCG.Or(subformula1=STLCG.And(subformula1=ϕ, subformula2=ψ), subformula2=ϕ)"
   ]
  },
  {
   "cell_type": "code",
   "execution_count": 191,
   "metadata": {},
   "outputs": [],
   "source": [
    "(f::STLCG.Formula)(x::Array{Float64}; kwargs...) = robustness_trace(f, x; kwargs...)"
   ]
  },
  {
   "cell_type": "code",
   "execution_count": 192,
   "metadata": {},
   "outputs": [
    {
     "data": {
      "text/plain": [
       "2×15×3 Array{Float64,3}:\n",
       "[:, :, 1] =\n",
       " 4.33878  4.55352  4.0096   4.28465  …  4.87325  4.24155  4.18938  4.36833\n",
       " 4.35477  4.20984  4.53724  4.8834      4.25997  4.16101  4.62856  4.13871\n",
       "\n",
       "[:, :, 2] =\n",
       " 4.19292  4.05989  4.26052  4.3984   …  4.02068  4.74747  4.05824  4.06667\n",
       " 4.13728  4.53258  4.77843  4.72391     4.18943  4.02867  4.20342  4.66529\n",
       "\n",
       "[:, :, 3] =\n",
       " 4.47263  4.89431  4.49562  4.28735  …  4.9606   4.3826   4.59063  4.70413\n",
       " 4.29403  4.08497  4.01783  4.86847     4.10466  4.29218  4.78882  4.30469"
      ]
     },
     "execution_count": 192,
     "metadata": {},
     "output_type": "execute_result"
    }
   ],
   "source": [
    "ϕ(x)"
   ]
  },
  {
   "cell_type": "code",
   "execution_count": 147,
   "metadata": {},
   "outputs": [],
   "source": [
    "struct Predicate\n",
    "    x::Symbol\n",
    "end"
   ]
  },
  {
   "cell_type": "code",
   "execution_count": 157,
   "metadata": {},
   "outputs": [],
   "source": [
    "(p::Primitive)(x::Int) = (2*x, p.x)\n",
    "(p::Primitive)(x::Real) = 3*x"
   ]
  },
  {
   "cell_type": "code",
   "execution_count": 158,
   "metadata": {},
   "outputs": [
    {
     "data": {
      "text/plain": [
       "Primitive(:asadsadsa)"
      ]
     },
     "execution_count": 158,
     "metadata": {},
     "output_type": "execute_result"
    }
   ],
   "source": [
    "a = Primitive(:asadsadsa)"
   ]
  },
  {
   "cell_type": "code",
   "execution_count": 159,
   "metadata": {},
   "outputs": [
    {
     "data": {
      "text/plain": [
       "((2, :asadsadsa), 3.0)"
      ]
     },
     "execution_count": 159,
     "metadata": {},
     "output_type": "execute_result"
    }
   ],
   "source": [
    "a(1), a(1.)"
   ]
  },
  {
   "cell_type": "code",
   "execution_count": 148,
   "metadata": {},
   "outputs": [
    {
     "data": {
      "text/plain": [
       "Primitive(:x)"
      ]
     },
     "execution_count": 148,
     "metadata": {},
     "output_type": "execute_result"
    }
   ],
   "source": [
    "Primitive(:x) < 5"
   ]
  },
  {
   "cell_type": "code",
   "execution_count": 172,
   "metadata": {},
   "outputs": [
    {
     "data": {
      "text/plain": [
       "false"
      ]
     },
     "execution_count": 172,
     "metadata": {},
     "output_type": "execute_result"
    }
   ],
   "source": [
    "Primitive(:a) > Primitive(:b)"
   ]
  },
  {
   "cell_type": "code",
   "execution_count": 170,
   "metadata": {},
   "outputs": [],
   "source": [
    "(Base.:(<))(a::Symbol, b::Primitive) = a.x < b.x"
   ]
  },
  {
   "cell_type": "code",
   "execution_count": 75,
   "metadata": {},
   "outputs": [
    {
     "data": {
      "text/plain": [
       "< (generic function with 1 method)"
      ]
     },
     "execution_count": 75,
     "metadata": {},
     "output_type": "execute_result"
    }
   ],
   "source": [
    "function <(a,b)\n",
    "    a < b\n",
    "end"
   ]
  },
  {
   "cell_type": "code",
   "execution_count": 78,
   "metadata": {},
   "outputs": [
    {
     "ename": "LoadError",
     "evalue": "syntax: \"<\" is not a unary operator",
     "output_type": "error",
     "traceback": [
      "syntax: \"<\" is not a unary operator",
      "",
      "Stacktrace:",
      " [1] top-level scope at In[78]:1",
      " [2] include_string(::Function, ::Module, ::String, ::String) at ./loading.jl:1091",
      " [3] execute_code(::String, ::String) at /Users/karenleung/.julia/packages/IJulia/rWZ9e/src/execute_request.jl:27",
      " [4] execute_request(::ZMQ.Socket, ::IJulia.Msg) at /Users/karenleung/.julia/packages/IJulia/rWZ9e/src/execute_request.jl:86",
      " [5] #invokelatest#1 at ./essentials.jl:710 [inlined]",
      " [6] invokelatest at ./essentials.jl:709 [inlined]",
      " [7] eventloop(::ZMQ.Socket) at /Users/karenleung/.julia/packages/IJulia/rWZ9e/src/eventloop.jl:8",
      " [8] (::IJulia.var\"#15#18\")() at ./task.jl:356"
     ]
    }
   ],
   "source": [
    "< |> methods"
   ]
  },
  {
   "cell_type": "code",
   "execution_count": null,
   "metadata": {},
   "outputs": [],
   "source": []
  }
 ],
 "metadata": {
  "@webio": {
   "lastCommId": null,
   "lastKernelId": null
  },
  "kernelspec": {
   "display_name": "Julia 1.5.2",
   "language": "julia",
   "name": "julia-1.5"
  },
  "language_info": {
   "file_extension": ".jl",
   "mimetype": "application/julia",
   "name": "julia",
   "version": "1.5.2"
  }
 },
 "nbformat": 4,
 "nbformat_minor": 4
}
