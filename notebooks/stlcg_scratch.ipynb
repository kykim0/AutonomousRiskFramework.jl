{
 "cells": [
  {
   "cell_type": "code",
   "execution_count": 1,
   "metadata": {},
   "outputs": [
    {
     "name": "stderr",
     "output_type": "stream",
     "text": [
      "\u001b[32m\u001b[1m Activating\u001b[22m\u001b[39m environment at `~/projects/AutonomousRiskFramework/STLCG.jl/Project.toml`\n"
     ]
    }
   ],
   "source": [
    "using Pkg\n",
    "Pkg.activate(\"../STLCG.jl/.\")"
   ]
  },
  {
   "cell_type": "code",
   "execution_count": 2,
   "metadata": {},
   "outputs": [
    {
     "name": "stderr",
     "output_type": "stream",
     "text": [
      "┌ Info: Precompiling STLCG [6ababdf7-4701-4f28-b3b2-5630f64e3c98]\n",
      "└ @ Base loading.jl:1278\n",
      "WARNING: Method definition collapse_nothings(AbstractArray{Nothing, N} where N) in module Zygote at /home/karen/.julia/packages/Zygote/dl6QE/src/lib/broadcast.jl:131 overwritten in module STLCG at /home/karen/projects/AutonomousRiskFramework/STLCG.jl/src/STLCG.jl:38.\n",
      "  ** incremental compilation may be fatally broken for this module **\n",
      "\n"
     ]
    }
   ],
   "source": [
    "using Revise\n",
    "using STLCG\n",
    "using EllipsisNotation\n"
   ]
  },
  {
   "cell_type": "code",
   "execution_count": 3,
   "metadata": {},
   "outputs": [
    {
     "data": {
      "text/plain": [
       "2×15×3 Array{Float64,3}:\n",
       "[:, :, 1] =\n",
       "  0.419488  -0.129578  -3.05877   -0.962906  …   1.25893  0.714361  1.51065\n",
       " -1.37093    0.61214   -0.361995   0.101949     -1.95622  0.891491  0.254229\n",
       "\n",
       "[:, :, 2] =\n",
       " 0.143127   0.522536  1.0208    -1.29722  …  -0.411764  -1.61588   1.72197\n",
       " 0.109245  -0.437375  0.347346   1.27957      0.797174  -0.226718  0.347156\n",
       "\n",
       "[:, :, 3] =\n",
       " -2.01827  0.579982  0.89579   -0.492036  …  -0.182948  -0.0350106   0.450487\n",
       " -1.27709  0.473898  0.301856   1.20094       0.840278  -0.81383    -2.08641"
      ]
     },
     "execution_count": 3,
     "metadata": {},
     "output_type": "execute_result"
    }
   ],
   "source": [
    "bs = 2\n",
    "t = 15\n",
    "x_dim = 3\n",
    "dim = 2\n",
    "x = randn(bs, t, x_dim);\n",
    "y = randn(bs, t, x_dim);\n",
    "\n",
    "\n",
    "# rnn_cell(op, xs[1], op.h0; scale, distributed)\n",
    "# STLCG.gradient(x -> sum(STLCG.rnn_cell(op, x, h0; scale, distributed)[1]), xs[1]) # <---- doesn't work\n",
    "# STLCG.gradient(x -> sum(STLCG.rnn_cell(op, x, h0; scale, distributed)[2][1][2]), xs[1]) # <--- works"
   ]
  },
  {
   "cell_type": "code",
   "execution_count": 4,
   "metadata": {},
   "outputs": [
    {
     "data": {
      "text/plain": [
       "Always\n",
       "  subformula: Or\n",
       "  interval: Nothing nothing\n",
       "  _interval: Array{Float64}((2,)) [0.0, Inf]\n",
       "  rnn_dim: Int8 1\n",
       "  steps: Int8 1\n",
       "  operation: Minish (function of type typeof(Minish))\n",
       "  M: Array{Float64}((1, 1)) [0.0]\n",
       "  b: Array{Float64}((1,)) [1.0]\n"
      ]
     },
     "execution_count": 4,
     "metadata": {},
     "output_type": "execute_result"
    }
   ],
   "source": [
    "op = Negation(LessThan(:x, 4.0))\n",
    "op1 = LessThan(:x, 0.0)\n",
    "op2 = LessThan(:y, 0.0)\n",
    "or = Or(subformula1=op1, subformula2=op2)\n",
    "op = Always(subformula=or, interval=nothing)"
   ]
  },
  {
   "cell_type": "code",
   "execution_count": 5,
   "metadata": {},
   "outputs": [
    {
     "data": {
      "text/plain": [
       "true"
      ]
     },
     "execution_count": 5,
     "metadata": {},
     "output_type": "execute_result"
    }
   ],
   "source": [
    "pscale=1\n",
    "scale=0\n",
    "keepdims=true\n",
    "distributed=true"
   ]
  },
  {
   "cell_type": "code",
   "execution_count": 6,
   "metadata": {},
   "outputs": [
    {
     "data": {
      "text/plain": [
       "LessThan(:y, 0.0)"
      ]
     },
     "execution_count": 6,
     "metadata": {},
     "output_type": "execute_result"
    }
   ],
   "source": [
    "ϕ = op1\n",
    "ψ = op2"
   ]
  },
  {
   "cell_type": "code",
   "execution_count": 8,
   "metadata": {},
   "outputs": [
    {
     "data": {
      "text/plain": [
       "2×15×3 Array{Float64,3}:\n",
       "[:, :, 1] =\n",
       " -1.09897    0.129578  -1.30421   …  -0.513777  -0.513777  -0.513777\n",
       " -0.522428  -1.45654   -0.801902     -0.207492  -0.207492  -0.207492\n",
       "\n",
       "[:, :, 2] =\n",
       " -0.143127  -1.13627  -1.0208    …  -0.676151    1.13378   -1.16121\n",
       " -0.109245  -1.02824  -0.842976     -0.0474823  -0.709525  -0.347156\n",
       "\n",
       "[:, :, 3] =\n",
       " -1.04051  -0.579982  -0.579982  …  -0.364801  -0.393951  -0.393951\n",
       " -1.86907  -0.473898  -0.301856     -0.717751  -0.932582   0.638628"
      ]
     },
     "execution_count": 8,
     "metadata": {},
     "output_type": "execute_result"
    }
   ],
   "source": [
    "Until(ϕ, ψ)((x,y))"
   ]
  },
  {
   "cell_type": "code",
   "execution_count": 57,
   "metadata": {},
   "outputs": [
    {
     "data": {
      "text/plain": [
       "2×15×3 Array{Float64,3}:\n",
       "[:, :, 1] =\n",
       " -1.0e6  -1.0e6  -1.0e6  -1.14929   …  -0.631479  -0.631479  -0.631479\n",
       " -1.0e6  -1.0e6  -1.0e6   0.290862     -0.857424  -1.78225   -1.78225\n",
       "\n",
       "[:, :, 2] =\n",
       " -1.0e6  -1.0e6  -1.0e6  -0.861182  …  -1.31951   -1.31951   -1.31951\n",
       " -1.0e6  -1.0e6  -1.0e6  -0.342139     -0.833288  -0.833288  -1.01577\n",
       "\n",
       "[:, :, 3] =\n",
       " -1.0e6  -1.0e6  -1.0e6   0.12955  …  -1.6031    -1.6031    -1.6031\n",
       " -1.0e6  -1.0e6  -1.0e6  -1.20997     -0.628788  -0.792873  -0.792873"
      ]
     },
     "execution_count": 57,
     "metadata": {},
     "output_type": "execute_result"
    }
   ],
   "source": [
    "LARGE_NUMBER = 1E6\n",
    "trace1 = ϕ(x)\n",
    "trace2 = ψ(y)\n",
    "Alw = Always(subformula=GreaterThan(:z, 0.0), interval=nothing)\n",
    "LHS = permutedims(repeat(reshape(trace2, (size(trace2)..., 1)), 1,1,1,size(trace2)[2]), [1, 4, 3, 2])\n",
    "RHS = ones(size(LHS)) * -LARGE_NUMBER\n",
    "for i in 4:8\n",
    "    RHS[:,i:end,:,i] = Alw(trace1[:,i:end,:]; pscale, scale, keepdims, distributed)\n",
    "end\n",
    "out = Maxish(Minish(cat(LHS, RHS, dims=5); dims=5, scale, keepdims=false, distributed); scale, keepdims=false, distributed, dims=4)"
   ]
  },
  {
   "cell_type": "code",
   "execution_count": 58,
   "metadata": {},
   "outputs": [
    {
     "data": {
      "text/plain": [
       "15-element Array{Float64,1}:\n",
       " -1.0e6\n",
       " -1.0e6\n",
       " -1.0e6\n",
       " -1.1492900114485687\n",
       " -1.1492900114485687\n",
       " -1.212407114238258\n",
       " -1.212407114238258\n",
       " -0.631478841925606\n",
       " -0.631478841925606\n",
       " -0.631478841925606\n",
       " -0.631478841925606\n",
       " -0.631478841925606\n",
       " -0.631478841925606\n",
       " -0.631478841925606\n",
       " -0.631478841925606"
      ]
     },
     "execution_count": 58,
     "metadata": {},
     "output_type": "execute_result"
    }
   ],
   "source": [
    "out[1,:,1]"
   ]
  },
  {
   "cell_type": "code",
   "execution_count": 53,
   "metadata": {},
   "outputs": [
    {
     "data": {
      "text/plain": [
       "2×15×3 Array{Float64,3}:\n",
       "[:, :, 1] =\n",
       " 0.110268  -0.570177  -0.570177  …   0.0423217   0.0423217  -0.177004\n",
       " 0.607287   0.607287  -1.42709      -0.688285   -1.78225    -0.21453\n",
       "\n",
       "[:, :, 2] =\n",
       "  0.178606  -0.719736  -0.578093  …  -0.718358  -0.608101  -0.499044\n",
       " -0.853146  -0.853146   0.735788      0.538016   1.58135   -1.01577\n",
       "\n",
       "[:, :, 3] =\n",
       "  0.206686   0.206686  -1.53311   0.12955  …   0.331363   0.331363  -0.475145\n",
       " -0.348084  -0.802872  -1.35152  -1.20997     -0.526954  -0.792873   0.694338"
      ]
     },
     "execution_count": 53,
     "metadata": {},
     "output_type": "execute_result"
    }
   ],
   "source": [
    "Maxish(Minish(cat(LHS, RHS, dims=5); dims=5, scale, keepdims=false, distributed); scale, keepdims=false, distributed, dims=4)"
   ]
  },
  {
   "cell_type": "code",
   "execution_count": 96,
   "metadata": {
    "scrolled": true
   },
   "outputs": [
    {
     "data": {
      "text/plain": [
       "2×15×3 Array{Float64,3}:\n",
       "[:, :, 1] =\n",
       " 0.0  0.0  0.0  0.0  0.0  0.0  0.0  0.0  0.0  0.0  -1.0  0.0  0.0  0.0  0.0\n",
       " 0.0  0.0  0.0  0.0  0.0  1.0  0.0  0.0  0.0  0.0   0.0  0.0  0.0  0.0  0.0\n",
       "\n",
       "[:, :, 2] =\n",
       " 0.0  0.0  0.0  0.0  0.0  0.0  -1.0  0.0  0.0  0.0  0.0  0.0  0.0  0.0  0.0\n",
       " 0.0  0.0  1.0  0.0  0.0  0.0   0.0  0.0  0.0  0.0  0.0  0.0  0.0  0.0  0.0\n",
       "\n",
       "[:, :, 3] =\n",
       " 0.0  0.0  0.0  0.0  0.0  0.0  0.0  0.0  0.0  0.0  0.0   0.0  0.0  1.0  0.0\n",
       " 0.0  0.0  0.0  0.0  0.0  0.0  0.0  0.0  0.0  0.0  0.0  -1.0  0.0  0.0  0.0"
      ]
     },
     "execution_count": 96,
     "metadata": {},
     "output_type": "execute_result"
    }
   ],
   "source": [
    "vcat(STLCG.gradient(x -> sum(op((x,x); distributed=true)), x)...)"
   ]
  },
  {
   "cell_type": "code",
   "execution_count": 99,
   "metadata": {},
   "outputs": [
    {
     "data": {
      "text/plain": [
       "15×4 LinearAlgebra.Adjoint{Float64,Array{Float64,2}}:\n",
       " -0.0  -0.0  0.0  0.0\n",
       " -0.0  -0.0  0.0  0.0\n",
       " -0.0  -0.0  0.0  0.0\n",
       " -0.0  -0.0  0.0  0.0\n",
       " -0.0  -0.0  0.0  0.0\n",
       " -0.0  -0.0  0.0  0.0\n",
       " -0.0  -0.0  0.0  0.0\n",
       " -0.0  -0.0  0.0  1.0\n",
       " -0.0  -0.0  0.0  0.0\n",
       " -0.0  -0.0  0.0  0.0\n",
       " -0.0  -0.0  0.0  0.0\n",
       " -0.0  -0.0  1.0  0.0\n",
       " -0.0  -0.0  0.0  0.0\n",
       " -0.0  -0.0  0.0  0.0\n",
       " -0.0  -0.0  0.0  0.0"
      ]
     },
     "execution_count": 99,
     "metadata": {},
     "output_type": "execute_result"
    }
   ],
   "source": [
    "vcat(STLCG.gradient((x, y) -> sum(STLCG.robustness_trace(op, (x,y); distributed=true)), x,y)...)[:,:,1]'"
   ]
  },
  {
   "cell_type": "code",
   "execution_count": 9,
   "metadata": {},
   "outputs": [
    {
     "data": {
      "text/plain": [
       "2×15×3 Array{Float64,3}:\n",
       "[:, :, 1] =\n",
       " 0.0  0.0  0.0  0.0  0.0  1.0  0.0  0.0  0.0  0.0  0.0  0.0  0.0  0.0  0.0\n",
       " 0.0  0.0  0.0  1.0  0.0  0.0  0.0  0.0  0.0  0.0  0.0  0.0  0.0  0.0  0.0\n",
       "\n",
       "[:, :, 2] =\n",
       " 0.0  0.0  0.0  0.0  0.0  0.0  0.0  0.0  0.0  1.0  0.0  0.0  0.0  0.0  0.0\n",
       " 0.0  0.0  1.0  0.0  0.0  0.0  0.0  0.0  0.0  0.0  0.0  0.0  0.0  0.0  0.0\n",
       "\n",
       "[:, :, 3] =\n",
       " 1.0  0.0  0.0  0.0  0.0  0.0  0.0  0.0  0.0  0.0  0.0  0.0  0.0  0.0  0.0\n",
       " 0.0  0.0  1.0  0.0  0.0  0.0  0.0  0.0  0.0  0.0  0.0  0.0  0.0  0.0  0.0"
      ]
     },
     "execution_count": 9,
     "metadata": {},
     "output_type": "execute_result"
    }
   ],
   "source": [
    "vcat(STLCG.gradient(x -> sum(STLCG.run_rnn_cell(op, x, x, scale=0)[1][:,end,:]), x)...)"
   ]
  },
  {
   "cell_type": "code",
   "execution_count": 103,
   "metadata": {},
   "outputs": [
    {
     "data": {
      "text/plain": [
       "Always\n",
       "  subformula: Always\n",
       "  interval: Array{Int64}((2,)) [2, 4]\n",
       "  _interval: Array{Int64}((2,)) [2, 4]\n",
       "  rnn_dim: Int8 4\n",
       "  steps: Int8 5\n",
       "  operation: Minish (function of type typeof(Minish))\n",
       "  M: Array{Float64}((4, 4)) [0.0 1.0 0.0 0.0; 0.0 0.0 1.0 0.0; 0.0 0.0 0.0 1.0; 0.0 0.0 0.0 0.0]\n",
       "  b: Array{Float64}((4,)) [0.0, 0.0, 0.0, 1.0]\n"
      ]
     },
     "execution_count": 103,
     "metadata": {},
     "output_type": "execute_result"
    }
   ],
   "source": [
    "□ϕ = STLCG.□(op, interval=[2,4])"
   ]
  },
  {
   "cell_type": "code",
   "execution_count": 141,
   "metadata": {},
   "outputs": [
    {
     "ename": "LoadError",
     "evalue": "MethodError: no method matching robustness_trace(::Always, ::Array{Float64,3}; keepdims=true, dims=4, distributed=false, scale=0, pscale=1)\nClosest candidates are:\n  robustness_trace(!Matched::STLCG.Or, ::Any; dims, pscale, scale, keepdims, distributed) at In[54]:44\n  robustness_trace(!Matched::STLCG.LessThan, ::Any; pscale, kwargs...) at In[54]:2\n  robustness_trace(!Matched::STLCG.Implies, ::Any; pscale, scale, keepdims, distributed) at In[54]:7 got unsupported keyword argument \"dims\"\n  ...",
     "output_type": "error",
     "traceback": [
      "MethodError: no method matching robustness_trace(::Always, ::Array{Float64,3}; keepdims=true, dims=4, distributed=false, scale=0, pscale=1)\nClosest candidates are:\n  robustness_trace(!Matched::STLCG.Or, ::Any; dims, pscale, scale, keepdims, distributed) at In[54]:44\n  robustness_trace(!Matched::STLCG.LessThan, ::Any; pscale, kwargs...) at In[54]:2\n  robustness_trace(!Matched::STLCG.Implies, ::Any; pscale, scale, keepdims, distributed) at In[54]:7 got unsupported keyword argument \"dims\"\n  ...",
      "",
      "Stacktrace:",
      " [1] top-level scope at In[141]:1",
      " [2] include_string(::Function, ::Module, ::String, ::String) at ./loading.jl:1091"
     ]
    }
   ],
   "source": [
    "robustness_trace(□ϕ, x; args...)"
   ]
  },
  {
   "cell_type": "code",
   "execution_count": null,
   "metadata": {},
   "outputs": [],
   "source": [
    "STLCG.gradient(x -> sum(STLCG.rnn_cell(op, x, h0; scale, distributed)[2][1][2]), xs[1]) # <--- works"
   ]
  },
  {
   "cell_type": "code",
   "execution_count": 4,
   "metadata": {},
   "outputs": [
    {
     "data": {
      "text/plain": [
       "STLCG.Or\n",
       "  subformula1: STLCG.And\n",
       "  subformula2: STLCG.LessThan\n",
       "  operation: Maxish (function of type typeof(Maxish))\n"
      ]
     },
     "execution_count": 4,
     "metadata": {},
     "output_type": "execute_result"
    }
   ],
   "source": [
    "ϕ = STLCG.LessThan(:x, 5)\n",
    "ψ = STLCG.GreaterThan(:x, -3)\n",
    "op = STLCG.Or(subformula1=STLCG.And(subformula1=ϕ, subformula2=ψ), subformula2=ϕ)"
   ]
  },
  {
   "cell_type": "code",
   "execution_count": 191,
   "metadata": {},
   "outputs": [],
   "source": [
    "(f::STLCG.Formula)(x::Array{Float64}; kwargs...) = robustness_trace(f, x; kwargs...)"
   ]
  },
  {
   "cell_type": "code",
   "execution_count": 192,
   "metadata": {},
   "outputs": [
    {
     "data": {
      "text/plain": [
       "2×15×3 Array{Float64,3}:\n",
       "[:, :, 1] =\n",
       " 4.33878  4.55352  4.0096   4.28465  …  4.87325  4.24155  4.18938  4.36833\n",
       " 4.35477  4.20984  4.53724  4.8834      4.25997  4.16101  4.62856  4.13871\n",
       "\n",
       "[:, :, 2] =\n",
       " 4.19292  4.05989  4.26052  4.3984   …  4.02068  4.74747  4.05824  4.06667\n",
       " 4.13728  4.53258  4.77843  4.72391     4.18943  4.02867  4.20342  4.66529\n",
       "\n",
       "[:, :, 3] =\n",
       " 4.47263  4.89431  4.49562  4.28735  …  4.9606   4.3826   4.59063  4.70413\n",
       " 4.29403  4.08497  4.01783  4.86847     4.10466  4.29218  4.78882  4.30469"
      ]
     },
     "execution_count": 192,
     "metadata": {},
     "output_type": "execute_result"
    }
   ],
   "source": [
    "ϕ(x)"
   ]
  },
  {
   "cell_type": "code",
   "execution_count": 147,
   "metadata": {},
   "outputs": [],
   "source": [
    "struct Predicate\n",
    "    x::Symbol\n",
    "end"
   ]
  },
  {
   "cell_type": "code",
   "execution_count": 157,
   "metadata": {},
   "outputs": [],
   "source": [
    "(p::Primitive)(x::Int) = (2*x, p.x)\n",
    "(p::Primitive)(x::Real) = 3*x"
   ]
  },
  {
   "cell_type": "code",
   "execution_count": 158,
   "metadata": {},
   "outputs": [
    {
     "data": {
      "text/plain": [
       "Primitive(:asadsadsa)"
      ]
     },
     "execution_count": 158,
     "metadata": {},
     "output_type": "execute_result"
    }
   ],
   "source": [
    "a = Primitive(:asadsadsa)"
   ]
  },
  {
   "cell_type": "code",
   "execution_count": 159,
   "metadata": {},
   "outputs": [
    {
     "data": {
      "text/plain": [
       "((2, :asadsadsa), 3.0)"
      ]
     },
     "execution_count": 159,
     "metadata": {},
     "output_type": "execute_result"
    }
   ],
   "source": [
    "a(1), a(1.)"
   ]
  },
  {
   "cell_type": "code",
   "execution_count": 148,
   "metadata": {},
   "outputs": [
    {
     "data": {
      "text/plain": [
       "Primitive(:x)"
      ]
     },
     "execution_count": 148,
     "metadata": {},
     "output_type": "execute_result"
    }
   ],
   "source": [
    "Primitive(:x) < 5"
   ]
  },
  {
   "cell_type": "code",
   "execution_count": 172,
   "metadata": {},
   "outputs": [
    {
     "data": {
      "text/plain": [
       "false"
      ]
     },
     "execution_count": 172,
     "metadata": {},
     "output_type": "execute_result"
    }
   ],
   "source": [
    "Primitive(:a) > Primitive(:b)"
   ]
  },
  {
   "cell_type": "code",
   "execution_count": 170,
   "metadata": {},
   "outputs": [],
   "source": [
    "(Base.:(<))(a::Symbol, b::Primitive) = a.x < b.x"
   ]
  },
  {
   "cell_type": "code",
   "execution_count": 75,
   "metadata": {},
   "outputs": [
    {
     "data": {
      "text/plain": [
       "< (generic function with 1 method)"
      ]
     },
     "execution_count": 75,
     "metadata": {},
     "output_type": "execute_result"
    }
   ],
   "source": [
    "function <(a,b)\n",
    "    a < b\n",
    "end"
   ]
  },
  {
   "cell_type": "code",
   "execution_count": 78,
   "metadata": {},
   "outputs": [
    {
     "ename": "LoadError",
     "evalue": "syntax: \"<\" is not a unary operator",
     "output_type": "error",
     "traceback": [
      "syntax: \"<\" is not a unary operator",
      "",
      "Stacktrace:",
      " [1] top-level scope at In[78]:1",
      " [2] include_string(::Function, ::Module, ::String, ::String) at ./loading.jl:1091",
      " [3] execute_code(::String, ::String) at /Users/karenleung/.julia/packages/IJulia/rWZ9e/src/execute_request.jl:27",
      " [4] execute_request(::ZMQ.Socket, ::IJulia.Msg) at /Users/karenleung/.julia/packages/IJulia/rWZ9e/src/execute_request.jl:86",
      " [5] #invokelatest#1 at ./essentials.jl:710 [inlined]",
      " [6] invokelatest at ./essentials.jl:709 [inlined]",
      " [7] eventloop(::ZMQ.Socket) at /Users/karenleung/.julia/packages/IJulia/rWZ9e/src/eventloop.jl:8",
      " [8] (::IJulia.var\"#15#18\")() at ./task.jl:356"
     ]
    }
   ],
   "source": [
    "< |> methods"
   ]
  },
  {
   "cell_type": "code",
   "execution_count": null,
   "metadata": {},
   "outputs": [],
   "source": []
  }
 ],
 "metadata": {
  "@webio": {
   "lastCommId": null,
   "lastKernelId": null
  },
  "kernelspec": {
   "display_name": "Julia 1.5.2",
   "language": "julia",
   "name": "julia-1.5"
  },
  "language_info": {
   "file_extension": ".jl",
   "mimetype": "application/julia",
   "name": "julia",
   "version": "1.5.2"
  }
 },
 "nbformat": 4,
 "nbformat_minor": 4
}
