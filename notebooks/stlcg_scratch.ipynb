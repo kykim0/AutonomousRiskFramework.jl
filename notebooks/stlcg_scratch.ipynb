{
 "cells": [
  {
   "cell_type": "code",
   "execution_count": 1,
   "metadata": {},
   "outputs": [
    {
     "name": "stderr",
     "output_type": "stream",
     "text": [
      "\u001b[32m\u001b[1m Activating\u001b[22m\u001b[39m environment at `~/projects/AutonomousRiskFramework/STLCG.jl/Project.toml`\n"
     ]
    }
   ],
   "source": [
    "using Pkg\n",
    "Pkg.activate(\"../STLCG.jl/.\")"
   ]
  },
  {
   "cell_type": "code",
   "execution_count": 2,
   "metadata": {},
   "outputs": [
    {
     "name": "stderr",
     "output_type": "stream",
     "text": [
      "┌ Info: Precompiling STLCG [6ababdf7-4701-4f28-b3b2-5630f64e3c98]\n",
      "└ @ Base loading.jl:1278\n"
     ]
    }
   ],
   "source": [
    "using Revise\n",
    "using STLCG\n",
    "using EllipsisNotation\n"
   ]
  },
  {
   "cell_type": "markdown",
   "metadata": {},
   "source": [
    "## Short demo"
   ]
  },
  {
   "cell_type": "code",
   "execution_count": 3,
   "metadata": {},
   "outputs": [
    {
     "data": {
      "text/plain": [
       "1"
      ]
     },
     "execution_count": 3,
     "metadata": {},
     "output_type": "execute_result"
    }
   ],
   "source": [
    "scale = -1\n",
    "dims = 1\n",
    "keepdims = true\n",
    "distributed = true\n",
    "pscale = 1"
   ]
  },
  {
   "cell_type": "code",
   "execution_count": 4,
   "metadata": {},
   "outputs": [
    {
     "data": {
      "text/plain": [
       "Always\n",
       "  subformula: Or\n",
       "  interval: Array{Int64}((2,)) [2, 10]\n",
       "  _interval: Array{Int64}((2,)) [2, 10]\n",
       "  rnn_dim: Int8 10\n",
       "  steps: Int8 5\n",
       "  operation: Minish (function of type typeof(Minish))\n"
      ]
     },
     "execution_count": 4,
     "metadata": {},
     "output_type": "execute_result"
    }
   ],
   "source": [
    "θ = Negation(LessThan(:x, 4.0))\n",
    "ϕ = LessThan(:x, 0.0)\n",
    "ψ = GreaterThan(:y, 0.0)\n",
    "Φ = Or(subformula1=ϕ, subformula2=ψ)\n",
    "op = Always(subformula=Φ, interval=[2, 10])"
   ]
  },
  {
   "cell_type": "code",
   "execution_count": 309,
   "metadata": {},
   "outputs": [
    {
     "data": {
      "text/plain": [
       "([-0.5934856848501052, -0.44672897840461556, -0.9467354370496377, -1.283678115206663, 1.8493096410404137, 0.07436781000789666, -1.4573501458263747, -0.32046107625683123, -0.6614793708099782, 1.354720287282051  …  0.24584306550849971, 0.00024159725350597966, 0.3027284151249807, -1.5342123108240857, 0.14461868393713737, 0.4333709713134625, 0.14884276341803657, -0.04621315226275659, 0.30336648833655394, -0.5059028690648278], [-0.5934856848501052, -0.44672897840461556, -0.9467354370496377, -1.283678115206663, 1.8493096410404137, 0.07436781000789666, -1.4573501458263747, -0.32046107625683123, -0.6614793708099782, 1.354720287282051  …  0.24584306550849971, 0.00024159725350597966, 0.3027284151249807, -1.5342123108240857, 0.14461868393713737, 0.4333709713134625, 0.14884276341803657, -0.04621315226275659, 0.30336648833655394, -0.5059028690648278])"
      ]
     },
     "execution_count": 309,
     "metadata": {},
     "output_type": "execute_result"
    }
   ],
   "source": [
    "bs = 1\n",
    "t = 25\n",
    "x_dim = 1\n",
    "dim = 2\n",
    "x = randn(t, x_dim);\n",
    "y = randn(t, x_dim);\n",
    "\n",
    "x0 = x[:,1]\n",
    "y0 = x[:,1]\n",
    "\n",
    "formula = Then(ϕ, ψ, [2,5])\n",
    "trace = (x,y)\n",
    "trace0 = (x0, y0)"
   ]
  },
  {
   "cell_type": "code",
   "execution_count": 310,
   "metadata": {},
   "outputs": [
    {
     "data": {
      "text/plain": [
       "25-element Array{Float64,1}:\n",
       " -1.0e6\n",
       " -1.0e6\n",
       " -1.0e6\n",
       " -1.0e6\n",
       " -1.0e6\n",
       " -0.44672897840461556\n",
       "  1.4573501458263747\n",
       "  1.4573501458263747\n",
       "  1.4573501458263747\n",
       "  1.4573501458263747\n",
       "  0.07436781000789666\n",
       " -0.07619701636091504\n",
       "  0.19111914883734588\n",
       "  0.19111914883734588\n",
       "  0.19111914883734588\n",
       "  0.19111914883734588\n",
       "  0.07619701636091504\n",
       " -0.00024159725350597966\n",
       "  1.5342123108240857\n",
       "  1.5342123108240857\n",
       "  0.3027284151249807\n",
       "  0.3027284151249807\n",
       "  0.3027284151249807\n",
       "  0.04621315226275659\n",
       "  0.4333709713134625"
      ]
     },
     "execution_count": 310,
     "metadata": {},
     "output_type": "execute_result"
    }
   ],
   "source": [
    "formula(trace0)"
   ]
  },
  {
   "cell_type": "code",
   "execution_count": 303,
   "metadata": {},
   "outputs": [
    {
     "data": {
      "text/plain": [
       "25-element Array{Float64,1}:\n",
       " -1.0e6\n",
       " -1.0e6\n",
       " -2.205484205298316\n",
       " -2.205484205298316\n",
       " -0.6312488555526407\n",
       " -0.28462754833834314\n",
       " -0.28462754833834314\n",
       " -0.28462754833834314\n",
       " -0.28462754833834314\n",
       " -0.28462754833834314\n",
       " -0.28462754833834314\n",
       " -0.25912206247552355\n",
       " -0.09967732741752064\n",
       " -0.09967732741752064\n",
       " -0.921365816259977\n",
       " -1.2654622726854328\n",
       " -1.2654622726854328\n",
       " -1.2654622726854328\n",
       " -1.2400046943015357\n",
       " -1.2400046943015357\n",
       " -1.2400046943015357\n",
       " -1.3322708458473582\n",
       " -1.3322708458473582\n",
       " -1.3322708458473582\n",
       " -1.3322708458473582"
      ]
     },
     "execution_count": 303,
     "metadata": {},
     "output_type": "execute_result"
    }
   ],
   "source": [
    "trace1 = formula.subformula1(trace0[1])\n",
    "trace2 = formula.subformula2(trace0[2])\n",
    "Alw = Always(subformula=GreaterThan(:z, 0.0), interval=nothing)\n",
    "LHS0 = permutedims(repeat(reshape(trace2, (size(trace2)..., 1)), ones(Int, length(size(trace2)))...,size(trace2)[1]), collect((length(size(trace2)) + 1):-1:1)) \n",
    "a = Int(formula.interval[1])\n",
    "RHS = (ones(size(trace1))[1:a,..] * -LARGE_NUMBER, )\n",
    "add_dim = length(size(trace1)) + 1\n",
    "\n",
    "for i in a+1:size(trace2)[1]\n",
    "    A = trace2[1:i-a,:]\n",
    "    relevant = trace1[1:i,..]\n",
    "    B = Alw(relevant[end:-1:1,..]; pscale, scale, keepdims, distributed)[end:-1:a+1,..]\n",
    "    Minish(cat(A, B, dims=4); dims=4, scale, keepdims=false, distributed)\n",
    "    RHS = (RHS..., Maxish(Minish(cat(A, B, dims=add_dim); dims=add_dim, scale, keepdims=false, distributed); dims=1, scale, keepdims, distributed))\n",
    "end\n",
    "cat(RHS..., dims=1)"
   ]
  },
  {
   "cell_type": "code",
   "execution_count": 288,
   "metadata": {},
   "outputs": [
    {
     "data": {
      "text/plain": [
       "([-1.0e6, -1.0e6, -1.0e6, -1.0e6, -1.0e6], [-0.4571807577784622], [-0.4571807577784622], [-0.4571807577784622], [-0.4571807577784622], [-0.4571807577784622], [-0.4571807577784622], [-0.4571807577784622], [-0.4571807577784622], [-0.4571807577784622], [-0.4571807577784622], [-0.4571807577784622], [-0.4571807577784622], [-0.4571807577784622], [-0.4571807577784622], [-0.4571807577784622], [-0.4571807577784622], [-0.4571807577784622], [-0.4571807577784622], [-0.4571807577784622], [-0.4571807577784622])"
      ]
     },
     "execution_count": 288,
     "metadata": {},
     "output_type": "execute_result"
    }
   ],
   "source": [
    "RHS0"
   ]
  },
  {
   "cell_type": "code",
   "execution_count": 276,
   "metadata": {},
   "outputs": [
    {
     "data": {
      "text/plain": [
       "4-element Array{Float64,1}:\n",
       " -0.4571807577784622\n",
       " -0.4571807577784622\n",
       " -0.4571807577784622\n",
       " -0.4571807577784622"
      ]
     },
     "execution_count": 276,
     "metadata": {},
     "output_type": "execute_result"
    }
   ],
   "source": [
    "Maxish(Minish(cat(A, B, dims=add_dim); dims=add_dim, scale, keepdims=false, distributed); dims=1, scale, keepdims, distributed))\n",
    "#     break"
   ]
  },
  {
   "cell_type": "code",
   "execution_count": 281,
   "metadata": {},
   "outputs": [
    {
     "data": {
      "text/plain": [
       "4×1 Array{Float64,2}:\n",
       " -1.1209712974963366\n",
       " -0.0909651108477826\n",
       " -0.019880731035336784\n",
       " -0.45805343222137135"
      ]
     },
     "execution_count": 281,
     "metadata": {},
     "output_type": "execute_result"
    }
   ],
   "source": [
    "A"
   ]
  },
  {
   "cell_type": "code",
   "execution_count": 207,
   "metadata": {},
   "outputs": [
    {
     "data": {
      "text/plain": [
       "([-1.0178721419703172 0.5759844433859311 … -0.2580588389139336 -1.0255215099612216],)"
      ]
     },
     "execution_count": 207,
     "metadata": {},
     "output_type": "execute_result"
    }
   ],
   "source": [
    "LARGE_NUMBER = 1E6\n",
    "trace1 = formula.subformula1(trace[1])\n",
    "trace2 = formula.subformula2(trace[2])\n",
    "Alw = Always(subformula=GreaterThan(:z, 0.0), interval=nothing)\n",
    "LHS = permutedims(repeat(reshape(trace2, (size(trace2)..., 1)), 1,1,1,size(trace2)[2]), [1, 4, 3, 2])\n",
    "RHS = (Alw(trace1; pscale, scale, keepdims, distributed), )\n",
    "        a = formula.interval[1]\n",
    "        b = formula.interval[2]\n",
    "        RHS = (ones(size(trace1))[:,1:b,..] * -LARGE_NUMBER, )\n",
    "        N = size(trace1)[2]\n",
    "        for i in b+1:size(trace2)[2]\n",
    "            A = trace2[:,i-b:i-a,:]\n",
    "            relevant = trace1[:,1:i,..]\n",
    "            B = Alw(relevant[:,end:-1:1,:]; pscale, scale, keepdims, distributed)[:,b+1:-1:a+1,:]\n",
    "            RHS = (RHS..., Maxish(Minish(cat(A, B, dims=4); dims=4, scale, keepdims=false, distributed); dims=2, scale, keepdims, distributed))\n",
    "        end\n",
    "        return cat(RHS..., dims=2);"
   ]
  },
  {
   "cell_type": "code",
   "execution_count": 208,
   "metadata": {},
   "outputs": [
    {
     "data": {
      "text/plain": [
       "1×15×1 Array{Float64,3}:\n",
       "[:, :, 1] =\n",
       " -1.01787  0.575984  -0.959576  0.598861  …  0.083803  -0.258059  -1.02552"
      ]
     },
     "execution_count": 208,
     "metadata": {},
     "output_type": "execute_result"
    }
   ],
   "source": [
    "RHS[1]"
   ]
  },
  {
   "cell_type": "code",
   "execution_count": 193,
   "metadata": {},
   "outputs": [
    {
     "data": {
      "text/plain": [
       "15×15 Array{Float64,2}:\n",
       " -1.01787  -1.0e6     -1.0e6     -1.0e6     …  -1.0e6     -1.0e6     -1.0e6\n",
       " -1.01787   0.575984  -1.0e6     -1.0e6        -1.0e6     -1.0e6     -1.0e6\n",
       " -1.01787  -0.959576  -0.959576  -1.0e6        -1.0e6     -1.0e6     -1.0e6\n",
       " -1.01787  -0.959576  -0.959576   0.598861     -1.0e6     -1.0e6     -1.0e6\n",
       " -1.01787  -0.959576  -0.959576  -0.885839     -1.0e6     -1.0e6     -1.0e6\n",
       " -1.01787  -0.959576  -0.959576  -0.885839  …  -1.0e6     -1.0e6     -1.0e6\n",
       " -1.81831  -1.81831   -1.81831   -1.81831      -1.0e6     -1.0e6     -1.0e6\n",
       " -1.81831  -1.81831   -1.81831   -1.81831      -1.0e6     -1.0e6     -1.0e6\n",
       " -1.81831  -1.81831   -1.81831   -1.81831      -1.0e6     -1.0e6     -1.0e6\n",
       " -1.81831  -1.81831   -1.81831   -1.81831      -1.0e6     -1.0e6     -1.0e6\n",
       " -1.81831  -1.81831   -1.81831   -1.81831   …  -1.0e6     -1.0e6     -1.0e6\n",
       " -1.81831  -1.81831   -1.81831   -1.81831      -1.0e6     -1.0e6     -1.0e6\n",
       " -1.81831  -1.81831   -1.81831   -1.81831       0.083803  -1.0e6     -1.0e6\n",
       " -1.81831  -1.81831   -1.81831   -1.81831      -0.258059  -0.258059  -1.0e6\n",
       " -1.81831  -1.81831   -1.81831   -1.81831      -1.02552   -1.02552   -1.02552"
      ]
     },
     "execution_count": 193,
     "metadata": {},
     "output_type": "execute_result"
    }
   ],
   "source": [
    "RHS0"
   ]
  },
  {
   "cell_type": "code",
   "execution_count": 194,
   "metadata": {},
   "outputs": [
    {
     "data": {
      "text/plain": [
       "15×15 Array{Float64,2}:\n",
       " -1.01787   -1.0e6     -1.0e6     …  -1.0e6     -1.0e6     -1.0e6\n",
       "  0.575984   0.575984  -1.0e6        -1.0e6     -1.0e6     -1.0e6\n",
       " -0.959576  -0.959576  -0.959576     -1.0e6     -1.0e6     -1.0e6\n",
       "  0.598861   0.598861   0.598861     -1.0e6     -1.0e6     -1.0e6\n",
       " -0.885839  -0.885839  -0.885839     -1.0e6     -1.0e6     -1.0e6\n",
       " -0.569323  -0.569323  -0.569323  …  -1.0e6     -1.0e6     -1.0e6\n",
       " -1.81831   -1.81831   -1.81831      -1.0e6     -1.0e6     -1.0e6\n",
       "  0.309607   0.309607   0.309607     -1.0e6     -1.0e6     -1.0e6\n",
       " -0.904906  -0.904906  -0.904906     -1.0e6     -1.0e6     -1.0e6\n",
       "  1.14361    1.14361    1.14361      -1.0e6     -1.0e6     -1.0e6\n",
       "  0.666715   0.666715   0.666715  …  -1.0e6     -1.0e6     -1.0e6\n",
       " -1.04651   -1.04651   -1.04651      -1.0e6     -1.0e6     -1.0e6\n",
       "  0.083803   0.083803   0.083803      0.083803  -1.0e6     -1.0e6\n",
       " -0.258059  -0.258059  -0.258059     -0.258059  -0.258059  -1.0e6\n",
       " -1.02552   -1.02552   -1.02552      -1.02552   -1.02552   -1.02552"
      ]
     },
     "execution_count": 194,
     "metadata": {},
     "output_type": "execute_result"
    }
   ],
   "source": [
    "RHS[1,:,1,:]"
   ]
  },
  {
   "cell_type": "code",
   "execution_count": 304,
   "metadata": {},
   "outputs": [
    {
     "ename": "LoadError",
     "evalue": "BoundsError: attempt to access (25,)\n  at index [2]",
     "output_type": "error",
     "traceback": [
      "BoundsError: attempt to access (25,)\n  at index [2]",
      "",
      "Stacktrace:",
      " [1] getindex(::Tuple, ::Int64) at ./tuple.jl:24",
      " [2] ρt(::Until, ::Tuple{Array{Float64,1},Array{Float64,1}}; pscale::Int64, scale::Int64, keepdims::Bool, distributed::Bool, kwargs::Base.Iterators.Pairs{Union{},Union{},Tuple{},NamedTuple{(),Tuple{}}}) at /home/karen/projects/AutonomousRiskFramework/STLCG.jl/src/STLCG.jl:385",
      " [3] ρt at /home/karen/projects/AutonomousRiskFramework/STLCG.jl/src/STLCG.jl:381 [inlined]",
      " [4] #_#64 at /home/karen/projects/AutonomousRiskFramework/STLCG.jl/src/STLCG.jl:479 [inlined]",
      " [5] (::Until)(::Tuple{Array{Float64,1},Array{Float64,1}}) at /home/karen/projects/AutonomousRiskFramework/STLCG.jl/src/STLCG.jl:479",
      " [6] top-level scope at In[304]:1",
      " [7] include_string(::Function, ::Module, ::String, ::String) at ./loading.jl:1091",
      " [8] execute_code(::String, ::String) at /home/karen/.julia/packages/IJulia/rWZ9e/src/execute_request.jl:27",
      " [9] execute_request(::ZMQ.Socket, ::IJulia.Msg) at /home/karen/.julia/packages/IJulia/rWZ9e/src/execute_request.jl:86",
      " [10] #invokelatest#1 at ./essentials.jl:710 [inlined]",
      " [11] invokelatest at ./essentials.jl:709 [inlined]",
      " [12] eventloop(::ZMQ.Socket) at /home/karen/.julia/packages/IJulia/rWZ9e/src/eventloop.jl:8",
      " [13] (::IJulia.var\"#15#18\")() at ./task.jl:356"
     ]
    }
   ],
   "source": [
    "formula(trace0)"
   ]
  },
  {
   "cell_type": "code",
   "execution_count": 338,
   "metadata": {},
   "outputs": [
    {
     "data": {
      "text/plain": [
       "15-element Array{Float64,1}:\n",
       " -0.9032297660801328\n",
       "  1.5880288189724607\n",
       "  1.3776656410923007\n",
       "  0.7909655032871441\n",
       " -0.7343591494389593\n",
       "  0.23022609248013828\n",
       " -0.2713320417588114\n",
       " -1.5996628150105012\n",
       " -0.013749525065730723\n",
       "  0.048680901648265815\n",
       " -0.28330567469906043\n",
       "  2.025543434660606\n",
       " -0.21040245212203904\n",
       "  1.266357631002014\n",
       " -1.6162762772289945"
      ]
     },
     "execution_count": 338,
     "metadata": {},
     "output_type": "execute_result"
    }
   ],
   "source": [
    "# setting up the signals\n",
    "bs = 1\n",
    "t = 15\n",
    "x_dim = 3\n",
    "dim = 2\n",
    "x = randn(t);\n",
    "y = randn(t);\n",
    "\n",
    "\n",
    "# rnn_cell(op, xs[1], op.h0; scale, distributed)\n",
    "# STLCG.gradient(x -> sum(STLCG.rnn_cell(op, x, h0; scale, distributed)[1]), xs[1]) # <---- doesn't work\n",
    "# STLCG.gradient(x -> sum(STLCG.rnn_cell(op, x, h0; scale, distributed)[2][1][2]), xs[1]) # <--- works"
   ]
  },
  {
   "cell_type": "code",
   "execution_count": 328,
   "metadata": {},
   "outputs": [
    {
     "ename": "LoadError",
     "evalue": "StackOverflowError:",
     "output_type": "error",
     "traceback": [
      "StackOverflowError:",
      "",
      "Stacktrace:",
      " [1] Then(::LessThan, ::GreaterThan, ::Array{Float64,1}) at /home/karen/.julia/packages/Parameters/CVyBv/src/Parameters.jl:480",
      " [2] Then(; subformula1::LessThan, subformula2::GreaterThan, interval::Array{Float64,1}) at /home/karen/.julia/packages/Parameters/CVyBv/src/Parameters.jl:468",
      " ... (the last 2 lines are repeated 25973 more times)",
      " [51949] top-level scope at In[328]:1",
      " [51950] include_string(::Function, ::Module, ::String, ::String) at ./loading.jl:1091",
      " [51951] execute_code(::String, ::String) at /home/karen/.julia/packages/IJulia/rWZ9e/src/execute_request.jl:27",
      " [51952] execute_request(::ZMQ.Socket, ::IJulia.Msg) at /home/karen/.julia/packages/IJulia/rWZ9e/src/execute_request.jl:86",
      " [51953] #invokelatest#1 at ./essentials.jl:710 [inlined]",
      " [51954] invokelatest at ./essentials.jl:709 [inlined]",
      " [51955] eventloop(::ZMQ.Socket) at /home/karen/.julia/packages/IJulia/rWZ9e/src/eventloop.jl:8"
     ]
    }
   ],
   "source": [
    "formula = Then(subformula1=ϕ, subformula2=ψ, interval=[2, Inf])\n",
    "trace = (x,y);\n",
    "ρt(formula, trace)\n",
    "vcat(STLCG.gradient(x -> sum(ρ(formula, x)), trace)[1]...)"
   ]
  },
  {
   "cell_type": "markdown",
   "metadata": {},
   "source": [
    "### Make some formulas"
   ]
  },
  {
   "cell_type": "code",
   "execution_count": 329,
   "metadata": {},
   "outputs": [
    {
     "data": {
      "text/plain": [
       "Always\n",
       "  subformula: Or\n",
       "  interval: Array{Int64}((2,)) [2, 10]\n",
       "  _interval: Array{Int64}((2,)) [2, 10]\n",
       "  rnn_dim: Int8 10\n",
       "  steps: Int8 5\n",
       "  operation: Minish (function of type typeof(Minish))\n"
      ]
     },
     "execution_count": 329,
     "metadata": {},
     "output_type": "execute_result"
    }
   ],
   "source": [
    "θ = Negation(LessThan(:x, 4.0))\n",
    "ϕ = LessThan(:x, 0.0)\n",
    "ψ = GreaterThan(:y, 0.0)\n",
    "Φ = Or(subformula1=ϕ, subformula2=ψ)\n",
    "op = Always(subformula=Φ, interval=[2, 10])"
   ]
  },
  {
   "cell_type": "code",
   "execution_count": 330,
   "metadata": {},
   "outputs": [
    {
     "data": {
      "text/plain": [
       "false"
      ]
     },
     "execution_count": 330,
     "metadata": {},
     "output_type": "execute_result"
    }
   ],
   "source": [
    "# parameters\n",
    "pscale=1    # scale for LessThan, GreaterThan, Equal\n",
    "scale=0     # scale for the minish and maxish function used in temporal operators, implies, and, or\n",
    "keepdims=true      # keep original dimension (should pretty much always be true)\n",
    "distributed=false  # if there are multiple indices that have the same max/min values, then mean over those to the gradient flows through all those values"
   ]
  },
  {
   "cell_type": "markdown",
   "metadata": {},
   "source": [
    "### Evaluating robustness trace"
   ]
  },
  {
   "cell_type": "code",
   "execution_count": 333,
   "metadata": {},
   "outputs": [
    {
     "data": {
      "text/plain": [
       "15-element Array{Float64,1}:\n",
       "  0.21509389667884596\n",
       "  0.2511643494757432\n",
       "  1.1377041877668164\n",
       " -1.0822034242734682\n",
       "  0.8395803892493985\n",
       " -0.11818520867797115\n",
       " -0.3282606051688034\n",
       " -0.06300353272339833\n",
       "  0.3816041701927383\n",
       " -1.5559439019185974\n",
       " -0.05256065162916178\n",
       "  1.5431426389720044\n",
       "  0.9076708017146328\n",
       "  0.20065892589325995\n",
       " -0.05664896029749181"
      ]
     },
     "execution_count": 333,
     "metadata": {},
     "output_type": "execute_result"
    }
   ],
   "source": [
    "# there are two ways to do this\n",
    "ϕ(x; pscale, scale, keepdims, distributed)\n",
    "STLCG.ρt(ϕ, x; pscale, scale, keepdims, distributed)"
   ]
  },
  {
   "cell_type": "markdown",
   "metadata": {},
   "source": [
    "### Evaluating robustness $\\rho$ (not trace)"
   ]
  },
  {
   "cell_type": "code",
   "execution_count": 334,
   "metadata": {},
   "outputs": [],
   "source": [
    "# there are three ways to do this\n",
    "# ρ(ϕ, x; pscale, scale, keepdims, distributed)\n",
    "STLCG.ρ(ϕ, x; pscale, scale, keepdims, distributed)\n",
    "ϕ(x; pscale, scale, keepdims, distributed)[:,end:end,..];\n"
   ]
  },
  {
   "cell_type": "code",
   "execution_count": 335,
   "metadata": {},
   "outputs": [
    {
     "data": {
      "text/plain": [
       "Always\n",
       "  subformula: Always\n",
       "  interval: Array{Int64}((2,)) [2, 4]\n",
       "  _interval: Array{Int64}((2,)) [2, 4]\n",
       "  rnn_dim: Int8 4\n",
       "  steps: Int8 5\n",
       "  operation: Minish (function of type typeof(Minish))\n"
      ]
     },
     "execution_count": 335,
     "metadata": {},
     "output_type": "execute_result"
    }
   ],
   "source": [
    "□ϕ = STLCG.□(op, interval=[2,4])"
   ]
  },
  {
   "cell_type": "code",
   "execution_count": 336,
   "metadata": {},
   "outputs": [
    {
     "ename": "LoadError",
     "evalue": "UndefVarError: args not defined",
     "output_type": "error",
     "traceback": [
      "UndefVarError: args not defined",
      "",
      "Stacktrace:",
      " [1] top-level scope at In[336]:1",
      " [2] include_string(::Function, ::Module, ::String, ::String) at ./loading.jl:1091",
      " [3] execute_code(::String, ::String) at /home/karen/.julia/packages/IJulia/rWZ9e/src/execute_request.jl:27",
      " [4] execute_request(::ZMQ.Socket, ::IJulia.Msg) at /home/karen/.julia/packages/IJulia/rWZ9e/src/execute_request.jl:86",
      " [5] #invokelatest#1 at ./essentials.jl:710 [inlined]",
      " [6] invokelatest at ./essentials.jl:709 [inlined]",
      " [7] eventloop(::ZMQ.Socket) at /home/karen/.julia/packages/IJulia/rWZ9e/src/eventloop.jl:8",
      " [8] (::IJulia.var\"#15#18\")() at ./task.jl:356"
     ]
    }
   ],
   "source": [
    "robustness_trace(□ϕ, x; args...)"
   ]
  },
  {
   "cell_type": "code",
   "execution_count": null,
   "metadata": {},
   "outputs": [],
   "source": [
    "STLCG.gradient(x -> sum(STLCG.rnn_cell(op, x, h0; scale, distributed)[2][1][2]), xs[1]) # <--- works"
   ]
  },
  {
   "cell_type": "code",
   "execution_count": 4,
   "metadata": {},
   "outputs": [
    {
     "data": {
      "text/plain": [
       "STLCG.Or\n",
       "  subformula1: STLCG.And\n",
       "  subformula2: STLCG.LessThan\n",
       "  operation: Maxish (function of type typeof(Maxish))\n"
      ]
     },
     "execution_count": 4,
     "metadata": {},
     "output_type": "execute_result"
    }
   ],
   "source": [
    "ϕ = STLCG.LessThan(:x, 5)\n",
    "ψ = STLCG.GreaterThan(:x, -3)\n",
    "op = STLCG.Or(subformula1=STLCG.And(subformula1=ϕ, subformula2=ψ), subformula2=ϕ)"
   ]
  },
  {
   "cell_type": "code",
   "execution_count": 191,
   "metadata": {},
   "outputs": [],
   "source": [
    "(f::STLCG.Formula)(x::Array{Float64}; kwargs...) = robustness_trace(f, x; kwargs...)"
   ]
  },
  {
   "cell_type": "code",
   "execution_count": 192,
   "metadata": {},
   "outputs": [
    {
     "data": {
      "text/plain": [
       "2×15×3 Array{Float64,3}:\n",
       "[:, :, 1] =\n",
       " 4.33878  4.55352  4.0096   4.28465  …  4.87325  4.24155  4.18938  4.36833\n",
       " 4.35477  4.20984  4.53724  4.8834      4.25997  4.16101  4.62856  4.13871\n",
       "\n",
       "[:, :, 2] =\n",
       " 4.19292  4.05989  4.26052  4.3984   …  4.02068  4.74747  4.05824  4.06667\n",
       " 4.13728  4.53258  4.77843  4.72391     4.18943  4.02867  4.20342  4.66529\n",
       "\n",
       "[:, :, 3] =\n",
       " 4.47263  4.89431  4.49562  4.28735  …  4.9606   4.3826   4.59063  4.70413\n",
       " 4.29403  4.08497  4.01783  4.86847     4.10466  4.29218  4.78882  4.30469"
      ]
     },
     "execution_count": 192,
     "metadata": {},
     "output_type": "execute_result"
    }
   ],
   "source": [
    "ϕ(x)"
   ]
  },
  {
   "cell_type": "code",
   "execution_count": 147,
   "metadata": {},
   "outputs": [],
   "source": [
    "struct Predicate\n",
    "    x::Symbol\n",
    "end"
   ]
  },
  {
   "cell_type": "code",
   "execution_count": 157,
   "metadata": {},
   "outputs": [],
   "source": [
    "(p::Primitive)(x::Int) = (2*x, p.x)\n",
    "(p::Primitive)(x::Real) = 3*x"
   ]
  },
  {
   "cell_type": "code",
   "execution_count": 158,
   "metadata": {},
   "outputs": [
    {
     "data": {
      "text/plain": [
       "Primitive(:asadsadsa)"
      ]
     },
     "execution_count": 158,
     "metadata": {},
     "output_type": "execute_result"
    }
   ],
   "source": [
    "a = Primitive(:asadsadsa)"
   ]
  },
  {
   "cell_type": "code",
   "execution_count": 159,
   "metadata": {},
   "outputs": [
    {
     "data": {
      "text/plain": [
       "((2, :asadsadsa), 3.0)"
      ]
     },
     "execution_count": 159,
     "metadata": {},
     "output_type": "execute_result"
    }
   ],
   "source": [
    "a(1), a(1.)"
   ]
  },
  {
   "cell_type": "code",
   "execution_count": 148,
   "metadata": {},
   "outputs": [
    {
     "data": {
      "text/plain": [
       "Primitive(:x)"
      ]
     },
     "execution_count": 148,
     "metadata": {},
     "output_type": "execute_result"
    }
   ],
   "source": [
    "Primitive(:x) < 5"
   ]
  },
  {
   "cell_type": "code",
   "execution_count": 172,
   "metadata": {},
   "outputs": [
    {
     "data": {
      "text/plain": [
       "false"
      ]
     },
     "execution_count": 172,
     "metadata": {},
     "output_type": "execute_result"
    }
   ],
   "source": [
    "Primitive(:a) > Primitive(:b)"
   ]
  },
  {
   "cell_type": "code",
   "execution_count": 170,
   "metadata": {},
   "outputs": [],
   "source": [
    "(Base.:(<))(a::Symbol, b::Primitive) = a.x < b.x"
   ]
  },
  {
   "cell_type": "code",
   "execution_count": 75,
   "metadata": {},
   "outputs": [
    {
     "data": {
      "text/plain": [
       "< (generic function with 1 method)"
      ]
     },
     "execution_count": 75,
     "metadata": {},
     "output_type": "execute_result"
    }
   ],
   "source": [
    "function <(a,b)\n",
    "    a < b\n",
    "end"
   ]
  },
  {
   "cell_type": "code",
   "execution_count": 78,
   "metadata": {},
   "outputs": [
    {
     "ename": "LoadError",
     "evalue": "syntax: \"<\" is not a unary operator",
     "output_type": "error",
     "traceback": [
      "syntax: \"<\" is not a unary operator",
      "",
      "Stacktrace:",
      " [1] top-level scope at In[78]:1",
      " [2] include_string(::Function, ::Module, ::String, ::String) at ./loading.jl:1091",
      " [3] execute_code(::String, ::String) at /Users/karenleung/.julia/packages/IJulia/rWZ9e/src/execute_request.jl:27",
      " [4] execute_request(::ZMQ.Socket, ::IJulia.Msg) at /Users/karenleung/.julia/packages/IJulia/rWZ9e/src/execute_request.jl:86",
      " [5] #invokelatest#1 at ./essentials.jl:710 [inlined]",
      " [6] invokelatest at ./essentials.jl:709 [inlined]",
      " [7] eventloop(::ZMQ.Socket) at /Users/karenleung/.julia/packages/IJulia/rWZ9e/src/eventloop.jl:8",
      " [8] (::IJulia.var\"#15#18\")() at ./task.jl:356"
     ]
    }
   ],
   "source": [
    "< |> methods"
   ]
  },
  {
   "cell_type": "code",
   "execution_count": null,
   "metadata": {},
   "outputs": [],
   "source": []
  }
 ],
 "metadata": {
  "@webio": {
   "lastCommId": null,
   "lastKernelId": null
  },
  "kernelspec": {
   "display_name": "Julia 1.5.2",
   "language": "julia",
   "name": "julia-1.5"
  },
  "language_info": {
   "file_extension": ".jl",
   "mimetype": "application/julia",
   "name": "julia",
   "version": "1.5.2"
  }
 },
 "nbformat": 4,
 "nbformat_minor": 4
}
