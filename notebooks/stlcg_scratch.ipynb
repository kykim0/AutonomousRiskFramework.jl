{
 "cells": [
  {
   "cell_type": "code",
   "execution_count": 1,
   "metadata": {},
   "outputs": [
    {
     "name": "stderr",
     "output_type": "stream",
     "text": [
      "\u001b[32m\u001b[1m Activating\u001b[22m\u001b[39m environment at `~/repos/AutonomousRiskFramework/STLCG.jl/Project.toml`\n"
     ]
    }
   ],
   "source": [
    "using Pkg\n",
    "Pkg.activate(\"../STLCG.jl/.\")"
   ]
  },
  {
   "cell_type": "code",
   "execution_count": 2,
   "metadata": {},
   "outputs": [
    {
     "name": "stderr",
     "output_type": "stream",
     "text": [
      "┌ Info: Precompiling STLCG [6ababdf7-4701-4f28-b3b2-5630f64e3c98]\n",
      "└ @ Base loading.jl:1278\n"
     ]
    }
   ],
   "source": [
    "using Revise\n",
    "using STLCG\n",
    "using EllipsisNotation\n"
   ]
  },
  {
   "cell_type": "markdown",
   "metadata": {},
   "source": [
    "## Short demo"
   ]
  },
  {
   "cell_type": "code",
   "execution_count": 4,
   "metadata": {},
   "outputs": [
    {
     "data": {
      "text/plain": [
       "1×15×3 Array{Float64,3}:\n",
       "[:, :, 1] =\n",
       " 0.282462  -0.471594  1.00703  -0.680697  …  1.05104  0.0880835  -0.587167\n",
       "\n",
       "[:, :, 2] =\n",
       " 0.563332  0.534387  -0.661956  0.345958  …  0.585906  -1.42755  0.0722649\n",
       "\n",
       "[:, :, 3] =\n",
       " -0.803788  -0.179061  -1.40908  …  1.6316  -0.81476  -2.06127  1.09988"
      ]
     },
     "execution_count": 4,
     "metadata": {},
     "output_type": "execute_result"
    }
   ],
   "source": [
    "# setting up the signals\n",
    "bs = 1\n",
    "t = 15\n",
    "x_dim = 3\n",
    "dim = 2\n",
    "x = randn(bs, t, x_dim);\n",
    "y = randn(bs, t, x_dim);\n",
    "\n",
    "\n",
    "# rnn_cell(op, xs[1], op.h0; scale, distributed)\n",
    "# STLCG.gradient(x -> sum(STLCG.rnn_cell(op, x, h0; scale, distributed)[1]), xs[1]) # <---- doesn't work\n",
    "# STLCG.gradient(x -> sum(STLCG.rnn_cell(op, x, h0; scale, distributed)[2][1][2]), xs[1]) # <--- works"
   ]
  },
  {
   "cell_type": "code",
   "execution_count": 21,
   "metadata": {},
   "outputs": [
    {
     "data": {
      "text/plain": [
       "2×15×3 Array{Float64,3}:\n",
       "[:, :, 1] =\n",
       " -0.0  -0.0  -0.0  -0.0  -0.0  -0.0  …  -0.0  -0.0  -0.0  -0.0  -0.0  -0.0\n",
       "  0.0   0.0   1.0   0.0   0.0   0.0      0.0   0.0   0.0   0.0   0.0   0.0\n",
       "\n",
       "[:, :, 2] =\n",
       " -0.0  -0.0  -0.0  -0.0  -0.0  -0.0  …  -1.0  -0.0  -0.0  -0.0  -0.0  -0.0\n",
       "  0.0   0.0   0.0   0.0   0.0   0.0      0.0   0.0   0.0   0.0   0.0   0.0\n",
       "\n",
       "[:, :, 3] =\n",
       " -0.0  -0.0  -0.0  -0.0  -0.0  -0.0  …  -0.0  -0.0  -0.0  -0.0  -0.0  -0.0\n",
       "  0.0   0.0   0.0   0.0   0.0   0.0      0.0   0.0   1.0   0.0   0.0   0.0"
      ]
     },
     "execution_count": 21,
     "metadata": {},
     "output_type": "execute_result"
    }
   ],
   "source": [
    "formula = Then(subformula1=ϕ, subformula2=ψ, interval=[2, Inf])\n",
    "trace = (x,y);\n",
    "ρt(formula, trace)\n",
    "vcat(STLCG.gradient(x -> sum(ρ(formula, x)), trace)[1]...)"
   ]
  },
  {
   "cell_type": "markdown",
   "metadata": {},
   "source": [
    "### Make some formulas"
   ]
  },
  {
   "cell_type": "code",
   "execution_count": 7,
   "metadata": {},
   "outputs": [
    {
     "data": {
      "text/plain": [
       "Always\n",
       "  subformula: Or\n",
       "  interval: Nothing nothing\n",
       "  _interval: Array{Float64}((2,)) [0.0, Inf]\n",
       "  rnn_dim: Int8 1\n",
       "  steps: Int8 1\n",
       "  operation: Minish (function of type typeof(Minish))\n"
      ]
     },
     "execution_count": 7,
     "metadata": {},
     "output_type": "execute_result"
    }
   ],
   "source": [
    "θ = Negation(LessThan(:x, 4.0))\n",
    "ϕ = LessThan(:x, 0.0)\n",
    "ψ = GreaterThan(:y, 0.0)\n",
    "Φ = Or(subformula1=ϕ, subformula2=ψ)\n",
    "op = Always(subformula=Φ, interval=nothing)"
   ]
  },
  {
   "cell_type": "code",
   "execution_count": 8,
   "metadata": {},
   "outputs": [
    {
     "data": {
      "text/plain": [
       "false"
      ]
     },
     "execution_count": 8,
     "metadata": {},
     "output_type": "execute_result"
    }
   ],
   "source": [
    "# parameters\n",
    "pscale=1    # scale for LessThan, GreaterThan, Equal\n",
    "scale=0     # scale for the minish and maxish function used in temporal operators, implies, and, or\n",
    "keepdims=true      # keep original dimension (should pretty much always be true)\n",
    "distributed=false  # if there are multiple indices that have the same max/min values, then mean over those to the gradient flows through all those values"
   ]
  },
  {
   "cell_type": "markdown",
   "metadata": {},
   "source": [
    "### Evaluating robustness trace"
   ]
  },
  {
   "cell_type": "code",
   "execution_count": 9,
   "metadata": {},
   "outputs": [],
   "source": [
    "# there are two ways to do this\n",
    "ϕ(x; pscale, scale, keepdims, distributed)\n",
    "STLCG.robustness_trace(ϕ, x; pscale, scale, keepdims, distributed);"
   ]
  },
  {
   "cell_type": "markdown",
   "metadata": {},
   "source": [
    "### Evaluating robustness $\\rho$ (not trace)"
   ]
  },
  {
   "cell_type": "code",
   "execution_count": 10,
   "metadata": {},
   "outputs": [],
   "source": [
    "# there are three ways to do this\n",
    "# ρ(ϕ, x; pscale, scale, keepdims, distributed)\n",
    "STLCG.robustness(ϕ, x; pscale, scale, keepdims, distributed)\n",
    "ϕ(x; pscale, scale, keepdims, distributed)[:,end:end,..];\n"
   ]
  },
  {
   "cell_type": "code",
   "execution_count": 11,
   "metadata": {},
   "outputs": [],
   "source": [
    "using Parameters # for @with_kw\n"
   ]
  },
  {
   "cell_type": "code",
   "execution_count": 7,
   "metadata": {},
   "outputs": [
    {
     "data": {
      "text/plain": [
       "Test"
      ]
     },
     "execution_count": 7,
     "metadata": {},
     "output_type": "execute_result"
    }
   ],
   "source": [
    "@with_kw struct Test <: Formula\n",
    "    subformula1\n",
    "    subformula2\n",
    "    operation = Maxish\n",
    "\n",
    "    Test(ϕ, ψ) = new(ϕ, ψ, Maxish)\n",
    "end"
   ]
  },
  {
   "cell_type": "code",
   "execution_count": 15,
   "metadata": {},
   "outputs": [
    {
     "data": {
      "text/plain": [
       "Poo1"
      ]
     },
     "execution_count": 15,
     "metadata": {},
     "output_type": "execute_result"
    }
   ],
   "source": [
    "@with_kw struct Poo1 <: TemporalFormula\n",
    "    subformula\n",
    "    interval\n",
    "    _interval = (interval == nothing) ? [0, Inf] : interval\n",
    "    rnn_dim = (interval == nothing) ? Int8(1) : (interval[end] == Inf ? Int8(interval[1]) : Int8(interval[2]))\n",
    "    steps = (interval == nothing) ? Int8(1) : Int8(diff([1,5])[1] + 1)\n",
    "    operation = Maxish\n",
    "    \n",
    "end"
   ]
  },
  {
   "cell_type": "code",
   "execution_count": 19,
   "metadata": {},
   "outputs": [
    {
     "data": {
      "text/plain": [
       "Poo1\n",
       "  subformula: LessThan\n",
       "  interval: Nothing nothing\n",
       "  _interval: Array{Float64}((2,)) [0.0, Inf]\n",
       "  rnn_dim: Int8 1\n",
       "  steps: Int8 1\n",
       "  operation: Maxish (function of type typeof(Maxish))\n"
      ]
     },
     "execution_count": 19,
     "metadata": {},
     "output_type": "execute_result"
    }
   ],
   "source": [
    "Poo1(;subformula=ϕ, interval=nothing)"
   ]
  },
  {
   "cell_type": "code",
   "execution_count": 64,
   "metadata": {},
   "outputs": [
    {
     "data": {
      "text/plain": [
       "Test2"
      ]
     },
     "execution_count": 64,
     "metadata": {},
     "output_type": "execute_result"
    }
   ],
   "source": [
    "@with_kw struct Test2 <: TemporalFormula\n",
    "    subformula1\n",
    "    subformula2\n",
    "    interval = nothing\n",
    "\n",
    "    Test2(ϕ, ψ; interval=nothing) = new(ϕ, ϕ, interval) # example constructor\n",
    "end"
   ]
  },
  {
   "cell_type": "code",
   "execution_count": 65,
   "metadata": {},
   "outputs": [
    {
     "data": {
      "text/plain": [
       "Test2\n",
       "  subformula1: GreaterThan\n",
       "  subformula2: GreaterThan\n",
       "  interval: Nothing nothing\n"
      ]
     },
     "execution_count": 65,
     "metadata": {},
     "output_type": "execute_result"
    }
   ],
   "source": [
    "Test2(ϕ, ψ)"
   ]
  },
  {
   "cell_type": "code",
   "execution_count": 14,
   "metadata": {},
   "outputs": [
    {
     "data": {
      "text/plain": [
       "20"
      ]
     },
     "execution_count": 14,
     "metadata": {},
     "output_type": "execute_result"
    }
   ],
   "source": [
    "x = ones(1,20,1) .* collect(1:20)'\n",
    "y = ones(1,20,1) .* collect(1:20)'\n",
    "subformula1 = GreaterThan(:x, 0.0)\n",
    "subformula2 = GreaterThan(:y, 5.0)\n",
    "interval = [5,7]\n",
    "N = 20\n"
   ]
  },
  {
   "cell_type": "code",
   "execution_count": 15,
   "metadata": {},
   "outputs": [
    {
     "data": {
      "text/plain": [
       "1×20×1 Array{Float64,3}:\n",
       "[:, :, 1] =\n",
       " -1.0e6  -1.0e6  -1.0e6  -1.0e6  …  4.0  5.0  6.0  7.0  8.0  9.0  10.0"
      ]
     },
     "execution_count": 15,
     "metadata": {},
     "output_type": "execute_result"
    }
   ],
   "source": [
    "until = Until(;subformula1, subformula2, interval)\n",
    "until((x,y))"
   ]
  },
  {
   "cell_type": "code",
   "execution_count": 35,
   "metadata": {},
   "outputs": [
    {
     "data": {
      "text/plain": [
       "1×20×1 Array{Float64,3}:\n",
       "[:, :, 1] =\n",
       " -1.0e6  -1.0e6  -4.0  -3.0  -2.0  -1.0  …  8.0  9.0  10.0  11.0  12.0  13.0"
      ]
     },
     "execution_count": 35,
     "metadata": {},
     "output_type": "execute_result"
    }
   ],
   "source": [
    "LARGE_NUMBER = 1E6\n",
    "a = 2\n",
    "b = 4\n",
    "duration = b - a +1\n",
    "interval = [a,b]\n",
    "trace1 = ϕ(x)\n",
    "trace2 = ψ(y)\n",
    "Alw = Always(subformula=GreaterThan(:z, 0.0), interval=nothing)\n",
    "# LHS is [bs, t′, dim, time]\n",
    "LHS = permutedims(repeat(reshape(trace2, (size(trace2)..., 1)), 1,1,1,size(trace2)[2]), [1, 4, 3, 2])\n",
    "RHS = ones(size(LHS)) * -LARGE_NUMBER\n",
    "for i in 1:size(trace2)[2]\n",
    "    if (N-i+1-a) <= 0\n",
    "        break\n",
    "    end\n",
    "    relevant = trace1[:,1:N-i+1]\n",
    "    RHS[:,N-i+1,:,1:N-i+1-a] = Alw(relevant[:,end:-1:1,:]; pscale, scale, keepdims, distributed)[:,end:-1:a+1,:]\n",
    "end\n",
    "out = Maxish(Minish(cat(LHS, RHS, dims=5); dims=5, scale, keepdims=false, distributed); scale, keepdims=false, distributed, dims=4)"
   ]
  },
  {
   "cell_type": "code",
   "execution_count": 36,
   "metadata": {},
   "outputs": [
    {
     "data": {
      "text/plain": [
       "20-element Array{Float64,1}:\n",
       " -1.0e6\n",
       " -1.0e6\n",
       " -4.0\n",
       " -3.0\n",
       " -2.0\n",
       " -1.0\n",
       "  0.0\n",
       "  1.0\n",
       "  2.0\n",
       "  3.0\n",
       "  4.0\n",
       "  5.0\n",
       "  6.0\n",
       "  7.0\n",
       "  8.0\n",
       "  9.0\n",
       " 10.0\n",
       " 11.0\n",
       " 12.0\n",
       " 13.0"
      ]
     },
     "execution_count": 36,
     "metadata": {},
     "output_type": "execute_result"
    }
   ],
   "source": [
    "out[1,:,1]"
   ]
  },
  {
   "cell_type": "code",
   "execution_count": 180,
   "metadata": {},
   "outputs": [
    {
     "data": {
      "text/plain": [
       "2×20×1 Array{Float64,3}:\n",
       "[:, :, 1] =\n",
       "  1.0   2.0   3.0   4.0  5.0  6.0  7.0  …  15.0  16.0  17.0  18.0  19.0  20.0\n",
       " -4.0  -3.0  -2.0  -1.0  0.0  1.0  2.0     10.0  11.0  12.0  13.0  14.0  15.0"
      ]
     },
     "execution_count": 180,
     "metadata": {},
     "output_type": "execute_result"
    }
   ],
   "source": [
    "cat(trace1, trace2, dims=1)"
   ]
  },
  {
   "cell_type": "code",
   "execution_count": 87,
   "metadata": {
    "scrolled": true
   },
   "outputs": [
    {
     "ename": "LoadError",
     "evalue": "BoundsError: attempt to access 1×20×1×20 Array{Float64,4} at index [1:1, 4, 1:1, 0:2]",
     "output_type": "error",
     "traceback": [
      "BoundsError: attempt to access 1×20×1×20 Array{Float64,4} at index [1:1, 4, 1:1, 0:2]",
      "",
      "Stacktrace:",
      " [1] throw_boundserror(::Array{Float64,4}, ::Tuple{Base.Slice{Base.OneTo{Int64}},Int64,Base.Slice{Base.OneTo{Int64}},UnitRange{Int64}}) at ./abstractarray.jl:541",
      " [2] checkbounds(::Array{Float64,4}, ::Base.Slice{Base.OneTo{Int64}}, ::Int64, ::Base.Slice{Base.OneTo{Int64}}, ::Vararg{Any,N} where N) at ./abstractarray.jl:506",
      " [3] _setindex!(::IndexLinear, ::Array{Float64,4}, ::Array{Float64,3}, ::Base.Slice{Base.OneTo{Int64}}, ::Int64, ::Vararg{Union{Real, AbstractArray},N} where N) at ./multidimensional.jl:784",
      " [4] setindex!(::Array{Float64,4}, ::Array{Float64,3}, ::Function, ::Int64, ::Function, ::UnitRange{Int64}) at ./abstractarray.jl:1153",
      " [5] top-level scope at ./In[87]:6",
      " [6] include_string(::Function, ::Module, ::String, ::String) at ./loading.jl:1091",
      " [7] execute_code(::String, ::String) at /home/karen/.julia/packages/IJulia/rWZ9e/src/execute_request.jl:27",
      " [8] execute_request(::ZMQ.Socket, ::IJulia.Msg) at /home/karen/.julia/packages/IJulia/rWZ9e/src/execute_request.jl:86",
      " [9] #invokelatest#1 at ./essentials.jl:710 [inlined]",
      " [10] invokelatest at ./essentials.jl:709 [inlined]",
      " [11] eventloop(::ZMQ.Socket) at /home/karen/.julia/packages/IJulia/rWZ9e/src/eventloop.jl:8",
      " [12] (::IJulia.var\"#15#18\")() at ./task.jl:356"
     ]
    }
   ],
   "source": [
    "RHS = ones(size(LHS)) * -LARGE_NUMBER\n",
    "for i in 1:size(trace2)[2]\n",
    "    if (N-i+1-b) < 0\n",
    "        break\n",
    "    end\n",
    "\n",
    "    RHS[:,N-i+1,:,N-i+1-b:N-i+1-a] = Alw(trace1[:,end-i+1:-1:1,:]; pscale, scale, keepdims, distributed)[:,end-duration+1:end,:]\n",
    "end"
   ]
  },
  {
   "cell_type": "code",
   "execution_count": 67,
   "metadata": {},
   "outputs": [
    {
     "data": {
      "text/plain": [
       "1×6×1 Array{Float64,3}:\n",
       "[:, :, 1] =\n",
       " 7.0  6.0  5.0  4.0  3.0  2.0"
      ]
     },
     "execution_count": 67,
     "metadata": {},
     "output_type": "execute_result"
    }
   ],
   "source": [
    "Alw(trace1[:,end:-1:i,:])[:,end-duration+1:end,:]"
   ]
  },
  {
   "cell_type": "code",
   "execution_count": 29,
   "metadata": {},
   "outputs": [
    {
     "name": "stdout",
     "output_type": "stream",
     "text": [
      "16"
     ]
    },
    {
     "data": {
      "text/plain": [
       "1×20×1 Array{Float64,3}:\n",
       "[:, :, 1] =\n",
       " 1.0  2.0  3.0  4.0  5.0  6.0  7.0  …  15.0  16.0  17.0  18.0  19.0  20.0"
      ]
     },
     "execution_count": 29,
     "metadata": {},
     "output_type": "execute_result"
    }
   ],
   "source": [
    "i = 1\n",
    "(N-i+1-b) |> show\n",
    "test = trace1"
   ]
  },
  {
   "cell_type": "code",
   "execution_count": 31,
   "metadata": {},
   "outputs": [
    {
     "data": {
      "text/plain": [
       "1×20 Array{Float64,2}:\n",
       " 1.0  2.0  3.0  4.0  5.0  6.0  7.0  …  15.0  16.0  17.0  18.0  19.0  20.0"
      ]
     },
     "execution_count": 31,
     "metadata": {},
     "output_type": "execute_result"
    }
   ],
   "source": [
    "relevant = test[:,1:N-i+1]"
   ]
  },
  {
   "cell_type": "code",
   "execution_count": 34,
   "metadata": {},
   "outputs": [
    {
     "data": {
      "text/plain": [
       "1×18×1 Array{Float64,3}:\n",
       "[:, :, 1] =\n",
       " 1.0  2.0  3.0  4.0  5.0  6.0  7.0  …  13.0  14.0  15.0  16.0  17.0  18.0"
      ]
     },
     "execution_count": 34,
     "metadata": {},
     "output_type": "execute_result"
    }
   ],
   "source": [
    "Alw(relevant[:,end:-1:1,:]; pscale, scale, keepdims, distributed)[:,end:-1:a+1,:]"
   ]
  },
  {
   "cell_type": "code",
   "execution_count": 158,
   "metadata": {},
   "outputs": [
    {
     "data": {
      "text/plain": [
       "1×3×1 Array{Float64,3}:\n",
       "[:, :, 1] =\n",
       " 16.0  17.0  18.0"
      ]
     },
     "execution_count": 158,
     "metadata": {},
     "output_type": "execute_result"
    }
   ],
   "source": [
    "\n",
    "RHS[:,N-i+1,:,N-i+1-b:N-i+1-a] = "
   ]
  },
  {
   "cell_type": "code",
   "execution_count": 161,
   "metadata": {},
   "outputs": [],
   "source": [
    "RHS = ones(size(LHS)) * -LARGE_NUMBER\n",
    "for i in 1:size(trace2)[2]\n",
    "    if (N-i+1-b) <= 0\n",
    "        break\n",
    "    end\n",
    "    relevant = trace1[:,N-i+1-b:N-i+1]\n",
    "    RHS[:,N-i+1,:,N-i+1-b:N-i+1-a] = Alw(relevant[:,end:-1:1,:]; pscale, scale, keepdims, distributed)[:,end:-1:end-duration+1,:]\n",
    "end"
   ]
  },
  {
   "cell_type": "code",
   "execution_count": 165,
   "metadata": {},
   "outputs": [
    {
     "data": {
      "text/plain": [
       "1×1×3 Array{Float64,3}:\n",
       "[:, :, 1] =\n",
       " 16.0\n",
       "\n",
       "[:, :, 2] =\n",
       " 17.0\n",
       "\n",
       "[:, :, 3] =\n",
       " 18.0"
      ]
     },
     "execution_count": 165,
     "metadata": {},
     "output_type": "execute_result"
    }
   ],
   "source": [
    "RHS[:,N-i+1,:,N-i+1-b:N-i+1-a]"
   ]
  },
  {
   "cell_type": "code",
   "execution_count": 170,
   "metadata": {},
   "outputs": [
    {
     "data": {
      "text/plain": [
       "1×20×1 Array{Float64,3}:\n",
       "[:, :, 1] =\n",
       " 1.0  2.0  3.0  4.0  5.0  6.0  7.0  …  15.0  16.0  17.0  18.0  19.0  20.0"
      ]
     },
     "execution_count": 170,
     "metadata": {},
     "output_type": "execute_result"
    }
   ],
   "source": [
    "trace1"
   ]
  },
  {
   "cell_type": "code",
   "execution_count": 174,
   "metadata": {},
   "outputs": [
    {
     "data": {
      "text/plain": [
       "20-element Array{Float64,1}:\n",
       " -1.0e6\n",
       "  2.0\n",
       "  3.0\n",
       "  4.0\n",
       " -1.0e6\n",
       " -1.0e6\n",
       " -1.0e6\n",
       " -1.0e6\n",
       " -1.0e6\n",
       " -1.0e6\n",
       " -1.0e6\n",
       " -1.0e6\n",
       " -1.0e6\n",
       " -1.0e6\n",
       " -1.0e6\n",
       " -1.0e6\n",
       " -1.0e6\n",
       " -1.0e6\n",
       " -1.0e6\n",
       " -1.0e6"
      ]
     },
     "execution_count": 174,
     "metadata": {},
     "output_type": "execute_result"
    }
   ],
   "source": [
    "RHS[1,6,1,:]"
   ]
  },
  {
   "cell_type": "code",
   "execution_count": 37,
   "metadata": {},
   "outputs": [
    {
     "data": {
      "text/plain": [
       "1×7 Array{Float64,2}:\n",
       " 2.0  3.0  4.0  5.0  6.0  7.0  8.0"
      ]
     },
     "execution_count": 37,
     "metadata": {},
     "output_type": "execute_result"
    }
   ],
   "source": [
    "i = 2\n",
    "duration = 6\n",
    "RHS[:,end,1,i:i+duration]"
   ]
  },
  {
   "cell_type": "code",
   "execution_count": 32,
   "metadata": {},
   "outputs": [
    {
     "data": {
      "text/plain": [
       "1×20 Array{Float64,2}:\n",
       " -1.0e6  2.0  2.0  2.0  2.0  2.0  2.0  …  2.0  2.0  2.0  2.0  2.0  2.0  2.0"
      ]
     },
     "execution_count": 32,
     "metadata": {},
     "output_type": "execute_result"
    }
   ],
   "source": [
    "RHS[:,:,1,i]"
   ]
  },
  {
   "cell_type": "code",
   "execution_count": 58,
   "metadata": {},
   "outputs": [
    {
     "data": {
      "text/plain": [
       "15-element Array{Float64,1}:\n",
       " -1.0e6\n",
       " -1.0e6\n",
       " -1.0e6\n",
       " -1.1492900114485687\n",
       " -1.1492900114485687\n",
       " -1.212407114238258\n",
       " -1.212407114238258\n",
       " -0.631478841925606\n",
       " -0.631478841925606\n",
       " -0.631478841925606\n",
       " -0.631478841925606\n",
       " -0.631478841925606\n",
       " -0.631478841925606\n",
       " -0.631478841925606\n",
       " -0.631478841925606"
      ]
     },
     "execution_count": 58,
     "metadata": {},
     "output_type": "execute_result"
    }
   ],
   "source": [
    "LHS = permutedims(repeat(reshape(trace2, (size(trace2)..., 1)), 1,1,1,size(trace2)[2]), [1, 4, 3, 2])\n",
    "RHS = ones(size(LHS)) * -LARGE_NUMBER\n",
    "for i in 1:size(trace2)[2]\n",
    "    LHS[:,1:i-1,:,i]\n",
    "    RHS[:,i:end,:,i] = Alw(trace1[:,i:end,:]; pscale, scale, keepdims, distributed)\n",
    "end"
   ]
  },
  {
   "cell_type": "code",
   "execution_count": 53,
   "metadata": {},
   "outputs": [
    {
     "data": {
      "text/plain": [
       "2×15×3 Array{Float64,3}:\n",
       "[:, :, 1] =\n",
       " 0.110268  -0.570177  -0.570177  …   0.0423217   0.0423217  -0.177004\n",
       " 0.607287   0.607287  -1.42709      -0.688285   -1.78225    -0.21453\n",
       "\n",
       "[:, :, 2] =\n",
       "  0.178606  -0.719736  -0.578093  …  -0.718358  -0.608101  -0.499044\n",
       " -0.853146  -0.853146   0.735788      0.538016   1.58135   -1.01577\n",
       "\n",
       "[:, :, 3] =\n",
       "  0.206686   0.206686  -1.53311   0.12955  …   0.331363   0.331363  -0.475145\n",
       " -0.348084  -0.802872  -1.35152  -1.20997     -0.526954  -0.792873   0.694338"
      ]
     },
     "execution_count": 53,
     "metadata": {},
     "output_type": "execute_result"
    }
   ],
   "source": [
    "Maxish(Minish(cat(LHS, RHS, dims=5); dims=5, scale, keepdims=false, distributed); scale, keepdims=false, distributed, dims=4)"
   ]
  },
  {
   "cell_type": "code",
   "execution_count": 96,
   "metadata": {
    "scrolled": true
   },
   "outputs": [
    {
     "data": {
      "text/plain": [
       "2×15×3 Array{Float64,3}:\n",
       "[:, :, 1] =\n",
       " 0.0  0.0  0.0  0.0  0.0  0.0  0.0  0.0  0.0  0.0  -1.0  0.0  0.0  0.0  0.0\n",
       " 0.0  0.0  0.0  0.0  0.0  1.0  0.0  0.0  0.0  0.0   0.0  0.0  0.0  0.0  0.0\n",
       "\n",
       "[:, :, 2] =\n",
       " 0.0  0.0  0.0  0.0  0.0  0.0  -1.0  0.0  0.0  0.0  0.0  0.0  0.0  0.0  0.0\n",
       " 0.0  0.0  1.0  0.0  0.0  0.0   0.0  0.0  0.0  0.0  0.0  0.0  0.0  0.0  0.0\n",
       "\n",
       "[:, :, 3] =\n",
       " 0.0  0.0  0.0  0.0  0.0  0.0  0.0  0.0  0.0  0.0  0.0   0.0  0.0  1.0  0.0\n",
       " 0.0  0.0  0.0  0.0  0.0  0.0  0.0  0.0  0.0  0.0  0.0  -1.0  0.0  0.0  0.0"
      ]
     },
     "execution_count": 96,
     "metadata": {},
     "output_type": "execute_result"
    }
   ],
   "source": [
    "vcat(STLCG.gradient(x -> sum(op((x,x); distributed=true)), x)...)"
   ]
  },
  {
   "cell_type": "code",
   "execution_count": 99,
   "metadata": {},
   "outputs": [
    {
     "data": {
      "text/plain": [
       "15×4 LinearAlgebra.Adjoint{Float64,Array{Float64,2}}:\n",
       " -0.0  -0.0  0.0  0.0\n",
       " -0.0  -0.0  0.0  0.0\n",
       " -0.0  -0.0  0.0  0.0\n",
       " -0.0  -0.0  0.0  0.0\n",
       " -0.0  -0.0  0.0  0.0\n",
       " -0.0  -0.0  0.0  0.0\n",
       " -0.0  -0.0  0.0  0.0\n",
       " -0.0  -0.0  0.0  1.0\n",
       " -0.0  -0.0  0.0  0.0\n",
       " -0.0  -0.0  0.0  0.0\n",
       " -0.0  -0.0  0.0  0.0\n",
       " -0.0  -0.0  1.0  0.0\n",
       " -0.0  -0.0  0.0  0.0\n",
       " -0.0  -0.0  0.0  0.0\n",
       " -0.0  -0.0  0.0  0.0"
      ]
     },
     "execution_count": 99,
     "metadata": {},
     "output_type": "execute_result"
    }
   ],
   "source": [
    "vcat(STLCG.gradient((x, y) -> sum(STLCG.robustness_trace(op, (x,y); distributed=true)), x,y)...)[:,:,1]'"
   ]
  },
  {
   "cell_type": "code",
   "execution_count": 9,
   "metadata": {},
   "outputs": [
    {
     "data": {
      "text/plain": [
       "2×15×3 Array{Float64,3}:\n",
       "[:, :, 1] =\n",
       " 0.0  0.0  0.0  0.0  0.0  1.0  0.0  0.0  0.0  0.0  0.0  0.0  0.0  0.0  0.0\n",
       " 0.0  0.0  0.0  1.0  0.0  0.0  0.0  0.0  0.0  0.0  0.0  0.0  0.0  0.0  0.0\n",
       "\n",
       "[:, :, 2] =\n",
       " 0.0  0.0  0.0  0.0  0.0  0.0  0.0  0.0  0.0  1.0  0.0  0.0  0.0  0.0  0.0\n",
       " 0.0  0.0  1.0  0.0  0.0  0.0  0.0  0.0  0.0  0.0  0.0  0.0  0.0  0.0  0.0\n",
       "\n",
       "[:, :, 3] =\n",
       " 1.0  0.0  0.0  0.0  0.0  0.0  0.0  0.0  0.0  0.0  0.0  0.0  0.0  0.0  0.0\n",
       " 0.0  0.0  1.0  0.0  0.0  0.0  0.0  0.0  0.0  0.0  0.0  0.0  0.0  0.0  0.0"
      ]
     },
     "execution_count": 9,
     "metadata": {},
     "output_type": "execute_result"
    }
   ],
   "source": [
    "vcat(STLCG.gradient(x -> sum(STLCG.run_rnn_cell(op, x, x, scale=0)[1][:,end,:]), x)...)"
   ]
  },
  {
   "cell_type": "code",
   "execution_count": 103,
   "metadata": {},
   "outputs": [
    {
     "data": {
      "text/plain": [
       "Always\n",
       "  subformula: Always\n",
       "  interval: Array{Int64}((2,)) [2, 4]\n",
       "  _interval: Array{Int64}((2,)) [2, 4]\n",
       "  rnn_dim: Int8 4\n",
       "  steps: Int8 5\n",
       "  operation: Minish (function of type typeof(Minish))\n",
       "  M: Array{Float64}((4, 4)) [0.0 1.0 0.0 0.0; 0.0 0.0 1.0 0.0; 0.0 0.0 0.0 1.0; 0.0 0.0 0.0 0.0]\n",
       "  b: Array{Float64}((4,)) [0.0, 0.0, 0.0, 1.0]\n"
      ]
     },
     "execution_count": 103,
     "metadata": {},
     "output_type": "execute_result"
    }
   ],
   "source": [
    "□ϕ = STLCG.□(op, interval=[2,4])"
   ]
  },
  {
   "cell_type": "code",
   "execution_count": 141,
   "metadata": {},
   "outputs": [
    {
     "ename": "LoadError",
     "evalue": "MethodError: no method matching robustness_trace(::Always, ::Array{Float64,3}; keepdims=true, dims=4, distributed=false, scale=0, pscale=1)\nClosest candidates are:\n  robustness_trace(!Matched::STLCG.Or, ::Any; dims, pscale, scale, keepdims, distributed) at In[54]:44\n  robustness_trace(!Matched::STLCG.LessThan, ::Any; pscale, kwargs...) at In[54]:2\n  robustness_trace(!Matched::STLCG.Implies, ::Any; pscale, scale, keepdims, distributed) at In[54]:7 got unsupported keyword argument \"dims\"\n  ...",
     "output_type": "error",
     "traceback": [
      "MethodError: no method matching robustness_trace(::Always, ::Array{Float64,3}; keepdims=true, dims=4, distributed=false, scale=0, pscale=1)\nClosest candidates are:\n  robustness_trace(!Matched::STLCG.Or, ::Any; dims, pscale, scale, keepdims, distributed) at In[54]:44\n  robustness_trace(!Matched::STLCG.LessThan, ::Any; pscale, kwargs...) at In[54]:2\n  robustness_trace(!Matched::STLCG.Implies, ::Any; pscale, scale, keepdims, distributed) at In[54]:7 got unsupported keyword argument \"dims\"\n  ...",
      "",
      "Stacktrace:",
      " [1] top-level scope at In[141]:1",
      " [2] include_string(::Function, ::Module, ::String, ::String) at ./loading.jl:1091"
     ]
    }
   ],
   "source": [
    "robustness_trace(□ϕ, x; args...)"
   ]
  },
  {
   "cell_type": "code",
   "execution_count": null,
   "metadata": {},
   "outputs": [],
   "source": [
    "STLCG.gradient(x -> sum(STLCG.rnn_cell(op, x, h0; scale, distributed)[2][1][2]), xs[1]) # <--- works"
   ]
  },
  {
   "cell_type": "code",
   "execution_count": 4,
   "metadata": {},
   "outputs": [
    {
     "data": {
      "text/plain": [
       "STLCG.Or\n",
       "  subformula1: STLCG.And\n",
       "  subformula2: STLCG.LessThan\n",
       "  operation: Maxish (function of type typeof(Maxish))\n"
      ]
     },
     "execution_count": 4,
     "metadata": {},
     "output_type": "execute_result"
    }
   ],
   "source": [
    "ϕ = STLCG.LessThan(:x, 5)\n",
    "ψ = STLCG.GreaterThan(:x, -3)\n",
    "op = STLCG.Or(subformula1=STLCG.And(subformula1=ϕ, subformula2=ψ), subformula2=ϕ)"
   ]
  },
  {
   "cell_type": "code",
   "execution_count": 191,
   "metadata": {},
   "outputs": [],
   "source": [
    "(f::STLCG.Formula)(x::Array{Float64}; kwargs...) = robustness_trace(f, x; kwargs...)"
   ]
  },
  {
   "cell_type": "code",
   "execution_count": 192,
   "metadata": {},
   "outputs": [
    {
     "data": {
      "text/plain": [
       "2×15×3 Array{Float64,3}:\n",
       "[:, :, 1] =\n",
       " 4.33878  4.55352  4.0096   4.28465  …  4.87325  4.24155  4.18938  4.36833\n",
       " 4.35477  4.20984  4.53724  4.8834      4.25997  4.16101  4.62856  4.13871\n",
       "\n",
       "[:, :, 2] =\n",
       " 4.19292  4.05989  4.26052  4.3984   …  4.02068  4.74747  4.05824  4.06667\n",
       " 4.13728  4.53258  4.77843  4.72391     4.18943  4.02867  4.20342  4.66529\n",
       "\n",
       "[:, :, 3] =\n",
       " 4.47263  4.89431  4.49562  4.28735  …  4.9606   4.3826   4.59063  4.70413\n",
       " 4.29403  4.08497  4.01783  4.86847     4.10466  4.29218  4.78882  4.30469"
      ]
     },
     "execution_count": 192,
     "metadata": {},
     "output_type": "execute_result"
    }
   ],
   "source": [
    "ϕ(x)"
   ]
  },
  {
   "cell_type": "code",
   "execution_count": 147,
   "metadata": {},
   "outputs": [],
   "source": [
    "struct Predicate\n",
    "    x::Symbol\n",
    "end"
   ]
  },
  {
   "cell_type": "code",
   "execution_count": 157,
   "metadata": {},
   "outputs": [],
   "source": [
    "(p::Primitive)(x::Int) = (2*x, p.x)\n",
    "(p::Primitive)(x::Real) = 3*x"
   ]
  },
  {
   "cell_type": "code",
   "execution_count": 158,
   "metadata": {},
   "outputs": [
    {
     "data": {
      "text/plain": [
       "Primitive(:asadsadsa)"
      ]
     },
     "execution_count": 158,
     "metadata": {},
     "output_type": "execute_result"
    }
   ],
   "source": [
    "a = Primitive(:asadsadsa)"
   ]
  },
  {
   "cell_type": "code",
   "execution_count": 159,
   "metadata": {},
   "outputs": [
    {
     "data": {
      "text/plain": [
       "((2, :asadsadsa), 3.0)"
      ]
     },
     "execution_count": 159,
     "metadata": {},
     "output_type": "execute_result"
    }
   ],
   "source": [
    "a(1), a(1.)"
   ]
  },
  {
   "cell_type": "code",
   "execution_count": 148,
   "metadata": {},
   "outputs": [
    {
     "data": {
      "text/plain": [
       "Primitive(:x)"
      ]
     },
     "execution_count": 148,
     "metadata": {},
     "output_type": "execute_result"
    }
   ],
   "source": [
    "Primitive(:x) < 5"
   ]
  },
  {
   "cell_type": "code",
   "execution_count": 172,
   "metadata": {},
   "outputs": [
    {
     "data": {
      "text/plain": [
       "false"
      ]
     },
     "execution_count": 172,
     "metadata": {},
     "output_type": "execute_result"
    }
   ],
   "source": [
    "Primitive(:a) > Primitive(:b)"
   ]
  },
  {
   "cell_type": "code",
   "execution_count": 170,
   "metadata": {},
   "outputs": [],
   "source": [
    "(Base.:(<))(a::Symbol, b::Primitive) = a.x < b.x"
   ]
  },
  {
   "cell_type": "code",
   "execution_count": 75,
   "metadata": {},
   "outputs": [
    {
     "data": {
      "text/plain": [
       "< (generic function with 1 method)"
      ]
     },
     "execution_count": 75,
     "metadata": {},
     "output_type": "execute_result"
    }
   ],
   "source": [
    "function <(a,b)\n",
    "    a < b\n",
    "end"
   ]
  },
  {
   "cell_type": "code",
   "execution_count": 78,
   "metadata": {},
   "outputs": [
    {
     "ename": "LoadError",
     "evalue": "syntax: \"<\" is not a unary operator",
     "output_type": "error",
     "traceback": [
      "syntax: \"<\" is not a unary operator",
      "",
      "Stacktrace:",
      " [1] top-level scope at In[78]:1",
      " [2] include_string(::Function, ::Module, ::String, ::String) at ./loading.jl:1091",
      " [3] execute_code(::String, ::String) at /Users/karenleung/.julia/packages/IJulia/rWZ9e/src/execute_request.jl:27",
      " [4] execute_request(::ZMQ.Socket, ::IJulia.Msg) at /Users/karenleung/.julia/packages/IJulia/rWZ9e/src/execute_request.jl:86",
      " [5] #invokelatest#1 at ./essentials.jl:710 [inlined]",
      " [6] invokelatest at ./essentials.jl:709 [inlined]",
      " [7] eventloop(::ZMQ.Socket) at /Users/karenleung/.julia/packages/IJulia/rWZ9e/src/eventloop.jl:8",
      " [8] (::IJulia.var\"#15#18\")() at ./task.jl:356"
     ]
    }
   ],
   "source": [
    "< |> methods"
   ]
  },
  {
   "cell_type": "code",
   "execution_count": null,
   "metadata": {},
   "outputs": [],
   "source": []
  }
 ],
 "metadata": {
  "@webio": {
   "lastCommId": null,
   "lastKernelId": null
  },
  "kernelspec": {
   "display_name": "Julia 1.5.2",
   "language": "julia",
   "name": "julia-1.5"
  },
  "language_info": {
   "file_extension": ".jl",
   "mimetype": "application/julia",
   "name": "julia",
   "version": "1.5.2"
  }
 },
 "nbformat": 4,
 "nbformat_minor": 4
}
