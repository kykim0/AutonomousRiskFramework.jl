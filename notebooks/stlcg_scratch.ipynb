{
 "cells": [
  {
   "cell_type": "code",
   "execution_count": 1,
   "metadata": {},
   "outputs": [
    {
     "name": "stderr",
     "output_type": "stream",
     "text": [
      "\u001b[32m\u001b[1m Activating\u001b[22m\u001b[39m environment at `~/projects/AutonomousRiskFramework/STLCG.jl/Project.toml`\n"
     ]
    }
   ],
   "source": [
    "using Pkg\n",
    "Pkg.activate(\"/home/karen/projects/AutonomousRiskFramework/STLCG.jl/.\")"
   ]
  },
  {
   "cell_type": "code",
   "execution_count": 2,
   "metadata": {},
   "outputs": [
    {
     "name": "stderr",
     "output_type": "stream",
     "text": [
      "┌ Info: Precompiling Revise [295af30f-e4ad-537b-8983-00126c2a3abe]\n",
      "└ @ Base loading.jl:1278\n",
      "┌ Info: Precompiling STLCG [6ababdf7-4701-4f28-b3b2-5630f64e3c98]\n",
      "└ @ Base loading.jl:1278\n",
      "WARNING: Method definition collapse_nothings(AbstractArray{Nothing, N} where N) in module Zygote at /home/karen/.julia/packages/Zygote/dl6QE/src/lib/broadcast.jl:131 overwritten in module STLCG at /home/karen/projects/AutonomousRiskFramework/STLCG.jl/src/STLCG.jl:37.\n",
      "  ** incremental compilation may be fatally broken for this module **\n",
      "\n"
     ]
    }
   ],
   "source": [
    "using Revise\n",
    "using STLCG\n",
    "using EllipsisNotation\n"
   ]
  },
  {
   "cell_type": "code",
   "execution_count": 3,
   "metadata": {},
   "outputs": [
    {
     "data": {
      "text/plain": [
       "true"
      ]
     },
     "execution_count": 3,
     "metadata": {},
     "output_type": "execute_result"
    }
   ],
   "source": [
    "bs = 2\n",
    "t = 15\n",
    "x_dim = 3\n",
    "dim = 2\n",
    "x = rand(bs, t, x_dim);\n",
    "xs = [x[:,i:i,..] for i in 1:t];\n",
    "\n",
    "\n",
    "op = Always(subformula=x, interval=[5, Inf])\n",
    "h0 = STLCG.init_rnn_cell!(op, x)\n",
    "scale = 0\n",
    "distributed = true\n",
    "\n",
    "# rnn_cell(op, xs[1], op.h0; scale, distributed)\n",
    "# STLCG.gradient(x -> sum(STLCG.rnn_cell(op, x, h0; scale, distributed)[1]), xs[1]) # <---- doesn't work\n",
    "# STLCG.gradient(x -> sum(STLCG.rnn_cell(op, x, h0; scale, distributed)[2][1][2]), xs[1]) # <--- works"
   ]
  },
  {
   "cell_type": "code",
   "execution_count": 7,
   "metadata": {},
   "outputs": [
    {
     "data": {
      "text/plain": [
       "(nothing,)"
      ]
     },
     "execution_count": 7,
     "metadata": {},
     "output_type": "execute_result"
    }
   ],
   "source": [
    "STLCG.gradient(x -> sum(STLCG.rnn_cell(op, x, h0; scale, distributed)[1]), xs[1]) # <---- doesn't work\n"
   ]
  },
  {
   "cell_type": "code",
   "execution_count": 8,
   "metadata": {},
   "outputs": [
    {
     "data": {
      "text/plain": [
       "(2×1×3 Fill{Float64}: entries equal to 1.0,)"
      ]
     },
     "execution_count": 8,
     "metadata": {},
     "output_type": "execute_result"
    }
   ],
   "source": [
    "STLCG.gradient(x -> sum(STLCG.rnn_cell(op, x, h0; scale, distributed)[2][1][2]), xs[1]) # <--- works"
   ]
  },
  {
   "cell_type": "code",
   "execution_count": 9,
   "metadata": {},
   "outputs": [
    {
     "data": {
      "text/plain": [
       "2×15×3 Array{Float64,3}:\n",
       "[:, :, 1] =\n",
       " 0.0  0.0  0.0  0.0  0.0  1.0  0.0  0.0  0.0  0.0  0.0  0.0  0.0  0.0  0.0\n",
       " 0.0  0.0  0.0  1.0  0.0  0.0  0.0  0.0  0.0  0.0  0.0  0.0  0.0  0.0  0.0\n",
       "\n",
       "[:, :, 2] =\n",
       " 0.0  0.0  0.0  0.0  0.0  0.0  0.0  0.0  0.0  1.0  0.0  0.0  0.0  0.0  0.0\n",
       " 0.0  0.0  1.0  0.0  0.0  0.0  0.0  0.0  0.0  0.0  0.0  0.0  0.0  0.0  0.0\n",
       "\n",
       "[:, :, 3] =\n",
       " 1.0  0.0  0.0  0.0  0.0  0.0  0.0  0.0  0.0  0.0  0.0  0.0  0.0  0.0  0.0\n",
       " 0.0  0.0  1.0  0.0  0.0  0.0  0.0  0.0  0.0  0.0  0.0  0.0  0.0  0.0  0.0"
      ]
     },
     "execution_count": 9,
     "metadata": {},
     "output_type": "execute_result"
    }
   ],
   "source": [
    "vcat(STLCG.gradient(x -> sum(STLCG.run_rnn_cell(op, x, x, scale=0)[1][:,end,:]), x)...)"
   ]
  },
  {
   "cell_type": "code",
   "execution_count": 60,
   "metadata": {},
   "outputs": [
    {
     "data": {
      "text/plain": [
       "next_function (generic function with 4 methods)"
      ]
     },
     "execution_count": 60,
     "metadata": {},
     "output_type": "execute_result"
    }
   ],
   "source": [
    "\n",
    "next_function(formula::STLCG.TemporalFormula) = [formula.subformula]\n",
    "next_function(formula::Union{STLCG.LessThan, STLCG.GreaterThan, STLCG.Equal}) = [formula.lhs, formula.rhs]\n",
    "next_function(formula::STLCG.Negation) = [formula.subformula]\n",
    "next_function(formula::Union{STLCG.Implies, STLCG.And, STLCG.Or, STLCG.Until, STLCG.Then}) = [formula.subformula1, formula.subformula2]\n"
   ]
  },
  {
   "cell_type": "code",
   "execution_count": 5,
   "metadata": {},
   "outputs": [
    {
     "data": {
      "text/plain": [
       "Dict{Symbol,Integer} with 5 entries:\n",
       "  :keepdims    => true\n",
       "  :dims        => 4\n",
       "  :distributed => false\n",
       "  :scale       => 0\n",
       "  :pscale      => 1"
      ]
     },
     "execution_count": 5,
     "metadata": {},
     "output_type": "execute_result"
    }
   ],
   "source": [
    "args = Dict(:dims=>4, :pscale=>1, :scale=>0, :keepdims=>true, :distributed=>false)"
   ]
  },
  {
   "cell_type": "code",
   "execution_count": 138,
   "metadata": {},
   "outputs": [
    {
     "data": {
      "text/plain": [
       "STLCG.Negation(STLCG.LessThan(:x, 5))"
      ]
     },
     "execution_count": 138,
     "metadata": {},
     "output_type": "execute_result"
    }
   ],
   "source": [
    "not_ϕ = STLCG.Negation(ϕ)"
   ]
  },
  {
   "cell_type": "code",
   "execution_count": 139,
   "metadata": {},
   "outputs": [
    {
     "data": {
      "text/plain": [
       "2×15×3 Array{Float64,3}:\n",
       "[:, :, 1] =\n",
       " 4.33878  4.55352  4.0096   4.28465  …  4.87325  4.24155  4.18938  4.36833\n",
       " 4.35477  4.20984  4.53724  4.8834      4.25997  4.16101  4.62856  4.13871\n",
       "\n",
       "[:, :, 2] =\n",
       " 4.19292  4.05989  4.26052  4.3984   …  4.02068  4.74747  4.05824  4.06667\n",
       " 4.13728  4.53258  4.77843  4.72391     4.18943  4.02867  4.20342  4.66529\n",
       "\n",
       "[:, :, 3] =\n",
       " 4.47263  4.89431  4.49562  4.28735  …  4.9606   4.3826   4.59063  4.70413\n",
       " 4.29403  4.08497  4.01783  4.86847     4.10466  4.29218  4.78882  4.30469"
      ]
     },
     "execution_count": 139,
     "metadata": {},
     "output_type": "execute_result"
    }
   ],
   "source": [
    "robustness_trace(ϕ, x; args...)"
   ]
  },
  {
   "cell_type": "code",
   "execution_count": 140,
   "metadata": {},
   "outputs": [
    {
     "data": {
      "text/plain": [
       "Always\n",
       "  subformula: STLCG.LessThan\n",
       "  interval: Array{Int64}((2,)) [2, 4]\n",
       "  _interval: Array{Int64}((2,)) [2, 4]\n",
       "  rnn_dim: Int8 4\n",
       "  steps: Int8 5\n",
       "  operation: Minish (function of type typeof(Minish))\n",
       "  M: Array{Float64}((4, 4)) [0.0 1.0 0.0 0.0; 0.0 0.0 1.0 0.0; 0.0 0.0 0.0 1.0; 0.0 0.0 0.0 0.0]\n",
       "  b: Array{Float64}((4,)) [0.0, 0.0, 0.0, 1.0]\n"
      ]
     },
     "execution_count": 140,
     "metadata": {},
     "output_type": "execute_result"
    }
   ],
   "source": [
    "□ϕ = □(ϕ, interval=[2,4])"
   ]
  },
  {
   "cell_type": "code",
   "execution_count": 141,
   "metadata": {},
   "outputs": [
    {
     "ename": "LoadError",
     "evalue": "MethodError: no method matching robustness_trace(::Always, ::Array{Float64,3}; keepdims=true, dims=4, distributed=false, scale=0, pscale=1)\nClosest candidates are:\n  robustness_trace(!Matched::STLCG.Or, ::Any; dims, pscale, scale, keepdims, distributed) at In[54]:44\n  robustness_trace(!Matched::STLCG.LessThan, ::Any; pscale, kwargs...) at In[54]:2\n  robustness_trace(!Matched::STLCG.Implies, ::Any; pscale, scale, keepdims, distributed) at In[54]:7 got unsupported keyword argument \"dims\"\n  ...",
     "output_type": "error",
     "traceback": [
      "MethodError: no method matching robustness_trace(::Always, ::Array{Float64,3}; keepdims=true, dims=4, distributed=false, scale=0, pscale=1)\nClosest candidates are:\n  robustness_trace(!Matched::STLCG.Or, ::Any; dims, pscale, scale, keepdims, distributed) at In[54]:44\n  robustness_trace(!Matched::STLCG.LessThan, ::Any; pscale, kwargs...) at In[54]:2\n  robustness_trace(!Matched::STLCG.Implies, ::Any; pscale, scale, keepdims, distributed) at In[54]:7 got unsupported keyword argument \"dims\"\n  ...",
      "",
      "Stacktrace:",
      " [1] top-level scope at In[141]:1",
      " [2] include_string(::Function, ::Module, ::String, ::String) at ./loading.jl:1091"
     ]
    }
   ],
   "source": [
    "robustness_trace(□ϕ, x; args...)"
   ]
  },
  {
   "cell_type": "code",
   "execution_count": null,
   "metadata": {},
   "outputs": [],
   "source": [
    "STLCG.gradient(x -> sum(STLCG.rnn_cell(op, x, h0; scale, distributed)[2][1][2]), xs[1]) # <--- works"
   ]
  },
  {
   "cell_type": "code",
   "execution_count": 4,
   "metadata": {},
   "outputs": [
    {
     "data": {
      "text/plain": [
       "STLCG.Or\n",
       "  subformula1: STLCG.And\n",
       "  subformula2: STLCG.LessThan\n",
       "  operation: Maxish (function of type typeof(Maxish))\n"
      ]
     },
     "execution_count": 4,
     "metadata": {},
     "output_type": "execute_result"
    }
   ],
   "source": [
    "ϕ = STLCG.LessThan(:x, 5)\n",
    "ψ = STLCG.GreaterThan(:x, -3)\n",
    "op = STLCG.Or(subformula1=STLCG.And(subformula1=ϕ, subformula2=ψ), subformula2=ϕ)"
   ]
  },
  {
   "cell_type": "code",
   "execution_count": 191,
   "metadata": {},
   "outputs": [],
   "source": [
    "(f::STLCG.Formula)(x::Array{Float64}; kwargs...) = robustness_trace(f, x; kwargs...)"
   ]
  },
  {
   "cell_type": "code",
   "execution_count": 192,
   "metadata": {},
   "outputs": [
    {
     "data": {
      "text/plain": [
       "2×15×3 Array{Float64,3}:\n",
       "[:, :, 1] =\n",
       " 4.33878  4.55352  4.0096   4.28465  …  4.87325  4.24155  4.18938  4.36833\n",
       " 4.35477  4.20984  4.53724  4.8834      4.25997  4.16101  4.62856  4.13871\n",
       "\n",
       "[:, :, 2] =\n",
       " 4.19292  4.05989  4.26052  4.3984   …  4.02068  4.74747  4.05824  4.06667\n",
       " 4.13728  4.53258  4.77843  4.72391     4.18943  4.02867  4.20342  4.66529\n",
       "\n",
       "[:, :, 3] =\n",
       " 4.47263  4.89431  4.49562  4.28735  …  4.9606   4.3826   4.59063  4.70413\n",
       " 4.29403  4.08497  4.01783  4.86847     4.10466  4.29218  4.78882  4.30469"
      ]
     },
     "execution_count": 192,
     "metadata": {},
     "output_type": "execute_result"
    }
   ],
   "source": [
    "ϕ(x)"
   ]
  },
  {
   "cell_type": "code",
   "execution_count": 147,
   "metadata": {},
   "outputs": [],
   "source": [
    "struct Predicate\n",
    "    x::Symbol\n",
    "end"
   ]
  },
  {
   "cell_type": "code",
   "execution_count": 157,
   "metadata": {},
   "outputs": [],
   "source": [
    "(p::Primitive)(x::Int) = (2*x, p.x)\n",
    "(p::Primitive)(x::Real) = 3*x"
   ]
  },
  {
   "cell_type": "code",
   "execution_count": 158,
   "metadata": {},
   "outputs": [
    {
     "data": {
      "text/plain": [
       "Primitive(:asadsadsa)"
      ]
     },
     "execution_count": 158,
     "metadata": {},
     "output_type": "execute_result"
    }
   ],
   "source": [
    "a = Primitive(:asadsadsa)"
   ]
  },
  {
   "cell_type": "code",
   "execution_count": 159,
   "metadata": {},
   "outputs": [
    {
     "data": {
      "text/plain": [
       "((2, :asadsadsa), 3.0)"
      ]
     },
     "execution_count": 159,
     "metadata": {},
     "output_type": "execute_result"
    }
   ],
   "source": [
    "a(1), a(1.)"
   ]
  },
  {
   "cell_type": "code",
   "execution_count": 148,
   "metadata": {},
   "outputs": [
    {
     "data": {
      "text/plain": [
       "Primitive(:x)"
      ]
     },
     "execution_count": 148,
     "metadata": {},
     "output_type": "execute_result"
    }
   ],
   "source": [
    "Primitive(:x) < 5"
   ]
  },
  {
   "cell_type": "code",
   "execution_count": 172,
   "metadata": {},
   "outputs": [
    {
     "data": {
      "text/plain": [
       "false"
      ]
     },
     "execution_count": 172,
     "metadata": {},
     "output_type": "execute_result"
    }
   ],
   "source": [
    "Primitive(:a) > Primitive(:b)"
   ]
  },
  {
   "cell_type": "code",
   "execution_count": 170,
   "metadata": {},
   "outputs": [],
   "source": [
    "(Base.:(<))(a::Primitive, b::Primitive) = a.x < b.x"
   ]
  },
  {
   "cell_type": "code",
   "execution_count": null,
   "metadata": {},
   "outputs": [],
   "source": []
  }
 ],
 "metadata": {
  "@webio": {
   "lastCommId": null,
   "lastKernelId": null
  },
  "kernelspec": {
   "display_name": "Julia 1.5.2",
   "language": "julia",
   "name": "julia-1.5"
  },
  "language_info": {
   "file_extension": ".jl",
   "mimetype": "application/julia",
   "name": "julia",
   "version": "1.5.2"
  }
 },
 "nbformat": 4,
 "nbformat_minor": 4
}
