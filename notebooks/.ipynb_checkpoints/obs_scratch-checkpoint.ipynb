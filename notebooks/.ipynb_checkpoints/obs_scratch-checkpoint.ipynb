{
 "cells": [
  {
   "cell_type": "code",
   "execution_count": 1,
   "metadata": {},
   "outputs": [
    {
     "data": {
      "text/html": [
       "<script>\n",
       "// Immediately-invoked-function-expression to avoid global variables.\n",
       "(function() {\n",
       "    var warning_div = document.getElementById(\"webio-warning-26143190314407126\");\n",
       "    var hide = function () {\n",
       "        var script = document.getElementById(\"webio-setup-14281844464626079828\");\n",
       "        var parent = script && script.parentElement;\n",
       "        var grandparent = parent && parent.parentElement;\n",
       "        if (grandparent) {\n",
       "            grandparent.style.display = \"none\";\n",
       "        }\n",
       "        warning_div.style.display = \"none\";\n",
       "    };\n",
       "    if (typeof Jupyter !== \"undefined\") {\n",
       "        console.log(\"WebIO detected Jupyter notebook environment.\");\n",
       "        // Jupyter notebook.\n",
       "        var extensions = (\n",
       "            Jupyter\n",
       "            && Jupyter.notebook.config.data\n",
       "            && Jupyter.notebook.config.data.load_extensions\n",
       "        );\n",
       "        if (extensions && extensions[\"webio-jupyter-notebook\"]) {\n",
       "            // Extension already loaded.\n",
       "            console.log(\"Jupyter WebIO nbextension detected; not loading ad-hoc.\");\n",
       "            hide();\n",
       "            return;\n",
       "        }\n",
       "    } else if (window.location.pathname.includes(\"/lab\")) {\n",
       "        // Guessing JupyterLa\n",
       "        console.log(\"Jupyter Lab detected; make sure the @webio/jupyter-lab-provider labextension is installed.\");\n",
       "        hide();\n",
       "        return;\n",
       "    }\n",
       "})();\n",
       "\n",
       "</script>\n",
       "<p\n",
       "    id=\"webio-warning-26143190314407126\"\n",
       "    class=\"output_text output_stderr\"\n",
       "    style=\"padding: 1em; font-weight: bold;\"\n",
       ">\n",
       "    Unable to load WebIO. Please make sure WebIO works for your Jupyter client.\n",
       "    For troubleshooting, please see <a href=\"https://juliagizmos.github.io/WebIO.jl/latest/providers/ijulia/\">\n",
       "    the WebIO/IJulia documentation</a>.\n",
       "    <!-- TODO: link to installation docs. -->\n",
       "</p>\n"
      ],
      "text/plain": [
       "HTML{String}(\"<script>\\n// Immediately-invoked-function-expression to avoid global variables.\\n(function() {\\n    var warning_div = document.getElementById(\\\"webio-warning-26143190314407126\\\");\\n    var hide = function () {\\n        var script = document.getElementById(\\\"webio-setup-14281844464626079828\\\");\\n        var parent = script && script.parentElement;\\n        var grandparent = parent && parent.parentElement;\\n        if (grandparent) {\\n            grandparent.style.display = \\\"none\\\";\\n        }\\n        warning_div.style.display = \\\"none\\\";\\n    };\\n    if (typeof Jupyter !== \\\"undefined\\\") {\\n        console.log(\\\"WebIO detected Jupyter notebook environment.\\\");\\n        // Jupyter notebook.\\n        var extensions = (\\n            Jupyter\\n            && Jupyter.notebook.config.data\\n            && Jupyter.notebook.config.data.load_extensions\\n        );\\n        if (extensions && extensions[\\\"webio-jupyter-notebook\\\"]) {\\n            // Extension already loaded.\\n            console.log(\\\"Jupyter WebIO nbextension detected; not loading ad-hoc.\\\");\\n            hide();\\n            return;\\n        }\\n    } else if (window.location.pathname.includes(\\\"/lab\\\")) {\\n        // Guessing JupyterLa\\n        console.log(\\\"Jupyter Lab detected; make sure the @webio/jupyter-lab-provider labextension is installed.\\\");\\n        hide();\\n        return;\\n    }\\n})();\\n\\n</script>\\n<p\\n    id=\\\"webio-warning-26143190314407126\\\"\\n    class=\\\"output_text output_stderr\\\"\\n    style=\\\"padding: 1em; font-weight: bold;\\\"\\n>\\n    Unable to load WebIO. Please make sure WebIO works for your Jupyter client.\\n    For troubleshooting, please see <a href=\\\"https://juliagizmos.github.io/WebIO.jl/latest/providers/ijulia/\\\">\\n    the WebIO/IJulia documentation</a>.\\n    <!-- TODO: link to installation docs. -->\\n</p>\\n\")"
      ]
     },
     "metadata": {},
     "output_type": "display_data"
    }
   ],
   "source": [
    "using Markdown\n",
    "using InteractiveUtils\n",
    "using Interact"
   ]
  },
  {
   "cell_type": "code",
   "execution_count": 2,
   "metadata": {},
   "outputs": [],
   "source": [
    "using LinearAlgebra"
   ]
  },
  {
   "cell_type": "code",
   "execution_count": 3,
   "metadata": {},
   "outputs": [],
   "source": [
    "using Revise"
   ]
  },
  {
   "cell_type": "code",
   "execution_count": 4,
   "metadata": {},
   "outputs": [],
   "source": [
    "# using Pkg\n",
    "# Pkg.develop(PackageSpec(url=\"/home/users/shubhgup/Codes/julia_learn/scripts/AutonomousRiskFramework/AdversarialDriving.jl\"))\n",
    "# Pkg.develop(PackageSpec(url=\"/home/users/shubhgup/Codes/julia_learn/scripts/AutonomousRiskFramework/RiskSimulator.jl\"))\n",
    "# Pkg.develop(PackageSpec(url=\"/home/users/shubhgup/Codes/julia_learn/scripts/AutonomousRiskFramework/STLCG.jl\"))"
   ]
  },
  {
   "cell_type": "code",
   "execution_count": 5,
   "metadata": {},
   "outputs": [],
   "source": [
    "# using WebIO\n",
    "# WebIO.install_jupyter_nbextension()"
   ]
  },
  {
   "cell_type": "code",
   "execution_count": 6,
   "metadata": {},
   "outputs": [],
   "source": [
    "using Distributions, Parameters, Random, Latexify, PlutoUI"
   ]
  },
  {
   "cell_type": "code",
   "execution_count": 7,
   "metadata": {},
   "outputs": [],
   "source": [
    "using AutomotiveSimulator, AutomotiveVisualization"
   ]
  },
  {
   "cell_type": "code",
   "execution_count": 8,
   "metadata": {},
   "outputs": [
    {
     "name": "stderr",
     "output_type": "stream",
     "text": [
      "┌ Info: Precompiling AdversarialDriving [0f7eb3e9-d51f-47f4-b915-6157e1c8ce29]\n",
      "└ @ Base loading.jl:1278\n"
     ]
    }
   ],
   "source": [
    "using AdversarialDriving"
   ]
  },
  {
   "cell_type": "code",
   "execution_count": 9,
   "metadata": {},
   "outputs": [],
   "source": [
    "using POMDPs, POMDPPolicies, POMDPSimulators"
   ]
  },
  {
   "cell_type": "code",
   "execution_count": 10,
   "metadata": {},
   "outputs": [],
   "source": [
    "using POMDPStressTesting"
   ]
  },
  {
   "cell_type": "code",
   "execution_count": 11,
   "metadata": {},
   "outputs": [],
   "source": [
    "Base.rand(rng::AbstractRNG, s::Scene) = s"
   ]
  },
  {
   "cell_type": "markdown",
   "metadata": {},
   "source": [
    "### Function Definitions"
   ]
  },
  {
   "cell_type": "code",
   "execution_count": 12,
   "metadata": {},
   "outputs": [],
   "source": [
    "# # The function that propagates the PedestrianControl action\n",
    "# function AdversarialDriving.propagate(ped::Entity{NoisyPedState, D, I}, action::PedestrianControl, roadway::Roadway, Δt::Float64) where {D, I}\n",
    "#     starting_lane = laneid(ped)\n",
    "#     vs_entity = Entity(ped.state.veh_state, ped.def, ped.id)\n",
    "#     a_lat_lon = reverse(action.a + action.da)\n",
    "#     vs = propagate(vs_entity, LatLonAccel(a_lat_lon...), roadway, Δt)\n",
    "#     upd_noise = Noise((ped.state.noise.pos[1] + action.noise.pos[1] + action.noise.vel*Δt, action.noise.pos[2]), action.noise.vel)\n",
    "#     nps = NoisyPedState(AdversarialDriving.set_lane(vs, laneid(ped), roadway), upd_noise)\n",
    "#     @assert starting_lane == laneid(nps)\n",
    "#     nps\n",
    "# end"
   ]
  },
  {
   "cell_type": "code",
   "execution_count": 13,
   "metadata": {},
   "outputs": [],
   "source": [
    "# # The function to get GPS measurements for pedestrian, compute state estimate and update noise\n",
    "# function measure_gps(ped::Entity{NoisyPedState, D, I}, fixed_sat::Array{Satellite}, noise::Array{Float64}) where {D, I}\n",
    "#     ped_pos = posg(ped)\n",
    "    \n",
    "#     ranges = Union{Missing, GPSRangeMeasurement}[]\n",
    "    \n",
    "#     for i in 1:length(fixed_sat)\n",
    "#         satpos = fixed_sat[i].pos\n",
    "#         if fixed_sat[i].visible==true\n",
    "#             range = hypot(ped_pos.x - satpos.x, ped_pos.y - satpos.y, satpos.z)\n",
    "#             push!(ranges, GPSRangeMeasurement(range=range, noise=noise[i]))\n",
    "#         else\n",
    "#             push!(ranges, missing)\n",
    "#         end\n",
    "#     end\n",
    "    \n",
    "#     ranges\n",
    "# end"
   ]
  },
  {
   "cell_type": "code",
   "execution_count": 14,
   "metadata": {},
   "outputs": [],
   "source": [
    "# measure_gps(ped_state, fixed_sat, [0.0, 0.0, 0.0, 0.0])"
   ]
  },
  {
   "cell_type": "code",
   "execution_count": 15,
   "metadata": {},
   "outputs": [],
   "source": [
    "# function update_all_measurements(ped::Entity{NoisyPedState, D, I}, all_measurements) where {D, I}\n",
    "#     single_time_measurements = Array{Measurement}[] \n",
    "# end"
   ]
  },
  {
   "cell_type": "code",
   "execution_count": 16,
   "metadata": {},
   "outputs": [],
   "source": [
    "# # Instructions for rendering the noisy pedestrian\n",
    "# function AutomotiveVisualization.add_renderable!(rendermodel::RenderModel, ped::Entity{NoisyPedState, VehicleDef, Int64})\n",
    "#     reg_ped = Entity(ped.state.veh_state, ped.def, ped.id)\n",
    "#     add_renderable!(rendermodel, FancyPedestrian(ped=reg_ped))\n",
    "#     noisy_ped = Entity(noisy_entity(ped, ad_mdp.roadway).state.veh_state, ped.def, ped.id)\n",
    "#     ghost_color = weighted_color_mean(0.3, colorant\"blue\", colorant\"white\")\n",
    "#     add_renderable!(rendermodel, FancyPedestrian(ped=noisy_ped, color=ghost_color))\n",
    "#     return rendermodel\n",
    "# end"
   ]
  },
  {
   "cell_type": "code",
   "execution_count": 17,
   "metadata": {},
   "outputs": [],
   "source": [
    "# function AdversarialDriving.update_adversary!(adversary::Agent, action::Disturbance, s::Scene)\n",
    "#     index = findfirst(id(adversary), s)\n",
    "#     isnothing(index) && return nothing # If the adversary is not in the scene then don't update\n",
    "#     adversary.model.next_action = action # Set the adversaries next action\n",
    "#     # veh = s[index] # Get the actual entity\n",
    "#     # state_type = typeof(veh.state) # Find out the type of its state\n",
    "#     # s[index] =  Entity(state_type(veh.state, noise = action.noise), veh.def, veh.id) # replace the entity in the scene\n",
    "# end"
   ]
  },
  {
   "cell_type": "code",
   "execution_count": 18,
   "metadata": {},
   "outputs": [],
   "source": [
    "# function distance(ent1::Entity, ent2::Entity)\n",
    "#     pos1 = posg(ent1)\n",
    "#     pos2 = posg(ent2)\n",
    "#     hypot(pos1.x - pos2.x, pos1.y - pos2.y)\n",
    "# end"
   ]
  },
  {
   "cell_type": "markdown",
   "metadata": {},
   "source": [
    "### Main"
   ]
  },
  {
   "cell_type": "code",
   "execution_count": 149,
   "metadata": {},
   "outputs": [
    {
     "data": {
      "text/plain": [
       "Noise\n",
       "  pos: VecE2{Float64}\n",
       "  vel: Float64 0.0\n",
       "  gps_range: Array{Float64}((5,)) [-5.0, 0.0, -5.0, 0.0, 1.0]\n"
      ]
     },
     "execution_count": 149,
     "metadata": {},
     "output_type": "execute_result"
    }
   ],
   "source": [
    "init_noise = Noise(pos = (0, 0), vel = 0, gps_range = [0.0, 0.0, 0.0, 0.0, 0.0])\n",
    "cont_noise = Noise(pos = (0, 0), vel = 0, gps_range = [-5.0, 0.0, -5.0, 0.0, 1.0])"
   ]
  },
  {
   "cell_type": "code",
   "execution_count": 150,
   "metadata": {},
   "outputs": [],
   "source": [
    "sut_agent = BlinkerVehicleAgent(get_ped_vehicle(id=1, s=5.0, v=15.0),\n",
    "    TIDM(ped_TIDM_template, noisy_observations=true));"
   ]
  },
  {
   "cell_type": "code",
   "execution_count": 151,
   "metadata": {},
   "outputs": [
    {
     "data": {
      "text/plain": [
       "get_pedestrian_noisy (generic function with 1 method)"
      ]
     },
     "execution_count": 151,
     "metadata": {},
     "output_type": "execute_result"
    }
   ],
   "source": [
    "get_pedestrian_noisy(;id::Int64, s::Float64, v::Float64, noise::Noise) = (rng::AbstractRNG = Random.GLOBAL_RNG) -> NoisyPedestrian(roadway = AdversarialDriving.ped_roadway, lane = 2, s=s, v=v, id=id, noise=noise)"
   ]
  },
  {
   "cell_type": "code",
   "execution_count": 152,
   "metadata": {},
   "outputs": [],
   "source": [
    "adv_ped = NoisyPedestrianAgent(get_pedestrian_noisy(id=2, s=7.0, v=2.0, noise=init_noise), AdversarialPedestrian());"
   ]
  },
  {
   "cell_type": "code",
   "execution_count": 153,
   "metadata": {},
   "outputs": [],
   "source": [
    "ad_mdp = AdversarialDrivingMDP(sut_agent, [adv_ped], ped_roadway, 0.1);"
   ]
  },
  {
   "cell_type": "code",
   "execution_count": 154,
   "metadata": {},
   "outputs": [
    {
     "data": {
      "text/plain": [
       "Scene{Entity{S,VehicleDef,Int64} where S}(2 entities)"
      ]
     },
     "execution_count": 154,
     "metadata": {},
     "output_type": "execute_result"
    }
   ],
   "source": [
    "ped_state, veh_state = initialstate(ad_mdp)"
   ]
  },
  {
   "cell_type": "code",
   "execution_count": 155,
   "metadata": {},
   "outputs": [
    {
     "data": {
      "text/plain": [
       "1-element Array{Disturbance,1}:\n",
       " PedestrianControl\n",
       "  a: VecE2{Float64}\n",
       "  da: VecE2{Float64}\n",
       "  noise: Noise\n"
      ]
     },
     "execution_count": 155,
     "metadata": {},
     "output_type": "execute_result"
    }
   ],
   "source": [
    "noisy_action = Disturbance[PedestrianControl(a=VecE2(0, 0), da=VecE2(0, 0), noise=cont_noise)]"
   ]
  },
  {
   "cell_type": "code",
   "execution_count": 156,
   "metadata": {},
   "outputs": [],
   "source": [
    "# Behavior with noise\n",
    "hist_noise = POMDPSimulators.simulate(HistoryRecorder(), ad_mdp,\n",
    "    FunctionPolicy((s) -> noisy_action));"
   ]
  },
  {
   "cell_type": "code",
   "execution_count": 157,
   "metadata": {},
   "outputs": [
    {
     "data": {
      "text/plain": [
       "12-element Array{Tuple{Float64,Float64,Float64},1}:\n",
       " (-2.9999999999999982, -2.9999999999999982, 0.0)\n",
       " (-2.799999999999998, -7.072423850314791, -4.272423850314791)\n",
       " (-2.599999999999997, -6.8724244846188265, -4.272424484618828)\n",
       " (-2.3999999999999977, -6.6724250751787695, -4.27242507517877)\n",
       " (-2.1999999999999975, -6.472425621994526, -4.272425621994529)\n",
       " (-1.9999999999999982, -6.272426125065831, -4.272426125065831)\n",
       " (-1.799999999999999, -6.072426584392243, -4.272426584392246)\n",
       " (-1.5999999999999996, -5.872426999974145, -4.272426999974144)\n",
       " (-1.4000000000000004, -5.672427371810818, -4.272427371810817)\n",
       " (-1.200000000000001, -5.472427699902398, -4.272427699902398)\n",
       " (-1.0, -5.2724279842487265, -4.272427984248726)\n",
       " (-0.7999999999999989, -5.072428224849657, -4.272428224849659)"
      ]
     },
     "execution_count": 157,
     "metadata": {},
     "output_type": "execute_result"
    }
   ],
   "source": [
    "map(x -> (x.entities[1].state.veh_state.posG[2], AdversarialDriving.noisy_entity(x.entities[1], ad_mdp.roadway).state.veh_state.posG[2], noise(x.entities[1]).pos[1]) , POMDPSimulators.stepthrough(ad_mdp, FunctionPolicy((s) -> noisy_action), \"s\", max_steps=20))"
   ]
  },
  {
   "cell_type": "code",
   "execution_count": 158,
   "metadata": {},
   "outputs": [],
   "source": [
    "ad_scenes_noise = state_hist(hist_noise);"
   ]
  },
  {
   "cell_type": "code",
   "execution_count": 159,
   "metadata": {},
   "outputs": [
    {
     "data": {
      "application/vnd.webio.node+json": {
       "children": [
        {
         "children": [
          {
           "children": [
            {
             "children": [
              {
               "children": [
                {
                 "children": [
                  "t"
                 ],
                 "instanceArgs": {
                  "namespace": "html",
                  "tag": "label"
                 },
                 "nodeType": "DOM",
                 "props": {
                  "className": "interact ",
                  "style": {
                   "padding": "5px 10px 0px 10px"
                  }
                 },
                 "type": "node"
                }
               ],
               "instanceArgs": {
                "namespace": "html",
                "tag": "div"
               },
               "nodeType": "DOM",
               "props": {
                "className": "interact-flex-row-left"
               },
               "type": "node"
              },
              {
               "children": [
                {
                 "children": [],
                 "instanceArgs": {
                  "namespace": "html",
                  "tag": "input"
                 },
                 "nodeType": "DOM",
                 "props": {
                  "attributes": {
                   "data-bind": "numericValue: index, valueUpdate: 'input', event: {change: function (){this.changes(this.changes()+1)}}",
                   "orient": "horizontal",
                   "type": "range"
                  },
                  "className": "slider slider is-fullwidth",
                  "max": 13,
                  "min": 1,
                  "step": 1,
                  "style": {}
                 },
                 "type": "node"
                }
               ],
               "instanceArgs": {
                "namespace": "html",
                "tag": "div"
               },
               "nodeType": "DOM",
               "props": {
                "className": "interact-flex-row-center"
               },
               "type": "node"
              },
              {
               "children": [
                {
                 "children": [],
                 "instanceArgs": {
                  "namespace": "html",
                  "tag": "p"
                 },
                 "nodeType": "DOM",
                 "props": {
                  "attributes": {
                   "data-bind": "text: formatted_val"
                  }
                 },
                 "type": "node"
                }
               ],
               "instanceArgs": {
                "namespace": "html",
                "tag": "div"
               },
               "nodeType": "DOM",
               "props": {
                "className": "interact-flex-row-right"
               },
               "type": "node"
              }
             ],
             "instanceArgs": {
              "namespace": "html",
              "tag": "div"
             },
             "nodeType": "DOM",
             "props": {
              "className": "interact-flex-row interact-widget"
             },
             "type": "node"
            }
           ],
           "instanceArgs": {
            "handlers": {
             "changes": [
              "(function (val){return (val!=this.model[\"changes\"]()) ? (this.valueFromJulia[\"changes\"]=true, this.model[\"changes\"](val)) : undefined})"
             ],
             "index": [
              "(function (val){return (val!=this.model[\"index\"]()) ? (this.valueFromJulia[\"index\"]=true, this.model[\"index\"](val)) : undefined})"
             ]
            },
            "id": "12825570882666692336",
            "imports": {
             "data": [
              {
               "name": "knockout",
               "type": "js",
               "url": "/assetserver/f83dc9757fede95ccda667ff812a2fcf4fcea406-knockout.js"
              },
              {
               "name": "knockout_punches",
               "type": "js",
               "url": "/assetserver/489381353c6689ef066cceedc5f4603376aece34-knockout_punches.js"
              },
              {
               "name": null,
               "type": "js",
               "url": "/assetserver/2b9a0101b1182967c1bc8e647e40e503b7f91214-all.js"
              },
              {
               "name": null,
               "type": "css",
               "url": "/assetserver/16c36b047c84a455687c728543beff2b71551cae-style.css"
              },
              {
               "name": null,
               "type": "css",
               "url": "/assetserver/d905e3af6552e0c7d3e81225bc2f25b3475dc59b-bulma_confined.min.css"
              }
             ],
             "type": "async_block"
            },
            "mount_callbacks": [
             "function () {\n    var handler = (function (ko, koPunches) {\n    ko.punches.enableAll();\n    ko.bindingHandlers.numericValue = {\n        init: function(element, valueAccessor, allBindings, data, context) {\n            var stringified = ko.observable(ko.unwrap(valueAccessor()));\n            stringified.subscribe(function(value) {\n                var val = parseFloat(value);\n                if (!isNaN(val)) {\n                    valueAccessor()(val);\n                }\n            });\n            valueAccessor().subscribe(function(value) {\n                var str = JSON.stringify(value);\n                if ((str == \"0\") && ([\"-0\", \"-0.\"].indexOf(stringified()) >= 0))\n                     return;\n                 if ([\"null\", \"\"].indexOf(str) >= 0)\n                     return;\n                stringified(str);\n            });\n            ko.applyBindingsToNode(\n                element,\n                {\n                    value: stringified,\n                    valueUpdate: allBindings.get('valueUpdate'),\n                },\n                context,\n            );\n        }\n    };\n    var json_data = {\"formatted_vals\":[\"1\",\"2\",\"3\",\"4\",\"5\",\"6\",\"7\",\"8\",\"9\",\"10\",\"11\",\"12\",\"13\"],\"changes\":WebIO.getval({\"name\":\"changes\",\"scope\":\"12825570882666692336\",\"id\":\"3952192565909647089\",\"type\":\"observable\"}),\"index\":WebIO.getval({\"name\":\"index\",\"scope\":\"12825570882666692336\",\"id\":\"9687364447352050785\",\"type\":\"observable\"})};\n    var self = this;\n    function AppViewModel() {\n        for (var key in json_data) {\n            var el = json_data[key];\n            this[key] = Array.isArray(el) ? ko.observableArray(el) : ko.observable(el);\n        }\n        \n        [this[\"formatted_val\"]=ko.computed(    function(){\n        return this.formatted_vals()[parseInt(this.index())-(1)];\n    }\n,this)]\n        [this[\"changes\"].subscribe((function (val){!(this.valueFromJulia[\"changes\"]) ? (WebIO.setval({\"name\":\"changes\",\"scope\":\"12825570882666692336\",\"id\":\"3952192565909647089\",\"type\":\"observable\"},val)) : undefined; return this.valueFromJulia[\"changes\"]=false}),self),this[\"index\"].subscribe((function (val){!(this.valueFromJulia[\"index\"]) ? (WebIO.setval({\"name\":\"index\",\"scope\":\"12825570882666692336\",\"id\":\"9687364447352050785\",\"type\":\"observable\"},val)) : undefined; return this.valueFromJulia[\"index\"]=false}),self)]\n        \n    }\n    self.model = new AppViewModel();\n    self.valueFromJulia = {};\n    for (var key in json_data) {\n        self.valueFromJulia[key] = false;\n    }\n    ko.applyBindings(self.model, self.dom);\n}\n);\n    (WebIO.importBlock({\"data\":[{\"name\":\"knockout\",\"type\":\"js\",\"url\":\"/assetserver/f83dc9757fede95ccda667ff812a2fcf4fcea406-knockout.js\"},{\"name\":\"knockout_punches\",\"type\":\"js\",\"url\":\"/assetserver/489381353c6689ef066cceedc5f4603376aece34-knockout_punches.js\"}],\"type\":\"async_block\"})).then((imports) => handler.apply(this, imports));\n}\n"
            ],
            "observables": {
             "changes": {
              "id": "3952192565909647089",
              "sync": false,
              "value": 0
             },
             "index": {
              "id": "9687364447352050785",
              "sync": true,
              "value": 7
             }
            },
            "systemjs_options": null
           },
           "nodeType": "Scope",
           "props": {},
           "type": "node"
          }
         ],
         "instanceArgs": {
          "namespace": "html",
          "tag": "div"
         },
         "nodeType": "DOM",
         "props": {
          "className": "field interact-widget"
         },
         "type": "node"
        },
        {
         "children": [
          {
           "children": [],
           "instanceArgs": {
            "id": "5779336962577084916",
            "name": "obs-node"
           },
           "nodeType": "ObservableNode",
           "props": {},
           "type": "node"
          }
         ],
         "instanceArgs": {
          "handlers": {},
          "id": "8515277693928896026",
          "imports": {
           "data": [],
           "type": "async_block"
          },
          "mount_callbacks": [],
          "observables": {
           "obs-node": {
            "id": "5779336962577084916",
            "sync": false,
            "value": {
             "children": [
              {
               "children": [],
               "instanceArgs": {
                "namespace": "html",
                "tag": "div"
               },
               "nodeType": "DOM",
               "props": {
                "setInnerHtml": "<img src='data:image/png;base64,iVBORw0KGgoAAAANSUhEUgAAA+gAAAJYCAIAAAB+fFtyAAAABmJLR0QA/wD/AP+gvaeTAAAgAElEQVR4nO3deXCc92Hf4XcvLG4CBG+A5BIUBVESJFKUbB1mJdlSzciuOYknmU6mae3ptFHSNEmbcSaJXU/jOK4zaSdOYzvK1bGTOKls1x4ptiy7tmqFkSyJkigKOniI4JKCeOI+Fsde/QMSTZPQQRLkix/nef7x4sUC+GpnBH384t3dKAIAAAAAAAAAAAAAAAAAAAAAAAAAAAAAAAAAAAAAAAAAAAAAAAAAAAAAAAAAAAAAAAAAAAAAAAAAAAAAAAAAAAAAAAAAAAAAAAAAAAAAAAAAAAAAAAAAAAAAAAAAAAAAAAAAAAAAAAAAAAAAAAAAAAAAAAAAAAAAAAAAAAAAAAAAAAAAAAAAAAAAAAAAAAAAAAAAAAAAAAAAAAAAAAAAAAAAAAAAAAAAAAAAAAAAAAAAAAAAAAAAAAAAAAAAAAAAAAAAAAAAAAAAAAAAAAAAAAAAAAAAAAAAAAAAAAAAAAAAAAAAAAAAAAAAAAAAAAAAAAAAAAAAAAAAAAAAAAAAAAAAAAAAAAAAAAAAAAAAAAAAAAAAAAAAAAAAAAAAAAAAAAAAAAAAAAAAAAAAAAAAAAAAAAAAAAAAAAAAAAAAAAAAAAAAAAAAAAAAAAAAAAAAAAAAAAAAAAAAIFzd3d3d3d1xrwibxxDgPCTiHgAQku7u7gceeCCKok986rO9+cNxzwlSZ27Npz/5W1EUbd++vaenJ+45AMFIxz0AICSdnZ2JRCKKoq3v/efLevvinhOkrs6O2cews7NTuAO8c8m4BwAAAG9PuAMAQACEOwAABEC4AwBAAIQ7AAAEQLgDAEAAhDsAAARAuAMAQACEOwAABEC4AwBAAIQ7AAAEQLgDAEAAhDsAAARAuAMAQACEOwAABEC4AwBAAIQ7AAAEIB33AIDw5HK5e3O5uFeELZ/Pxz0BIDDOuAMAQACEOwAABEC4AwBAAIQ7AAAEQLgDAEAAhDsAAARAuAMAQACEOwAABEC4AwBAAIQ7AAAEQLgDAEAAhDsAAARAuAMAQACEOwAABEC4AwBAAIQ7AAAEQLgDAEAA0nEPAAhPPp9/eMcze3v74h4SpK7Ojm1bt8S9AiA8zrgDAEAAhDsAAARAuAMAQACEOwAABEC4AwBAAIQ7AAAEQLgDAEAAhDsAAARAuAMAQACEOwAABEC4AwBAAIQ7AAAEQLgDAEAAhDsAAARAuAMAQACEOwAABEC4AwBAANJxDwAITy6XuzeXi3tF2PL5fNwTAALjjDsAAARAuAMAQACEOwAABEC4AwBAAIQ7AAAEQLgDAEAAhDsAAARAuAMAQACEOwAABEC4AwBAAIQ7AAAEQLgDAEAAhDsAAARAuAMAQACEOwAABEC4AwBAAIQ7AAAEIB33AIDw5PP5h3c8s7e3L+4hQerq7Ni2dUvcKwDC44w7AAAEQLgDAEAAhDsAAARAuAMAQACEOwAABEC4AwBAAIQ7AAAEQLgDAEAAhDsAAARAuAMAQACEOwAABEC4AwBAAIQ7AAAEQLgDAEAAhDsAAARAuAMAQACEOwAABCAd9wCA8ORyuXtzubhXhC2fz8c9ASAwzrgDAEAAhDsAAARAuAMAQACEOwAABEC4AwBAAIQ7AAAEYCG+HGR3d/fq1avjXgEwh02bNsU94fKxadOmYrEY9wqAObz66qs9PT1xrzhTIu4BZ+ru7n7ggQcSiQU3DOCUnBdxv2Bexx1YyKrV6vbt2xdau7tUBgAAArDgLpXp6en5xKc+e9vtd8U9BGAOq5a3bdrYGfeKy8RzL/ceOT4Q9wqAOTz26PcX2un2aAGGexRFvfnDy3JH4l4BMIdkyh8q582x/qH9h/y2Bxai3vzhuCfMwX+BAAAgAMIdAAACINwBACAAwh0AAAIg3AEAIADCHQAAArAQXw4SYIHL5/MP73hmb29f3EOC1NXZsW3rlrhXAITHGXcAAAiAcAcAgAAIdwAACIBwBwCAAAh3AAAIgHAHAIAACHcAAAiAcAcAgAAIdwAACIBwBwCAAAh3AAAIgHAHAIAACHcAAAiAcAcAgAAIdwAACIBwBwCAAAh3AAAIQDruAQDhyeVy9+Zyca8IWz6fj3sCQGCccQcAgAAIdwAACIBwBwCAAAh3AAAIgHAHAIAACHcAAAiAcAcAgAAIdwAACIBwBwCAAAh3AAAIgHAHAIAACHcAAAiAcAcAgAAIdwAACIBwBwCAAAh3AAAIgHAHAIAApOMeABCefD7/8I5n9vb2xT0kSF2dHdu2bol7BUB4nHEHAIAACHcAAAiAcAcAgAAIdwAACIBwBwCAAAh3AAAIwIJ7Ocj29vbbbn7XFZ0d5/flR44PjE1Mzu+kMzQ11K1a3nbeX25hZOF8sPDCnd/CVcsWz96oy9bM96IzeQwv3OX6GJ5iYWThfLAwFAsu3G+88cZf+cWPnveXX4JXVl61vO1CXoHYwsjC+WDhhbvAha2LGudxzJw8hhfusn8MLYwsnA8WhsKlMgAAEIBE3APO1N7e/i9/4d9ecfV15/fl/lgTWTgfLLxwl+vCVcsWX9e1LoqiR5/qee7l3ouw68c8hhfucn0MT7EwsnA+WHi2J3748BM/fPi8f+JFsuDCPYqim+/YdvMd2+JeATCHrs6O2T/XXjZ/eL30PIbAwrcww92lMgAAEADhDgAAARDuAAAQAOEOAAABEO4AABAA4Q4AAAFYcO+cCrDw5XK5e3O5uFeELZ/Pxz0BIDDOuMMCUqlURgb7S8Vi3EMAgAVHuMMCsvuJ/7e1tjS869GpyULcWwCAhcWlMnCeZqanpybHy8VitVpNJBJRFCWSqXQmk8nUpDOZVDpzHt+zbdmqlS2tv3bPB//L935w1Q23zX2nanV8dHh0ZLD8xon5TDabTmcamhbVNTSd7z8NALDQCXd4R6YmC0Mnjw0PnEgXRpfW1rTW17Y3L2ptaGxpaUgmXv/LVaVaKUxPjheGJqemJ6anJovFqWKxUCzOlCvTpXIlmUykMtPFYjKVmiwWa9KpVDJVKZei6o9/SrFU3Ndau2FV+4Zs4pUnHplrSKWjLnvz+iuWd7bXpFN1NTXFcmVssjBaKIwUhnoPv5QfHq20Lmtfd1VNNnspHhcA4FIR7vCmJsZGThw5PNN/rL2u5qqO9quvWL32ls3ZzPmcSj9Xv/aBD5331x4fHn5w55O7hwsbNt98fif+AYAFSLjD3PY89eg969fc8O7NK1pazukLZ0qlx15+6cDxY4XpqcmZmShKDI2OtC1alEmlKtUomUxk05lKpZpIRIlEolyppJLJcqVSqpTL5XIqlRqbnExG0Ufee1d725LzW768peXf3f3+gbGx3/va/a3Xvrtt2crz+z4AwIIi3GEOU4WJW5YvvmfLTW99t0qpVIqi0uRkfdPrF5c/0vP8AzufHBgfm73qPYqiiUJhanq6rbX1Lb5PuVJpqMm2NTataGm5+7pNN224MpVMVqrV48NDPYfy/WNjtZnMezZeM/r6M1YTURRVo2oykaitqWnIZptr65LJM59o3tbUdHVH+w//6eH1775zeXvuPB4EAGBBEe4wh6Ov9n7wmg1ve7fxfXu/seelzTU19TfcuGFV+56+vr/b8cNypVqpVKtRJYqiZCIxOTVVX1dXLperUVSpVLLpTCqZbKitbcxmm+vqm+rrmurqu1auun5dZ302G0XRYy+/dN93vzMwNjowPj5SKJSrldmf9d3ndt20/oqPvu/uVPLUJfXV6WJxdGBgz4FXovqGdH19MpFY3NjU2tAw+38bbrnyqm8++cT+J37QcPeHG5vP7e8GAMBCI9xhDiMnj61fsfVt79a0Zu2WifGmhqbmpuYoiq7q6PjLX/7VwvT06GRhdKIwVZqZmpkZKUzW19Q01tXV12Qb62oTiURzXX39XM8cLVcqn/vWA88fOlQ5/fmqbygUZx7d89LEzPSpy9+TiURdTU3dypXZSnlybGz6yJHxZLJ/Sal/dDSKomUti7pz665bm3suf3DXIw9s3f6vozf+CAAAhEi4wxyao3ImPce/HaVy+Yl9ew/3nxwpTIwUCsMTEyOFwkyptHpx22/+9Idnc7w+m63PZle0vNW1MXPaf+TIc/mDb53Xzx7s/e6uZ9+/+YaBsbHZC3LaGhsXLVs+MDaaqK2tTBb6D+xfsja3Ibfu2PDwkcHBX/3g9i889A97X+s7tP/FtVdee66TAICFQ7jDHJoyqbMPHjpx4k+/952+wYHEWW194OTxR3p2f/DGd13IDx2aGK/OXsD+5irV6qMvvnDX9ZvamprampqqUTQ4Nnag/2TU2BxVyqva2k6ePFE4djSxrnNla+uKlpa+wYF7t92zqK7+Y1/520i4A0DIvHMqzKEpW3vGkWK5dN/3vvPa0ODZ1T5rYmrq4u+KoijqGxp4av/e2duJKGprarpy5aorOzrWrmqfSKUTi9vqlq+YnJmJoiiRSKxuW1KuVJKp5Puu3lgYH700CwGAi0G4w5kq5XJbU+MZB7/99NOvDg7EsucM1SjadfDg2cez6fTapUuvau9YvzZ3YmRk75HX8idPlMrltUuXHe7vvy637vhrhy79WgBgvrhUBs5ULhUbzjrj3nM4/2bn2i+9/rG3OneeTqXWLl0aRdHUzMyh/pOlcnlkYmJL5/rC409eqoEAwPwT7nCmYrGYSf/ENe6jhcKrA/1x7Tnb0NjYO7lbbU3N+uUroigam5xMp1I1pemLvAsAuIhcKgNnqpRLNenM6UcOnTxRmJmJa8/ZJovF6WLxnd+/qa4ulUymS6WLNwkAuNiEO5ypUq2kkj9xxn3/0SML5zqZKIpKlXJh+pxPn9fV1FyMMQDApeFSGYBzls/nH97xzN7evriHBKmrs2Pb1i1xrwAIjzPucKZkIlmulE8/smHlqmp1jnczjUsmlW6oPfPps29r4txP0gMAC4dwhzMlU+mZ0k9cQb526bLGs15nJka1mUzNXG/s+mbGJifLlUrlJy/cBwDCItzhTJlMplj6iTPuzfX17YsXx7XnbIsbm97J3aZmZg4cP7b3yGvPH86XyuWZTPZiDwMALh7XuMOZUunM+NTkGQe71+T2LpinqLY1vVW4l8rl1wYHp4oz2Uxm7ZKlyWSyVKkcOHq0flHbJVsIAMw74Q5nSqZSg+MTZxz84I03PbV/36tDC+DNU6vVGzvXn314ulQ6NjQ0OTOdmJ5e07H61GvI9B4/tnbJ0m/tfHJ5+9pLOxQAmE8ulYE5jE5PnXEknUr94vu3dbS+6QUz5/Fs0fOzevGSLVdsmL1djaL+sdF9R4/s6+s7dOS1hnKpOjgwefzYbLVXq9VXB/oz6XS5XH7kpT31jc2XZiEAcDE44w5zGC/O8V5Fa5cu+/TP/8ITe/cc6j85UpgYKRSGJyZGCoViubR6cdtd1226wB/a2tD4thfiJBOJ26+5NpVMDoyNDYyPJRPJxY0N65cszR/YnyxXjk4WRsfGluXWVavVo8NDwxMTTXX1X3zoW3uP9K3ffNsFzgMA4iXcYQ6jUbpYKmXOeuWWVDJ528arTyVwdXz8hZdeaGlsal6bq33j0pSJ6amxwuTQxHixVJoqzowUJutrahrqausz2Yba2lQq2ZCtbaqrO/uHXtnevmntuucPH6pEc7/0ZCKRuLFz/fs33xBFUVtT06kr3Ude66tPJItTE1EqtWTDlZVkcv/Ro8tbWla1Lv7NL/+v3YfyLU0tazdcMw+PCwAQH+EOc1i0dMWBY8eu6uh467uNHT70bF/fpprMVEvLooaGPX19/+PBb5arlalicTa9k8nk0PBwXW1ttqamGkXVajWbySSjREO2trGutrm2rqGutrmu/spVqzat62zI1v7G9p9+fM9Luw4eHBgbHRgfHykUytXK7M9qytbe0Nn50ffefeqnV6rVqZmZ0YH+wcGBqL4h095RF0VtTc2tDQ2zd+jJH+w5fKi1oWHT+z4ULYyn1QIA5024wxxWru58+pX9bxvujVd2/XxX18xEoaG5OYqiqzo6fn7rP3vw6Z3TY6OpN0K5NpudnJqqf+MUe6VarUTVkanCyFThtTe+z/d7dtfX1LQ1NS1rbrnlyq573/9TqWSyUq0eHx7qOZTvHxurq6nZuvGa4cLEwRPHoygRRVE1qqYSiWxNTWNL61UrViaTczxf5Uf79rQ2NHa+687G5pb5eVwAgPgId5hDbX3Dj04MLH5m5w3rN6xoedPqTabTySjKNP/4SZ93dl9/28ZrfrTn5QPHj01MTxWmZ9LJ1MnhwbZFi5KJRCqVSiWT6WSqXKmkkskoimZvlCuVUqVcLpeTycT/fX73Iz27P/Leu9rblqxsXbzytKfDLmk+h2eX9o+OvPDqa13v2da2bOV5PQYAwMIi3GFuG991R8/YyA+e3DXdf6y9NrOxo2NjR0du2fJs5m3ef7Qmnb792u7br+2+NDvPdnRo8MGdT+0eKXTd/oGUd0sFgMuFcIc31dC0aF1Xd9TVHUXRK5OFnQeODD+5K1UYXVpX01pf39bUtLihqbWxIZl4/TKVqeJMsVwen5qcmJyaLM4UZqaniqXJYmm6XJ4uV6JksppIFcvlZCo1WSzWpFOpZKpSLp3+TNRiqXjPxis/sOWmP/72gwfHznxJyiiKoqjSXpu9cf365S2tNelUfTZbLFfGJgsjE4XhiYmDJ472Do9Frcs6OruvznqfVAC4rAh3eEdq6+pXrulcuabz1JGj09MHJ8fLwzPVanX2HVUTyVQ6U5dpWJRuycye6s5G0Tnl8+FXXr5y5aqh8fF9U9HGm987952q1SdHh0cPHikXi7MHMtlsOp1paGqruzrXOffXAADBE+5wnmqy2Zr5Pqs9cOLI0VWtX/mnHeu6b33TOyUSjYtaGxe1zu+PBgAWOO+cCgvI9TffuWMq3bL59tq6+ri3AAALizPusIAkk8lFi5fEvQIAWIiEO8A5y+Vy9+Zyca8IWz6fj3sCQGBcKgMAAAEQ7gAAEADhDgAAARDuAAAQAOEOcJkoFYv3/f7vjI+OxD0EgItCuANcJl7t3ffXf/zfvv6XfxL3EAAuioX4cpCduTUb1q6KewXAHFYsWUDvWXvfffd96EMfWrXq9V+Y9Q1NyVRqqP9EvKveuRVLWivlStwrAOZwIrfmibg3nG3BhXt3d/enP/lbiUQi7iEAC91Xv/rVgYGBj3/841EU5fP57du3T6SWDIyMxr3rndq0sXPTxs64VwDM4aduv7HnmR/19PTEPeQnuFQGIFSrlmUHj784e/szn/nM888/f+C143/0V38X7yoALpIFd8a9p6dn+/btq1evjnsIwBxuuummj3zkI3GveN27NrdPFYar1WoikRgdff1Ee11DY6VSSSaTURQ9/LW/2XzrHcvbF+hv1C996Us7d+6MewXAHF599dWFdro9WoDhHkVRT0/PAnykAKIoymQycU/4sWo1aqqb3Ldvb1fXVcVicfbgf/iV/zhb7VEU3f9nn/vml+77s28/Ft/Gt/Lcc8899NBDca8ACMZCDHcA3laxWCxO9a9ur3n80f/T1fXxoaGh2eO7du36my//1eLFi9et7zp8fHBmoK9cKqXSftsDBM+vcoAgDQ0NZVIzUZSdGj8aRdH4+HhNJnXdxqUrmw9Xh74xOp76/NdfOzY9PjxZo9oBLg9+mwMEadmyZdVMexT1l6aO9/YeWNYy/clfv3XjhrZTd7jrPWved9uaR584/NA/fO2ef/GzURTt3r37+uuvj28yABfEq8oAhCqbrYuiqH1p6W///D//mw+vO73aZyUS0R23rHlu99NRFA0PD7/nPTcfOHAghqEAzAfhDhC8a9cnU8lEFEVDI1Nf+/beV/JDp3+2MLTv6/f/xf1f+dM/+O3b//5L/zWeiQBcMOEOEKq6hiWnf9g/OPk7n/3H//3Ay5/87/+0/+CP2/2Gq6Lk6ENLa55asbSuLjV46mmsAITFNe4A5yyfzz+845m9vX3xzhg+cuTaldPr2rOzHz7wvf0nBgpRFE3PlP/8K7v/8BN3nP0lR/tLn/qff30pR56tq7Nj29Yt8W4ACJEz7gChalm18YXDtac+fOSxw6du9x4e/tb3z7ycvVyp9o+lLtE4AOabcAcIWO3SLbv2jEdRNDA0OTVdOv1Tx/snTv9wz8HJB5+oa1571yXdB8D8Ee4AAautbzwys/kbj85Uqol0+id+pd+8edWp28+8XDg4eeOS3M2plDPuAKFyjTtA2JqXtEdL2p/oO7Kq/cXDh16dPZitSZ+cWPTIs9ViJVOqppMNGxtblsa7E4ALJNwBLgctS1b9zEd/Y/9Lu48cPti0qOXaG25JZbOpKMrEPQyA+SLcAS4fG66+fsPV3hsV4PLkGncAAAiAcAcAgAAIdwAACIBwBwCAAAh3AAAIgHAHAIAACHcAAAiAcAcAgAAIdwAACIBwBwCAAAh3AAAIQDruAQDhyeVy9+Zyca8IWz6fj3sCQGCccQcAgAAIdwAACIBwBwCAAAh3AAAIgHAHAIAACHcAAAiAcAcAgAAIdwAACIBwBwCAAAh3AAAIgHAHAIAACHcAAAiAcAcAgAAIdwAACIBwBwCAAAh3AAAIgHAHAIAApOMeABCefD7/8I5n9vb2xT0kSF2dHdu2bol7BUB4nHEHAIAACHcAAAiAcAcAgAAIdwAACIBwBwCAAAh3AAAIgHAHAIAACHcAAAiAcAcAgAAIdwAACIBwBwCAAAh3AAAIgHAHAIAACHcAAAiAcAcAgAAIdwAACIBwBwCAAKTjHgAQnlwud28uF/eKsOXz+bgnAATGGXcAAAiAcAcAgAAIdwAACIBwBwCAAAh3AAAIgHAHAIAACHcAAAiAcAcAgAAIdwAACIBwB7h8/OHHfqnv4CtxrwDgohDuAJeJkaGBb375vi9/7jNxDwHgohDuAKH64he/+Oyzz576MJ2paVzUOj01GeMkAC4e4Q4Qqscff/y+++6bvX3kyJEbttzYM5zYd/BwvKsAuEiEO0Coliy5oqZm7eztL3zhC/v27TvWP/jV7z8+OemkO8BlSLgDhOrqq2/t6rp7eHg4iqJTsb6oeVGxWJy9/dD9X37h6R/Ftg+AeSXcAQK2cuU1O3f2RFE0MzMze+Rnf+7nmpubZ28/8uDXfvujHy6+8SkAgpaOewAA52lyMllb23Dw4HgURYODg7MHn3766c985o/a2pZu3JjreeXw8LGjYyNDi5cuj3UpAPNAuAOcs3w+//COZ/b29sW4oVqtNlRWr18fvZIf/E+/+8dP7Xqhrq75hhvef+utP3P11T+TTtc89tijU7XX7ps6+Luf/7tkcgH9fbWrs2Pb1i1xrwAIj3AHCFIikRga7YuiKLd6084X7+9ce+Ov/tJfd3ZuOnWH7u7bu7tv37v3yR/t+vvVG9ZFUXTowJ6166+KbTEAF2YBnYMB4JwkEqkoitasvia3/OZfvvfPTq/2U7q63j1deP0a93/8zj8cOrDvkk4EYP4Id4BwlWf/Z8vme9LpTBRFg4NH7rvvV3bsuP/0O3VvvGP85OTAa4O/96nvrV95c6VSiWEpABfMpTIAoZqaGT/9w6GhYx/72K0nThx66KEvlkrFO+/8V7PHb73l507dp66u8YdP/3nr0qWXdCgA88EZd4BQJTLl557/7qkPv/3tL544cSiKomq1+hd/8evF4vTZX/JK7zMtbW2XbiIA80e4A4SqqXXRvkOPlUqvX8L+rW/9yalPjY0NfP7z//6M+5dKM68dezmxkF5hBoB3zq9vgIC1rmj9/g//slqtTE8XCoXR0z81PV04/cOeF3/wjYd+v3ll3aUdCMC8Ee4AAUsmk+XsyN9+/Tf37X+iqan19E9t3nz3qds7n3nw4InH29oXL6gXdAfgnHhyKkDYauvrV3XW943uXNd17e6dj84ezGbri9HEQ9//XLE8XSpN1TSkGpqb490JwAUS7gCXg5ps7Z0f+OlN777t4P4Xm1vacldsTGeSURRlo9ooqo17HQDzQLgDXD5alyxrXbIs7hUAXBQudgQAgAAIdwAACIBwBwCAAAh3AAAIgHAHAIAACHcAAAiAl4MEOGe5XO7eXC7uFWHL5/NxTwAIjDPuAAAQAOEOAAABEO4AABAA4Q4AAAEQ7gAAEADhDgAAARDuAAAQAOEOAAABEO4AABAA4Q4AAAEQ7gAAEADhDgAAARDuAAAQAOEOAAABEO4AABAA4Q4AAAEQ7gAAEIB03AMAwpPP5x/e8cze3r64hwSpq7Nj29Ytca8ACI8z7gAAEADhDgAAARDuAAAQAOEOAAABEO4AABAA4Q4AAAEQ7gAAEADhDgAAARDuAAAQAOEOAAABEO4AABAA4Q4AAAEQ7gAAEADhDgAAARDuAAAQAOEOAAABEO4AABCAdNwDAMKTy+XuzeXiXhG2fD4f9wSAwDjjDgAAARDuAAAQAOEOAAABEO4AABAA4Q4AAAEQ7gAAEADhDgAAARDuAAAQAOEOAAABEO4AABAA4Q4AAAEQ7gAAEADhDgAAARDuAAAQAOEOAAABEO4AABAA4Q4AAAFIxz0AICS9vb3VavXgwYOf+NRne/OH454TpM7cmk9/8reiKOrt7Y17CwAAl6/u7u7u7u64V4TNYwgAAAAAAAAAAAAAAAAAAAAAAAAAAAAAAAAAAAAAAAAAAAAAAAAAAAAAAAAAAAAAAAAAAAAAAAAAAAAAAAAAAAAAAAAAAAAAAAAAAAAAAAAAAAAAAAAAAAAAAAAAAAAAAAAAAAAAAAAAAAAAAAAAAAAAAAAAAAAAAAAAAAAAAAAAAAAAAAAAAAAAAAAAAAAAAAAAAAAAAAAAAAAAAAAAAAAAAAAAAAAAAAAAAAAAAAAAAAAAAAAAAAAAAAAAAAAAAAAAAAAAAAAAAAAAAAAAAAAAAAAAAAAAAAAAAAAAAAAAAAAAAAAAAAAAAAAAAAAAAAAAAAAAAAAAADgDVxoAAABnSURBVAAAAAAAAAAAAAAAAAAAAAAAAAAAAAAAAAAAAAAAAAAAAAAAAAAAAAAAAAAAAAAAAAAAAAAAAAAAAAAAAAAAAAAAAAAAAAAAAAAAAAAAAAAAAAAAAAAAAAAAAAAAAAAAELz/D7oy0p8H0cDTAAAAAElFTkSuQmCC'></img>"
               },
               "type": "node"
              }
             ],
             "instanceArgs": {
              "namespace": "html",
              "tag": "div"
             },
             "nodeType": "DOM",
             "props": {
              "className": "interact-flex-row interact-widget"
             },
             "type": "node"
            }
           }
          },
          "systemjs_options": null
         },
         "nodeType": "Scope",
         "props": {},
         "type": "node"
        }
       ],
       "instanceArgs": {
        "namespace": "html",
        "tag": "div"
       },
       "nodeType": "DOM",
       "props": {},
       "type": "node"
      },
      "text/html": [
       "<div\n",
       "    class=\"webio-mountpoint\"\n",
       "    data-webio-mountpoint=\"168379385036609817\"\n",
       ">\n",
       "    <script>\n",
       "    if (window.require && require.defined && require.defined(\"nbextensions/webio-jupyter-notebook\")) {\n",
       "        console.log(\"Jupyter WebIO extension detected, not mounting.\");\n",
       "    } else if (window.WebIO) {\n",
       "        WebIO.mount(\n",
       "            document.querySelector('[data-webio-mountpoint=\"168379385036609817\"]'),\n",
       "            {\"props\":{},\"nodeType\":\"DOM\",\"type\":\"node\",\"instanceArgs\":{\"namespace\":\"html\",\"tag\":\"div\"},\"children\":[{\"props\":{\"className\":\"field interact-widget\"},\"nodeType\":\"DOM\",\"type\":\"node\",\"instanceArgs\":{\"namespace\":\"html\",\"tag\":\"div\"},\"children\":[{\"props\":{},\"nodeType\":\"Scope\",\"type\":\"node\",\"instanceArgs\":{\"imports\":{\"data\":[{\"name\":\"knockout\",\"type\":\"js\",\"url\":\"\\/assetserver\\/f83dc9757fede95ccda667ff812a2fcf4fcea406-knockout.js\"},{\"name\":\"knockout_punches\",\"type\":\"js\",\"url\":\"\\/assetserver\\/489381353c6689ef066cceedc5f4603376aece34-knockout_punches.js\"},{\"name\":null,\"type\":\"js\",\"url\":\"\\/assetserver\\/2b9a0101b1182967c1bc8e647e40e503b7f91214-all.js\"},{\"name\":null,\"type\":\"css\",\"url\":\"\\/assetserver\\/16c36b047c84a455687c728543beff2b71551cae-style.css\"},{\"name\":null,\"type\":\"css\",\"url\":\"\\/assetserver\\/d905e3af6552e0c7d3e81225bc2f25b3475dc59b-bulma_confined.min.css\"}],\"type\":\"async_block\"},\"id\":\"12825570882666692336\",\"handlers\":{\"changes\":[\"(function (val){return (val!=this.model[\\\"changes\\\"]()) ? (this.valueFromJulia[\\\"changes\\\"]=true, this.model[\\\"changes\\\"](val)) : undefined})\"],\"index\":[\"(function (val){return (val!=this.model[\\\"index\\\"]()) ? (this.valueFromJulia[\\\"index\\\"]=true, this.model[\\\"index\\\"](val)) : undefined})\"]},\"systemjs_options\":null,\"mount_callbacks\":[\"function () {\\n    var handler = (function (ko, koPunches) {\\n    ko.punches.enableAll();\\n    ko.bindingHandlers.numericValue = {\\n        init: function(element, valueAccessor, allBindings, data, context) {\\n            var stringified = ko.observable(ko.unwrap(valueAccessor()));\\n            stringified.subscribe(function(value) {\\n                var val = parseFloat(value);\\n                if (!isNaN(val)) {\\n                    valueAccessor()(val);\\n                }\\n            });\\n            valueAccessor().subscribe(function(value) {\\n                var str = JSON.stringify(value);\\n                if ((str == \\\"0\\\") && ([\\\"-0\\\", \\\"-0.\\\"].indexOf(stringified()) >= 0))\\n                     return;\\n                 if ([\\\"null\\\", \\\"\\\"].indexOf(str) >= 0)\\n                     return;\\n                stringified(str);\\n            });\\n            ko.applyBindingsToNode(\\n                element,\\n                {\\n                    value: stringified,\\n                    valueUpdate: allBindings.get('valueUpdate'),\\n                },\\n                context,\\n            );\\n        }\\n    };\\n    var json_data = {\\\"formatted_vals\\\":[\\\"1\\\",\\\"2\\\",\\\"3\\\",\\\"4\\\",\\\"5\\\",\\\"6\\\",\\\"7\\\",\\\"8\\\",\\\"9\\\",\\\"10\\\",\\\"11\\\",\\\"12\\\",\\\"13\\\"],\\\"changes\\\":WebIO.getval({\\\"name\\\":\\\"changes\\\",\\\"scope\\\":\\\"12825570882666692336\\\",\\\"id\\\":\\\"3952192565909647089\\\",\\\"type\\\":\\\"observable\\\"}),\\\"index\\\":WebIO.getval({\\\"name\\\":\\\"index\\\",\\\"scope\\\":\\\"12825570882666692336\\\",\\\"id\\\":\\\"9687364447352050785\\\",\\\"type\\\":\\\"observable\\\"})};\\n    var self = this;\\n    function AppViewModel() {\\n        for (var key in json_data) {\\n            var el = json_data[key];\\n            this[key] = Array.isArray(el) ? ko.observableArray(el) : ko.observable(el);\\n        }\\n        \\n        [this[\\\"formatted_val\\\"]=ko.computed(    function(){\\n        return this.formatted_vals()[parseInt(this.index())-(1)];\\n    }\\n,this)]\\n        [this[\\\"changes\\\"].subscribe((function (val){!(this.valueFromJulia[\\\"changes\\\"]) ? (WebIO.setval({\\\"name\\\":\\\"changes\\\",\\\"scope\\\":\\\"12825570882666692336\\\",\\\"id\\\":\\\"3952192565909647089\\\",\\\"type\\\":\\\"observable\\\"},val)) : undefined; return this.valueFromJulia[\\\"changes\\\"]=false}),self),this[\\\"index\\\"].subscribe((function (val){!(this.valueFromJulia[\\\"index\\\"]) ? (WebIO.setval({\\\"name\\\":\\\"index\\\",\\\"scope\\\":\\\"12825570882666692336\\\",\\\"id\\\":\\\"9687364447352050785\\\",\\\"type\\\":\\\"observable\\\"},val)) : undefined; return this.valueFromJulia[\\\"index\\\"]=false}),self)]\\n        \\n    }\\n    self.model = new AppViewModel();\\n    self.valueFromJulia = {};\\n    for (var key in json_data) {\\n        self.valueFromJulia[key] = false;\\n    }\\n    ko.applyBindings(self.model, self.dom);\\n}\\n);\\n    (WebIO.importBlock({\\\"data\\\":[{\\\"name\\\":\\\"knockout\\\",\\\"type\\\":\\\"js\\\",\\\"url\\\":\\\"\\/assetserver\\/f83dc9757fede95ccda667ff812a2fcf4fcea406-knockout.js\\\"},{\\\"name\\\":\\\"knockout_punches\\\",\\\"type\\\":\\\"js\\\",\\\"url\\\":\\\"\\/assetserver\\/489381353c6689ef066cceedc5f4603376aece34-knockout_punches.js\\\"}],\\\"type\\\":\\\"async_block\\\"})).then((imports) => handler.apply(this, imports));\\n}\\n\"],\"observables\":{\"changes\":{\"sync\":false,\"id\":\"3952192565909647089\",\"value\":0},\"index\":{\"sync\":true,\"id\":\"9687364447352050785\",\"value\":7}}},\"children\":[{\"props\":{\"className\":\"interact-flex-row interact-widget\"},\"nodeType\":\"DOM\",\"type\":\"node\",\"instanceArgs\":{\"namespace\":\"html\",\"tag\":\"div\"},\"children\":[{\"props\":{\"className\":\"interact-flex-row-left\"},\"nodeType\":\"DOM\",\"type\":\"node\",\"instanceArgs\":{\"namespace\":\"html\",\"tag\":\"div\"},\"children\":[{\"props\":{\"className\":\"interact \",\"style\":{\"padding\":\"5px 10px 0px 10px\"}},\"nodeType\":\"DOM\",\"type\":\"node\",\"instanceArgs\":{\"namespace\":\"html\",\"tag\":\"label\"},\"children\":[\"t\"]}]},{\"props\":{\"className\":\"interact-flex-row-center\"},\"nodeType\":\"DOM\",\"type\":\"node\",\"instanceArgs\":{\"namespace\":\"html\",\"tag\":\"div\"},\"children\":[{\"props\":{\"max\":13,\"min\":1,\"attributes\":{\"type\":\"range\",\"data-bind\":\"numericValue: index, valueUpdate: 'input', event: {change: function (){this.changes(this.changes()+1)}}\",\"orient\":\"horizontal\"},\"step\":1,\"className\":\"slider slider is-fullwidth\",\"style\":{}},\"nodeType\":\"DOM\",\"type\":\"node\",\"instanceArgs\":{\"namespace\":\"html\",\"tag\":\"input\"},\"children\":[]}]},{\"props\":{\"className\":\"interact-flex-row-right\"},\"nodeType\":\"DOM\",\"type\":\"node\",\"instanceArgs\":{\"namespace\":\"html\",\"tag\":\"div\"},\"children\":[{\"props\":{\"attributes\":{\"data-bind\":\"text: formatted_val\"}},\"nodeType\":\"DOM\",\"type\":\"node\",\"instanceArgs\":{\"namespace\":\"html\",\"tag\":\"p\"},\"children\":[]}]}]}]}]},{\"props\":{},\"nodeType\":\"Scope\",\"type\":\"node\",\"instanceArgs\":{\"imports\":{\"data\":[],\"type\":\"async_block\"},\"id\":\"4765788615916682092\",\"handlers\":{},\"systemjs_options\":null,\"mount_callbacks\":[],\"observables\":{\"obs-node\":{\"sync\":false,\"id\":\"7706262865311932260\",\"value\":{\"props\":{\"className\":\"interact-flex-row interact-widget\"},\"nodeType\":\"DOM\",\"type\":\"node\",\"instanceArgs\":{\"namespace\":\"html\",\"tag\":\"div\"},\"children\":[{\"props\":{\"setInnerHtml\":\"<img src='data:image\\/png;base64,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'><\\/img>\"},\"nodeType\":\"DOM\",\"type\":\"node\",\"instanceArgs\":{\"namespace\":\"html\",\"tag\":\"div\"},\"children\":[]}]}}}},\"children\":[{\"props\":{},\"nodeType\":\"ObservableNode\",\"type\":\"node\",\"instanceArgs\":{\"id\":\"7706262865311932260\",\"name\":\"obs-node\"},\"children\":[]}]}]},\n",
       "            window,\n",
       "        );\n",
       "    } else {\n",
       "        document\n",
       "            .querySelector('[data-webio-mountpoint=\"168379385036609817\"]')\n",
       "            .innerHTML = (\n",
       "                '<div style=\"padding: 1em; background-color: #f8d6da; border: 1px solid #f5c6cb\">' +\n",
       "                '<p><strong>WebIO not detected.</strong></p>' +\n",
       "                '<p>Please read ' +\n",
       "                '<a href=\"https://juliagizmos.github.io/WebIO.jl/latest/troubleshooting/not-detected/\" target=\"_blank\">the troubleshooting guide</a> ' +\n",
       "                'for more information on how to resolve this issue.</p>' +\n",
       "                '<p><a href=\"https://juliagizmos.github.io/WebIO.jl/latest/troubleshooting/not-detected/\" target=\"_blank\">https://juliagizmos.github.io/WebIO.jl/latest/troubleshooting/not-detected/</a></p>' +\n",
       "                '</div>'\n",
       "            );\n",
       "    }\n",
       "    </script>\n",
       "</div>\n"
      ],
      "text/plain": [
       "Node{WebIO.DOM}(WebIO.DOM(:html, :div), Any[Node{WebIO.DOM}(WebIO.DOM(:html, :div), Any[Scope(Node{WebIO.DOM}(WebIO.DOM(:html, :div), Any[Node{WebIO.DOM}(WebIO.DOM(:html, :div), Any[Node{WebIO.DOM}(WebIO.DOM(:html, :label), Any[\"t\"], Dict{Symbol,Any}(:className => \"interact \",:style => Dict{Any,Any}(:padding => \"5px 10px 0px 10px\")))], Dict{Symbol,Any}(:className => \"interact-flex-row-left\")), Node{WebIO.DOM}(WebIO.DOM(:html, :div), Any[Node{WebIO.DOM}(WebIO.DOM(:html, :input), Any[], Dict{Symbol,Any}(:max => 13,:min => 1,:attributes => Dict{Any,Any}(:type => \"range\",Symbol(\"data-bind\") => \"numericValue: index, valueUpdate: 'input', event: {change: function (){this.changes(this.changes()+1)}}\",\"orient\" => \"horizontal\"),:step => 1,:className => \"slider slider is-fullwidth\",:style => Dict{Any,Any}()))], Dict{Symbol,Any}(:className => \"interact-flex-row-center\")), Node{WebIO.DOM}(WebIO.DOM(:html, :div), Any[Node{WebIO.DOM}(WebIO.DOM(:html, :p), Any[], Dict{Symbol,Any}(:attributes => Dict(\"data-bind\" => \"text: formatted_val\")))], Dict{Symbol,Any}(:className => \"interact-flex-row-right\"))], Dict{Symbol,Any}(:className => \"interact-flex-row interact-widget\")), Dict{String,Tuple{Observables.AbstractObservable,Union{Nothing, Bool}}}(\"changes\" => (Observable{Int64} with 1 listeners. Value:\n",
       "0, nothing),\"index\" => (Observable{Int64} with 2 listeners. Value:\n",
       "7, nothing)), Set{String}(), nothing, Asset[Asset(\"js\", \"knockout\", \"/scratch/users/shubhgup/julia/.julia/packages/Knockout/IP1uR/src/../assets/knockout.js\"), Asset(\"js\", \"knockout_punches\", \"/scratch/users/shubhgup/julia/.julia/packages/Knockout/IP1uR/src/../assets/knockout_punches.js\"), Asset(\"js\", nothing, \"/scratch/users/shubhgup/julia/.julia/packages/InteractBase/sOe2Z/src/../assets/all.js\"), Asset(\"css\", nothing, \"/scratch/users/shubhgup/julia/.julia/packages/InteractBase/sOe2Z/src/../assets/style.css\"), Asset(\"css\", nothing, \"/scratch/users/shubhgup/julia/.julia/packages/Interact/SbgIk/src/../assets/bulma_confined.min.css\")], Dict{Any,Any}(\"changes\" => Any[WebIO.JSString(\"(function (val){return (val!=this.model[\\\"changes\\\"]()) ? (this.valueFromJulia[\\\"changes\\\"]=true, this.model[\\\"changes\\\"](val)) : undefined})\")],\"index\" => Any[WebIO.JSString(\"(function (val){return (val!=this.model[\\\"index\\\"]()) ? (this.valueFromJulia[\\\"index\\\"]=true, this.model[\\\"index\\\"](val)) : undefined})\")]), WebIO.ConnectionPool(Channel{Any}(sz_max:32,sz_curr:0), Set{AbstractConnection}(), Base.GenericCondition{Base.AlwaysLockedST}(Base.InvasiveLinkedList{Task}(Task (runnable) @0x00007fa227ea09d0, Task (runnable) @0x00007fa227ea09d0), Base.AlwaysLockedST(1))), WebIO.JSString[WebIO.JSString(\"function () {\\n    var handler = (function (ko, koPunches) {\\n    ko.punches.enableAll();\\n    ko.bindingHandlers.numericValue = {\\n        init: function(element, valueAccessor, allBindings, data, context) {\\n            var stringified = ko.observable(ko.unwrap(valueAccessor()));\\n            stringified.subscribe(function(value) {\\n                var val = parseFloat(value);\\n                if (!isNaN(val)) {\\n                    valueAccessor()(val);\\n                }\\n            });\\n            valueAccessor().subscribe(function(value) {\\n                var str = JSON.stringify(value);\\n                if ((str == \\\"0\\\") && ([\\\"-0\\\", \\\"-0.\\\"].indexOf(stringified()) >= 0))\\n                     return;\\n                 if ([\\\"null\\\", \\\"\\\"].indexOf(str) >= 0)\\n                     return;\\n                stringified(str);\\n            });\\n            ko.applyBindingsToNode(\\n                element,\\n                {\\n                    value: stringified,\\n                    valueUpdate: allBindings.get('valueUpdate'),\\n                },\\n                context,\\n            );\\n        }\\n    };\\n    var json_data = {\\\"formatted_vals\\\":[\\\"1\\\",\\\"2\\\",\\\"3\\\",\\\"4\\\",\\\"5\\\",\\\"6\\\",\\\"7\\\",\\\"8\\\",\\\"9\\\",\\\"10\\\",\\\"11\\\",\\\"12\\\",\\\"13\\\"],\\\"changes\\\":WebIO.getval({\\\"name\\\":\\\"changes\\\",\\\"scope\\\":\\\"12825570882666692336\\\",\\\"id\\\":\\\"3952192565909647089\\\",\\\"type\\\":\\\"observable\\\"}),\\\"index\\\":WebIO.getval({\\\"name\\\":\\\"index\\\",\\\"scope\\\":\\\"12825570882666692336\\\",\\\"id\\\":\\\"9687364447352050785\\\",\\\"type\\\":\\\"observable\\\"})};\\n    var self = this;\\n    function AppViewModel() {\\n        for (var key in json_data) {\\n            var el = json_data[key];\\n            this[key] = Array.isArray(el) ? ko.observableArray(el) : ko.observable(el);\\n        }\\n        \\n        [this[\\\"formatted_val\\\"]=ko.computed(    function(){\\n        return this.formatted_vals()[parseInt(this.index())-(1)];\\n    }\\n,this)]\\n        [this[\\\"changes\\\"].subscribe((function (val){!(this.valueFromJulia[\\\"changes\\\"]) ? (WebIO.setval({\\\"name\\\":\\\"changes\\\",\\\"scope\\\":\\\"12825570882666692336\\\",\\\"id\\\":\\\"3952192565909647089\\\",\\\"type\\\":\\\"observable\\\"},val)) : undefined; return this.valueFromJulia[\\\"changes\\\"]=false}),self),this[\\\"index\\\"].subscribe((function (val){!(this.valueFromJulia[\\\"index\\\"]) ? (WebIO.setval({\\\"name\\\":\\\"index\\\",\\\"scope\\\":\\\"12825570882666692336\\\",\\\"id\\\":\\\"9687364447352050785\\\",\\\"type\\\":\\\"observable\\\"},val)) : undefined; return this.valueFromJulia[\\\"index\\\"]=false}),self)]\\n        \\n    }\\n    self.model = new AppViewModel();\\n    self.valueFromJulia = {};\\n    for (var key in json_data) {\\n        self.valueFromJulia[key] = false;\\n    }\\n    ko.applyBindings(self.model, self.dom);\\n}\\n);\\n    (WebIO.importBlock({\\\"data\\\":[{\\\"name\\\":\\\"knockout\\\",\\\"type\\\":\\\"js\\\",\\\"url\\\":\\\"/assetserver/f83dc9757fede95ccda667ff812a2fcf4fcea406-knockout.js\\\"},{\\\"name\\\":\\\"knockout_punches\\\",\\\"type\\\":\\\"js\\\",\\\"url\\\":\\\"/assetserver/489381353c6689ef066cceedc5f4603376aece34-knockout_punches.js\\\"}],\\\"type\\\":\\\"async_block\\\"})).then((imports) => handler.apply(this, imports));\\n}\\n\")])], Dict{Symbol,Any}(:className => \"field interact-widget\")), Observable{Any} with 0 listeners. Value:\n",
       "Node{WebIO.DOM}(WebIO.DOM(:html, :div), Any[Cairo.CairoSurfaceIOStream{UInt32}(Ptr{Nothing} @0x0000000014869300, 1000.0, 600.0, IOBuffer(data=UInt8[...], readable=true, writable=true, seekable=true, append=false, size=0, maxsize=Inf, ptr=1, mark=-1))], Dict{Symbol,Any}(:className => \"interact-flex-row interact-widget\"))], Dict{Symbol,Any}())"
      ]
     },
     "execution_count": 159,
     "metadata": {
      "application/vnd.webio.node+json": {
       "kernelId": "d22ad65a-4699-49cd-8c20-80bb0991e74b"
      }
     },
     "output_type": "execute_result"
    }
   ],
   "source": [
    "# t = 10\n",
    "@manipulate for t=1:length(ad_scenes_noise)\n",
    "    AutomotiveVisualization.render([ad_mdp.roadway, crosswalk, ad_scenes_noise[t]])\n",
    "end"
   ]
  },
  {
   "cell_type": "code",
   "execution_count": null,
   "metadata": {},
   "outputs": [],
   "source": [
    "# model(ad_mdp, sutid(ad_mdp)).observation_history[1]"
   ]
  },
  {
   "cell_type": "code",
   "execution_count": null,
   "metadata": {},
   "outputs": [],
   "source": [
    "@with_kw struct AutoRiskParams\n",
    "    endtime::Real = 30 # Simulate end time\n",
    "end;"
   ]
  },
  {
   "cell_type": "code",
   "execution_count": null,
   "metadata": {},
   "outputs": [],
   "source": [
    "@with_kw mutable struct AutoRiskSim <: GrayBox.Simulation\n",
    "    t::Real = 0 # Current time\n",
    "    params::AutoRiskParams = AutoRiskParams() # Parameters\n",
    "\n",
    "    # System under test, ego vehicle\n",
    "    sut = BlinkerVehicleAgent(get_ped_vehicle(id=1, s=5.0, v=15.0),\n",
    "                              TIDM(ped_TIDM_template, noisy_observations=true))\n",
    "\n",
    "    # Noisy adversary, pedestrian\n",
    "    adversary = NoisyPedestrianAgent(get_pedestrian_noisy(id=2, s=7.0, v=2.0, noise=init_noise),\n",
    "                                     AdversarialPedestrian())\n",
    "\n",
    "    # Adversarial Markov decision process\n",
    "    problem::MDP = AdversarialDrivingMDP(sut, [adversary], ped_roadway, 0.1)\n",
    "    state::Scene = rand(initialstate(problem))\n",
    "    prev_distance::Real = -Inf # Used when agent goes out of frame\n",
    "\n",
    "    # Noise distributions and disturbances\n",
    "    xposition_noise::Distribution = Normal(0, 5) # Gaussian noise (notice larger σ)\n",
    "    yposition_noise::Distribution = Normal(0, 1) # Gaussian noise\n",
    "    velocity_noise::Distribution = Normal(0, 1) # Gaussian noise\n",
    "    disturbances = Disturbance[PedestrianControl()] # Initial 0-noise disturbance\n",
    "end;"
   ]
  },
  {
   "cell_type": "code",
   "execution_count": null,
   "metadata": {},
   "outputs": [],
   "source": [
    "function GrayBox.environment(sim::AutoRiskSim)\n",
    "#     return GrayBox.Environment(:xpos => sim.xposition_noise,\n",
    "#                                :ypos => sim.yposition_noise,\n",
    "#                                :vel => sim.velocity_noise)\n",
    "    return GrayBox.Environment(:vel => sim.velocity_noise)\n",
    "end"
   ]
  },
  {
   "cell_type": "code",
   "execution_count": null,
   "metadata": {},
   "outputs": [],
   "source": [
    "function GrayBox.transition!(sim::AutoRiskSim, sample::GrayBox.EnvironmentSample)\n",
    "    sim.t += sim.problem.dt # Keep track of time\n",
    "\n",
    "    # replace current noise with new sampled noise\n",
    "#     noise = Noise((sample[:xpos].value, sample[:ypos].value), sample[:vel].value)\n",
    "    noise = Noise(pos = (0.0, 0.0), vel = sample[:vel].value)\n",
    "    sim.disturbances[1] = PedestrianControl(noise=noise)\n",
    "\n",
    "    # step agents: given MDP, current state, and current action (i.e. disturbances)\n",
    "    (sim.state, r) = @gen(:sp, :r)(sim.problem, sim.state, sim.disturbances)\n",
    "\n",
    "    # return log-likelihood of actions, summation handled by `logpdf()`\n",
    "    return logpdf(sample)::Real\n",
    "end"
   ]
  },
  {
   "cell_type": "code",
   "execution_count": null,
   "metadata": {},
   "outputs": [],
   "source": [
    "function BlackBox.initialize!(sim::AutoRiskSim)\n",
    "    sim.t = 0\n",
    "    sim.problem = AdversarialDrivingMDP(sim.sut, [sim.adversary], ped_roadway, 0.1)\n",
    "    sim.state = rand(initialstate(sim.problem))\n",
    "    sim.disturbances = Disturbance[PedestrianControl()] # noise-less\n",
    "    sim.prev_distance = -Inf\n",
    "end"
   ]
  },
  {
   "cell_type": "code",
   "execution_count": null,
   "metadata": {},
   "outputs": [],
   "source": [
    "simx = AutoRiskSim()\n",
    "BlackBox.initialize!(simx);"
   ]
  },
  {
   "cell_type": "code",
   "execution_count": null,
   "metadata": {},
   "outputs": [],
   "source": [
    "out_of_frame(sim) = length(sim.state.entities) < 2 # either agent went out of frame"
   ]
  },
  {
   "cell_type": "code",
   "execution_count": null,
   "metadata": {},
   "outputs": [],
   "source": [
    "function BlackBox.distance(sim::AutoRiskSim)\n",
    "    if out_of_frame(sim)\n",
    "        return sim.prev_distance\n",
    "    else\n",
    "        pedestrian, vehicle = sim.state.entities\n",
    "        pos1 = posg(pedestrian)\n",
    "        pos2 = posg(vehicle)\n",
    "        return hypot(pos1.x - pos2.x, pos1.y - pos2.y)\n",
    "    end\n",
    "end"
   ]
  },
  {
   "cell_type": "code",
   "execution_count": null,
   "metadata": {},
   "outputs": [],
   "source": [
    "begin\n",
    "    envsample = rand(GrayBox.environment(simx))\n",
    "    GrayBox.transition!(simx, envsample)\n",
    "    BlackBox.distance(simx)\n",
    "end"
   ]
  },
  {
   "cell_type": "code",
   "execution_count": null,
   "metadata": {},
   "outputs": [],
   "source": [
    "function BlackBox.isevent(sim::AutoRiskSim)\n",
    "    if out_of_frame(sim)\n",
    "        return false\n",
    "    else\n",
    "        pedestrian, vehicle = sim.state.entities\n",
    "        return collision_checker(pedestrian, vehicle)\n",
    "    end\n",
    "end"
   ]
  },
  {
   "cell_type": "code",
   "execution_count": null,
   "metadata": {},
   "outputs": [],
   "source": [
    "function BlackBox.isterminal(sim::AutoRiskSim)\n",
    "    return isterminal(sim.problem, sim.state) ||\n",
    "           out_of_frame(sim) ||\n",
    "           BlackBox.isevent(sim) ||\n",
    "           sim.t ≥ sim.params.endtime\n",
    "end"
   ]
  },
  {
   "cell_type": "code",
   "execution_count": null,
   "metadata": {},
   "outputs": [],
   "source": [
    "function BlackBox.evaluate!(sim::AutoRiskSim, sample::GrayBox.EnvironmentSample)\n",
    "    logprob::Real = GrayBox.transition!(sim, sample) # Step simulation\n",
    "    d::Real       = BlackBox.distance(sim)           # Calculate miss distance\n",
    "    event::Bool   = BlackBox.isevent(sim)            # Check event indication\n",
    "    sim.prev_distance = d                            # Store previous distance\n",
    "    return (logprob::Real, d::Real, event::Bool)\n",
    "end"
   ]
  },
  {
   "cell_type": "code",
   "execution_count": null,
   "metadata": {},
   "outputs": [],
   "source": [
    "begin\n",
    "    envsample2 = rand(GrayBox.environment(simx))\n",
    "    BlackBox.evaluate!(simx, envsample2) # (log-likelihood, distance, isevent)\n",
    "end"
   ]
  },
  {
   "cell_type": "code",
   "execution_count": null,
   "metadata": {},
   "outputs": [],
   "source": [
    "function setup_ast(seed=0)\n",
    "    # Create gray-box simulation object\n",
    "    sim::GrayBox.Simulation = AutoRiskSim()\n",
    "\n",
    "    # AST MDP formulation object\n",
    "    mdp::ASTMDP = ASTMDP{ASTSampleAction}(sim)\n",
    "    mdp.params.debug = true # record metrics\n",
    "    mdp.params.top_k = 10   # record top k best trajectories\n",
    "    mdp.params.seed = seed  # set RNG seed for determinism\n",
    "\n",
    "    # Hyperparameters for MCTS-PW as the solver\n",
    "    solver = MCTSPWSolver(n_iterations=1000,        # number of algorithm iterations\n",
    "                          exploration_constant=1.0, # UCT exploration\n",
    "                          k_action=1.0,             # action widening\n",
    "                          alpha_action=0.5,         # action widening\n",
    "                          depth=sim.params.endtime) # tree depth\n",
    "\n",
    "    # Get online planner (no work done, yet)\n",
    "    planner = solve(solver, mdp)\n",
    "\n",
    "    return planner\n",
    "end;"
   ]
  },
  {
   "cell_type": "code",
   "execution_count": null,
   "metadata": {},
   "outputs": [],
   "source": [
    "planner = setup_ast();"
   ]
  },
  {
   "cell_type": "code",
   "execution_count": null,
   "metadata": {},
   "outputs": [],
   "source": [
    "# action_trace = search!(planner)"
   ]
  },
  {
   "cell_type": "code",
   "execution_count": null,
   "metadata": {},
   "outputs": [],
   "source": [
    "# episodic_figures(planner.mdp, gui=false); POMDPStressTesting.gcf()"
   ]
  },
  {
   "cell_type": "code",
   "execution_count": null,
   "metadata": {},
   "outputs": [],
   "source": [
    "# distribution_figures(planner.mdp, gui=false); POMDPStressTesting.gcf()"
   ]
  },
  {
   "cell_type": "code",
   "execution_count": null,
   "metadata": {},
   "outputs": [],
   "source": [
    "# playback_trace = playback(planner, action_trace, BlackBox.distance, return_trace=true)"
   ]
  },
  {
   "cell_type": "code",
   "execution_count": null,
   "metadata": {},
   "outputs": [],
   "source": [
    "# failure_rate = print_metrics(planner)"
   ]
  },
  {
   "cell_type": "code",
   "execution_count": null,
   "metadata": {},
   "outputs": [],
   "source": [
    "# begin\n",
    "#     # TODO: get this index from the `trace` itself\n",
    "#     # findmax(planner.mdp.metrics.reward[planner.mdp.metrics.event])\n",
    "#     # findmax(ast_mdp.metrics.reward[ast_mdp.metrics.event])\n",
    "\n",
    "#     failure_likelihood =\n",
    "#         round(exp(maximum(planner.mdp.metrics.logprob[planner.mdp.metrics.event])), digits=4)\n",
    "\n",
    "#     Markdown.parse(string(\"\\$\\$p = \", failure_likelihood, \"\\$\\$\"))\n",
    "# end"
   ]
  },
  {
   "cell_type": "code",
   "execution_count": null,
   "metadata": {},
   "outputs": [],
   "source": [
    "# playback_trace = playback(planner, action_trace, sim->sim.state, return_trace=true)"
   ]
  },
  {
   "cell_type": "code",
   "execution_count": null,
   "metadata": {},
   "outputs": [],
   "source": [
    "# # t = 10\n",
    "# @manipulate for t=1:length(playback_trace)\n",
    "#     AutomotiveVisualization.render([planner.mdp.sim.problem.roadway, crosswalk, playback_trace[t]])\n",
    "# end"
   ]
  },
  {
   "cell_type": "markdown",
   "metadata": {},
   "source": [
    "### Rough"
   ]
  },
  {
   "cell_type": "code",
   "execution_count": null,
   "metadata": {},
   "outputs": [],
   "source": [
    "meas = AdversarialDriving.measure_gps(ped_state, [0.0, 0.0, 0.0, 0.0])"
   ]
  },
  {
   "cell_type": "code",
   "execution_count": null,
   "metadata": {},
   "outputs": [],
   "source": [
    "ped_state.state.veh_state"
   ]
  },
  {
   "cell_type": "code",
   "execution_count": null,
   "metadata": {},
   "outputs": [],
   "source": [
    "tmp = AdversarialDriving.localize(ped_state, [meas], planner.mdp.sim.problem.roadway)"
   ]
  }
 ],
 "metadata": {
  "@webio": {
   "lastCommId": "89c573f2942c460098e9a7670349625e",
   "lastKernelId": "d22ad65a-4699-49cd-8c20-80bb0991e74b"
  },
  "kernelspec": {
   "display_name": "Julia 1.5.1",
   "language": "julia",
   "name": "julia-1.5"
  },
  "language_info": {
   "file_extension": ".jl",
   "mimetype": "application/julia",
   "name": "julia",
   "version": "1.5.1"
  }
 },
 "nbformat": 4,
 "nbformat_minor": 2
}
