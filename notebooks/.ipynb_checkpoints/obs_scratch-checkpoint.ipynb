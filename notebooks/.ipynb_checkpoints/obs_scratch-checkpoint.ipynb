{
 "cells": [
  {
   "cell_type": "code",
   "execution_count": 8,
   "metadata": {},
   "outputs": [
    {
     "name": "stderr",
     "output_type": "stream",
     "text": [
      "\u001b[32m\u001b[1m Activating\u001b[22m\u001b[39m environment at `/scratch/users/shubhgup/julia/ast_obs/Project.toml`\n"
     ]
    }
   ],
   "source": [
    "using Pkg\n",
    "Pkg.activate(\"/scratch/users/shubhgup/julia/ast_obs\")"
   ]
  },
  {
   "cell_type": "code",
   "execution_count": 9,
   "metadata": {},
   "outputs": [],
   "source": [
    "using Markdown\n",
    "using InteractiveUtils\n",
    "using Interact\n",
    "using LinearAlgebra\n",
    "using Plots\n",
    "using Statistics\n",
    "using Distributions, Parameters, Random, Latexify\n",
    "using AutomotiveSimulator, AutomotiveVisualization\n",
    "using POMDPs, POMDPPolicies, POMDPSimulators"
   ]
  },
  {
   "cell_type": "code",
   "execution_count": 10,
   "metadata": {},
   "outputs": [],
   "source": [
    "using POMDPStressTesting"
   ]
  },
  {
   "cell_type": "code",
   "execution_count": 11,
   "metadata": {},
   "outputs": [
    {
     "name": "stderr",
     "output_type": "stream",
     "text": [
      "┌ Info: Precompiling Revise [295af30f-e4ad-537b-8983-00126c2a3abe]\n",
      "└ @ Base loading.jl:1278\n"
     ]
    }
   ],
   "source": [
    "using Revise"
   ]
  },
  {
   "cell_type": "code",
   "execution_count": 12,
   "metadata": {},
   "outputs": [],
   "source": [
    "using AdversarialDriving"
   ]
  },
  {
   "cell_type": "code",
   "execution_count": 13,
   "metadata": {},
   "outputs": [],
   "source": [
    "Base.rand(rng::AbstractRNG, s::Scene) = s"
   ]
  },
  {
   "cell_type": "code",
   "execution_count": 14,
   "metadata": {},
   "outputs": [],
   "source": [
    "# Pkg.develop(url=\"https://github.com/sisl/AdversarialDriving.jl\")\n",
    "# Pkg.develop(PackageSpec(url=\"/home/users/shubhgup/Codes/julia_learn/scripts/AutonomousRiskFramework/AdversarialDriving.jl\"))\n",
    "# Pkg.develop(PackageSpec(url=\"/home/users/shubhgup/Codes/julia_learn/scripts/AutonomousRiskFramework/RiskSimulator.jl\"))\n",
    "# Pkg.develop(PackageSpec(url=\"/home/users/shubhgup/Codes/julia_learn/scripts/AutonomousRiskFramework/STLCG.jl\"))"
   ]
  },
  {
   "cell_type": "code",
   "execution_count": 83,
   "metadata": {},
   "outputs": [],
   "source": [
    "using CrossEntropyMethod"
   ]
  },
  {
   "cell_type": "markdown",
   "metadata": {},
   "source": [
    "### Function Definitions"
   ]
  },
  {
   "cell_type": "code",
   "execution_count": 15,
   "metadata": {},
   "outputs": [],
   "source": [
    "# # The function that propagates the PedestrianControl action\n",
    "# function AdversarialDriving.propagate(ped::Entity{NoisyPedState, D, I}, action::PedestrianControl, roadway::Roadway, Δt::Float64) where {D, I}\n",
    "#     starting_lane = laneid(ped)\n",
    "#     vs_entity = Entity(ped.state.veh_state, ped.def, ped.id)\n",
    "#     a_lat_lon = reverse(action.a + action.da)\n",
    "#     vs = propagate(vs_entity, LatLonAccel(a_lat_lon...), roadway, Δt)\n",
    "#     upd_noise = Noise((ped.state.noise.pos[1] + action.noise.pos[1] + action.noise.vel*Δt, ped.state.noise.pos[2] + action.noise.pos[2]), action.noise.vel)\n",
    "#     nps = NoisyPedState(AdversarialDriving.set_lane(vs, laneid(ped), roadway), upd_noise)\n",
    "#     @assert starting_lane == laneid(nps)\n",
    "#     nps\n",
    "# end"
   ]
  },
  {
   "cell_type": "code",
   "execution_count": 16,
   "metadata": {},
   "outputs": [],
   "source": [
    "# # The function to get GPS measurements for pedestrian, compute state estimate and update noise\n",
    "# function measure_gps(ped::Entity{NoisyPedState, D, I}, fixed_sat::Array{Satellite}, noise::Array{Float64}) where {D, I}\n",
    "#     ped_pos = posg(ped)\n",
    "    \n",
    "#     ranges = Union{Missing, GPSRangeMeasurement}[]\n",
    "    \n",
    "#     for i in 1:length(fixed_sat)\n",
    "#         satpos = fixed_sat[i].pos\n",
    "#         if fixed_sat[i].visible==true\n",
    "#             range = hypot(ped_pos.x - satpos.x, ped_pos.y - satpos.y, satpos.z)\n",
    "#             push!(ranges, GPSRangeMeasurement(range=range, noise=noise[i]))\n",
    "#         else\n",
    "#             push!(ranges, missing)\n",
    "#         end\n",
    "#     end\n",
    "    \n",
    "#     ranges\n",
    "# end"
   ]
  },
  {
   "cell_type": "code",
   "execution_count": 17,
   "metadata": {},
   "outputs": [],
   "source": [
    "# measure_gps(ped_state, fixed_sat, [0.0, 0.0, 0.0, 0.0])"
   ]
  },
  {
   "cell_type": "code",
   "execution_count": 18,
   "metadata": {},
   "outputs": [],
   "source": [
    "# function update_all_measurements(ped::Entity{NoisyPedState, D, I}, all_measurements) where {D, I}\n",
    "#     single_time_measurements = Array{Measurement}[] \n",
    "# end"
   ]
  },
  {
   "cell_type": "code",
   "execution_count": 19,
   "metadata": {},
   "outputs": [],
   "source": [
    "# # Instructions for rendering the noisy pedestrian\n",
    "# function AutomotiveVisualization.add_renderable!(rendermodel::RenderModel, ped::Entity{NoisyPedState, VehicleDef, Int64})\n",
    "#     reg_ped = Entity(ped.state.veh_state, ped.def, ped.id)\n",
    "#     add_renderable!(rendermodel, FancyPedestrian(ped=reg_ped))\n",
    "#     noisy_ped = Entity(noisy_entity(ped, ad_mdp.roadway).state.veh_state, ped.def, ped.id)\n",
    "#     ghost_color = weighted_color_mean(0.3, colorant\"blue\", colorant\"white\")\n",
    "#     add_renderable!(rendermodel, FancyPedestrian(ped=noisy_ped, color=ghost_color))\n",
    "#     return rendermodel\n",
    "# end"
   ]
  },
  {
   "cell_type": "code",
   "execution_count": 20,
   "metadata": {},
   "outputs": [],
   "source": [
    "# function AdversarialDriving.update_adversary!(adversary::Agent, action::Disturbance, s::Scene)\n",
    "#     index = findfirst(id(adversary), s)\n",
    "#     isnothing(index) && return nothing # If the adversary is not in the scene then don't update\n",
    "#     adversary.model.next_action = action # Set the adversaries next action\n",
    "#     # veh = s[index] # Get the actual entity\n",
    "#     # state_type = typeof(veh.state) # Find out the type of its state\n",
    "#     # s[index] =  Entity(state_type(veh.state, noise = action.noise), veh.def, veh.id) # replace the entity in the scene\n",
    "# end"
   ]
  },
  {
   "cell_type": "code",
   "execution_count": 21,
   "metadata": {},
   "outputs": [],
   "source": [
    "# Function to assign action as state noise directly\n",
    "function AdversarialDriving.localize(ped::Entity{NoisyPedState, D, I}, action::PedestrianControl, meas, roadway::Roadway) where {D,I}\n",
    "    upd_noise = Noise(pos = (action.noise.pos[1], action.noise.pos[2]), vel = action.noise.vel)\n",
    "    nps = NoisyPedState(ped.state.veh_state, upd_noise)\n",
    "    nps\n",
    "end"
   ]
  },
  {
   "cell_type": "code",
   "execution_count": 22,
   "metadata": {},
   "outputs": [],
   "source": [
    "# # Function to track the state of a pedestrian using velocity measurements\n",
    "# function AdversarialDriving.localize(ped::Entity{NoisyPedState, D, I}, action::PedestrianControl, meas, roadway::Roadway) where {D,I}\n",
    "#     # TODO: Replace with a higher-fidelity localization routine\n",
    "#     ped_noise = noise(ped)\n",
    "#     upd_noise = Noise(pos = (ped_noise.pos[1] + action.noise.vel*0.1, ped_noise.pos[2]), vel = action.noise.vel)\n",
    "#     nps = NoisyPedState(ped.state.veh_state, upd_noise)\n",
    "#     nps\n",
    "# end"
   ]
  },
  {
   "cell_type": "code",
   "execution_count": 23,
   "metadata": {},
   "outputs": [],
   "source": [
    "# # # Function to estimate the state of a pedestrian using GPS measurements\n",
    "# function localize(ped::Entity{NoisyPedState, D, I}, action::PedestrianControl, meas, roadway::Roadway) where {D,I}\n",
    "#     # TODO: Replace with a higher-fidelity localization routine\n",
    "#     last_meas = last(meas)\n",
    "#     gps_fix = GPS_fix(last_meas)\n",
    "#     ped_pos = posg(ped)\n",
    "#     upd_noise = Noise(pos = (gps_fix[1] - ped_pos.x, gps_fix[2] - ped_pos.y), vel = action.noise.vel)\n",
    "#     nps = NoisyPedState(ped.state.veh_state, upd_noise)\n",
    "#     nps\n",
    "# end"
   ]
  },
  {
   "cell_type": "code",
   "execution_count": 24,
   "metadata": {},
   "outputs": [],
   "source": [
    "# function logprob(ped::Entity{NoisyPedState, D, I}, action::PedestrianControl, meas, roadway::Roadway) where {D,I}\n",
    "    \n",
    "# end"
   ]
  },
  {
   "cell_type": "markdown",
   "metadata": {},
   "source": [
    "### Main"
   ]
  },
  {
   "cell_type": "code",
   "execution_count": 26,
   "metadata": {},
   "outputs": [
    {
     "data": {
      "text/plain": [
       "Noise\n",
       "  pos: VecE2{Float64}\n",
       "  vel: Float64 0.0\n",
       "  gps_range: Array{Float64}((5,)) [0.0, 0.0, 0.0, 0.0, 0.0]\n"
      ]
     },
     "execution_count": 26,
     "metadata": {},
     "output_type": "execute_result"
    }
   ],
   "source": [
    "init_noise = Noise(pos = (0, 0), vel = 0, gps_range = [0.0, 0.0, 0.0, 0.0, 0.0])\n",
    "cont_noise = Noise(pos = (-7, 0), vel = 0, gps_range = [0.0, 0.0, 0.0, 0.0, 0.0])"
   ]
  },
  {
   "cell_type": "code",
   "execution_count": 27,
   "metadata": {},
   "outputs": [],
   "source": [
    "# init_noise = Noise(pos = (0, 0), vel = 0)\n",
    "# cont_noise = Noise(pos = (-7, 0), vel = 0)"
   ]
  },
  {
   "cell_type": "code",
   "execution_count": 28,
   "metadata": {},
   "outputs": [],
   "source": [
    "sut_agent = BlinkerVehicleAgent(get_ped_vehicle(id=1, s=5.0, v=15.0),\n",
    "    TIDM(ped_TIDM_template, noisy_observations=true));"
   ]
  },
  {
   "cell_type": "code",
   "execution_count": 29,
   "metadata": {},
   "outputs": [
    {
     "data": {
      "text/plain": [
       "get_pedestrian_noisy (generic function with 1 method)"
      ]
     },
     "execution_count": 29,
     "metadata": {},
     "output_type": "execute_result"
    }
   ],
   "source": [
    "get_pedestrian_noisy(;id::Int64, s::Float64, v::Float64, noise::Noise) = (rng::AbstractRNG = Random.GLOBAL_RNG) -> NoisyPedestrian(roadway = AdversarialDriving.ped_roadway, lane = 2, s=s, v=v, id=id, noise=noise)"
   ]
  },
  {
   "cell_type": "code",
   "execution_count": 30,
   "metadata": {},
   "outputs": [],
   "source": [
    "adv_ped = NoisyPedestrianAgent(get_pedestrian_noisy(id=2, s=7.0, v=2.0, noise=init_noise), AdversarialPedestrian());"
   ]
  },
  {
   "cell_type": "code",
   "execution_count": 31,
   "metadata": {},
   "outputs": [],
   "source": [
    "ad_mdp = AdversarialDrivingMDP(sut_agent, [adv_ped], ped_roadway, 0.1);"
   ]
  },
  {
   "cell_type": "code",
   "execution_count": 32,
   "metadata": {},
   "outputs": [
    {
     "data": {
      "text/plain": [
       "Scene{Entity{S,VehicleDef,Int64} where S}(2 entities)"
      ]
     },
     "execution_count": 32,
     "metadata": {},
     "output_type": "execute_result"
    }
   ],
   "source": [
    "ped_state, veh_state = initialstate(ad_mdp)"
   ]
  },
  {
   "cell_type": "code",
   "execution_count": 33,
   "metadata": {},
   "outputs": [
    {
     "data": {
      "text/plain": [
       "1-element Array{Disturbance,1}:\n",
       " PedestrianControl\n",
       "  a: VecE2{Float64}\n",
       "  da: VecE2{Float64}\n",
       "  noise: Noise\n"
      ]
     },
     "execution_count": 33,
     "metadata": {},
     "output_type": "execute_result"
    }
   ],
   "source": [
    "noisy_action = Disturbance[PedestrianControl(a=VecE2(0, 0), da=VecE2(0, 0), noise=cont_noise)]"
   ]
  },
  {
   "cell_type": "code",
   "execution_count": 34,
   "metadata": {},
   "outputs": [],
   "source": [
    "# Behavior with noise\n",
    "hist_noise = POMDPSimulators.simulate(HistoryRecorder(), ad_mdp,\n",
    "    FunctionPolicy((s) -> noisy_action));"
   ]
  },
  {
   "cell_type": "code",
   "execution_count": 35,
   "metadata": {},
   "outputs": [
    {
     "data": {
      "text/plain": [
       "12-element Array{Tuple{Float64,Float64,Float64},1}:\n",
       " (-2.9999999999999982, -2.9999999999999982, 0.0)\n",
       " (-2.799999999999998, -9.8, -7.0)\n",
       " (-2.599999999999997, -9.599999999999994, -7.0)\n",
       " (-2.3999999999999977, -9.399999999999999, -7.0)\n",
       " (-2.1999999999999975, -9.2, -7.0)\n",
       " (-1.9999999999999982, -9.0, -7.0)\n",
       " (-1.799999999999999, -8.799999999999999, -7.0)\n",
       " (-1.5999999999999996, -8.599999999999998, -7.0)\n",
       " (-1.4000000000000004, -8.399999999999999, -7.0)\n",
       " (-1.200000000000001, -8.200000000000003, -7.0)\n",
       " (-1.0, -7.999999999999998, -7.0)\n",
       " (-0.7999999999999989, -7.799999999999998, -7.0)"
      ]
     },
     "execution_count": 35,
     "metadata": {},
     "output_type": "execute_result"
    }
   ],
   "source": [
    "map(x -> (x.entities[1].state.veh_state.posG[2], AdversarialDriving.noisy_entity(x.entities[1], ad_mdp.roadway).state.veh_state.posG[2], noise(x.entities[1]).pos[1]) , POMDPSimulators.stepthrough(ad_mdp, FunctionPolicy((s) -> noisy_action), \"s\", max_steps=20))"
   ]
  },
  {
   "cell_type": "code",
   "execution_count": 36,
   "metadata": {},
   "outputs": [],
   "source": [
    "ad_scenes_noise = state_hist(hist_noise);"
   ]
  },
  {
   "cell_type": "code",
   "execution_count": 37,
   "metadata": {},
   "outputs": [
    {
     "data": {
      "application/vnd.webio.node+json": {
       "children": [
        {
         "children": [
          {
           "children": [
            {
             "children": [
              {
               "children": [
                {
                 "children": [
                  "t"
                 ],
                 "instanceArgs": {
                  "namespace": "html",
                  "tag": "label"
                 },
                 "nodeType": "DOM",
                 "props": {
                  "className": "interact ",
                  "style": {
                   "padding": "5px 10px 0px 10px"
                  }
                 },
                 "type": "node"
                }
               ],
               "instanceArgs": {
                "namespace": "html",
                "tag": "div"
               },
               "nodeType": "DOM",
               "props": {
                "className": "interact-flex-row-left"
               },
               "type": "node"
              },
              {
               "children": [
                {
                 "children": [],
                 "instanceArgs": {
                  "namespace": "html",
                  "tag": "input"
                 },
                 "nodeType": "DOM",
                 "props": {
                  "attributes": {
                   "data-bind": "numericValue: index, valueUpdate: 'input', event: {change: function (){this.changes(this.changes()+1)}}",
                   "orient": "horizontal",
                   "type": "range"
                  },
                  "className": "slider slider is-fullwidth",
                  "max": 13,
                  "min": 1,
                  "step": 1,
                  "style": {}
                 },
                 "type": "node"
                }
               ],
               "instanceArgs": {
                "namespace": "html",
                "tag": "div"
               },
               "nodeType": "DOM",
               "props": {
                "className": "interact-flex-row-center"
               },
               "type": "node"
              },
              {
               "children": [
                {
                 "children": [],
                 "instanceArgs": {
                  "namespace": "html",
                  "tag": "p"
                 },
                 "nodeType": "DOM",
                 "props": {
                  "attributes": {
                   "data-bind": "text: formatted_val"
                  }
                 },
                 "type": "node"
                }
               ],
               "instanceArgs": {
                "namespace": "html",
                "tag": "div"
               },
               "nodeType": "DOM",
               "props": {
                "className": "interact-flex-row-right"
               },
               "type": "node"
              }
             ],
             "instanceArgs": {
              "namespace": "html",
              "tag": "div"
             },
             "nodeType": "DOM",
             "props": {
              "className": "interact-flex-row interact-widget"
             },
             "type": "node"
            }
           ],
           "instanceArgs": {
            "handlers": {
             "changes": [
              "(function (val){return (val!=this.model[\"changes\"]()) ? (this.valueFromJulia[\"changes\"]=true, this.model[\"changes\"](val)) : undefined})"
             ],
             "index": [
              "(function (val){return (val!=this.model[\"index\"]()) ? (this.valueFromJulia[\"index\"]=true, this.model[\"index\"](val)) : undefined})"
             ]
            },
            "id": "1059373417940088714",
            "imports": {
             "data": [
              {
               "name": "knockout",
               "type": "js",
               "url": "/assetserver/f83dc9757fede95ccda667ff812a2fcf4fcea406-knockout.js"
              },
              {
               "name": "knockout_punches",
               "type": "js",
               "url": "/assetserver/489381353c6689ef066cceedc5f4603376aece34-knockout_punches.js"
              },
              {
               "name": null,
               "type": "js",
               "url": "/assetserver/2b9a0101b1182967c1bc8e647e40e503b7f91214-all.js"
              },
              {
               "name": null,
               "type": "css",
               "url": "/assetserver/16c36b047c84a455687c728543beff2b71551cae-style.css"
              },
              {
               "name": null,
               "type": "css",
               "url": "/assetserver/d905e3af6552e0c7d3e81225bc2f25b3475dc59b-bulma_confined.min.css"
              }
             ],
             "type": "async_block"
            },
            "mount_callbacks": [
             "function () {\n    var handler = (function (ko, koPunches) {\n    ko.punches.enableAll();\n    ko.bindingHandlers.numericValue = {\n        init: function(element, valueAccessor, allBindings, data, context) {\n            var stringified = ko.observable(ko.unwrap(valueAccessor()));\n            stringified.subscribe(function(value) {\n                var val = parseFloat(value);\n                if (!isNaN(val)) {\n                    valueAccessor()(val);\n                }\n            });\n            valueAccessor().subscribe(function(value) {\n                var str = JSON.stringify(value);\n                if ((str == \"0\") && ([\"-0\", \"-0.\"].indexOf(stringified()) >= 0))\n                     return;\n                 if ([\"null\", \"\"].indexOf(str) >= 0)\n                     return;\n                stringified(str);\n            });\n            ko.applyBindingsToNode(\n                element,\n                {\n                    value: stringified,\n                    valueUpdate: allBindings.get('valueUpdate'),\n                },\n                context,\n            );\n        }\n    };\n    var json_data = {\"formatted_vals\":[\"1\",\"2\",\"3\",\"4\",\"5\",\"6\",\"7\",\"8\",\"9\",\"10\",\"11\",\"12\",\"13\"],\"changes\":WebIO.getval({\"name\":\"changes\",\"scope\":\"1059373417940088714\",\"id\":\"295128136939993728\",\"type\":\"observable\"}),\"index\":WebIO.getval({\"name\":\"index\",\"scope\":\"1059373417940088714\",\"id\":\"13270233752323858205\",\"type\":\"observable\"})};\n    var self = this;\n    function AppViewModel() {\n        for (var key in json_data) {\n            var el = json_data[key];\n            this[key] = Array.isArray(el) ? ko.observableArray(el) : ko.observable(el);\n        }\n        \n        [this[\"formatted_val\"]=ko.computed(    function(){\n        return this.formatted_vals()[parseInt(this.index())-(1)];\n    }\n,this)]\n        [this[\"changes\"].subscribe((function (val){!(this.valueFromJulia[\"changes\"]) ? (WebIO.setval({\"name\":\"changes\",\"scope\":\"1059373417940088714\",\"id\":\"295128136939993728\",\"type\":\"observable\"},val)) : undefined; return this.valueFromJulia[\"changes\"]=false}),self),this[\"index\"].subscribe((function (val){!(this.valueFromJulia[\"index\"]) ? (WebIO.setval({\"name\":\"index\",\"scope\":\"1059373417940088714\",\"id\":\"13270233752323858205\",\"type\":\"observable\"},val)) : undefined; return this.valueFromJulia[\"index\"]=false}),self)]\n        \n    }\n    self.model = new AppViewModel();\n    self.valueFromJulia = {};\n    for (var key in json_data) {\n        self.valueFromJulia[key] = false;\n    }\n    ko.applyBindings(self.model, self.dom);\n}\n);\n    (WebIO.importBlock({\"data\":[{\"name\":\"knockout\",\"type\":\"js\",\"url\":\"/assetserver/f83dc9757fede95ccda667ff812a2fcf4fcea406-knockout.js\"},{\"name\":\"knockout_punches\",\"type\":\"js\",\"url\":\"/assetserver/489381353c6689ef066cceedc5f4603376aece34-knockout_punches.js\"}],\"type\":\"async_block\"})).then((imports) => handler.apply(this, imports));\n}\n"
            ],
            "observables": {
             "changes": {
              "id": "295128136939993728",
              "sync": false,
              "value": 0
             },
             "index": {
              "id": "13270233752323858205",
              "sync": true,
              "value": 7
             }
            },
            "systemjs_options": null
           },
           "nodeType": "Scope",
           "props": {},
           "type": "node"
          }
         ],
         "instanceArgs": {
          "namespace": "html",
          "tag": "div"
         },
         "nodeType": "DOM",
         "props": {
          "className": "field interact-widget"
         },
         "type": "node"
        },
        {
         "children": [
          {
           "children": [],
           "instanceArgs": {
            "id": "7285641059372592177",
            "name": "obs-node"
           },
           "nodeType": "ObservableNode",
           "props": {},
           "type": "node"
          }
         ],
         "instanceArgs": {
          "handlers": {},
          "id": "10962502122470349904",
          "imports": {
           "data": [],
           "type": "async_block"
          },
          "mount_callbacks": [],
          "observables": {
           "obs-node": {
            "id": "7285641059372592177",
            "sync": false,
            "value": {
             "children": [
              {
               "children": [],
               "instanceArgs": {
                "namespace": "html",
                "tag": "div"
               },
               "nodeType": "DOM",
               "props": {
                "setInnerHtml": "<img src='data:image/png;base64,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'></img>"
               },
               "type": "node"
              }
             ],
             "instanceArgs": {
              "namespace": "html",
              "tag": "div"
             },
             "nodeType": "DOM",
             "props": {
              "className": "interact-flex-row interact-widget"
             },
             "type": "node"
            }
           }
          },
          "systemjs_options": null
         },
         "nodeType": "Scope",
         "props": {},
         "type": "node"
        }
       ],
       "instanceArgs": {
        "namespace": "html",
        "tag": "div"
       },
       "nodeType": "DOM",
       "props": {},
       "type": "node"
      },
      "text/html": [
       "<div\n",
       "    class=\"webio-mountpoint\"\n",
       "    data-webio-mountpoint=\"5303762066973021924\"\n",
       ">\n",
       "    <script>\n",
       "    if (window.require && require.defined && require.defined(\"nbextensions/webio-jupyter-notebook\")) {\n",
       "        console.log(\"Jupyter WebIO extension detected, not mounting.\");\n",
       "    } else if (window.WebIO) {\n",
       "        WebIO.mount(\n",
       "            document.querySelector('[data-webio-mountpoint=\"5303762066973021924\"]'),\n",
       "            {\"props\":{},\"nodeType\":\"DOM\",\"type\":\"node\",\"instanceArgs\":{\"namespace\":\"html\",\"tag\":\"div\"},\"children\":[{\"props\":{\"className\":\"field interact-widget\"},\"nodeType\":\"DOM\",\"type\":\"node\",\"instanceArgs\":{\"namespace\":\"html\",\"tag\":\"div\"},\"children\":[{\"props\":{},\"nodeType\":\"Scope\",\"type\":\"node\",\"instanceArgs\":{\"imports\":{\"data\":[{\"name\":\"knockout\",\"type\":\"js\",\"url\":\"\\/assetserver\\/f83dc9757fede95ccda667ff812a2fcf4fcea406-knockout.js\"},{\"name\":\"knockout_punches\",\"type\":\"js\",\"url\":\"\\/assetserver\\/489381353c6689ef066cceedc5f4603376aece34-knockout_punches.js\"},{\"name\":null,\"type\":\"js\",\"url\":\"\\/assetserver\\/2b9a0101b1182967c1bc8e647e40e503b7f91214-all.js\"},{\"name\":null,\"type\":\"css\",\"url\":\"\\/assetserver\\/16c36b047c84a455687c728543beff2b71551cae-style.css\"},{\"name\":null,\"type\":\"css\",\"url\":\"\\/assetserver\\/d905e3af6552e0c7d3e81225bc2f25b3475dc59b-bulma_confined.min.css\"}],\"type\":\"async_block\"},\"id\":\"1059373417940088714\",\"handlers\":{\"changes\":[\"(function (val){return (val!=this.model[\\\"changes\\\"]()) ? (this.valueFromJulia[\\\"changes\\\"]=true, this.model[\\\"changes\\\"](val)) : undefined})\"],\"index\":[\"(function (val){return (val!=this.model[\\\"index\\\"]()) ? (this.valueFromJulia[\\\"index\\\"]=true, this.model[\\\"index\\\"](val)) : undefined})\"]},\"systemjs_options\":null,\"mount_callbacks\":[\"function () {\\n    var handler = (function (ko, koPunches) {\\n    ko.punches.enableAll();\\n    ko.bindingHandlers.numericValue = {\\n        init: function(element, valueAccessor, allBindings, data, context) {\\n            var stringified = ko.observable(ko.unwrap(valueAccessor()));\\n            stringified.subscribe(function(value) {\\n                var val = parseFloat(value);\\n                if (!isNaN(val)) {\\n                    valueAccessor()(val);\\n                }\\n            });\\n            valueAccessor().subscribe(function(value) {\\n                var str = JSON.stringify(value);\\n                if ((str == \\\"0\\\") && ([\\\"-0\\\", \\\"-0.\\\"].indexOf(stringified()) >= 0))\\n                     return;\\n                 if ([\\\"null\\\", \\\"\\\"].indexOf(str) >= 0)\\n                     return;\\n                stringified(str);\\n            });\\n            ko.applyBindingsToNode(\\n                element,\\n                {\\n                    value: stringified,\\n                    valueUpdate: allBindings.get('valueUpdate'),\\n                },\\n                context,\\n            );\\n        }\\n    };\\n    var json_data = {\\\"formatted_vals\\\":[\\\"1\\\",\\\"2\\\",\\\"3\\\",\\\"4\\\",\\\"5\\\",\\\"6\\\",\\\"7\\\",\\\"8\\\",\\\"9\\\",\\\"10\\\",\\\"11\\\",\\\"12\\\",\\\"13\\\"],\\\"changes\\\":WebIO.getval({\\\"name\\\":\\\"changes\\\",\\\"scope\\\":\\\"1059373417940088714\\\",\\\"id\\\":\\\"295128136939993728\\\",\\\"type\\\":\\\"observable\\\"}),\\\"index\\\":WebIO.getval({\\\"name\\\":\\\"index\\\",\\\"scope\\\":\\\"1059373417940088714\\\",\\\"id\\\":\\\"13270233752323858205\\\",\\\"type\\\":\\\"observable\\\"})};\\n    var self = this;\\n    function AppViewModel() {\\n        for (var key in json_data) {\\n            var el = json_data[key];\\n            this[key] = Array.isArray(el) ? ko.observableArray(el) : ko.observable(el);\\n        }\\n        \\n        [this[\\\"formatted_val\\\"]=ko.computed(    function(){\\n        return this.formatted_vals()[parseInt(this.index())-(1)];\\n    }\\n,this)]\\n        [this[\\\"changes\\\"].subscribe((function (val){!(this.valueFromJulia[\\\"changes\\\"]) ? (WebIO.setval({\\\"name\\\":\\\"changes\\\",\\\"scope\\\":\\\"1059373417940088714\\\",\\\"id\\\":\\\"295128136939993728\\\",\\\"type\\\":\\\"observable\\\"},val)) : undefined; return this.valueFromJulia[\\\"changes\\\"]=false}),self),this[\\\"index\\\"].subscribe((function (val){!(this.valueFromJulia[\\\"index\\\"]) ? (WebIO.setval({\\\"name\\\":\\\"index\\\",\\\"scope\\\":\\\"1059373417940088714\\\",\\\"id\\\":\\\"13270233752323858205\\\",\\\"type\\\":\\\"observable\\\"},val)) : undefined; return this.valueFromJulia[\\\"index\\\"]=false}),self)]\\n        \\n    }\\n    self.model = new AppViewModel();\\n    self.valueFromJulia = {};\\n    for (var key in json_data) {\\n        self.valueFromJulia[key] = false;\\n    }\\n    ko.applyBindings(self.model, self.dom);\\n}\\n);\\n    (WebIO.importBlock({\\\"data\\\":[{\\\"name\\\":\\\"knockout\\\",\\\"type\\\":\\\"js\\\",\\\"url\\\":\\\"\\/assetserver\\/f83dc9757fede95ccda667ff812a2fcf4fcea406-knockout.js\\\"},{\\\"name\\\":\\\"knockout_punches\\\",\\\"type\\\":\\\"js\\\",\\\"url\\\":\\\"\\/assetserver\\/489381353c6689ef066cceedc5f4603376aece34-knockout_punches.js\\\"}],\\\"type\\\":\\\"async_block\\\"})).then((imports) => handler.apply(this, imports));\\n}\\n\"],\"observables\":{\"changes\":{\"sync\":false,\"id\":\"295128136939993728\",\"value\":0},\"index\":{\"sync\":true,\"id\":\"13270233752323858205\",\"value\":7}}},\"children\":[{\"props\":{\"className\":\"interact-flex-row interact-widget\"},\"nodeType\":\"DOM\",\"type\":\"node\",\"instanceArgs\":{\"namespace\":\"html\",\"tag\":\"div\"},\"children\":[{\"props\":{\"className\":\"interact-flex-row-left\"},\"nodeType\":\"DOM\",\"type\":\"node\",\"instanceArgs\":{\"namespace\":\"html\",\"tag\":\"div\"},\"children\":[{\"props\":{\"className\":\"interact \",\"style\":{\"padding\":\"5px 10px 0px 10px\"}},\"nodeType\":\"DOM\",\"type\":\"node\",\"instanceArgs\":{\"namespace\":\"html\",\"tag\":\"label\"},\"children\":[\"t\"]}]},{\"props\":{\"className\":\"interact-flex-row-center\"},\"nodeType\":\"DOM\",\"type\":\"node\",\"instanceArgs\":{\"namespace\":\"html\",\"tag\":\"div\"},\"children\":[{\"props\":{\"max\":13,\"min\":1,\"attributes\":{\"type\":\"range\",\"data-bind\":\"numericValue: index, valueUpdate: 'input', event: {change: function (){this.changes(this.changes()+1)}}\",\"orient\":\"horizontal\"},\"step\":1,\"className\":\"slider slider is-fullwidth\",\"style\":{}},\"nodeType\":\"DOM\",\"type\":\"node\",\"instanceArgs\":{\"namespace\":\"html\",\"tag\":\"input\"},\"children\":[]}]},{\"props\":{\"className\":\"interact-flex-row-right\"},\"nodeType\":\"DOM\",\"type\":\"node\",\"instanceArgs\":{\"namespace\":\"html\",\"tag\":\"div\"},\"children\":[{\"props\":{\"attributes\":{\"data-bind\":\"text: formatted_val\"}},\"nodeType\":\"DOM\",\"type\":\"node\",\"instanceArgs\":{\"namespace\":\"html\",\"tag\":\"p\"},\"children\":[]}]}]}]}]},{\"props\":{},\"nodeType\":\"Scope\",\"type\":\"node\",\"instanceArgs\":{\"imports\":{\"data\":[],\"type\":\"async_block\"},\"id\":\"12169965150401211676\",\"handlers\":{},\"systemjs_options\":null,\"mount_callbacks\":[],\"observables\":{\"obs-node\":{\"sync\":false,\"id\":\"13507868595705455865\",\"value\":{\"props\":{\"className\":\"interact-flex-row interact-widget\"},\"nodeType\":\"DOM\",\"type\":\"node\",\"instanceArgs\":{\"namespace\":\"html\",\"tag\":\"div\"},\"children\":[{\"props\":{\"setInnerHtml\":\"<img src='data:image\\/png;base64,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'><\\/img>\"},\"nodeType\":\"DOM\",\"type\":\"node\",\"instanceArgs\":{\"namespace\":\"html\",\"tag\":\"div\"},\"children\":[]}]}}}},\"children\":[{\"props\":{},\"nodeType\":\"ObservableNode\",\"type\":\"node\",\"instanceArgs\":{\"id\":\"13507868595705455865\",\"name\":\"obs-node\"},\"children\":[]}]}]},\n",
       "            window,\n",
       "        );\n",
       "    } else {\n",
       "        document\n",
       "            .querySelector('[data-webio-mountpoint=\"5303762066973021924\"]')\n",
       "            .innerHTML = (\n",
       "                '<div style=\"padding: 1em; background-color: #f8d6da; border: 1px solid #f5c6cb\">' +\n",
       "                '<p><strong>WebIO not detected.</strong></p>' +\n",
       "                '<p>Please read ' +\n",
       "                '<a href=\"https://juliagizmos.github.io/WebIO.jl/latest/troubleshooting/not-detected/\" target=\"_blank\">the troubleshooting guide</a> ' +\n",
       "                'for more information on how to resolve this issue.</p>' +\n",
       "                '<p><a href=\"https://juliagizmos.github.io/WebIO.jl/latest/troubleshooting/not-detected/\" target=\"_blank\">https://juliagizmos.github.io/WebIO.jl/latest/troubleshooting/not-detected/</a></p>' +\n",
       "                '</div>'\n",
       "            );\n",
       "    }\n",
       "    </script>\n",
       "</div>\n"
      ],
      "text/plain": [
       "Node{WebIO.DOM}(WebIO.DOM(:html, :div), Any[Node{WebIO.DOM}(WebIO.DOM(:html, :div), Any[Scope(Node{WebIO.DOM}(WebIO.DOM(:html, :div), Any[Node{WebIO.DOM}(WebIO.DOM(:html, :div), Any[Node{WebIO.DOM}(WebIO.DOM(:html, :label), Any[\"t\"], Dict{Symbol,Any}(:className => \"interact \",:style => Dict{Any,Any}(:padding => \"5px 10px 0px 10px\")))], Dict{Symbol,Any}(:className => \"interact-flex-row-left\")), Node{WebIO.DOM}(WebIO.DOM(:html, :div), Any[Node{WebIO.DOM}(WebIO.DOM(:html, :input), Any[], Dict{Symbol,Any}(:max => 13,:min => 1,:attributes => Dict{Any,Any}(:type => \"range\",Symbol(\"data-bind\") => \"numericValue: index, valueUpdate: 'input', event: {change: function (){this.changes(this.changes()+1)}}\",\"orient\" => \"horizontal\"),:step => 1,:className => \"slider slider is-fullwidth\",:style => Dict{Any,Any}()))], Dict{Symbol,Any}(:className => \"interact-flex-row-center\")), Node{WebIO.DOM}(WebIO.DOM(:html, :div), Any[Node{WebIO.DOM}(WebIO.DOM(:html, :p), Any[], Dict{Symbol,Any}(:attributes => Dict(\"data-bind\" => \"text: formatted_val\")))], Dict{Symbol,Any}(:className => \"interact-flex-row-right\"))], Dict{Symbol,Any}(:className => \"interact-flex-row interact-widget\")), Dict{String,Tuple{Observables.AbstractObservable,Union{Nothing, Bool}}}(\"changes\" => (Observable{Int64} with 1 listeners. Value:\n",
       "0, nothing),\"index\" => (Observable{Int64} with 2 listeners. Value:\n",
       "7, nothing)), Set{String}(), nothing, Asset[Asset(\"js\", \"knockout\", \"/scratch/users/shubhgup/julia/.julia/packages/Knockout/IP1uR/src/../assets/knockout.js\"), Asset(\"js\", \"knockout_punches\", \"/scratch/users/shubhgup/julia/.julia/packages/Knockout/IP1uR/src/../assets/knockout_punches.js\"), Asset(\"js\", nothing, \"/scratch/users/shubhgup/julia/.julia/packages/InteractBase/sOe2Z/src/../assets/all.js\"), Asset(\"css\", nothing, \"/scratch/users/shubhgup/julia/.julia/packages/InteractBase/sOe2Z/src/../assets/style.css\"), Asset(\"css\", nothing, \"/scratch/users/shubhgup/julia/.julia/packages/Interact/SbgIk/src/../assets/bulma_confined.min.css\")], Dict{Any,Any}(\"changes\" => Any[WebIO.JSString(\"(function (val){return (val!=this.model[\\\"changes\\\"]()) ? (this.valueFromJulia[\\\"changes\\\"]=true, this.model[\\\"changes\\\"](val)) : undefined})\")],\"index\" => Any[WebIO.JSString(\"(function (val){return (val!=this.model[\\\"index\\\"]()) ? (this.valueFromJulia[\\\"index\\\"]=true, this.model[\\\"index\\\"](val)) : undefined})\")]), WebIO.ConnectionPool(Channel{Any}(sz_max:32,sz_curr:0), Set{AbstractConnection}(), Base.GenericCondition{Base.AlwaysLockedST}(Base.InvasiveLinkedList{Task}(Task (runnable) @0x00007f6f62ab24a0, Task (runnable) @0x00007f6f62ab24a0), Base.AlwaysLockedST(1))), WebIO.JSString[WebIO.JSString(\"function () {\\n    var handler = (function (ko, koPunches) {\\n    ko.punches.enableAll();\\n    ko.bindingHandlers.numericValue = {\\n        init: function(element, valueAccessor, allBindings, data, context) {\\n            var stringified = ko.observable(ko.unwrap(valueAccessor()));\\n            stringified.subscribe(function(value) {\\n                var val = parseFloat(value);\\n                if (!isNaN(val)) {\\n                    valueAccessor()(val);\\n                }\\n            });\\n            valueAccessor().subscribe(function(value) {\\n                var str = JSON.stringify(value);\\n                if ((str == \\\"0\\\") && ([\\\"-0\\\", \\\"-0.\\\"].indexOf(stringified()) >= 0))\\n                     return;\\n                 if ([\\\"null\\\", \\\"\\\"].indexOf(str) >= 0)\\n                     return;\\n                stringified(str);\\n            });\\n            ko.applyBindingsToNode(\\n                element,\\n                {\\n                    value: stringified,\\n                    valueUpdate: allBindings.get('valueUpdate'),\\n                },\\n                context,\\n            );\\n        }\\n    };\\n    var json_data = {\\\"formatted_vals\\\":[\\\"1\\\",\\\"2\\\",\\\"3\\\",\\\"4\\\",\\\"5\\\",\\\"6\\\",\\\"7\\\",\\\"8\\\",\\\"9\\\",\\\"10\\\",\\\"11\\\",\\\"12\\\",\\\"13\\\"],\\\"changes\\\":WebIO.getval({\\\"name\\\":\\\"changes\\\",\\\"scope\\\":\\\"1059373417940088714\\\",\\\"id\\\":\\\"295128136939993728\\\",\\\"type\\\":\\\"observable\\\"}),\\\"index\\\":WebIO.getval({\\\"name\\\":\\\"index\\\",\\\"scope\\\":\\\"1059373417940088714\\\",\\\"id\\\":\\\"13270233752323858205\\\",\\\"type\\\":\\\"observable\\\"})};\\n    var self = this;\\n    function AppViewModel() {\\n        for (var key in json_data) {\\n            var el = json_data[key];\\n            this[key] = Array.isArray(el) ? ko.observableArray(el) : ko.observable(el);\\n        }\\n        \\n        [this[\\\"formatted_val\\\"]=ko.computed(    function(){\\n        return this.formatted_vals()[parseInt(this.index())-(1)];\\n    }\\n,this)]\\n        [this[\\\"changes\\\"].subscribe((function (val){!(this.valueFromJulia[\\\"changes\\\"]) ? (WebIO.setval({\\\"name\\\":\\\"changes\\\",\\\"scope\\\":\\\"1059373417940088714\\\",\\\"id\\\":\\\"295128136939993728\\\",\\\"type\\\":\\\"observable\\\"},val)) : undefined; return this.valueFromJulia[\\\"changes\\\"]=false}),self),this[\\\"index\\\"].subscribe((function (val){!(this.valueFromJulia[\\\"index\\\"]) ? (WebIO.setval({\\\"name\\\":\\\"index\\\",\\\"scope\\\":\\\"1059373417940088714\\\",\\\"id\\\":\\\"13270233752323858205\\\",\\\"type\\\":\\\"observable\\\"},val)) : undefined; return this.valueFromJulia[\\\"index\\\"]=false}),self)]\\n        \\n    }\\n    self.model = new AppViewModel();\\n    self.valueFromJulia = {};\\n    for (var key in json_data) {\\n        self.valueFromJulia[key] = false;\\n    }\\n    ko.applyBindings(self.model, self.dom);\\n}\\n);\\n    (WebIO.importBlock({\\\"data\\\":[{\\\"name\\\":\\\"knockout\\\",\\\"type\\\":\\\"js\\\",\\\"url\\\":\\\"/assetserver/f83dc9757fede95ccda667ff812a2fcf4fcea406-knockout.js\\\"},{\\\"name\\\":\\\"knockout_punches\\\",\\\"type\\\":\\\"js\\\",\\\"url\\\":\\\"/assetserver/489381353c6689ef066cceedc5f4603376aece34-knockout_punches.js\\\"}],\\\"type\\\":\\\"async_block\\\"})).then((imports) => handler.apply(this, imports));\\n}\\n\")])], Dict{Symbol,Any}(:className => \"field interact-widget\")), Observable{Any} with 0 listeners. Value:\n",
       "Node{WebIO.DOM}(WebIO.DOM(:html, :div), Any[Cairo.CairoSurfaceIOStream{UInt32}(Ptr{Nothing} @0x000000000a306310, 1000.0, 600.0, IOBuffer(data=UInt8[...], readable=true, writable=true, seekable=true, append=false, size=0, maxsize=Inf, ptr=1, mark=-1))], Dict{Symbol,Any}(:className => \"interact-flex-row interact-widget\"))], Dict{Symbol,Any}())"
      ]
     },
     "execution_count": 37,
     "metadata": {
      "application/vnd.webio.node+json": {
       "kernelId": "f4226528-cb32-455b-9bb1-6a86ae895c72"
      }
     },
     "output_type": "execute_result"
    }
   ],
   "source": [
    "# t = 10\n",
    "@manipulate for t=1:length(ad_scenes_noise)\n",
    "    AutomotiveVisualization.render([ad_mdp.roadway, crosswalk, ad_scenes_noise[t]])\n",
    "end"
   ]
  },
  {
   "cell_type": "markdown",
   "metadata": {},
   "source": [
    "#### Importance distribution"
   ]
  },
  {
   "cell_type": "code",
   "execution_count": null,
   "metadata": {},
   "outputs": [],
   "source": [
    "struct INormal_Uniform{T<:Real} <: ContinuousUnivariateDistribution\n",
    "    mu::Float64\n",
    "    sigma::Float64\n",
    "    mu_sup::Float64\n",
    "    sup::Float64\n",
    "    INormal_Uniform(mu::T, sigma::T, mu_sup::T, sup::T) where {T<:Real} = new{T}(Float64(mu), Float64(sigma), Float64(mu_sup), Float64(sup))\n",
    "end"
   ]
  },
  {
   "cell_type": "code",
   "execution_count": null,
   "metadata": {},
   "outputs": [],
   "source": [
    "INormal_Uniform(mu, sigma, mu_sup) = INormal_Uniform(Float64(mu), Float64(sigma), Float64(mu_sup), 10.0)\n",
    "INormal_Uniform(mu, sigma) = INormal_Uniform(Float64(mu), Float64(sigma), Float64(mu))\n",
    "Distributions.pdf(d::INormal_Uniform, x::Float64) = Distributions.pdf(Normal(d.mu, d.sigma), x)\n",
    "Base.rand(d::INormal_Uniform) = rand(Uniform(d.mu_sup-d.sup/2, d.mu_sup+d.sup/2))\n",
    "Base.rand(rng::AbstractRNG, d::INormal_Uniform) = rand(rng, Uniform(d.mu_sup-d.sup/2, d.mu_sup+d.sup/2))\n",
    "Distributions.sampler(d::INormal_Uniform) = Distributions.sampler(Uniform(d.mu_sup-d.sup/2, d.mu_sup+d.sup/2))\n",
    "Distributions.logpdf(d::INormal_Uniform, x::Real) = Distributions.logpdf(Normal(d.mu, d.sigma), x) \n",
    "Distributions.cdf(d::INormal_Uniform, x::Real) = Distributions.cdf(Normal(d.mu, d.sigma), x)\n",
    "Distributions.quantile(d::INormal_Uniform, q::Real) = Distributions.quantile(Normal(d.mu, d.sigma), q)\n",
    "Base.minimum(d::INormal_Uniform) = d.mu-d.sup/2\n",
    "Base.maximum(d::INormal_Uniform) = d.mu+d.sup/2\n",
    "Distributions.insupport(d::INormal_Uniform, x::Real) = Distributions.insupport(Normal(d.mu, d.sigma), x)\n",
    "Distributions.mean(d::INormal_Uniform) = Distributions.mean(Normal(d.mu, d.sigma))\n",
    "Distributions.var(d::INormal_Uniform) = Distributions.var(Normal(d.mu, d.sigma))\n",
    "\n",
    "function Distributions.fit(::Type{<:INormal_Uniform}, x::AbstractArray{T}, w::AbstractArray{Float64}) where T<:Real\n",
    "    norm_fit = Distributions.fit(Normal{T}, x, w)\n",
    "    INormal_Uniform(norm_fit.μ, norm_fit.σ)\n",
    "end"
   ]
  },
  {
   "cell_type": "code",
   "execution_count": null,
   "metadata": {},
   "outputs": [],
   "source": [
    "struct INormal_GMM{T<:Real, C<:Categorical} <: ContinuousUnivariateDistribution\n",
    "    mu::T\n",
    "    sigma::T\n",
    "    gmm_mu::Vector{T}\n",
    "    gmm_sigma::Vector{T}\n",
    "    gmm_prior::C\n",
    "    INormal_GMM(mu::T, sigma::T, gmm_mu::AbstractVector{T}, gmm_sigma::AbstractVector{T}, gmm_prior::C) where {T<:Real,C<:Categorical} = new{T,C}(T(mu), T(sigma), gmm_mu, gmm_sigma, gmm_prior)\n",
    "end"
   ]
  },
  {
   "cell_type": "code",
   "execution_count": null,
   "metadata": {},
   "outputs": [],
   "source": [
    "INormal_GMM(mu, sigma) = INormal_GMM(Float64(mu), Float64(sigma), [Float64(mu), Float64(mu)], [sigma/2.0, sigma*2.0], Categorical(0.5, 0.5))\n",
    "Distributions.pdf(d::INormal_GMM, x::Float64) = Distributions.pdf(Normal(d.mu, d.sigma), x)\n",
    "Base.rand(d::INormal_GMM) = rand(UnivariateGMM(d.gmm_mu, d.gmm_sigma, d.gmm_prior))\n",
    "Base.rand(rng::AbstractRNG, d::INormal_GMM) = rand(rng, UnivariateGMM(d.gmm_mu, d.gmm_sigma, d.gmm_prior))\n",
    "Distributions.sampler(d::INormal_GMM) = Distributions.sampler(UnivariateGMM(d.gmm_mu, d.gmm_sigma, d.gmm_prior))\n",
    "Distributions.logpdf(d::INormal_GMM, x::Real) = Distributions.logpdf(Normal(d.mu, d.sigma), x) \n",
    "Distributions.cdf(d::INormal_GMM, x::Real) = Distributions.cdf(Normal(d.mu, d.sigma), x)\n",
    "Distributions.quantile(d::INormal_GMM, q::Real) = Distributions.quantile(Normal(d.mu, d.sigma), q)\n",
    "Base.minimum(d::INormal_GMM) = -Inf\n",
    "Base.maximum(d::INormal_GMM) = Inf\n",
    "Distributions.insupport(d::INormal_GMM, x::Real) = Distributions.insupport(Normal(d.mu, d.sigma), x)\n",
    "Distributions.mean(d::INormal_GMM) = Distributions.mean(Normal(d.mu, d.sigma))\n",
    "Distributions.var(d::INormal_GMM) = Distributions.var(Normal(d.mu, d.sigma))\n",
    "\n",
    "# function Distributions.fit(::Type{<:INormal_GMM}, x::AbstractArray{T}, w::AbstractArray{Float64}) where T<:Real\n",
    "#     norm_fit = Distributions.fit(Normal{T}, x, w)\n",
    "#     INormal_Uniform(norm_fit.μ, norm_fit.σ)\n",
    "# end"
   ]
  },
  {
   "cell_type": "markdown",
   "metadata": {},
   "source": [
    "#### Stress Testing Setup"
   ]
  },
  {
   "cell_type": "code",
   "execution_count": 38,
   "metadata": {},
   "outputs": [],
   "source": [
    "@with_kw struct AutoRiskParams\n",
    "    endtime::Real = 30 # Simulate end time\n",
    "end;"
   ]
  },
  {
   "cell_type": "code",
   "execution_count": 39,
   "metadata": {},
   "outputs": [],
   "source": [
    "@with_kw mutable struct AutoRiskSim <: GrayBox.Simulation\n",
    "    t::Real = 0 # Current time\n",
    "    params::AutoRiskParams = AutoRiskParams() # Parameters\n",
    "\n",
    "    # System under test, ego vehicle\n",
    "    sut = BlinkerVehicleAgent(get_ped_vehicle(id=1, s=5.0, v=15.0),\n",
    "                              TIDM(ped_TIDM_template, noisy_observations=true))\n",
    "\n",
    "    # Noisy adversary, pedestrian\n",
    "    adversary = NoisyPedestrianAgent(get_pedestrian_noisy(id=2, s=7.0, v=2.0, noise=init_noise),\n",
    "                                     AdversarialPedestrian())\n",
    "\n",
    "    # Adversarial Markov decision process\n",
    "    problem::MDP = AdversarialDrivingMDP(sut, [adversary], ped_roadway, 0.1)\n",
    "    state::Scene = rand(initialstate(problem))\n",
    "    prev_distance::Real = -Inf # Used when agent goes out of frame\n",
    "\n",
    "    # Noise distributions and disturbances\n",
    "#     xposition_noise::Distribution = INormal_Uniform(0, 1) # Gaussian noise (notice larger σ)\n",
    "#     yposition_noise::Distribution = INormal_Uniform(0, 1) # Gaussian noise\n",
    "    xposition_noise::Distribution = Normal(0, 1) # Gaussian noise (notice larger σ)\n",
    "    yposition_noise::Distribution = Normal(0, 1) # Gaussian noise\n",
    "    velocity_noise::Distribution = Normal(0, 1) # Gaussian noise\n",
    "    \n",
    "    # GPS range noise\n",
    "    range_sigma = 3.0\n",
    "    range_noise::Array{Distribution} = [Normal(0, range_sigma), Normal(0, range_sigma), Normal(0, range_sigma), Normal(0, range_sigma), Normal(0, range_sigma)] # Array of Gaussian\n",
    "    \n",
    "    disturbances = Disturbance[PedestrianControl()] # Initial 0-noise disturbance\n",
    "end;"
   ]
  },
  {
   "cell_type": "code",
   "execution_count": 40,
   "metadata": {},
   "outputs": [],
   "source": [
    "function GrayBox.environment(sim::AutoRiskSim)\n",
    "#     return GrayBox.Environment(:xpos => sim.xposition_noise,\n",
    "#                                :ypos => sim.yposition_noise,\n",
    "#                                :vel => sim.velocity_noise)\n",
    "\n",
    "    \n",
    "#     obs_history = sim.sut.model.observation_history\n",
    "    \n",
    "#     if length(obs_history[1])>0\n",
    "#         base_meas = last(obs_history[1])\n",
    "        \n",
    "#         xpos_samp = Float64[]\n",
    "#         ypos_samp = Float64[]\n",
    "#         xwt_samp = Float64[]\n",
    "#         ywt_samp = Float64[]\n",
    "        \n",
    "#         xprior = Normal(0.0, 5.0)\n",
    "#         yprior = Normal(0.0, 5.0)\n",
    "        \n",
    "#         for i=1:100\n",
    "#             temp_meas = Union{Missing, AdversarialDriving.GPSRangeMeasurement}[]\n",
    "#             for j=1:length(sim.range_noise)\n",
    "#                 cur_meas = base_meas[j]\n",
    "#                 if typeof(cur_meas)==Missing\n",
    "#                     continue\n",
    "#                 else\n",
    "#                     push!(temp_meas, AdversarialDriving.GPSRangeMeasurement(sat=cur_meas.sat, \n",
    "#                                                                             range=cur_meas.range, \n",
    "#                                                                             noise=rand(sim.range_noise[j])))\n",
    "#                 end\n",
    "#             end\n",
    "#             gps_fix = GPS_fix(temp_meas)\n",
    "#             true_pos = posg(sim.state[id(sim.adversary)])\n",
    "#             prev_noise = noise(sim.state[id(sim.adversary)])\n",
    "            \n",
    "\n",
    "#             push!(xpos_samp, gps_fix[1]-true_pos.x)\n",
    "#             push!(ypos_samp, gps_fix[2]-true_pos.y)\n",
    "            \n",
    "#             push!(xwt_samp, pdf(xprior, prev_noise.pos.x - (gps_fix[1]-true_pos.x)))\n",
    "#             push!(ywt_samp, pdf(yprior, prev_noise.pos.y - (gps_fix[2]-true_pos.y)))\n",
    "            \n",
    "#         end\n",
    "# #         @show xpos_samp, ypos_samp\n",
    "#         sim.xposition_noise = Distributions.fit(INormal_Uniform{typeof(xpos_samp[1])}, xpos_samp, xwt_samp/sum(xwt_samp))\n",
    "#         sim.yposition_noise = Distributions.fit(INormal_Uniform{typeof(ypos_samp[1])}, ypos_samp, ywt_samp/sum(ywt_samp))\n",
    "# #         sim.xposition_noise = Distributions.fit(INormal_Uniform{typeof(xpos_samp[1])}, xpos_samp, ones(length(xpos_samp)))\n",
    "# #         sim.yposition_noise = Distributions.fit(INormal_Uniform{typeof(ypos_samp[1])}, ypos_samp, ones(length(ypos_samp)))\n",
    "# #         @show xposition_noise, yposition_noise\n",
    "#     end\n",
    "#     if 0.7 < sim.t\n",
    "    prev_noise = noise(sim.state[id(sim.adversary)])\n",
    "    \n",
    "#     xposition_noise = INormal_Uniform(0, 5, prev_noise.pos.x)\n",
    "#     yposition_noise = INormal_Uniform(0, 1, prev_noise.pos.y)\n",
    "#     xposition_noise = INormal_GMM(0, 5)\n",
    "#     yposition_noise = INormal_GMM(0, 1)\n",
    "    xposition_noise = Normal(0, 5)\n",
    "    yposition_noise = Normal(0, 1)\n",
    "#     else\n",
    "#         xposition_noise = sim.xposition_noise\n",
    "#         yposition_noise = sim.yposition_noise\n",
    "#     end\n",
    "    return GrayBox.Environment(\n",
    "                                 :vel => sim.velocity_noise,\n",
    "#                                :range_1 => sim.range_noise[1],\n",
    "#                                :range_2 => sim.range_noise[2],\n",
    "#                                :range_3 => sim.range_noise[3],\n",
    "#                                :range_4 => sim.range_noise[4],\n",
    "#                                :range_5 => sim.range_noise[5]\n",
    "                                 :xpos => xposition_noise,\n",
    "                                 :ypos => yposition_noise\n",
    "                                )\n",
    "end"
   ]
  },
  {
   "cell_type": "code",
   "execution_count": 41,
   "metadata": {},
   "outputs": [],
   "source": [
    "function GrayBox.transition!(sim::AutoRiskSim, sample::GrayBox.EnvironmentSample)\n",
    "    sim.t += sim.problem.dt # Keep track of time\n",
    "\n",
    "#     println(sample)\n",
    "    \n",
    "    # replace current noise with new sampled noise\n",
    "#     range_noise = [sample[:range_1].value, sample[:range_2].value, sample[:range_3].value, sample[:range_4].value, sample[:range_5].value]\n",
    "#     range_noise = [sample[:range_1].value, 0.0, sample[:range_3].value, 0.0, 0.0]\n",
    "#     noise = Noise(pos = (0.0, 0.0), vel = sample[:vel].value, gps_range = [0.0, 0.0, 0.0, 0.0, 0.0])\n",
    "#     noise = Noise(pos = (0.0, 0.0), vel = 0.0, gps_range = range_noise)\n",
    "    noise = Noise(pos = (sample[:xpos].value, sample[:ypos].value), vel = 0.0)\n",
    "#     noise = Noise(pos = (sample[:xpos].value, sample[:ypos].value), vel = sample[:vel].value, gps_range = [0.0, 0.0, 0.0, 0.0, 0.0])\n",
    "#     noise = Noise(pos = (sample[:xpos].value, sample[:ypos].value), vel = 0.0, gps_range = [0.0, 0.0, 0.0, 0.0, 0.0])\n",
    "    sim.disturbances[1] = PedestrianControl(noise=noise)\n",
    "\n",
    "    # step agents: given MDP, current state, and current action (i.e. disturbances)\n",
    "    (sim.state, r) = @gen(:sp, :r)(sim.problem, sim.state, sim.disturbances)\n",
    "\n",
    "    # return log-likelihood of actions, summation handled by `logpdf()`\n",
    "    return logpdf(sample)::Real\n",
    "end"
   ]
  },
  {
   "cell_type": "code",
   "execution_count": 42,
   "metadata": {},
   "outputs": [],
   "source": [
    "function BlackBox.initialize!(sim::AutoRiskSim)\n",
    "    sim.t = 0\n",
    "    sim.problem = AdversarialDrivingMDP(sim.sut, [sim.adversary], ped_roadway, 0.1)\n",
    "    sim.state = rand(initialstate(sim.problem))\n",
    "    sim.disturbances = Disturbance[PedestrianControl()] # noise-less\n",
    "    sim.prev_distance = -Inf\n",
    "end"
   ]
  },
  {
   "cell_type": "code",
   "execution_count": 43,
   "metadata": {},
   "outputs": [],
   "source": [
    "simx = AutoRiskSim()\n",
    "BlackBox.initialize!(simx);"
   ]
  },
  {
   "cell_type": "code",
   "execution_count": 44,
   "metadata": {},
   "outputs": [
    {
     "data": {
      "text/plain": [
       "out_of_frame (generic function with 1 method)"
      ]
     },
     "execution_count": 44,
     "metadata": {},
     "output_type": "execute_result"
    }
   ],
   "source": [
    "out_of_frame(sim) = length(sim.state.entities) < 2 # either agent went out of frame"
   ]
  },
  {
   "cell_type": "code",
   "execution_count": 45,
   "metadata": {},
   "outputs": [],
   "source": [
    "function BlackBox.distance(sim::AutoRiskSim)\n",
    "    if out_of_frame(sim)\n",
    "        return sim.prev_distance\n",
    "    else\n",
    "        pedestrian, vehicle = sim.state.entities\n",
    "        pos1 = posg(pedestrian)\n",
    "        pos2 = posg(vehicle)\n",
    "        return hypot(pos1.x - pos2.x, pos1.y - pos2.y)\n",
    "    end\n",
    "end"
   ]
  },
  {
   "cell_type": "code",
   "execution_count": 46,
   "metadata": {},
   "outputs": [
    {
     "data": {
      "text/plain": [
       "18.75518661597372"
      ]
     },
     "execution_count": 46,
     "metadata": {},
     "output_type": "execute_result"
    }
   ],
   "source": [
    "begin\n",
    "    envsample = rand(GrayBox.environment(simx))\n",
    "    GrayBox.transition!(simx, envsample)\n",
    "    BlackBox.distance(simx)\n",
    "end"
   ]
  },
  {
   "cell_type": "code",
   "execution_count": 47,
   "metadata": {},
   "outputs": [],
   "source": [
    "function BlackBox.isevent(sim::AutoRiskSim)\n",
    "    if out_of_frame(sim)\n",
    "        return false\n",
    "    else\n",
    "        pedestrian, vehicle = sim.state.entities\n",
    "        return collision_checker(pedestrian, vehicle)\n",
    "    end\n",
    "end"
   ]
  },
  {
   "cell_type": "code",
   "execution_count": 48,
   "metadata": {},
   "outputs": [],
   "source": [
    "function BlackBox.isterminal(sim::AutoRiskSim)\n",
    "    return isterminal(sim.problem, sim.state) ||\n",
    "           out_of_frame(sim) ||\n",
    "           BlackBox.isevent(sim) ||\n",
    "           sim.t ≥ sim.params.endtime\n",
    "end"
   ]
  },
  {
   "cell_type": "code",
   "execution_count": 49,
   "metadata": {},
   "outputs": [],
   "source": [
    "function BlackBox.evaluate!(sim::AutoRiskSim, sample::GrayBox.EnvironmentSample)\n",
    "    logprob::Real = GrayBox.transition!(sim, sample) # Step simulation\n",
    "    d::Real       = BlackBox.distance(sim)           # Calculate miss distance\n",
    "    event::Bool   = BlackBox.isevent(sim)            # Check event indication\n",
    "    sim.prev_distance = d                            # Store previous distance\n",
    "    return (logprob::Real, d::Real, event::Bool)\n",
    "end"
   ]
  },
  {
   "cell_type": "code",
   "execution_count": 50,
   "metadata": {},
   "outputs": [
    {
     "data": {
      "text/plain": [
       "(-5.908386093475553, 17.375626607406126, false)"
      ]
     },
     "execution_count": 50,
     "metadata": {},
     "output_type": "execute_result"
    }
   ],
   "source": [
    "begin\n",
    "    envsample2 = rand(GrayBox.environment(simx))\n",
    "    BlackBox.evaluate!(simx, envsample2) # (log-likelihood, distance, isevent)\n",
    "end"
   ]
  },
  {
   "cell_type": "markdown",
   "metadata": {},
   "source": [
    "##### Rollouts using CEM "
   ]
  },
  {
   "cell_type": "code",
   "execution_count": null,
   "metadata": {},
   "outputs": [],
   "source": [
    "function cem_rollout(mdp::ASTMDP, s::ASTState, d::Int64)\n",
    "    cem_solver = CEMSolver(n_iterations=10,\n",
    "                           num_samples=20,\n",
    "                           episode_length=d,\n",
    "                           show_progress=false)\n",
    "    cem_mdp = mdp # deepcopy(mdp)\n",
    "    prev_top_k = cem_mdp.params.top_k\n",
    "    cem_mdp.params.top_k = 0\n",
    "    cem_planner = solve(cem_solver, cem_mdp)\n",
    "    q_value = 0\n",
    "    is_distrs = convert(Vector{GrayBox.Environment}, search!(cem_planner, s), d)\n",
    "    USE_MEAN = true # use the mean of the importance sampling distr, instead of rand.\n",
    "\n",
    "    AST.go_to_state(mdp, s) # Records trace through this call\n",
    "\n",
    "    for i in 1:length(is_distrs)\n",
    "        is_distr = is_distrs[1]\n",
    "        if USE_MEAN\n",
    "            sample = mean(is_distr)\n",
    "        else\n",
    "            sample = rand(is_distr)\n",
    "        end\n",
    "        # @info sample\n",
    "        # @info is_distr\n",
    "        a::ASTAction = ASTSampleAction(sample)\n",
    "        # a::ASTAction = ASTSampleAction(rand(GrayBox.environment(mdp.sim)))\n",
    "        # AST.random_action(mdp)\n",
    "        (s, r) = @gen(:sp, :r)(cem_mdp, s, a, Random.GLOBAL_RNG)\n",
    "        q_value = r + discount(cem_mdp)*q_value\n",
    "        # AST.go_to_state(mdp, s) # Records trace through this call\n",
    "    end\n",
    "    # AST.go_to_state(mdp, s) # Records trace through this call\n",
    "    cem_mdp.params.top_k = prev_top_k\n",
    "\n",
    "    return q_value\n",
    "end"
   ]
  },
  {
   "cell_type": "code",
   "execution_count": null,
   "metadata": {},
   "outputs": [],
   "source": [
    "function Base.convert(::Type{Vector{GrayBox.Environment}}, distr::Dict{Symbol, Vector{Sampleable}}, max_steps::Integer=1)\n",
    "    env_vector = GrayBox.Environment[]\n",
    "    for t in 1:max_steps\n",
    "        env = GrayBox.Environment()\n",
    "        for k in keys(distr)\n",
    "            env[k] = distr[k][t]\n",
    "        end\n",
    "        push!(env_vector, env)\n",
    "    end\n",
    "    return env_vector::Vector{GrayBox.Environment}\n",
    "end"
   ]
  },
  {
   "cell_type": "code",
   "execution_count": null,
   "metadata": {},
   "outputs": [],
   "source": [
    "function Statistics.mean(d::Dict)\n",
    "    meand = Dict()\n",
    "    for k in keys(d)\n",
    "        m = mean(d[k])\n",
    "        meand[k] = GrayBox.Sample(m, logpdf(d[k], m))\n",
    "    end\n",
    "    return meand\n",
    "end"
   ]
  },
  {
   "cell_type": "code",
   "execution_count": null,
   "metadata": {},
   "outputs": [],
   "source": [
    "function AST.search!(planner::CEMPlanner, s::ASTState)\n",
    "    mdp::ASTMDP = planner.mdp\n",
    "    return action(planner, s)\n",
    "end"
   ]
  },
  {
   "cell_type": "markdown",
   "metadata": {},
   "source": [
    "###### AST setup"
   ]
  },
  {
   "cell_type": "code",
   "execution_count": 114,
   "metadata": {},
   "outputs": [],
   "source": [
    "function CrossEntropyMethod.cross_entropy_method(loss::Function,\n",
    "                              d_in;\n",
    "                              max_iter,\n",
    "                              N=100,\n",
    "                              elite_thresh = -0.99,\n",
    "                              min_elite_samples = Int64(floor(0.1*N)),\n",
    "                              max_elite_samples = typemax(Int64),\n",
    "                              weight_fn = (d,x) -> 1.,\n",
    "                              rng::AbstractRNG = Random.GLOBAL_RNG,\n",
    "                              verbose = false,\n",
    "                              show_progress = false,\n",
    "                              add_entropy = (x)->x\n",
    "                             )\n",
    "    d = deepcopy(d_in)\n",
    "    show_progress ? progress = CrossEntropyMethod.Progress(max_iter) : nothing\n",
    "\n",
    "    for iteration in 1:max_iter\n",
    "        # Get samples -> Nxm\n",
    "        samples = rand(rng, d, N)\n",
    "        @show samples \n",
    "\n",
    "        # sort the samples by loss and select elite number\n",
    "        losses = [loss(d, s) for s in samples]\n",
    "        order = sortperm(losses)\n",
    "        losses = losses[order]\n",
    "        N_elite = losses[end] < elite_thresh ? N : findfirst(losses .> elite_thresh) - 1\n",
    "        N_elite = min(max(N_elite, min_elite_samples), max_elite_samples)\n",
    "\n",
    "        verbose && println(\"iteration \", iteration, \" of \", max_iter, \" N_elite: \", N_elite)\n",
    "\n",
    "        #update based on elite samples\n",
    "        elite_samples = samples[order[1:N_elite]]\n",
    "        weights = [weight_fn(d, s) for s in elite_samples]\n",
    "        if all(weights .≈ 0.)\n",
    "            println(\"Warning: all weights are zero\")\n",
    "        end\n",
    "        d = fit(d, elite_samples, weights, add_entropy = add_entropy)\n",
    "        show_progress && next!(progress)\n",
    "    end\n",
    "    d\n",
    "end"
   ]
  },
  {
   "cell_type": "code",
   "execution_count": 115,
   "metadata": {},
   "outputs": [],
   "source": [
    "function setup_ast(seed=0)\n",
    "    # Create gray-box simulation object\n",
    "    sim::GrayBox.Simulation = AutoRiskSim()\n",
    "\n",
    "    # AST MDP formulation object\n",
    "    mdp::ASTMDP = ASTMDP{ASTSampleAction}(sim)\n",
    "    mdp.params.debug = true # record metrics\n",
    "    mdp.params.top_k = 10   # record top k best trajectories\n",
    "    mdp.params.seed = seed  # set RNG seed for determinism\n",
    "    \n",
    "#     function null_priority(mdp, s, snode) # snode is the state node of type DPWStateNode\n",
    "# #         @show snode.tree.a_lookup\n",
    "# #         Replace with null action calculated from noise-free measurements\n",
    "#         null_action = ASTSampleAction(\n",
    "#                                     GrayBox.EnvironmentSample(\n",
    "#                                                 :vel => GrayBox.Sample(0., logpdf(Normal(0., 1), 0.)),\n",
    "#                                                 :xpos => GrayBox.Sample(0., logpdf(Normal(0., 5.), 0.)),\n",
    "#                                                 :ypos => GrayBox.Sample(0., logpdf(Normal(0., 1.), 0.))\n",
    "#                                                 )\n",
    "#                                     )\n",
    "#         n_children = length(snode.tree.children[snode.index])\n",
    "#         if n_children > 0\n",
    "#             new_action = rand(actions(mdp, s))  # add a random action\n",
    "#         else\n",
    "#             new_action = null_action\n",
    "#         end\n",
    "# #         @show new_action.sample\n",
    "#         return new_action\n",
    "#     end\n",
    "#     function prior_Q(mdp, s, a)\n",
    "#         l1_norm = 0\n",
    "#         for (key, val) in a.sample\n",
    "#             l1_norm = l1_norm + abs(val.value)\n",
    "#         end\n",
    "#         return 100.\n",
    "#     end\n",
    "\n",
    "\n",
    "#     # Hyperparameters for MCTS-PW as the solver\n",
    "#     solver = MCTSPWSolver(n_iterations=1000,        # number of algorithm iterations\n",
    "#                           exploration_constant=1.0, # UCT exploration\n",
    "#                           k_action=1.0,             # action widening\n",
    "#                           alpha_action=0.5,         # action widening\n",
    "#                           depth=sim.params.endtime, # tree depth\n",
    "# #                           init_Q=100.,\n",
    "# #                           init_N=1,\n",
    "#                           next_action=null_priority\n",
    "# #                           estimate_value=cem_rollout\n",
    "#                          )\n",
    "    solver = CEMSolver(n_iterations=2,\n",
    "                       num_samples=1,\n",
    "                       episode_length=sim.params.endtime)\n",
    "    \n",
    "#     return actions(mdp, initialstate(mdp))\n",
    "    \n",
    "    # Get online planner (no work done, yet)\n",
    "    planner = solve(solver, mdp)\n",
    "\n",
    "    return planner\n",
    "end;"
   ]
  },
  {
   "cell_type": "code",
   "execution_count": 116,
   "metadata": {},
   "outputs": [],
   "source": [
    "planner = setup_ast();"
   ]
  },
  {
   "cell_type": "code",
   "execution_count": 117,
   "metadata": {},
   "outputs": [
    {
     "name": "stdout",
     "output_type": "stream",
     "text": [
      "samples = [Dict(:vel => [0.6791074260357777, 0.8284134829000359, -0.3530074003005963, -0.13485387193052173, 0.5866170746331097, 0.29733585084941616, 0.06494754854834232, -0.10901738508171745, -0.514210390833322, 1.5743302021369892, -0.6889071278256981, -0.7628038164104581, 0.39748240921816347, 0.8116296225068749, -0.34635460427879816, -0.18757268194516005, -1.6072563241277753, -2.48079273065994, 2.2762328327845243, 0.21969346754254096, -0.11713753073293519, -0.6012535941853836, 1.1422764389413194, -0.08861631820047296, 0.2794662520898984, 0.1114216780915173, -0.3578835146703243, 0.4737143221493313, 0.30023392902396967, -0.7626770596674239],:xpos => [7.115242903321589, 2.0419340848085383, 2.9431069030123225, -1.481388485545378, 3.4555536705512377, 2.5343681702113736, -0.28464938049478794, -8.855118226860696, 7.953112601537043, 6.985307236998713, 2.4077801976212587, -1.609715764479847, 1.2317131650413213, -0.8939436615651121, -7.38940362460934, -0.9271209086649481, 6.348618455176264, -0.8125193216624025, -0.3359335264097084, 2.8864099329589448, 4.4565754553827075, -11.47245171636753, -5.865128761344208, -4.399577495826423, -2.4702132990215326, 2.5597965115607906, -3.7935049154746174, -3.839799197515295, -0.15151588160284007, -6.596175975241332],:ypos => [-0.48260413771905986, -1.1575488679718187, -0.21415042380883462, -1.3719311300410884, -1.538056900460848, -1.2274214274731874, -1.9584775602401348, -0.4731313278801985, 1.3387511440363178, 0.8078171537125458, -1.0509226716763997, 0.8161748215698447, 0.15250071739234486, -0.3300929096736391, 1.4443144400304955, -0.44284431901959326, 1.0968638769692454, -0.2510594633385196, 0.2922931944130215, -3.4673665308955437, -0.5284309200347905, 0.11747153043190141, 2.1035617623727196, 1.5228546580255704, -2.1084517587736094, 0.5567413975424059, -0.5688544458705022, -0.4769398551000414, 0.1745939682978346, -1.5176051661226406])]\n",
      "Warning: all weights are zero\n"
     ]
    },
    {
     "ename": "LoadError",
     "evalue": "BoundsError: attempt to access 0-element Array{Float64,1} at index [1]",
     "output_type": "error",
     "traceback": [
      "BoundsError: attempt to access 0-element Array{Float64,1} at index [1]",
      "",
      "Stacktrace:",
      " [1] getindex at ./array.jl:809 [inlined]",
      " [2] suffstats(::Type{Normal}, ::Array{Float64,1}, ::Array{Float64,1}) at /scratch/users/shubhgup/julia/.julia/packages/Distributions/HjzA0/src/univariate/continuous/normal.jl:277",
      " [3] fit_mle(::Type{Normal{Float64}}, ::Array{Float64,1}, ::Array{Float64,1}; mu::Float64, sigma::Float64) at /scratch/users/shubhgup/julia/.julia/packages/Distributions/HjzA0/src/univariate/continuous/normal.jl:380",
      " [4] fit_mle at /scratch/users/shubhgup/julia/.julia/packages/Distributions/HjzA0/src/univariate/continuous/normal.jl:378 [inlined]",
      " [5] fit(::Type{Normal{Float64}}, ::Array{Float64,1}, ::Array{Float64,1}) at /scratch/users/shubhgup/julia/.julia/packages/Distributions/HjzA0/src/genericfit.jl:34",
      " [6] (::CrossEntropyMethod.var\"#18#22\"{POMDPStressTesting.var\"#17#23\",Array{Dict{Symbol,Array{Float64,1}},1},Array{Float64,1},Int64,Symbol,DataType})(::Int64) at ./none:0",
      " [7] iterate at ./generator.jl:47 [inlined]",
      " [8] collect(::Base.Generator{UnitRange{Int64},CrossEntropyMethod.var\"#18#22\"{POMDPStressTesting.var\"#17#23\",Array{Dict{Symbol,Array{Float64,1}},1},Array{Float64,1},Int64,Symbol,DataType}}) at ./array.jl:686",
      " [9] fit(::Dict{Symbol,Array{Sampleable,1}}, ::Array{Dict{Symbol,Array{Float64,1}},1}, ::Array{Float64,1}; add_entropy::POMDPStressTesting.var\"#17#23\") at /scratch/users/shubhgup/julia/.julia/packages/CrossEntropyMethod/hlJyH/src/cross_entropy_method.jl:39",
      " [10] cross_entropy_method(::POMDPStressTesting.var\"#27#28\"{ASTState,ASTMDP{ASTSampleAction}}, ::Dict{Symbol,Array{Sampleable,1}}; max_iter::Int64, N::Int64, elite_thresh::Float64, min_elite_samples::Int64, max_elite_samples::Int64, weight_fn::POMDPStressTesting.var\"#16#22\", rng::Random._GLOBAL_RNG, verbose::Bool, show_progress::Bool, add_entropy::POMDPStressTesting.var\"#17#23\") at ./In[114]:37",
      " [11] action(::CEMPlanner{ASTMDP{ASTSampleAction}}, ::ASTState; rng::Random._GLOBAL_RNG) at /scratch/users/shubhgup/julia/.julia/dev/POMDPStressTesting/src/solvers/cem.jl:97",
      " [12] action at /scratch/users/shubhgup/julia/.julia/dev/POMDPStressTesting/src/solvers/cem.jl:85 [inlined]",
      " [13] search! at /scratch/users/shubhgup/julia/.julia/dev/POMDPStressTesting/src/solvers/cem.jl:143 [inlined]",
      " [14] search!(::CEMPlanner{ASTMDP{ASTSampleAction}}) at /scratch/users/shubhgup/julia/.julia/dev/POMDPStressTesting/src/solvers/cem.jl:137",
      " [15] top-level scope at In[117]:1",
      " [16] include_string(::Function, ::Module, ::String, ::String) at ./loading.jl:1091"
     ]
    }
   ],
   "source": [
    "action_trace = search!(planner)"
   ]
  },
  {
   "cell_type": "code",
   "execution_count": 82,
   "metadata": {},
   "outputs": [
    {
     "data": {
      "text/plain": [
       "30-element Array{Sampleable,1}:\n",
       " Normal{Float64}(μ=-5.241415948295576, σ=0.36392221559627036)\n",
       " Normal{Float64}(μ=-5.061443424964343, σ=0.2588325326318678)\n",
       " Normal{Float64}(μ=-5.141547260674856, σ=0.8556937524048307)\n",
       " Normal{Float64}(μ=-4.17343066626156, σ=0.1395021522727758)\n",
       " Normal{Float64}(μ=-3.6472660731551487, σ=0.5230281387369463)\n",
       " Normal{Float64}(μ=-1.1555645292019632, σ=0.9422472463256524)\n",
       " Normal{Float64}(μ=-3.5153838707997975, σ=0.49968686955611463)\n",
       " Normal{Float64}(μ=-2.967335254550597, σ=0.55523320708675)\n",
       " Normal{Float64}(μ=-0.0697041620337322, σ=1.0409497775477135)\n",
       " Normal{Float64}(μ=1.3417058268758348, σ=0.9758237613607056)\n",
       " Normal{Float64}(μ=-0.0073690248587413906, σ=1.2201580501480151)\n",
       " Normal{Float64}(μ=-3.071780739601233, σ=0.622056815712044)\n",
       " Normal{Float64}(μ=2.410518622443422, σ=0.7006836982378559)\n",
       " ⋮\n",
       " Normal{Float64}(μ=-0.10946955153337179, σ=0.7352442591898288)\n",
       " Normal{Float64}(μ=-0.9427220801259256, σ=0.45084966823709627)\n",
       " Normal{Float64}(μ=1.4816864419025308, σ=1.7633731141969073)\n",
       " Normal{Float64}(μ=1.9520255556302188, σ=0.9322052676606847)\n",
       " Normal{Float64}(μ=-1.758227515257235, σ=3.3310750276862784)\n",
       " Normal{Float64}(μ=7.027365064353333, σ=7.282681486813165)\n",
       " Normal{Float64}(μ=-5.50095118101184, σ=1.5632872379087264)\n",
       " Normal{Float64}(μ=2.915601283779748, σ=2.68242970767223)\n",
       " Normal{Float64}(μ=1.8927615763622945, σ=1.616093193213009)\n",
       " Normal{Float64}(μ=-2.1622798098737324, σ=0.8446516065736629)\n",
       " Normal{Float64}(μ=-0.3665864070122695, σ=0.6461838614168169)\n",
       " Normal{Float64}(μ=-0.20418057832163994, σ=1.7522307997773878)"
      ]
     },
     "execution_count": 82,
     "metadata": {},
     "output_type": "execute_result"
    }
   ],
   "source": [
    "planner.is_dist[:xpos]"
   ]
  },
  {
   "cell_type": "code",
   "execution_count": 54,
   "metadata": {},
   "outputs": [
    {
     "data": {
      "image/png": "[encoded data removed]",
      "text/plain": [
       "PyPlot.Figure(PyObject <Figure size 700x700 with 3 Axes>)"
      ]
     },
     "metadata": {},
     "output_type": "display_data"
    }
   ],
   "source": [
    "episodic_figures(planner.mdp, gui=false); POMDPStressTesting.gcf();"
   ]
  },
  {
   "cell_type": "code",
   "execution_count": 55,
   "metadata": {},
   "outputs": [
    {
     "data": {
      "image/png": "[encoded data removed]",
      "text/plain": [
       "PyPlot.Figure(PyObject <Figure size 600x500 with 2 Axes>)"
      ]
     },
     "metadata": {},
     "output_type": "display_data"
    }
   ],
   "source": [
    "distribution_figures(planner.mdp, gui=false); POMDPStressTesting.gcf();"
   ]
  },
  {
   "cell_type": "code",
   "execution_count": 56,
   "metadata": {
    "scrolled": true
   },
   "outputs": [
    {
     "name": "stdout",
     "output_type": "stream",
     "text": [
      "20.22374841615668\n",
      "18.75518661597372\n",
      "17.316304455627932\n",
      "15.84778296797378\n",
      "14.349648079308421\n",
      "12.821943105473517\n",
      "11.264741452869655\n",
      "9.737352052791351\n",
      "8.239805822954809\n",
      "6.713123341634649\n",
      "5.216742278472263\n",
      "3.80993766353204\n",
      "2.493270943960963\n"
     ]
    },
    {
     "data": {
      "text/plain": [
       "13-element Array{Any,1}:\n",
       " 20.22374841615668\n",
       " 18.75518661597372\n",
       " 17.316304455627932\n",
       " 15.84778296797378\n",
       " 14.349648079308421\n",
       " 12.821943105473517\n",
       " 11.264741452869655\n",
       "  9.737352052791351\n",
       "  8.239805822954809\n",
       "  6.713123341634649\n",
       "  5.216742278472263\n",
       "  3.80993766353204\n",
       "  2.493270943960963"
      ]
     },
     "execution_count": 56,
     "metadata": {},
     "output_type": "execute_result"
    }
   ],
   "source": [
    "playback_trace = playback(planner, action_trace, BlackBox.distance, return_trace=true)"
   ]
  },
  {
   "cell_type": "code",
   "execution_count": 57,
   "metadata": {},
   "outputs": [
    {
     "name": "stdout",
     "output_type": "stream",
     "text": [
      "First failure: 47 of 1202830\n",
      "Number of failures: 99916\n",
      "Failure rate: 8.30674%\n"
     ]
    },
    {
     "data": {
      "text/plain": [
       "8.306743263802865"
      ]
     },
     "execution_count": 57,
     "metadata": {},
     "output_type": "execute_result"
    }
   ],
   "source": [
    "failure_rate = print_metrics(planner)"
   ]
  },
  {
   "cell_type": "code",
   "execution_count": 58,
   "metadata": {},
   "outputs": [
    {
     "data": {
      "text/latex": [
       "$$p = 0.01215938$$\n"
      ],
      "text/markdown": [
       "$$\n",
       "p = 0.01215938\n",
       "$$\n"
      ],
      "text/plain": [
       "\u001b[35m  p = 0.01215938\u001b[39m"
      ]
     },
     "execution_count": 58,
     "metadata": {},
     "output_type": "execute_result"
    }
   ],
   "source": [
    "begin\n",
    "    # TODO: get this index from the `trace` itself\n",
    "    # findmax(planner.mdp.metrics.reward[planner.mdp.metrics.event])\n",
    "    # findmax(ast_mdp.metrics.reward[ast_mdp.metrics.event])\n",
    "\n",
    "    failure_likelihood =\n",
    "        round(exp(maximum(planner.mdp.metrics.logprob[planner.mdp.metrics.event])), digits=8)\n",
    "\n",
    "    Markdown.parse(string(\"\\$\\$p = \", failure_likelihood, \"\\$\\$\"))\n",
    "end"
   ]
  },
  {
   "cell_type": "code",
   "execution_count": 59,
   "metadata": {},
   "outputs": [
    {
     "name": "stdout",
     "output_type": "stream",
     "text": [
      "Scene{Entity{S,VehicleDef,Int64} where S}(2 entities)\n",
      "Scene{Entity{S,VehicleDef,Int64} where S}(2 entities)\n",
      "Scene{Entity{S,VehicleDef,Int64} where S}(2 entities)\n",
      "Scene{Entity{S,VehicleDef,Int64} where S}(2 entities)\n",
      "Scene{Entity{S,VehicleDef,Int64} where S}(2 entities)\n",
      "Scene{Entity{S,VehicleDef,Int64} where S}(2 entities)\n",
      "Scene{Entity{S,VehicleDef,Int64} where S}(2 entities)\n",
      "Scene{Entity{S,VehicleDef,Int64} where S}(2 entities)\n",
      "Scene{Entity{S,VehicleDef,Int64} where S}(2 entities)\n",
      "Scene{Entity{S,VehicleDef,Int64} where S}(2 entities)\n",
      "Scene{Entity{S,VehicleDef,Int64} where S}(2 entities)\n",
      "Scene{Entity{S,VehicleDef,Int64} where S}(2 entities)\n",
      "Scene{Entity{S,VehicleDef,Int64} where S}(2 entities)\n"
     ]
    },
    {
     "data": {
      "text/plain": [
       "13-element Array{Any,1}:\n",
       " Scene{Entity{S,VehicleDef,Int64} where S}(2 entities)\n",
       " Scene{Entity{S,VehicleDef,Int64} where S}(2 entities)\n",
       " Scene{Entity{S,VehicleDef,Int64} where S}(2 entities)\n",
       " Scene{Entity{S,VehicleDef,Int64} where S}(2 entities)\n",
       " Scene{Entity{S,VehicleDef,Int64} where S}(2 entities)\n",
       " Scene{Entity{S,VehicleDef,Int64} where S}(2 entities)\n",
       " Scene{Entity{S,VehicleDef,Int64} where S}(2 entities)\n",
       " Scene{Entity{S,VehicleDef,Int64} where S}(2 entities)\n",
       " Scene{Entity{S,VehicleDef,Int64} where S}(2 entities)\n",
       " Scene{Entity{S,VehicleDef,Int64} where S}(2 entities)\n",
       " Scene{Entity{S,VehicleDef,Int64} where S}(2 entities)\n",
       " Scene{Entity{S,VehicleDef,Int64} where S}(2 entities)\n",
       " Scene{Entity{S,VehicleDef,Int64} where S}(2 entities)"
      ]
     },
     "execution_count": 59,
     "metadata": {},
     "output_type": "execute_result"
    }
   ],
   "source": [
    "playback_trace = playback(planner, action_trace, sim->sim.state, return_trace=true)"
   ]
  },
  {
   "cell_type": "code",
   "execution_count": 60,
   "metadata": {
    "scrolled": false
   },
   "outputs": [
    {
     "data": {
      "application/vnd.webio.node+json": {
       "children": [
        {
         "children": [
          {
           "children": [
            {
             "children": [
              {
               "children": [
                {
                 "children": [
                  "t"
                 ],
                 "instanceArgs": {
                  "namespace": "html",
                  "tag": "label"
                 },
                 "nodeType": "DOM",
                 "props": {
                  "className": "interact ",
                  "style": {
                   "padding": "5px 10px 0px 10px"
                  }
                 },
                 "type": "node"
                }
               ],
               "instanceArgs": {
                "namespace": "html",
                "tag": "div"
               },
               "nodeType": "DOM",
               "props": {
                "className": "interact-flex-row-left"
               },
               "type": "node"
              },
              {
               "children": [
                {
                 "children": [],
                 "instanceArgs": {
                  "namespace": "html",
                  "tag": "input"
                 },
                 "nodeType": "DOM",
                 "props": {
                  "attributes": {
                   "data-bind": "numericValue: index, valueUpdate: 'input', event: {change: function (){this.changes(this.changes()+1)}}",
                   "orient": "horizontal",
                   "type": "range"
                  },
                  "className": "slider slider is-fullwidth",
                  "max": 30,
                  "min": 1,
                  "step": 1,
                  "style": {}
                 },
                 "type": "node"
                }
               ],
               "instanceArgs": {
                "namespace": "html",
                "tag": "div"
               },
               "nodeType": "DOM",
               "props": {
                "className": "interact-flex-row-center"
               },
               "type": "node"
              },
              {
               "children": [
                {
                 "children": [],
                 "instanceArgs": {
                  "namespace": "html",
                  "tag": "p"
                 },
                 "nodeType": "DOM",
                 "props": {
                  "attributes": {
                   "data-bind": "text: formatted_val"
                  }
                 },
                 "type": "node"
                }
               ],
               "instanceArgs": {
                "namespace": "html",
                "tag": "div"
               },
               "nodeType": "DOM",
               "props": {
                "className": "interact-flex-row-right"
               },
               "type": "node"
              }
             ],
             "instanceArgs": {
              "namespace": "html",
              "tag": "div"
             },
             "nodeType": "DOM",
             "props": {
              "className": "interact-flex-row interact-widget"
             },
             "type": "node"
            }
           ],
           "instanceArgs": {
            "handlers": {
             "changes": [
              "(function (val){return (val!=this.model[\"changes\"]()) ? (this.valueFromJulia[\"changes\"]=true, this.model[\"changes\"](val)) : undefined})"
             ],
             "index": [
              "(function (val){return (val!=this.model[\"index\"]()) ? (this.valueFromJulia[\"index\"]=true, this.model[\"index\"](val)) : undefined})"
             ]
            },
            "id": "9492874803375003875",
            "imports": {
             "data": [
              {
               "name": "knockout",
               "type": "js",
               "url": "/assetserver/f83dc9757fede95ccda667ff812a2fcf4fcea406-knockout.js"
              },
              {
               "name": "knockout_punches",
               "type": "js",
               "url": "/assetserver/489381353c6689ef066cceedc5f4603376aece34-knockout_punches.js"
              },
              {
               "name": null,
               "type": "js",
               "url": "/assetserver/2b9a0101b1182967c1bc8e647e40e503b7f91214-all.js"
              },
              {
               "name": null,
               "type": "css",
               "url": "/assetserver/16c36b047c84a455687c728543beff2b71551cae-style.css"
              },
              {
               "name": null,
               "type": "css",
               "url": "/assetserver/d905e3af6552e0c7d3e81225bc2f25b3475dc59b-bulma_confined.min.css"
              }
             ],
             "type": "async_block"
            },
            "mount_callbacks": [
             "function () {\n    var handler = (function (ko, koPunches) {\n    ko.punches.enableAll();\n    ko.bindingHandlers.numericValue = {\n        init: function(element, valueAccessor, allBindings, data, context) {\n            var stringified = ko.observable(ko.unwrap(valueAccessor()));\n            stringified.subscribe(function(value) {\n                var val = parseFloat(value);\n                if (!isNaN(val)) {\n                    valueAccessor()(val);\n                }\n            });\n            valueAccessor().subscribe(function(value) {\n                var str = JSON.stringify(value);\n                if ((str == \"0\") && ([\"-0\", \"-0.\"].indexOf(stringified()) >= 0))\n                     return;\n                 if ([\"null\", \"\"].indexOf(str) >= 0)\n                     return;\n                stringified(str);\n            });\n            ko.applyBindingsToNode(\n                element,\n                {\n                    value: stringified,\n                    valueUpdate: allBindings.get('valueUpdate'),\n                },\n                context,\n            );\n        }\n    };\n    var json_data = {\"formatted_vals\":[\"1\",\"2\",\"3\",\"4\",\"5\",\"6\",\"7\",\"8\",\"9\",\"10\",\"11\",\"12\",\"13\",\"14\",\"15\",\"16\",\"17\",\"18\",\"19\",\"20\",\"21\",\"22\",\"23\",\"24\",\"25\",\"26\",\"27\",\"28\",\"29\",\"30\"],\"changes\":WebIO.getval({\"name\":\"changes\",\"scope\":\"9492874803375003875\",\"id\":\"7444856937907406745\",\"type\":\"observable\"}),\"index\":WebIO.getval({\"name\":\"index\",\"scope\":\"9492874803375003875\",\"id\":\"18300994562277262916\",\"type\":\"observable\"})};\n    var self = this;\n    function AppViewModel() {\n        for (var key in json_data) {\n            var el = json_data[key];\n            this[key] = Array.isArray(el) ? ko.observableArray(el) : ko.observable(el);\n        }\n        \n        [this[\"formatted_val\"]=ko.computed(    function(){\n        return this.formatted_vals()[parseInt(this.index())-(1)];\n    }\n,this)]\n        [this[\"changes\"].subscribe((function (val){!(this.valueFromJulia[\"changes\"]) ? (WebIO.setval({\"name\":\"changes\",\"scope\":\"9492874803375003875\",\"id\":\"7444856937907406745\",\"type\":\"observable\"},val)) : undefined; return this.valueFromJulia[\"changes\"]=false}),self),this[\"index\"].subscribe((function (val){!(this.valueFromJulia[\"index\"]) ? (WebIO.setval({\"name\":\"index\",\"scope\":\"9492874803375003875\",\"id\":\"18300994562277262916\",\"type\":\"observable\"},val)) : undefined; return this.valueFromJulia[\"index\"]=false}),self)]\n        \n    }\n    self.model = new AppViewModel();\n    self.valueFromJulia = {};\n    for (var key in json_data) {\n        self.valueFromJulia[key] = false;\n    }\n    ko.applyBindings(self.model, self.dom);\n}\n);\n    (WebIO.importBlock({\"data\":[{\"name\":\"knockout\",\"type\":\"js\",\"url\":\"/assetserver/f83dc9757fede95ccda667ff812a2fcf4fcea406-knockout.js\"},{\"name\":\"knockout_punches\",\"type\":\"js\",\"url\":\"/assetserver/489381353c6689ef066cceedc5f4603376aece34-knockout_punches.js\"}],\"type\":\"async_block\"})).then((imports) => handler.apply(this, imports));\n}\n"
            ],
            "observables": {
             "changes": {
              "id": "7444856937907406745",
              "sync": false,
              "value": 0
             },
             "index": {
              "id": "18300994562277262916",
              "sync": true,
              "value": 1
             }
            },
            "systemjs_options": null
           },
           "nodeType": "Scope",
           "props": {},
           "type": "node"
          }
         ],
         "instanceArgs": {
          "namespace": "html",
          "tag": "div"
         },
         "nodeType": "DOM",
         "props": {
          "className": "field interact-widget"
         },
         "type": "node"
        },
        {
         "children": [
          {
           "children": [],
           "instanceArgs": {
            "id": "16896270613349567097",
            "name": "obs-node"
           },
           "nodeType": "ObservableNode",
           "props": {},
           "type": "node"
          }
         ],
         "instanceArgs": {
          "handlers": {},
          "id": "5611729367591124272",
          "imports": {
           "data": [],
           "type": "async_block"
          },
          "mount_callbacks": [],
          "observables": {
           "obs-node": {
            "id": "16896270613349567097",
            "sync": false,
            "value": {
             "children": [
              {
               "children": [],
               "instanceArgs": {
                "namespace": "html",
                "tag": "div"
               },
               "nodeType": "DOM",
               "props": {
                "setInnerHtml": "<img src='data:image/png;base64,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'></img>"
               },
               "type": "node"
              }
             ],
             "instanceArgs": {
              "namespace": "html",
              "tag": "div"
             },
             "nodeType": "DOM",
             "props": {
              "className": "interact-flex-row interact-widget"
             },
             "type": "node"
            }
           }
          },
          "systemjs_options": null
         },
         "nodeType": "Scope",
         "props": {},
         "type": "node"
        }
       ],
       "instanceArgs": {
        "namespace": "html",
        "tag": "div"
       },
       "nodeType": "DOM",
       "props": {},
       "type": "node"
      },
      "text/html": [
       "<div\n",
       "    class=\"webio-mountpoint\"\n",
       "    data-webio-mountpoint=\"17837529050321938804\"\n",
       ">\n",
       "    <script>\n",
       "    if (window.require && require.defined && require.defined(\"nbextensions/webio-jupyter-notebook\")) {\n",
       "        console.log(\"Jupyter WebIO extension detected, not mounting.\");\n",
       "    } else if (window.WebIO) {\n",
       "        WebIO.mount(\n",
       "            document.querySelector('[data-webio-mountpoint=\"17837529050321938804\"]'),\n",
       "            {\"props\":{},\"nodeType\":\"DOM\",\"type\":\"node\",\"instanceArgs\":{\"namespace\":\"html\",\"tag\":\"div\"},\"children\":[{\"props\":{\"className\":\"field interact-widget\"},\"nodeType\":\"DOM\",\"type\":\"node\",\"instanceArgs\":{\"namespace\":\"html\",\"tag\":\"div\"},\"children\":[{\"props\":{},\"nodeType\":\"Scope\",\"type\":\"node\",\"instanceArgs\":{\"imports\":{\"data\":[{\"name\":\"knockout\",\"type\":\"js\",\"url\":\"\\/assetserver\\/f83dc9757fede95ccda667ff812a2fcf4fcea406-knockout.js\"},{\"name\":\"knockout_punches\",\"type\":\"js\",\"url\":\"\\/assetserver\\/489381353c6689ef066cceedc5f4603376aece34-knockout_punches.js\"},{\"name\":null,\"type\":\"js\",\"url\":\"\\/assetserver\\/2b9a0101b1182967c1bc8e647e40e503b7f91214-all.js\"},{\"name\":null,\"type\":\"css\",\"url\":\"\\/assetserver\\/16c36b047c84a455687c728543beff2b71551cae-style.css\"},{\"name\":null,\"type\":\"css\",\"url\":\"\\/assetserver\\/d905e3af6552e0c7d3e81225bc2f25b3475dc59b-bulma_confined.min.css\"}],\"type\":\"async_block\"},\"id\":\"9492874803375003875\",\"handlers\":{\"changes\":[\"(function (val){return (val!=this.model[\\\"changes\\\"]()) ? (this.valueFromJulia[\\\"changes\\\"]=true, this.model[\\\"changes\\\"](val)) : undefined})\"],\"index\":[\"(function (val){return (val!=this.model[\\\"index\\\"]()) ? (this.valueFromJulia[\\\"index\\\"]=true, this.model[\\\"index\\\"](val)) : undefined})\"]},\"systemjs_options\":null,\"mount_callbacks\":[\"function () {\\n    var handler = (function (ko, koPunches) {\\n    ko.punches.enableAll();\\n    ko.bindingHandlers.numericValue = {\\n        init: function(element, valueAccessor, allBindings, data, context) {\\n            var stringified = ko.observable(ko.unwrap(valueAccessor()));\\n            stringified.subscribe(function(value) {\\n                var val = parseFloat(value);\\n                if (!isNaN(val)) {\\n                    valueAccessor()(val);\\n                }\\n            });\\n            valueAccessor().subscribe(function(value) {\\n                var str = JSON.stringify(value);\\n                if ((str == \\\"0\\\") && ([\\\"-0\\\", \\\"-0.\\\"].indexOf(stringified()) >= 0))\\n                     return;\\n                 if ([\\\"null\\\", \\\"\\\"].indexOf(str) >= 0)\\n                     return;\\n                stringified(str);\\n            });\\n            ko.applyBindingsToNode(\\n                element,\\n                {\\n                    value: stringified,\\n                    valueUpdate: allBindings.get('valueUpdate'),\\n                },\\n                context,\\n            );\\n        }\\n    };\\n    var json_data = {\\\"formatted_vals\\\":[\\\"1\\\",\\\"2\\\",\\\"3\\\",\\\"4\\\",\\\"5\\\",\\\"6\\\",\\\"7\\\",\\\"8\\\",\\\"9\\\",\\\"10\\\",\\\"11\\\",\\\"12\\\",\\\"13\\\",\\\"14\\\",\\\"15\\\",\\\"16\\\",\\\"17\\\",\\\"18\\\",\\\"19\\\",\\\"20\\\",\\\"21\\\",\\\"22\\\",\\\"23\\\",\\\"24\\\",\\\"25\\\",\\\"26\\\",\\\"27\\\",\\\"28\\\",\\\"29\\\",\\\"30\\\"],\\\"changes\\\":WebIO.getval({\\\"name\\\":\\\"changes\\\",\\\"scope\\\":\\\"9492874803375003875\\\",\\\"id\\\":\\\"7444856937907406745\\\",\\\"type\\\":\\\"observable\\\"}),\\\"index\\\":WebIO.getval({\\\"name\\\":\\\"index\\\",\\\"scope\\\":\\\"9492874803375003875\\\",\\\"id\\\":\\\"18300994562277262916\\\",\\\"type\\\":\\\"observable\\\"})};\\n    var self = this;\\n    function AppViewModel() {\\n        for (var key in json_data) {\\n            var el = json_data[key];\\n            this[key] = Array.isArray(el) ? ko.observableArray(el) : ko.observable(el);\\n        }\\n        \\n        [this[\\\"formatted_val\\\"]=ko.computed(    function(){\\n        return this.formatted_vals()[parseInt(this.index())-(1)];\\n    }\\n,this)]\\n        [this[\\\"changes\\\"].subscribe((function (val){!(this.valueFromJulia[\\\"changes\\\"]) ? (WebIO.setval({\\\"name\\\":\\\"changes\\\",\\\"scope\\\":\\\"9492874803375003875\\\",\\\"id\\\":\\\"7444856937907406745\\\",\\\"type\\\":\\\"observable\\\"},val)) : undefined; return this.valueFromJulia[\\\"changes\\\"]=false}),self),this[\\\"index\\\"].subscribe((function (val){!(this.valueFromJulia[\\\"index\\\"]) ? (WebIO.setval({\\\"name\\\":\\\"index\\\",\\\"scope\\\":\\\"9492874803375003875\\\",\\\"id\\\":\\\"18300994562277262916\\\",\\\"type\\\":\\\"observable\\\"},val)) : undefined; return this.valueFromJulia[\\\"index\\\"]=false}),self)]\\n        \\n    }\\n    self.model = new AppViewModel();\\n    self.valueFromJulia = {};\\n    for (var key in json_data) {\\n        self.valueFromJulia[key] = false;\\n    }\\n    ko.applyBindings(self.model, self.dom);\\n}\\n);\\n    (WebIO.importBlock({\\\"data\\\":[{\\\"name\\\":\\\"knockout\\\",\\\"type\\\":\\\"js\\\",\\\"url\\\":\\\"\\/assetserver\\/f83dc9757fede95ccda667ff812a2fcf4fcea406-knockout.js\\\"},{\\\"name\\\":\\\"knockout_punches\\\",\\\"type\\\":\\\"js\\\",\\\"url\\\":\\\"\\/assetserver\\/489381353c6689ef066cceedc5f4603376aece34-knockout_punches.js\\\"}],\\\"type\\\":\\\"async_block\\\"})).then((imports) => handler.apply(this, imports));\\n}\\n\"],\"observables\":{\"changes\":{\"sync\":false,\"id\":\"7444856937907406745\",\"value\":0},\"index\":{\"sync\":true,\"id\":\"18300994562277262916\",\"value\":1}}},\"children\":[{\"props\":{\"className\":\"interact-flex-row interact-widget\"},\"nodeType\":\"DOM\",\"type\":\"node\",\"instanceArgs\":{\"namespace\":\"html\",\"tag\":\"div\"},\"children\":[{\"props\":{\"className\":\"interact-flex-row-left\"},\"nodeType\":\"DOM\",\"type\":\"node\",\"instanceArgs\":{\"namespace\":\"html\",\"tag\":\"div\"},\"children\":[{\"props\":{\"className\":\"interact \",\"style\":{\"padding\":\"5px 10px 0px 10px\"}},\"nodeType\":\"DOM\",\"type\":\"node\",\"instanceArgs\":{\"namespace\":\"html\",\"tag\":\"label\"},\"children\":[\"t\"]}]},{\"props\":{\"className\":\"interact-flex-row-center\"},\"nodeType\":\"DOM\",\"type\":\"node\",\"instanceArgs\":{\"namespace\":\"html\",\"tag\":\"div\"},\"children\":[{\"props\":{\"max\":30,\"min\":1,\"attributes\":{\"type\":\"range\",\"data-bind\":\"numericValue: index, valueUpdate: 'input', event: {change: function (){this.changes(this.changes()+1)}}\",\"orient\":\"horizontal\"},\"step\":1,\"className\":\"slider slider is-fullwidth\",\"style\":{}},\"nodeType\":\"DOM\",\"type\":\"node\",\"instanceArgs\":{\"namespace\":\"html\",\"tag\":\"input\"},\"children\":[]}]},{\"props\":{\"className\":\"interact-flex-row-right\"},\"nodeType\":\"DOM\",\"type\":\"node\",\"instanceArgs\":{\"namespace\":\"html\",\"tag\":\"div\"},\"children\":[{\"props\":{\"attributes\":{\"data-bind\":\"text: formatted_val\"}},\"nodeType\":\"DOM\",\"type\":\"node\",\"instanceArgs\":{\"namespace\":\"html\",\"tag\":\"p\"},\"children\":[]}]}]}]}]},{\"props\":{},\"nodeType\":\"Scope\",\"type\":\"node\",\"instanceArgs\":{\"imports\":{\"data\":[],\"type\":\"async_block\"},\"id\":\"10607948902062517035\",\"handlers\":{},\"systemjs_options\":null,\"mount_callbacks\":[],\"observables\":{\"obs-node\":{\"sync\":false,\"id\":\"15360638196569692277\",\"value\":{\"props\":{\"className\":\"interact-flex-row interact-widget\"},\"nodeType\":\"DOM\",\"type\":\"node\",\"instanceArgs\":{\"namespace\":\"html\",\"tag\":\"div\"},\"children\":[{\"props\":{\"setInnerHtml\":\"<img src='data:image\\/png;base64,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'><\\/img>\"},\"nodeType\":\"DOM\",\"type\":\"node\",\"instanceArgs\":{\"namespace\":\"html\",\"tag\":\"div\"},\"children\":[]}]}}}},\"children\":[{\"props\":{},\"nodeType\":\"ObservableNode\",\"type\":\"node\",\"instanceArgs\":{\"id\":\"15360638196569692277\",\"name\":\"obs-node\"},\"children\":[]}]}]},\n",
       "            window,\n",
       "        );\n",
       "    } else {\n",
       "        document\n",
       "            .querySelector('[data-webio-mountpoint=\"17837529050321938804\"]')\n",
       "            .innerHTML = (\n",
       "                '<div style=\"padding: 1em; background-color: #f8d6da; border: 1px solid #f5c6cb\">' +\n",
       "                '<p><strong>WebIO not detected.</strong></p>' +\n",
       "                '<p>Please read ' +\n",
       "                '<a href=\"https://juliagizmos.github.io/WebIO.jl/latest/troubleshooting/not-detected/\" target=\"_blank\">the troubleshooting guide</a> ' +\n",
       "                'for more information on how to resolve this issue.</p>' +\n",
       "                '<p><a href=\"https://juliagizmos.github.io/WebIO.jl/latest/troubleshooting/not-detected/\" target=\"_blank\">https://juliagizmos.github.io/WebIO.jl/latest/troubleshooting/not-detected/</a></p>' +\n",
       "                '</div>'\n",
       "            );\n",
       "    }\n",
       "    </script>\n",
       "</div>\n"
      ],
      "text/plain": [
       "Node{WebIO.DOM}(WebIO.DOM(:html, :div), Any[Node{WebIO.DOM}(WebIO.DOM(:html, :div), Any[Scope(Node{WebIO.DOM}(WebIO.DOM(:html, :div), Any[Node{WebIO.DOM}(WebIO.DOM(:html, :div), Any[Node{WebIO.DOM}(WebIO.DOM(:html, :label), Any[\"t\"], Dict{Symbol,Any}(:className => \"interact \",:style => Dict{Any,Any}(:padding => \"5px 10px 0px 10px\")))], Dict{Symbol,Any}(:className => \"interact-flex-row-left\")), Node{WebIO.DOM}(WebIO.DOM(:html, :div), Any[Node{WebIO.DOM}(WebIO.DOM(:html, :input), Any[], Dict{Symbol,Any}(:max => 30,:min => 1,:attributes => Dict{Any,Any}(:type => \"range\",Symbol(\"data-bind\") => \"numericValue: index, valueUpdate: 'input', event: {change: function (){this.changes(this.changes()+1)}}\",\"orient\" => \"horizontal\"),:step => 1,:className => \"slider slider is-fullwidth\",:style => Dict{Any,Any}()))], Dict{Symbol,Any}(:className => \"interact-flex-row-center\")), Node{WebIO.DOM}(WebIO.DOM(:html, :div), Any[Node{WebIO.DOM}(WebIO.DOM(:html, :p), Any[], Dict{Symbol,Any}(:attributes => Dict(\"data-bind\" => \"text: formatted_val\")))], Dict{Symbol,Any}(:className => \"interact-flex-row-right\"))], Dict{Symbol,Any}(:className => \"interact-flex-row interact-widget\")), Dict{String,Tuple{Observables.AbstractObservable,Union{Nothing, Bool}}}(\"changes\" => (Observable{Int64} with 1 listeners. Value:\n",
       "0, nothing),\"index\" => (Observable{Int64} with 2 listeners. Value:\n",
       "1, nothing)), Set{String}(), nothing, Asset[Asset(\"js\", \"knockout\", \"/scratch/users/shubhgup/julia/.julia/packages/Knockout/IP1uR/src/../assets/knockout.js\"), Asset(\"js\", \"knockout_punches\", \"/scratch/users/shubhgup/julia/.julia/packages/Knockout/IP1uR/src/../assets/knockout_punches.js\"), Asset(\"js\", nothing, \"/scratch/users/shubhgup/julia/.julia/packages/InteractBase/sOe2Z/src/../assets/all.js\"), Asset(\"css\", nothing, \"/scratch/users/shubhgup/julia/.julia/packages/InteractBase/sOe2Z/src/../assets/style.css\"), Asset(\"css\", nothing, \"/scratch/users/shubhgup/julia/.julia/packages/Interact/SbgIk/src/../assets/bulma_confined.min.css\")], Dict{Any,Any}(\"changes\" => Any[WebIO.JSString(\"(function (val){return (val!=this.model[\\\"changes\\\"]()) ? (this.valueFromJulia[\\\"changes\\\"]=true, this.model[\\\"changes\\\"](val)) : undefined})\")],\"index\" => Any[WebIO.JSString(\"(function (val){return (val!=this.model[\\\"index\\\"]()) ? (this.valueFromJulia[\\\"index\\\"]=true, this.model[\\\"index\\\"](val)) : undefined})\")]), WebIO.ConnectionPool(Channel{Any}(sz_max:32,sz_curr:0), Set{AbstractConnection}(), Base.GenericCondition{Base.AlwaysLockedST}(Base.InvasiveLinkedList{Task}(Task (runnable) @0x00007f6fbec17820, Task (runnable) @0x00007f6fbec17820), Base.AlwaysLockedST(1))), WebIO.JSString[WebIO.JSString(\"function () {\\n    var handler = (function (ko, koPunches) {\\n    ko.punches.enableAll();\\n    ko.bindingHandlers.numericValue = {\\n        init: function(element, valueAccessor, allBindings, data, context) {\\n            var stringified = ko.observable(ko.unwrap(valueAccessor()));\\n            stringified.subscribe(function(value) {\\n                var val = parseFloat(value);\\n                if (!isNaN(val)) {\\n                    valueAccessor()(val);\\n                }\\n            });\\n            valueAccessor().subscribe(function(value) {\\n                var str = JSON.stringify(value);\\n                if ((str == \\\"0\\\") && ([\\\"-0\\\", \\\"-0.\\\"].indexOf(stringified()) >= 0))\\n                     return;\\n                 if ([\\\"null\\\", \\\"\\\"].indexOf(str) >= 0)\\n                     return;\\n                stringified(str);\\n            });\\n            ko.applyBindingsToNode(\\n                element,\\n                {\\n                    value: stringified,\\n                    valueUpdate: allBindings.get('valueUpdate'),\\n                },\\n                context,\\n            );\\n        }\\n    };\\n    var json_data = {\\\"formatted_vals\\\":[\\\"1\\\",\\\"2\\\",\\\"3\\\",\\\"4\\\",\\\"5\\\",\\\"6\\\",\\\"7\\\",\\\"8\\\",\\\"9\\\",\\\"10\\\",\\\"11\\\",\\\"12\\\",\\\"13\\\",\\\"14\\\",\\\"15\\\",\\\"16\\\",\\\"17\\\",\\\"18\\\",\\\"19\\\",\\\"20\\\",\\\"21\\\",\\\"22\\\",\\\"23\\\",\\\"24\\\",\\\"25\\\",\\\"26\\\",\\\"27\\\",\\\"28\\\",\\\"29\\\",\\\"30\\\"],\\\"changes\\\":WebIO.getval({\\\"name\\\":\\\"changes\\\",\\\"scope\\\":\\\"9492874803375003875\\\",\\\"id\\\":\\\"7444856937907406745\\\",\\\"type\\\":\\\"observable\\\"}),\\\"index\\\":WebIO.getval({\\\"name\\\":\\\"index\\\",\\\"scope\\\":\\\"9492874803375003875\\\",\\\"id\\\":\\\"18300994562277262916\\\",\\\"type\\\":\\\"observable\\\"})};\\n    var self = this;\\n    function AppViewModel() {\\n        for (var key in json_data) {\\n            var el = json_data[key];\\n            this[key] = Array.isArray(el) ? ko.observableArray(el) : ko.observable(el);\\n        }\\n        \\n        [this[\\\"formatted_val\\\"]=ko.computed(    function(){\\n        return this.formatted_vals()[parseInt(this.index())-(1)];\\n    }\\n,this)]\\n        [this[\\\"changes\\\"].subscribe((function (val){!(this.valueFromJulia[\\\"changes\\\"]) ? (WebIO.setval({\\\"name\\\":\\\"changes\\\",\\\"scope\\\":\\\"9492874803375003875\\\",\\\"id\\\":\\\"7444856937907406745\\\",\\\"type\\\":\\\"observable\\\"},val)) : undefined; return this.valueFromJulia[\\\"changes\\\"]=false}),self),this[\\\"index\\\"].subscribe((function (val){!(this.valueFromJulia[\\\"index\\\"]) ? (WebIO.setval({\\\"name\\\":\\\"index\\\",\\\"scope\\\":\\\"9492874803375003875\\\",\\\"id\\\":\\\"18300994562277262916\\\",\\\"type\\\":\\\"observable\\\"},val)) : undefined; return this.valueFromJulia[\\\"index\\\"]=false}),self)]\\n        \\n    }\\n    self.model = new AppViewModel();\\n    self.valueFromJulia = {};\\n    for (var key in json_data) {\\n        self.valueFromJulia[key] = false;\\n    }\\n    ko.applyBindings(self.model, self.dom);\\n}\\n);\\n    (WebIO.importBlock({\\\"data\\\":[{\\\"name\\\":\\\"knockout\\\",\\\"type\\\":\\\"js\\\",\\\"url\\\":\\\"/assetserver/f83dc9757fede95ccda667ff812a2fcf4fcea406-knockout.js\\\"},{\\\"name\\\":\\\"knockout_punches\\\",\\\"type\\\":\\\"js\\\",\\\"url\\\":\\\"/assetserver/489381353c6689ef066cceedc5f4603376aece34-knockout_punches.js\\\"}],\\\"type\\\":\\\"async_block\\\"})).then((imports) => handler.apply(this, imports));\\n}\\n\")])], Dict{Symbol,Any}(:className => \"field interact-widget\")), Observable{Any} with 0 listeners. Value:\n",
       "Node{WebIO.DOM}(WebIO.DOM(:html, :div), Any[Cairo.CairoSurfaceIOStream{UInt32}(Ptr{Nothing} @0x000000001bab15f0, 1000.0, 600.0, IOBuffer(data=UInt8[...], readable=true, writable=true, seekable=true, append=false, size=0, maxsize=Inf, ptr=1, mark=-1))], Dict{Symbol,Any}(:className => \"interact-flex-row interact-widget\"))], Dict{Symbol,Any}())"
      ]
     },
     "execution_count": 60,
     "metadata": {
      "application/vnd.webio.node+json": {
       "kernelId": "f4226528-cb32-455b-9bb1-6a86ae895c72"
      }
     },
     "output_type": "execute_result"
    }
   ],
   "source": [
    "# t = 10\n",
    "mp = @manipulate for t=slider(1:30, value=1., label=\"t\")\n",
    "    AutomotiveVisualization.render([planner.mdp.sim.problem.roadway, crosswalk, playback_trace[min(t, length(playback_trace))]])\n",
    "end"
   ]
  },
  {
   "cell_type": "code",
   "execution_count": null,
   "metadata": {},
   "outputs": [],
   "source": [
    "planner.tree.q"
   ]
  },
  {
   "cell_type": "markdown",
   "metadata": {},
   "source": [
    "### Example for localizing using GPS"
   ]
  },
  {
   "cell_type": "markdown",
   "metadata": {},
   "source": [
    "**Input**: state of agent, noise in each GPS range measurement\n",
    "\n",
    "**Output**: agent with noise parameter containing difference between estimated state and true state"
   ]
  },
  {
   "cell_type": "code",
   "execution_count": null,
   "metadata": {},
   "outputs": [],
   "source": [
    "eg1_meas = AdversarialDriving.measure_gps(ped_state, [0.0, 0.0, 0.0, 0.0])"
   ]
  },
  {
   "cell_type": "code",
   "execution_count": null,
   "metadata": {},
   "outputs": [],
   "source": [
    "ped_state.state.veh_state"
   ]
  },
  {
   "cell_type": "code",
   "execution_count": null,
   "metadata": {},
   "outputs": [],
   "source": [
    "eg1_ped = AdversarialDriving.localize(ped_state, [eg1_meas], planner.mdp.sim.problem.roadway)"
   ]
  },
  {
   "cell_type": "markdown",
   "metadata": {},
   "source": [
    "### Example for Distribution likelihood estimation under measurements (In progress)"
   ]
  },
  {
   "cell_type": "markdown",
   "metadata": {},
   "source": [
    "**Input**: distribution of measurements, function mapping from measurements to states of all agents\n",
    "\n",
    "**Output**: log probability of a given set of agent states "
   ]
  },
  {
   "cell_type": "code",
   "execution_count": null,
   "metadata": {},
   "outputs": [],
   "source": [
    "eg2_range_noise = [Normal(0, 5.0), Normal(0, 5.0), Normal(0, 5.0)] # Array of Gaussian\n",
    "eg2_range_mu = [10.0, 11.0, 9.0]"
   ]
  },
  {
   "cell_type": "code",
   "execution_count": null,
   "metadata": {},
   "outputs": [],
   "source": [
    "function eg2_localize(m)\n",
    "    return [1/sqrt(2)*hypot(m[1], m[2]), 1/sqrt(2)*hypot(m[2], m[3])]\n",
    "end"
   ]
  },
  {
   "cell_type": "code",
   "execution_count": null,
   "metadata": {},
   "outputs": [],
   "source": [
    "eg2_localize([1.1, 1.3, 2.8])"
   ]
  },
  {
   "cell_type": "code",
   "execution_count": null,
   "metadata": {},
   "outputs": [],
   "source": [
    "n_samp = 1000\n",
    "eg2_noise_samp = zeros(n_samp, length(eg2_range_noise))\n",
    "for i=1:length(eg2_range_noise)\n",
    "    eg2_noise_samp[:, i] = rand(eg2_range_noise[i], n_samp)\n",
    "end\n",
    "eg2_noise_samp"
   ]
  },
  {
   "cell_type": "code",
   "execution_count": null,
   "metadata": {},
   "outputs": [],
   "source": [
    "loc_samp = zeros(n_samp, 2)\n",
    "for i=1:n_samp\n",
    "    loc_samp[i, :] = eg2_localize(eg2_range_mu + eg2_noise_samp[i, :])\n",
    "end\n",
    "loc_samp"
   ]
  },
  {
   "cell_type": "code",
   "execution_count": null,
   "metadata": {},
   "outputs": [],
   "source": [
    "using Plots"
   ]
  },
  {
   "cell_type": "code",
   "execution_count": null,
   "metadata": {},
   "outputs": [],
   "source": [
    "histogram(loc_samp[:, 1])\n",
    "histogram!(loc_samp[:, 2])"
   ]
  },
  {
   "cell_type": "markdown",
   "metadata": {},
   "source": [
    "Need to calc log likelihood from the empirical distribution"
   ]
  },
  {
   "cell_type": "code",
   "execution_count": null,
   "metadata": {},
   "outputs": [],
   "source": []
  }
 ],
 "metadata": {
  "@webio": {
   "lastCommId": "6b0312dd859f47bfbb6ca33f20190567",
   "lastKernelId": "f9354154-8a2e-4ab5-aeae-9b585cf31514"
  },
  "kernelspec": {
   "display_name": "Julia 1.5.1",
   "language": "julia",
   "name": "julia-1.5"
  },
  "language_info": {
   "file_extension": ".jl",
   "mimetype": "application/julia",
   "name": "julia",
   "version": "1.5.1"
  }
 },
 "nbformat": 4,
 "nbformat_minor": 2
}
