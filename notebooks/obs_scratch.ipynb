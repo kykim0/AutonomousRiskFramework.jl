{
 "cells": [
  {
   "cell_type": "code",
   "execution_count": 2,
   "metadata": {},
   "outputs": [
    {
     "name": "stderr",
     "output_type": "stream",
     "text": [
      "\u001b[32m\u001b[1m Activating\u001b[22m\u001b[39m environment at `C:\\Users\\shubh\\Documents\\AutonomousRiskFramework\\ast_obs\\Project.toml`\n"
     ]
    }
   ],
   "source": [
    "using Pkg\n",
    "Pkg.activate(\"../ast_obs\")"
   ]
  },
  {
   "cell_type": "code",
   "execution_count": 2,
   "metadata": {},
   "outputs": [
    {
     "data": {
      "text/html": [
       "<script>\n",
       "// Immediately-invoked-function-expression to avoid global variables.\n",
       "(function() {\n",
       "    var warning_div = document.getElementById(\"webio-warning-5859882815285967630\");\n",
       "    var hide = function () {\n",
       "        var script = document.getElementById(\"webio-setup-11443234297954375440\");\n",
       "        var parent = script && script.parentElement;\n",
       "        var grandparent = parent && parent.parentElement;\n",
       "        if (grandparent) {\n",
       "            grandparent.style.display = \"none\";\n",
       "        }\n",
       "        warning_div.style.display = \"none\";\n",
       "    };\n",
       "    if (typeof Jupyter !== \"undefined\") {\n",
       "        console.log(\"WebIO detected Jupyter notebook environment.\");\n",
       "        // Jupyter notebook.\n",
       "        var extensions = (\n",
       "            Jupyter\n",
       "            && Jupyter.notebook.config.data\n",
       "            && Jupyter.notebook.config.data.load_extensions\n",
       "        );\n",
       "        if (extensions && extensions[\"webio-jupyter-notebook\"]) {\n",
       "            // Extension already loaded.\n",
       "            console.log(\"Jupyter WebIO nbextension detected; not loading ad-hoc.\");\n",
       "            hide();\n",
       "            return;\n",
       "        }\n",
       "    } else if (window.location.pathname.includes(\"/lab\")) {\n",
       "        // Guessing JupyterLa\n",
       "        console.log(\"Jupyter Lab detected; make sure the @webio/jupyter-lab-provider labextension is installed.\");\n",
       "        hide();\n",
       "        return;\n",
       "    }\n",
       "})();\n",
       "\n",
       "</script>\n",
       "<p\n",
       "    id=\"webio-warning-5859882815285967630\"\n",
       "    class=\"output_text output_stderr\"\n",
       "    style=\"padding: 1em; font-weight: bold;\"\n",
       ">\n",
       "    Unable to load WebIO. Please make sure WebIO works for your Jupyter client.\n",
       "    For troubleshooting, please see <a href=\"https://juliagizmos.github.io/WebIO.jl/latest/providers/ijulia/\">\n",
       "    the WebIO/IJulia documentation</a>.\n",
       "    <!-- TODO: link to installation docs. -->\n",
       "</p>\n"
      ],
      "text/plain": [
       "HTML{String}(\"<script>\\n// Immediately-invoked-function-expression to avoid global variables.\\n(function() {\\n    var warning_div = document.getElementById(\\\"webio-warning-5859882815285967630\\\");\\n    var hide = function () {\\n        var script = document.getElementById(\\\"webio-setup-11443234297954375440\\\");\\n        var parent = script && script.parentElement;\\n        var grandparent = parent && parent.parentElement;\\n        if (grandparent) {\\n            grandparent.style.display = \\\"none\\\";\\n        }\\n        warning_div.style.display = \\\"none\\\";\\n    };\\n    if (typeof Jupyter !== \\\"undefined\\\") {\\n        console.log(\\\"WebIO detected Jupyter notebook environment.\\\");\\n        // Jupyter notebook.\\n        var extensions = (\\n            Jupyter\\n            && Jupyter.notebook.config.data\\n            && Jupyter.notebook.config.data.load_extensions\\n        );\\n        if (extensions && extensions[\\\"webio-jupyter-notebook\\\"]) {\\n            // Extension already loaded.\\n            console.log(\\\"Jupyter WebIO nbextension detected; not loading ad-hoc.\\\");\\n            hide();\\n            return;\\n        }\\n    } else if (window.location.pathname.includes(\\\"/lab\\\")) {\\n        // Guessing JupyterLa\\n        console.log(\\\"Jupyter Lab detected; make sure the @webio/jupyter-lab-provider labextension is installed.\\\");\\n        hide();\\n        return;\\n    }\\n})();\\n\\n</script>\\n<p\\n    id=\\\"webio-warning-5859882815285967630\\\"\\n    class=\\\"output_text output_stderr\\\"\\n    style=\\\"padding: 1em; font-weight: bold;\\\"\\n>\\n    Unable to load WebIO. Please make sure WebIO works for your Jupyter client.\\n    For troubleshooting, please see <a href=\\\"https://juliagizmos.github.io/WebIO.jl/latest/providers/ijulia/\\\">\\n    the WebIO/IJulia documentation</a>.\\n    <!-- TODO: link to installation docs. -->\\n</p>\\n\")"
      ]
     },
     "metadata": {},
     "output_type": "display_data"
    }
   ],
   "source": [
    "using Markdown\n",
    "using InteractiveUtils\n",
    "using Interact\n",
    "using LinearAlgebra\n",
    "using Plots\n",
    "using Statistics\n",
    "using Distributions, Parameters, Random, Latexify\n",
    "using AutomotiveSimulator, AutomotiveVisualization\n",
    "using POMDPs, POMDPPolicies, POMDPSimulators"
   ]
  },
  {
   "cell_type": "code",
   "execution_count": 3,
   "metadata": {},
   "outputs": [],
   "source": [
    "using POMDPStressTesting"
   ]
  },
  {
   "cell_type": "code",
   "execution_count": 4,
   "metadata": {},
   "outputs": [],
   "source": [
    "using AdversarialDriving"
   ]
  },
  {
   "cell_type": "code",
   "execution_count": 31,
   "metadata": {},
   "outputs": [
    {
     "name": "stderr",
     "output_type": "stream",
     "text": [
      "┌ Info: Precompiling Debugger [31a5f54b-26ea-5ae9-a837-f05ce5417438]\n",
      "└ @ Base loading.jl:1278\n"
     ]
    }
   ],
   "source": [
    "using Debugger"
   ]
  },
  {
   "cell_type": "code",
   "execution_count": 5,
   "metadata": {},
   "outputs": [],
   "source": [
    "# using Revise"
   ]
  },
  {
   "cell_type": "code",
   "execution_count": 6,
   "metadata": {},
   "outputs": [],
   "source": [
    "# using ObservationModels"
   ]
  },
  {
   "cell_type": "code",
   "execution_count": 7,
   "metadata": {},
   "outputs": [],
   "source": [
    "Base.rand(rng::AbstractRNG, s::Scene) = s"
   ]
  },
  {
   "cell_type": "code",
   "execution_count": 8,
   "metadata": {},
   "outputs": [],
   "source": [
    "# Pkg.develop(url=\"https://github.com/sisl/AdversarialDriving.jl\")\n",
    "# Pkg.develop(PackageSpec(url=\"/home/users/shubhgup/Codes/julia_learn/scripts/AutonomousRiskFramework/AdversarialDriving.jl\"))\n",
    "# Pkg.develop(PackageSpec(url=\"/home/users/shubhgup/Codes/julia_learn/scripts/AutonomousRiskFramework/RiskSimulator.jl\"))\n",
    "# Pkg.develop(PackageSpec(url=\"/home/users/shubhgup/Codes/julia_learn/scripts/AutonomousRiskFramework/STLCG.jl\"))"
   ]
  },
  {
   "cell_type": "code",
   "execution_count": 9,
   "metadata": {},
   "outputs": [],
   "source": [
    "using CrossEntropyMethod"
   ]
  },
  {
   "cell_type": "markdown",
   "metadata": {},
   "source": [
    "### Function Definitions"
   ]
  },
  {
   "cell_type": "code",
   "execution_count": 10,
   "metadata": {},
   "outputs": [],
   "source": [
    "# # The function that propagates the PedestrianControl action\n",
    "# function AdversarialDriving.propagate(ped::Entity{NoisyPedState, D, I}, action::PedestrianControl, roadway::Roadway, Δt::Float64) where {D, I}\n",
    "#     starting_lane = laneid(ped)\n",
    "#     vs_entity = Entity(ped.state.veh_state, ped.def, ped.id)\n",
    "#     a_lat_lon = reverse(action.a + action.da)\n",
    "#     vs = propagate(vs_entity, LatLonAccel(a_lat_lon...), roadway, Δt)\n",
    "#     upd_noise = Noise((ped.state.noise.pos[1] + action.noise.pos[1] + action.noise.vel*Δt, ped.state.noise.pos[2] + action.noise.pos[2]), action.noise.vel)\n",
    "#     nps = NoisyPedState(AdversarialDriving.set_lane(vs, laneid(ped), roadway), upd_noise)\n",
    "#     @assert starting_lane == laneid(nps)\n",
    "#     nps\n",
    "# end"
   ]
  },
  {
   "cell_type": "code",
   "execution_count": 11,
   "metadata": {},
   "outputs": [],
   "source": [
    "# # The function to get GPS measurements for pedestrian, compute state estimate and update noise\n",
    "# function measure_gps(ped::Entity{NoisyPedState, D, I}, fixed_sat::Array{Satellite}, noise::Array{Float64}) where {D, I}\n",
    "#     ped_pos = posg(ped)\n",
    "    \n",
    "#     ranges = Union{Missing, GPSRangeMeasurement}[]\n",
    "    \n",
    "#     for i in 1:length(fixed_sat)\n",
    "#         satpos = fixed_sat[i].pos\n",
    "#         if fixed_sat[i].visible==true\n",
    "#             range = hypot(ped_pos.x - satpos.x, ped_pos.y - satpos.y, satpos.z)\n",
    "#             push!(ranges, GPSRangeMeasurement(range=range, noise=noise[i]))\n",
    "#         else\n",
    "#             push!(ranges, missing)\n",
    "#         end\n",
    "#     end\n",
    "    \n",
    "#     ranges\n",
    "# end"
   ]
  },
  {
   "cell_type": "code",
   "execution_count": 12,
   "metadata": {},
   "outputs": [],
   "source": [
    "# measure_gps(ped_state, fixed_sat, [0.0, 0.0, 0.0, 0.0])"
   ]
  },
  {
   "cell_type": "code",
   "execution_count": 13,
   "metadata": {},
   "outputs": [],
   "source": [
    "# function update_all_measurements(ped::Entity{NoisyPedState, D, I}, all_measurements) where {D, I}\n",
    "#     single_time_measurements = Array{Measurement}[] \n",
    "# end"
   ]
  },
  {
   "cell_type": "code",
   "execution_count": 14,
   "metadata": {},
   "outputs": [],
   "source": [
    "# Instructions for rendering the noisy pedestrian\n",
    "function AutomotiveVisualization.add_renderable!(rendermodel::RenderModel, ped::Entity{NoisyPedState, VehicleDef, Int64})\n",
    "    reg_ped = Entity(ped.state.veh_state, ped.def, ped.id)\n",
    "    add_renderable!(rendermodel, FancyPedestrian(ped=reg_ped))\n",
    "    noisy_ped = Entity(noisy_entity(ped, ad_mdp.roadway).state.veh_state, ped.def, ped.id)\n",
    "    ghost_color = weighted_color_mean(0.3, colorant\"blue\", colorant\"white\")\n",
    "    add_renderable!(rendermodel, FancyPedestrian(ped=noisy_ped, color=ghost_color))\n",
    "    return rendermodel\n",
    "end"
   ]
  },
  {
   "cell_type": "code",
   "execution_count": 15,
   "metadata": {},
   "outputs": [],
   "source": [
    "# function AdversarialDriving.update_adversary!(adversary::Agent, action::Disturbance, s::Scene)\n",
    "#     index = findfirst(id(adversary), s)\n",
    "#     isnothing(index) && return nothing # If the adversary is not in the scene then don't update\n",
    "#     adversary.model.next_action = action # Set the adversaries next action\n",
    "#     # veh = s[index] # Get the actual entity\n",
    "#     # state_type = typeof(veh.state) # Find out the type of its state\n",
    "#     # s[index] =  Entity(state_type(veh.state, noise = action.noise), veh.def, veh.id) # replace the entity in the scene\n",
    "# end"
   ]
  },
  {
   "cell_type": "code",
   "execution_count": 16,
   "metadata": {},
   "outputs": [],
   "source": [
    "# # Function to assign action as state noise directly\n",
    "# function AdversarialDriving.localize(ped::Entity{NoisyPedState, D, I}, action::PedestrianControl, meas, roadway::Roadway) where {D,I}\n",
    "#     upd_noise = Noise(pos = (action.noise.pos[1], action.noise.pos[2]), vel = action.noise.vel)\n",
    "#     nps = NoisyPedState(ped.state.veh_state, upd_noise)\n",
    "#     nps\n",
    "# end"
   ]
  },
  {
   "cell_type": "code",
   "execution_count": 17,
   "metadata": {},
   "outputs": [],
   "source": [
    "# # Function to track the state of a pedestrian using velocity measurements\n",
    "# function AdversarialDriving.localize(ped::Entity{NoisyPedState, D, I}, action::PedestrianControl, meas, roadway::Roadway) where {D,I}\n",
    "#     # TODO: Replace with a higher-fidelity localization routine\n",
    "#     ped_noise = noise(ped)\n",
    "#     upd_noise = Noise(pos = (ped_noise.pos[1] + action.noise.vel*0.1, ped_noise.pos[2]), vel = action.noise.vel)\n",
    "#     nps = NoisyPedState(ped.state.veh_state, upd_noise)\n",
    "#     nps\n",
    "# end"
   ]
  },
  {
   "cell_type": "code",
   "execution_count": 18,
   "metadata": {},
   "outputs": [],
   "source": [
    "# # # Function to estimate the state of a pedestrian using GPS measurements\n",
    "# function localize(ped::Entity{NoisyPedState, D, I}, action::PedestrianControl, meas, roadway::Roadway) where {D,I}\n",
    "#     # TODO: Replace with a higher-fidelity localization routine\n",
    "#     last_meas = last(meas)\n",
    "#     gps_fix = GPS_fix(last_meas)\n",
    "#     ped_pos = posg(ped)\n",
    "#     upd_noise = Noise(pos = (gps_fix[1] - ped_pos.x, gps_fix[2] - ped_pos.y), vel = action.noise.vel)\n",
    "#     nps = NoisyPedState(ped.state.veh_state, upd_noise)\n",
    "#     nps\n",
    "# end"
   ]
  },
  {
   "cell_type": "code",
   "execution_count": 19,
   "metadata": {},
   "outputs": [],
   "source": [
    "# function logprob(ped::Entity{NoisyPedState, D, I}, action::PedestrianControl, meas, roadway::Roadway) where {D,I}\n",
    "    \n",
    "# end"
   ]
  },
  {
   "cell_type": "markdown",
   "metadata": {},
   "source": [
    "### Main"
   ]
  },
  {
   "cell_type": "code",
   "execution_count": 20,
   "metadata": {},
   "outputs": [],
   "source": [
    "# init_noise = Noise(pos = (0, 0), vel = 0, gps_range = [0.0, 0.0, 0.0, 0.0, 0.0])\n",
    "# cont_noise = Noise(pos = (-7, 0), vel = 0, gps_range = [0.0, 0.0, 0.0, 0.0, 0.0])"
   ]
  },
  {
   "cell_type": "code",
   "execution_count": 21,
   "metadata": {},
   "outputs": [
    {
     "data": {
      "text/plain": [
       "Noise\n",
       "  pos: VecE2{Float64}\n",
       "  vel: Float64 0.0\n"
      ]
     },
     "execution_count": 21,
     "metadata": {},
     "output_type": "execute_result"
    }
   ],
   "source": [
    "init_noise = Noise(pos = (0, 0), vel = 0)\n",
    "cont_noise = Noise(pos = (-7, 0), vel = 0)"
   ]
  },
  {
   "cell_type": "code",
   "execution_count": 22,
   "metadata": {},
   "outputs": [],
   "source": [
    "sut_agent = BlinkerVehicleAgent(get_ped_vehicle(id=1, s=5.0, v=15.0),\n",
    "    TIDM(ped_TIDM_template, noisy_observations=true));"
   ]
  },
  {
   "cell_type": "code",
   "execution_count": 23,
   "metadata": {},
   "outputs": [
    {
     "data": {
      "text/plain": [
       "get_pedestrian_noisy (generic function with 1 method)"
      ]
     },
     "execution_count": 23,
     "metadata": {},
     "output_type": "execute_result"
    }
   ],
   "source": [
    "get_pedestrian_noisy(;id::Int64, s::Float64, v::Float64, noise::Noise) = (rng::AbstractRNG = Random.GLOBAL_RNG) -> NoisyPedestrian(roadway = AdversarialDriving.ped_roadway, lane = 2, s=s, v=v, id=id, noise=noise)"
   ]
  },
  {
   "cell_type": "code",
   "execution_count": 24,
   "metadata": {},
   "outputs": [],
   "source": [
    "adv_ped = NoisyPedestrianAgent(get_pedestrian_noisy(id=2, s=7.0, v=2.0, noise=init_noise), AdversarialPedestrian());"
   ]
  },
  {
   "cell_type": "code",
   "execution_count": 25,
   "metadata": {},
   "outputs": [],
   "source": [
    "ad_mdp = AdversarialDrivingMDP(sut_agent, [adv_ped], ped_roadway, 0.1);"
   ]
  },
  {
   "cell_type": "code",
   "execution_count": 38,
   "metadata": {},
   "outputs": [
    {
     "ename": "LoadError",
     "evalue": "MethodError: no method matching iterate(::POMDPModelTools.Deterministic{Scene{Entity{S,VehicleDef,Int64} where S}})\nClosest candidates are:\n  iterate(!Matched::Tables.DictRowTable) at /scratch/users/shubhgup/julia/.julia/packages/Tables/iG2a3/src/dicts.jl:120\n  iterate(!Matched::Tables.DictRowTable, !Matched::Any) at /scratch/users/shubhgup/julia/.julia/packages/Tables/iG2a3/src/dicts.jl:120\n  iterate(!Matched::Pandas.HDFStore, !Matched::Any...) at /scratch/users/shubhgup/julia/.julia/packages/Pandas/rAPmB/src/Pandas.jl:63\n  ...",
     "output_type": "error",
     "traceback": [
      "MethodError: no method matching iterate(::POMDPModelTools.Deterministic{Scene{Entity{S,VehicleDef,Int64} where S}})\nClosest candidates are:\n  iterate(!Matched::Tables.DictRowTable) at /scratch/users/shubhgup/julia/.julia/packages/Tables/iG2a3/src/dicts.jl:120\n  iterate(!Matched::Tables.DictRowTable, !Matched::Any) at /scratch/users/shubhgup/julia/.julia/packages/Tables/iG2a3/src/dicts.jl:120\n  iterate(!Matched::Pandas.HDFStore, !Matched::Any...) at /scratch/users/shubhgup/julia/.julia/packages/Pandas/rAPmB/src/Pandas.jl:63\n  ...",
      "",
      "Stacktrace:",
      " [1] indexed_iterate(::POMDPModelTools.Deterministic{Scene{Entity{S,VehicleDef,Int64} where S}}, ::Int64) at ./tuple.jl:84",
      " [2] top-level scope at In[38]:1",
      " [3] include_string(::Function, ::Module, ::String, ::String) at ./loading.jl:1091"
     ]
    }
   ],
   "source": [
    "ped_state, veh_state = initialstate(ad_mdp)"
   ]
  },
  {
   "cell_type": "code",
   "execution_count": null,
   "metadata": {},
   "outputs": [],
   "source": [
    "noisy_action = Disturbance[PedestrianControl(a=VecE2(0, 0), da=VecE2(0, 0), noise=cont_noise)]"
   ]
  },
  {
   "cell_type": "code",
   "execution_count": null,
   "metadata": {},
   "outputs": [],
   "source": [
    "# Behavior with noise\n",
    "hist_noise = POMDPSimulators.simulate(HistoryRecorder(), ad_mdp,\n",
    "    FunctionPolicy((s) -> noisy_action));"
   ]
  },
  {
   "cell_type": "code",
   "execution_count": null,
   "metadata": {},
   "outputs": [],
   "source": [
    "map(x -> (x.entities[1].state.veh_state.posG[2], AdversarialDriving.noisy_entity(x.entities[1], ad_mdp.roadway).state.veh_state.posG[2], noise(x.entities[1]).pos[1]) , POMDPSimulators.stepthrough(ad_mdp, FunctionPolicy((s) -> noisy_action), \"s\", max_steps=20))"
   ]
  },
  {
   "cell_type": "code",
   "execution_count": null,
   "metadata": {},
   "outputs": [],
   "source": [
    "ad_scenes_noise = state_hist(hist_noise);"
   ]
  },
  {
   "cell_type": "code",
   "execution_count": null,
   "metadata": {},
   "outputs": [],
   "source": [
    "# t = 10\n",
    "@manipulate for t=1:length(ad_scenes_noise)\n",
    "    AutomotiveVisualization.render([ad_mdp.roadway, crosswalk, ad_scenes_noise[t]])\n",
    "end"
   ]
  },
  {
   "cell_type": "markdown",
   "metadata": {},
   "source": [
    "#### Importance distribution"
   ]
  },
  {
   "cell_type": "code",
   "execution_count": null,
   "metadata": {},
   "outputs": [],
   "source": [
    "struct INormal_Uniform{T<:Real} <: ContinuousUnivariateDistribution\n",
    "    mu::Float64\n",
    "    sigma::Float64\n",
    "    mu_sup::Float64\n",
    "    sup::Float64\n",
    "    INormal_Uniform(mu::T, sigma::T, mu_sup::T, sup::T) where {T<:Real} = new{T}(Float64(mu), Float64(sigma), Float64(mu_sup), Float64(sup))\n",
    "end"
   ]
  },
  {
   "cell_type": "code",
   "execution_count": null,
   "metadata": {},
   "outputs": [],
   "source": [
    "INormal_Uniform(mu, sigma, mu_sup) = INormal_Uniform(Float64(mu), Float64(sigma), Float64(mu_sup), 10.0)\n",
    "INormal_Uniform(mu, sigma) = INormal_Uniform(Float64(mu), Float64(sigma), Float64(mu))\n",
    "Distributions.pdf(d::INormal_Uniform, x::Float64) = Distributions.pdf(Normal(d.mu, d.sigma), x)\n",
    "Base.rand(d::INormal_Uniform) = rand(Uniform(d.mu_sup-d.sup/2, d.mu_sup+d.sup/2))\n",
    "Base.rand(rng::AbstractRNG, d::INormal_Uniform) = rand(rng, Uniform(d.mu_sup-d.sup/2, d.mu_sup+d.sup/2))\n",
    "Distributions.sampler(d::INormal_Uniform) = Distributions.sampler(Uniform(d.mu_sup-d.sup/2, d.mu_sup+d.sup/2))\n",
    "Distributions.logpdf(d::INormal_Uniform, x::Real) = Distributions.logpdf(Normal(d.mu, d.sigma), x) \n",
    "Distributions.cdf(d::INormal_Uniform, x::Real) = Distributions.cdf(Normal(d.mu, d.sigma), x)\n",
    "Distributions.quantile(d::INormal_Uniform, q::Real) = Distributions.quantile(Normal(d.mu, d.sigma), q)\n",
    "Base.minimum(d::INormal_Uniform) = d.mu-d.sup/2\n",
    "Base.maximum(d::INormal_Uniform) = d.mu+d.sup/2\n",
    "Distributions.insupport(d::INormal_Uniform, x::Real) = Distributions.insupport(Normal(d.mu, d.sigma), x)\n",
    "Distributions.mean(d::INormal_Uniform) = Distributions.mean(Normal(d.mu, d.sigma))\n",
    "Distributions.var(d::INormal_Uniform) = Distributions.var(Normal(d.mu, d.sigma))\n",
    "\n",
    "function Distributions.fit(::Type{<:INormal_Uniform}, x::AbstractArray{T}, w::AbstractArray{Float64}) where T<:Real\n",
    "    norm_fit = Distributions.fit(Normal{T}, x, w)\n",
    "    INormal_Uniform(norm_fit.μ, norm_fit.σ)\n",
    "end"
   ]
  },
  {
   "cell_type": "code",
   "execution_count": null,
   "metadata": {},
   "outputs": [],
   "source": [
    "struct INormal_GMM{T<:Real, C<:Categorical} <: ContinuousUnivariateDistribution\n",
    "    mu::T\n",
    "    sigma::T\n",
    "    gmm_mu::Vector{T}\n",
    "    gmm_sigma::Vector{T}\n",
    "    gmm_prior::C\n",
    "    INormal_GMM(mu::T, sigma::T, gmm_mu::AbstractVector{T}, gmm_sigma::AbstractVector{T}, gmm_prior::C) where {T<:Real,C<:Categorical} = new{T,C}(T(mu), T(sigma), gmm_mu, gmm_sigma, gmm_prior)\n",
    "end"
   ]
  },
  {
   "cell_type": "code",
   "execution_count": null,
   "metadata": {},
   "outputs": [],
   "source": [
    "INormal_GMM(mu, sigma) = INormal_GMM(Float64(mu), Float64(sigma), [Float64(mu), Float64(mu)], [sigma/2.0, sigma*2.0], Categorical(0.5, 0.5))\n",
    "Distributions.pdf(d::INormal_GMM, x::Float64) = Distributions.pdf(Normal(d.mu, d.sigma), x)\n",
    "Base.rand(d::INormal_GMM) = rand(UnivariateGMM(d.gmm_mu, d.gmm_sigma, d.gmm_prior))\n",
    "Base.rand(rng::AbstractRNG, d::INormal_GMM) = rand(rng, UnivariateGMM(d.gmm_mu, d.gmm_sigma, d.gmm_prior))\n",
    "Distributions.sampler(d::INormal_GMM) = Distributions.sampler(UnivariateGMM(d.gmm_mu, d.gmm_sigma, d.gmm_prior))\n",
    "Distributions.logpdf(d::INormal_GMM, x::Real) = Distributions.logpdf(Normal(d.mu, d.sigma), x) \n",
    "Distributions.cdf(d::INormal_GMM, x::Real) = Distributions.cdf(Normal(d.mu, d.sigma), x)\n",
    "Distributions.quantile(d::INormal_GMM, q::Real) = Distributions.quantile(Normal(d.mu, d.sigma), q)\n",
    "Base.minimum(d::INormal_GMM) = -Inf\n",
    "Base.maximum(d::INormal_GMM) = Inf\n",
    "Distributions.insupport(d::INormal_GMM, x::Real) = Distributions.insupport(Normal(d.mu, d.sigma), x)\n",
    "Distributions.mean(d::INormal_GMM) = Distributions.mean(Normal(d.mu, d.sigma))\n",
    "Distributions.var(d::INormal_GMM) = Distributions.var(Normal(d.mu, d.sigma))\n",
    "\n",
    "# function Distributions.fit(::Type{<:INormal_GMM}, x::AbstractArray{T}, w::AbstractArray{Float64}) where T<:Real\n",
    "#     norm_fit = Distributions.fit(Normal{T}, x, w)\n",
    "#     INormal_Uniform(norm_fit.μ, norm_fit.σ)\n",
    "# end"
   ]
  },
  {
   "cell_type": "markdown",
   "metadata": {},
   "source": [
    "#### Stress Testing Setup"
   ]
  },
  {
   "cell_type": "code",
   "execution_count": null,
   "metadata": {},
   "outputs": [],
   "source": [
    "@with_kw struct AutoRiskParams\n",
    "    endtime::Real = 30 # Simulate end time\n",
    "end;"
   ]
  },
  {
   "cell_type": "code",
   "execution_count": null,
   "metadata": {},
   "outputs": [],
   "source": [
    "@with_kw mutable struct AutoRiskSim <: GrayBox.Simulation\n",
    "    t::Real = 0 # Current time\n",
    "    params::AutoRiskParams = AutoRiskParams() # Parameters\n",
    "\n",
    "    # System under test, ego vehicle\n",
    "    sut = BlinkerVehicleAgent(get_ped_vehicle(id=1, s=5.0, v=15.0),\n",
    "                              TIDM(ped_TIDM_template, noisy_observations=true))\n",
    "\n",
    "    # Noisy adversary, pedestrian\n",
    "    adversary = NoisyPedestrianAgent(get_pedestrian_noisy(id=2, s=7.0, v=2.0, noise=init_noise),\n",
    "                                     AdversarialPedestrian())\n",
    "\n",
    "    # Adversarial Markov decision process\n",
    "    problem::MDP = AdversarialDrivingMDP(sut, [adversary], ped_roadway, 0.1)\n",
    "    state::Scene = rand(initialstate(problem))\n",
    "    prev_distance::Real = -Inf # Used when agent goes out of frame\n",
    "\n",
    "    # Noise distributions and disturbances\n",
    "#     xposition_noise::Distribution = INormal_Uniform(0, 1) # Gaussian noise (notice larger σ)\n",
    "#     yposition_noise::Distribution = INormal_Uniform(0, 1) # Gaussian noise\n",
    "    xposition_noise::Distribution = Normal(0, 1) # Gaussian noise (notice larger σ)\n",
    "    yposition_noise::Distribution = Normal(0, 1) # Gaussian noise\n",
    "    velocity_noise::Distribution = Normal(0, 1) # Gaussian noise\n",
    "    \n",
    "    # GPS range noise\n",
    "    range_sigma = 3.0\n",
    "    range_noise::Array{Distribution} = [Normal(0, range_sigma), Normal(0, range_sigma), Normal(0, range_sigma), Normal(0, range_sigma), Normal(0, range_sigma)] # Array of Gaussian\n",
    "    \n",
    "    disturbances = Disturbance[PedestrianControl()] # Initial 0-noise disturbance\n",
    "end;"
   ]
  },
  {
   "cell_type": "code",
   "execution_count": null,
   "metadata": {},
   "outputs": [],
   "source": [
    "function GrayBox.environment(sim::AutoRiskSim)\n",
    "#     return GrayBox.Environment(:xpos => sim.xposition_noise,\n",
    "#                                :ypos => sim.yposition_noise,\n",
    "#                                :vel => sim.velocity_noise)\n",
    "\n",
    "    \n",
    "#     obs_history = sim.sut.model.observation_history\n",
    "    \n",
    "#     if length(obs_history[1])>0\n",
    "#         base_meas = last(obs_history[1])\n",
    "        \n",
    "#         xpos_samp = Float64[]\n",
    "#         ypos_samp = Float64[]\n",
    "#         xwt_samp = Float64[]\n",
    "#         ywt_samp = Float64[]\n",
    "        \n",
    "#         xprior = Normal(0.0, 5.0)\n",
    "#         yprior = Normal(0.0, 5.0)\n",
    "        \n",
    "#         for i=1:100\n",
    "#             temp_meas = Union{Missing, AdversarialDriving.GPSRangeMeasurement}[]\n",
    "#             for j=1:length(sim.range_noise)\n",
    "#                 cur_meas = base_meas[j]\n",
    "#                 if typeof(cur_meas)==Missing\n",
    "#                     continue\n",
    "#                 else\n",
    "#                     push!(temp_meas, AdversarialDriving.GPSRangeMeasurement(sat=cur_meas.sat, \n",
    "#                                                                             range=cur_meas.range, \n",
    "#                                                                             noise=rand(sim.range_noise[j])))\n",
    "#                 end\n",
    "#             end\n",
    "#             gps_fix = GPS_fix(temp_meas)\n",
    "#             true_pos = posg(sim.state[id(sim.adversary)])\n",
    "#             prev_noise = noise(sim.state[id(sim.adversary)])\n",
    "            \n",
    "\n",
    "#             push!(xpos_samp, gps_fix[1]-true_pos.x)\n",
    "#             push!(ypos_samp, gps_fix[2]-true_pos.y)\n",
    "            \n",
    "#             push!(xwt_samp, pdf(xprior, prev_noise.pos.x - (gps_fix[1]-true_pos.x)))\n",
    "#             push!(ywt_samp, pdf(yprior, prev_noise.pos.y - (gps_fix[2]-true_pos.y)))\n",
    "            \n",
    "#         end\n",
    "# #         @show xpos_samp, ypos_samp\n",
    "#         sim.xposition_noise = Distributions.fit(INormal_Uniform{typeof(xpos_samp[1])}, xpos_samp, xwt_samp/sum(xwt_samp))\n",
    "#         sim.yposition_noise = Distributions.fit(INormal_Uniform{typeof(ypos_samp[1])}, ypos_samp, ywt_samp/sum(ywt_samp))\n",
    "# #         sim.xposition_noise = Distributions.fit(INormal_Uniform{typeof(xpos_samp[1])}, xpos_samp, ones(length(xpos_samp)))\n",
    "# #         sim.yposition_noise = Distributions.fit(INormal_Uniform{typeof(ypos_samp[1])}, ypos_samp, ones(length(ypos_samp)))\n",
    "# #         @show xposition_noise, yposition_noise\n",
    "#     end\n",
    "#     if 0.7 < sim.t\n",
    "    prev_noise = noise(sim.state[id(sim.adversary)])\n",
    "    \n",
    "#     xposition_noise = INormal_Uniform(0, 5, prev_noise.pos.x)\n",
    "#     yposition_noise = INormal_Uniform(0, 1, prev_noise.pos.y)\n",
    "#     xposition_noise = INormal_GMM(0, 5)\n",
    "#     yposition_noise = INormal_GMM(0, 1)\n",
    "    xposition_noise = Normal(0, 5)\n",
    "    yposition_noise = Normal(0, 1)\n",
    "#     else\n",
    "#         xposition_noise = sim.xposition_noise\n",
    "#         yposition_noise = sim.yposition_noise\n",
    "#     end\n",
    "    return GrayBox.Environment(\n",
    "                                 :vel => sim.velocity_noise,\n",
    "#                                :range_1 => sim.range_noise[1],\n",
    "#                                :range_2 => sim.range_noise[2],\n",
    "#                                :range_3 => sim.range_noise[3],\n",
    "#                                :range_4 => sim.range_noise[4],\n",
    "#                                :range_5 => sim.range_noise[5]\n",
    "                                 :xpos => xposition_noise,\n",
    "                                 :ypos => yposition_noise\n",
    "                                )\n",
    "end"
   ]
  },
  {
   "cell_type": "code",
   "execution_count": null,
   "metadata": {},
   "outputs": [],
   "source": [
    "function GrayBox.transition!(sim::AutoRiskSim, sample::GrayBox.EnvironmentSample)\n",
    "    sim.t += sim.problem.dt # Keep track of time\n",
    "\n",
    "#     println(sample)\n",
    "    \n",
    "    # replace current noise with new sampled noise\n",
    "#     range_noise = [sample[:range_1].value, sample[:range_2].value, sample[:range_3].value, sample[:range_4].value, sample[:range_5].value]\n",
    "#     range_noise = [sample[:range_1].value, 0.0, sample[:range_3].value, 0.0, 0.0]\n",
    "#     noise = Noise(pos = (0.0, 0.0), vel = sample[:vel].value, gps_range = [0.0, 0.0, 0.0, 0.0, 0.0])\n",
    "#     noise = Noise(pos = (0.0, 0.0), vel = 0.0, gps_range = range_noise)\n",
    "    noise = Noise(pos = (sample[:xpos].value, sample[:ypos].value), vel = 0.0)\n",
    "#     noise = Noise(pos = (sample[:xpos].value, sample[:ypos].value), vel = sample[:vel].value, gps_range = [0.0, 0.0, 0.0, 0.0, 0.0])\n",
    "#     noise = Noise(pos = (sample[:xpos].value, sample[:ypos].value), vel = 0.0, gps_range = [0.0, 0.0, 0.0, 0.0, 0.0])\n",
    "    sim.disturbances[1] = PedestrianControl(noise=noise)\n",
    "\n",
    "    # step agents: given MDP, current state, and current action (i.e. disturbances)\n",
    "    (sim.state, r) = @gen(:sp, :r)(sim.problem, sim.state, sim.disturbances)\n",
    "\n",
    "    # return log-likelihood of actions, summation handled by `logpdf()`\n",
    "    return logpdf(sample)::Real\n",
    "end"
   ]
  },
  {
   "cell_type": "code",
   "execution_count": null,
   "metadata": {},
   "outputs": [],
   "source": [
    "function BlackBox.initialize!(sim::AutoRiskSim)\n",
    "    sim.t = 0\n",
    "    sim.problem = AdversarialDrivingMDP(sim.sut, [sim.adversary], ped_roadway, 0.1)\n",
    "    sim.state = rand(initialstate(sim.problem))\n",
    "    sim.disturbances = Disturbance[PedestrianControl()] # noise-less\n",
    "    sim.prev_distance = -Inf\n",
    "end"
   ]
  },
  {
   "cell_type": "code",
   "execution_count": null,
   "metadata": {},
   "outputs": [],
   "source": [
    "simx = AutoRiskSim()\n",
    "BlackBox.initialize!(simx);"
   ]
  },
  {
   "cell_type": "code",
   "execution_count": null,
   "metadata": {},
   "outputs": [],
   "source": [
    "out_of_frame(sim) = length(sim.state.entities) < 2 # either agent went out of frame"
   ]
  },
  {
   "cell_type": "code",
   "execution_count": null,
   "metadata": {},
   "outputs": [],
   "source": [
    "function BlackBox.distance(sim::AutoRiskSim)\n",
    "    if out_of_frame(sim)\n",
    "        return sim.prev_distance\n",
    "    else\n",
    "        pedestrian, vehicle = sim.state.entities\n",
    "        pos1 = posg(pedestrian)\n",
    "        pos2 = posg(vehicle)\n",
    "        return hypot(pos1.x - pos2.x, pos1.y - pos2.y)\n",
    "    end\n",
    "end"
   ]
  },
  {
   "cell_type": "code",
   "execution_count": null,
   "metadata": {},
   "outputs": [],
   "source": [
    "begin\n",
    "    envsample = rand(GrayBox.environment(simx))\n",
    "    GrayBox.transition!(simx, envsample)\n",
    "    BlackBox.distance(simx)\n",
    "end"
   ]
  },
  {
   "cell_type": "code",
   "execution_count": null,
   "metadata": {},
   "outputs": [],
   "source": [
    "function BlackBox.isevent(sim::AutoRiskSim)\n",
    "    if out_of_frame(sim)\n",
    "        return false\n",
    "    else\n",
    "        pedestrian, vehicle = sim.state.entities\n",
    "        return collision_checker(pedestrian, vehicle)\n",
    "    end\n",
    "end"
   ]
  },
  {
   "cell_type": "code",
   "execution_count": null,
   "metadata": {},
   "outputs": [],
   "source": [
    "function BlackBox.isterminal(sim::AutoRiskSim)\n",
    "    return isterminal(sim.problem, sim.state) ||\n",
    "           out_of_frame(sim) ||\n",
    "           BlackBox.isevent(sim) ||\n",
    "           sim.t ≥ sim.params.endtime\n",
    "end"
   ]
  },
  {
   "cell_type": "code",
   "execution_count": null,
   "metadata": {},
   "outputs": [],
   "source": [
    "function BlackBox.evaluate!(sim::AutoRiskSim, sample::GrayBox.EnvironmentSample)\n",
    "    logprob::Real = GrayBox.transition!(sim, sample) # Step simulation\n",
    "    d::Real       = BlackBox.distance(sim)           # Calculate miss distance\n",
    "    event::Bool   = BlackBox.isevent(sim)            # Check event indication\n",
    "    sim.prev_distance = d                            # Store previous distance\n",
    "    return (logprob::Real, d::Real, event::Bool)\n",
    "end"
   ]
  },
  {
   "cell_type": "code",
   "execution_count": null,
   "metadata": {},
   "outputs": [],
   "source": [
    "begin\n",
    "    envsample2 = rand(GrayBox.environment(simx))\n",
    "    BlackBox.evaluate!(simx, envsample2) # (log-likelihood, distance, isevent)\n",
    "end"
   ]
  },
  {
   "cell_type": "markdown",
   "metadata": {},
   "source": [
    "##### Rollouts using CEM "
   ]
  },
  {
   "cell_type": "code",
   "execution_count": null,
   "metadata": {},
   "outputs": [],
   "source": [
    "function cem_rollout(mdp::ASTMDP, s::ASTState, d::Int64)\n",
    "    cem_solver = CEMSolver(n_iterations=10,\n",
    "                           num_samples=20,\n",
    "                           episode_length=d,\n",
    "                           show_progress=false)\n",
    "    cem_mdp = mdp # deepcopy(mdp)\n",
    "    prev_top_k = cem_mdp.params.top_k\n",
    "    cem_mdp.params.top_k = 0\n",
    "    cem_planner = solve(cem_solver, cem_mdp)\n",
    "    q_value = 0\n",
    "    is_distrs = convert(Vector{GrayBox.Environment}, search!(cem_planner, s), d)\n",
    "    USE_MEAN = true # use the mean of the importance sampling distr, instead of rand.\n",
    "\n",
    "    AST.go_to_state(mdp, s) # Records trace through this call\n",
    "\n",
    "    for i in 1:length(is_distrs)\n",
    "        is_distr = is_distrs[1]\n",
    "        if USE_MEAN\n",
    "            sample = mean(is_distr)\n",
    "        else\n",
    "            sample = rand(is_distr)\n",
    "        end\n",
    "        # @info sample\n",
    "        # @info is_distr\n",
    "        a::ASTAction = ASTSampleAction(sample)\n",
    "        # a::ASTAction = ASTSampleAction(rand(GrayBox.environment(mdp.sim)))\n",
    "        # AST.random_action(mdp)\n",
    "        (s, r) = @gen(:sp, :r)(cem_mdp, s, a, Random.GLOBAL_RNG)\n",
    "        q_value = r + discount(cem_mdp)*q_value\n",
    "        # AST.go_to_state(mdp, s) # Records trace through this call\n",
    "    end\n",
    "    # AST.go_to_state(mdp, s) # Records trace through this call\n",
    "    cem_mdp.params.top_k = prev_top_k\n",
    "\n",
    "    return q_value\n",
    "end"
   ]
  },
  {
   "cell_type": "code",
   "execution_count": null,
   "metadata": {},
   "outputs": [],
   "source": [
    "function Base.convert(::Type{Vector{GrayBox.Environment}}, distr::Dict{Symbol, Vector{Sampleable}}, max_steps::Integer=1)\n",
    "    env_vector = GrayBox.Environment[]\n",
    "    for t in 1:max_steps\n",
    "        env = GrayBox.Environment()\n",
    "        for k in keys(distr)\n",
    "            env[k] = distr[k][t]\n",
    "        end\n",
    "        push!(env_vector, env)\n",
    "    end\n",
    "    return env_vector::Vector{GrayBox.Environment}\n",
    "end"
   ]
  },
  {
   "cell_type": "code",
   "execution_count": null,
   "metadata": {},
   "outputs": [],
   "source": [
    "function Statistics.mean(d::Dict)\n",
    "    meand = Dict()\n",
    "    for k in keys(d)\n",
    "        m = mean(d[k])\n",
    "        meand[k] = GrayBox.Sample(m, logpdf(d[k], m))\n",
    "    end\n",
    "    return meand\n",
    "end"
   ]
  },
  {
   "cell_type": "code",
   "execution_count": null,
   "metadata": {},
   "outputs": [],
   "source": [
    "function AST.search!(planner::CEMPlanner, s::ASTState)\n",
    "    mdp::ASTMDP = planner.mdp\n",
    "    return action(planner, s)\n",
    "end"
   ]
  },
  {
   "cell_type": "markdown",
   "metadata": {},
   "source": [
    "###### AST setup"
   ]
  },
  {
   "cell_type": "code",
   "execution_count": null,
   "metadata": {},
   "outputs": [],
   "source": [
    "function CrossEntropyMethod.cross_entropy_method(loss::Function,\n",
    "                              d_in;\n",
    "                              max_iter,\n",
    "                              N=100,\n",
    "                              elite_thresh = -0.99,\n",
    "                              min_elite_samples = Int64(floor(0.1*N)),\n",
    "                              max_elite_samples = typemax(Int64),\n",
    "                              weight_fn = (d,x) -> 1.,\n",
    "                              rng::AbstractRNG = Random.GLOBAL_RNG,\n",
    "                              verbose = false,\n",
    "                              show_progress = false,\n",
    "                              add_entropy = (x)->x\n",
    "                             )\n",
    "    d = deepcopy(d_in)\n",
    "    show_progress ? progress = CrossEntropyMethod.Progress(max_iter) : nothing\n",
    "\n",
    "    for iteration in 1:max_iter\n",
    "        # Get samples -> Nxm\n",
    "        samples = rand(rng, d, N)\n",
    "        @show samples \n",
    "\n",
    "        # sort the samples by loss and select elite number\n",
    "        losses = [loss(d, s) for s in samples]\n",
    "        order = sortperm(losses)\n",
    "        losses = losses[order]\n",
    "        N_elite = losses[end] < elite_thresh ? N : findfirst(losses .> elite_thresh) - 1\n",
    "        N_elite = min(max(N_elite, min_elite_samples), max_elite_samples)\n",
    "\n",
    "        verbose && println(\"iteration \", iteration, \" of \", max_iter, \" N_elite: \", N_elite)\n",
    "\n",
    "        #update based on elite samples\n",
    "        elite_samples = samples[order[1:N_elite]]\n",
    "        weights = [weight_fn(d, s) for s in elite_samples]\n",
    "        if all(weights .≈ 0.)\n",
    "            println(\"Warning: all weights are zero\")\n",
    "        end\n",
    "        d = fit(d, elite_samples, weights, add_entropy = add_entropy)\n",
    "        show_progress && next!(progress)\n",
    "    end\n",
    "    d\n",
    "end"
   ]
  },
  {
   "cell_type": "code",
   "execution_count": null,
   "metadata": {},
   "outputs": [],
   "source": [
    "function setup_ast(seed=0)\n",
    "    # Create gray-box simulation object\n",
    "    sim::GrayBox.Simulation = AutoRiskSim()\n",
    "\n",
    "    # AST MDP formulation object\n",
    "    mdp::ASTMDP = ASTMDP{ASTSampleAction}(sim)\n",
    "    mdp.params.debug = true # record metrics\n",
    "    mdp.params.top_k = 10   # record top k best trajectories\n",
    "    mdp.params.seed = seed  # set RNG seed for determinism\n",
    "    \n",
    "#     function null_priority(mdp, s, snode) # snode is the state node of type DPWStateNode\n",
    "# #         @show snode.tree.a_lookup\n",
    "# #         Replace with null action calculated from noise-free measurements\n",
    "#         null_action = ASTSampleAction(\n",
    "#                                     GrayBox.EnvironmentSample(\n",
    "#                                                 :vel => GrayBox.Sample(0., logpdf(Normal(0., 1), 0.)),\n",
    "#                                                 :xpos => GrayBox.Sample(0., logpdf(Normal(0., 5.), 0.)),\n",
    "#                                                 :ypos => GrayBox.Sample(0., logpdf(Normal(0., 1.), 0.))\n",
    "#                                                 )\n",
    "#                                     )\n",
    "#         n_children = length(snode.tree.children[snode.index])\n",
    "#         if n_children > 0\n",
    "#             new_action = rand(actions(mdp, s))  # add a random action\n",
    "#         else\n",
    "#             new_action = null_action\n",
    "#         end\n",
    "# #         @show new_action.sample\n",
    "#         return new_action\n",
    "#     end\n",
    "#     function prior_Q(mdp, s, a)\n",
    "#         l1_norm = 0\n",
    "#         for (key, val) in a.sample\n",
    "#             l1_norm = l1_norm + abs(val.value)\n",
    "#         end\n",
    "#         return 100.\n",
    "#     end\n",
    "\n",
    "\n",
    "#     # Hyperparameters for MCTS-PW as the solver\n",
    "#     solver = MCTSPWSolver(n_iterations=1000,        # number of algorithm iterations\n",
    "#                           exploration_constant=1.0, # UCT exploration\n",
    "#                           k_action=1.0,             # action widening\n",
    "#                           alpha_action=0.5,         # action widening\n",
    "#                           depth=sim.params.endtime, # tree depth\n",
    "# #                           init_Q=100.,\n",
    "# #                           init_N=1,\n",
    "#                           next_action=null_priority\n",
    "# #                           estimate_value=cem_rollout\n",
    "#                          )\n",
    "    solver = CEMSolver(n_iterations=2,\n",
    "                       num_samples=1,\n",
    "                       episode_length=sim.params.endtime)\n",
    "    \n",
    "#     return actions(mdp, initialstate(mdp))\n",
    "    \n",
    "    # Get online planner (no work done, yet)\n",
    "    planner = solve(solver, mdp)\n",
    "\n",
    "    return planner\n",
    "end;"
   ]
  },
  {
   "cell_type": "code",
   "execution_count": null,
   "metadata": {},
   "outputs": [],
   "source": [
    "planner = setup_ast();"
   ]
  },
  {
   "cell_type": "code",
   "execution_count": null,
   "metadata": {},
   "outputs": [],
   "source": [
    "action_trace = search!(planner)"
   ]
  },
  {
   "cell_type": "code",
   "execution_count": null,
   "metadata": {},
   "outputs": [],
   "source": [
    "planner.is_dist[:xpos]"
   ]
  },
  {
   "cell_type": "code",
   "execution_count": null,
   "metadata": {},
   "outputs": [],
   "source": [
    "episodic_figures(planner.mdp, gui=false); POMDPStressTesting.gcf();"
   ]
  },
  {
   "cell_type": "code",
   "execution_count": null,
   "metadata": {},
   "outputs": [],
   "source": [
    "distribution_figures(planner.mdp, gui=false); POMDPStressTesting.gcf();"
   ]
  },
  {
   "cell_type": "code",
   "execution_count": null,
   "metadata": {
    "scrolled": true
   },
   "outputs": [],
   "source": [
    "playback_trace = playback(planner, action_trace, BlackBox.distance, return_trace=true)"
   ]
  },
  {
   "cell_type": "code",
   "execution_count": null,
   "metadata": {},
   "outputs": [],
   "source": [
    "failure_rate = print_metrics(planner)"
   ]
  },
  {
   "cell_type": "code",
   "execution_count": null,
   "metadata": {},
   "outputs": [],
   "source": [
    "begin\n",
    "    # TODO: get this index from the `trace` itself\n",
    "    # findmax(planner.mdp.metrics.reward[planner.mdp.metrics.event])\n",
    "    # findmax(ast_mdp.metrics.reward[ast_mdp.metrics.event])\n",
    "\n",
    "    failure_likelihood =\n",
    "        round(exp(maximum(planner.mdp.metrics.logprob[planner.mdp.metrics.event])), digits=8)\n",
    "\n",
    "    Markdown.parse(string(\"\\$\\$p = \", failure_likelihood, \"\\$\\$\"))\n",
    "end"
   ]
  },
  {
   "cell_type": "code",
   "execution_count": null,
   "metadata": {},
   "outputs": [],
   "source": [
    "playback_trace = playback(planner, action_trace, sim->sim.state, return_trace=true)"
   ]
  },
  {
   "cell_type": "code",
   "execution_count": null,
   "metadata": {
    "scrolled": false
   },
   "outputs": [],
   "source": [
    "# t = 10\n",
    "mp = @manipulate for t=slider(1:30, value=1., label=\"t\")\n",
    "    AutomotiveVisualization.render([planner.mdp.sim.problem.roadway, crosswalk, playback_trace[min(t, length(playback_trace))]])\n",
    "end"
   ]
  },
  {
   "cell_type": "code",
   "execution_count": null,
   "metadata": {},
   "outputs": [],
   "source": [
    "planner.tree.q"
   ]
  },
  {
   "cell_type": "markdown",
   "metadata": {},
   "source": [
    "### Example for localizing using GPS"
   ]
  },
  {
   "cell_type": "markdown",
   "metadata": {},
   "source": [
    "**Input**: state of agent, noise in each GPS range measurement\n",
    "\n",
    "**Output**: agent with noise parameter containing difference between estimated state and true state"
   ]
  },
  {
   "cell_type": "code",
   "execution_count": null,
   "metadata": {},
   "outputs": [],
   "source": [
    "eg1_meas = AdversarialDriving.measure_gps(ped_state, [0.0, 0.0, 0.0, 0.0])"
   ]
  },
  {
   "cell_type": "code",
   "execution_count": null,
   "metadata": {},
   "outputs": [],
   "source": [
    "ped_state.state.veh_state"
   ]
  },
  {
   "cell_type": "code",
   "execution_count": null,
   "metadata": {},
   "outputs": [],
   "source": [
    "eg1_ped = AdversarialDriving.localize(ped_state, [eg1_meas], planner.mdp.sim.problem.roadway)"
   ]
  },
  {
   "cell_type": "markdown",
   "metadata": {},
   "source": [
    "### Example for Distribution likelihood estimation under measurements (In progress)"
   ]
  },
  {
   "cell_type": "markdown",
   "metadata": {},
   "source": [
    "**Input**: distribution of measurements, function mapping from measurements to states of all agents\n",
    "\n",
    "**Output**: log probability of a given set of agent states "
   ]
  },
  {
   "cell_type": "code",
   "execution_count": null,
   "metadata": {},
   "outputs": [],
   "source": [
    "eg2_range_noise = [Normal(0, 5.0), Normal(0, 5.0), Normal(0, 5.0)] # Array of Gaussian\n",
    "eg2_range_mu = [10.0, 11.0, 9.0]"
   ]
  },
  {
   "cell_type": "code",
   "execution_count": null,
   "metadata": {},
   "outputs": [],
   "source": [
    "function eg2_localize(m)\n",
    "    return [1/sqrt(2)*hypot(m[1], m[2]), 1/sqrt(2)*hypot(m[2], m[3])]\n",
    "end"
   ]
  },
  {
   "cell_type": "code",
   "execution_count": null,
   "metadata": {},
   "outputs": [],
   "source": [
    "eg2_localize([1.1, 1.3, 2.8])"
   ]
  },
  {
   "cell_type": "code",
   "execution_count": null,
   "metadata": {},
   "outputs": [],
   "source": [
    "n_samp = 1000\n",
    "eg2_noise_samp = zeros(n_samp, length(eg2_range_noise))\n",
    "for i=1:length(eg2_range_noise)\n",
    "    eg2_noise_samp[:, i] = rand(eg2_range_noise[i], n_samp)\n",
    "end\n",
    "eg2_noise_samp"
   ]
  },
  {
   "cell_type": "code",
   "execution_count": null,
   "metadata": {},
   "outputs": [],
   "source": [
    "loc_samp = zeros(n_samp, 2)\n",
    "for i=1:n_samp\n",
    "    loc_samp[i, :] = eg2_localize(eg2_range_mu + eg2_noise_samp[i, :])\n",
    "end\n",
    "loc_samp"
   ]
  },
  {
   "cell_type": "code",
   "execution_count": null,
   "metadata": {},
   "outputs": [],
   "source": [
    "using Plots"
   ]
  },
  {
   "cell_type": "code",
   "execution_count": null,
   "metadata": {},
   "outputs": [],
   "source": [
    "histogram(loc_samp[:, 1])\n",
    "histogram!(loc_samp[:, 2])"
   ]
  },
  {
   "cell_type": "markdown",
   "metadata": {},
   "source": [
    "Need to calc log likelihood from the empirical distribution"
   ]
  },
  {
   "cell_type": "code",
   "execution_count": null,
   "metadata": {},
   "outputs": [],
   "source": []
  }
 ],
 "metadata": {
  "@webio": {
   "lastCommId": null,
   "lastKernelId": null
  },
  "kernelspec": {
   "display_name": "Julia 1.5.3",
   "language": "julia",
   "name": "julia-1.5"
  },
  "language_info": {
   "file_extension": ".jl",
   "mimetype": "application/julia",
   "name": "julia",
   "version": "1.5.3"
  }
 },
 "nbformat": 4,
 "nbformat_minor": 2
}
