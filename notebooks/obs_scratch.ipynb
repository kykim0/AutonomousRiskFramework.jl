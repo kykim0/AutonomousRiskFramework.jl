{
 "cells": [
  {
   "cell_type": "code",
   "execution_count": 1,
   "metadata": {},
   "outputs": [
    {
     "data": {
      "text/html": [
       "<script>\n",
       "// Immediately-invoked-function-expression to avoid global variables.\n",
       "(function() {\n",
       "    var warning_div = document.getElementById(\"webio-warning-14905088093933889281\");\n",
       "    var hide = function () {\n",
       "        var script = document.getElementById(\"webio-setup-12678589315361635272\");\n",
       "        var parent = script && script.parentElement;\n",
       "        var grandparent = parent && parent.parentElement;\n",
       "        if (grandparent) {\n",
       "            grandparent.style.display = \"none\";\n",
       "        }\n",
       "        warning_div.style.display = \"none\";\n",
       "    };\n",
       "    if (typeof Jupyter !== \"undefined\") {\n",
       "        console.log(\"WebIO detected Jupyter notebook environment.\");\n",
       "        // Jupyter notebook.\n",
       "        var extensions = (\n",
       "            Jupyter\n",
       "            && Jupyter.notebook.config.data\n",
       "            && Jupyter.notebook.config.data.load_extensions\n",
       "        );\n",
       "        if (extensions && extensions[\"webio-jupyter-notebook\"]) {\n",
       "            // Extension already loaded.\n",
       "            console.log(\"Jupyter WebIO nbextension detected; not loading ad-hoc.\");\n",
       "            hide();\n",
       "            return;\n",
       "        }\n",
       "    } else if (window.location.pathname.includes(\"/lab\")) {\n",
       "        // Guessing JupyterLa\n",
       "        console.log(\"Jupyter Lab detected; make sure the @webio/jupyter-lab-provider labextension is installed.\");\n",
       "        hide();\n",
       "        return;\n",
       "    }\n",
       "})();\n",
       "\n",
       "</script>\n",
       "<p\n",
       "    id=\"webio-warning-14905088093933889281\"\n",
       "    class=\"output_text output_stderr\"\n",
       "    style=\"padding: 1em; font-weight: bold;\"\n",
       ">\n",
       "    Unable to load WebIO. Please make sure WebIO works for your Jupyter client.\n",
       "    For troubleshooting, please see <a href=\"https://juliagizmos.github.io/WebIO.jl/latest/providers/ijulia/\">\n",
       "    the WebIO/IJulia documentation</a>.\n",
       "    <!-- TODO: link to installation docs. -->\n",
       "</p>\n"
      ],
      "text/plain": [
       "HTML{String}(\"<script>\\n// Immediately-invoked-function-expression to avoid global variables.\\n(function() {\\n    var warning_div = document.getElementById(\\\"webio-warning-14905088093933889281\\\");\\n    var hide = function () {\\n        var script = document.getElementById(\\\"webio-setup-12678589315361635272\\\");\\n        var parent = script && script.parentElement;\\n        var grandparent = parent && parent.parentElement;\\n        if (grandparent) {\\n            grandparent.style.display = \\\"none\\\";\\n        }\\n        warning_div.style.display = \\\"none\\\";\\n    };\\n    if (typeof Jupyter !== \\\"undefined\\\") {\\n        console.log(\\\"WebIO detected Jupyter notebook environment.\\\");\\n        // Jupyter notebook.\\n        var extensions = (\\n            Jupyter\\n            && Jupyter.notebook.config.data\\n            && Jupyter.notebook.config.data.load_extensions\\n        );\\n        if (extensions && extensions[\\\"webio-jupyter-notebook\\\"]) {\\n            // Extension already loaded.\\n            console.log(\\\"Jupyter WebIO nbextension detected; not loading ad-hoc.\\\");\\n            hide();\\n            return;\\n        }\\n    } else if (window.location.pathname.includes(\\\"/lab\\\")) {\\n        // Guessing JupyterLa\\n        console.log(\\\"Jupyter Lab detected; make sure the @webio/jupyter-lab-provider labextension is installed.\\\");\\n        hide();\\n        return;\\n    }\\n})();\\n\\n</script>\\n<p\\n    id=\\\"webio-warning-14905088093933889281\\\"\\n    class=\\\"output_text output_stderr\\\"\\n    style=\\\"padding: 1em; font-weight: bold;\\\"\\n>\\n    Unable to load WebIO. Please make sure WebIO works for your Jupyter client.\\n    For troubleshooting, please see <a href=\\\"https://juliagizmos.github.io/WebIO.jl/latest/providers/ijulia/\\\">\\n    the WebIO/IJulia documentation</a>.\\n    <!-- TODO: link to installation docs. -->\\n</p>\\n\")"
      ]
     },
     "metadata": {},
     "output_type": "display_data"
    }
   ],
   "source": [
    "using Markdown\n",
    "using InteractiveUtils\n",
    "using Interact"
   ]
  },
  {
   "cell_type": "code",
   "execution_count": 2,
   "metadata": {},
   "outputs": [],
   "source": [
    "using LinearAlgebra"
   ]
  },
  {
   "cell_type": "code",
   "execution_count": 3,
   "metadata": {},
   "outputs": [
    {
     "name": "stderr",
     "output_type": "stream",
     "text": [
      "┌ Warning: Error requiring IJulia from Plots:\n",
      "│ MethodError: no method matching joinpath(::Nothing)\n",
      "│ Closest candidates are:\n",
      "│   joinpath(!Matched::AbstractString) at path.jl:244\n",
      "│   joinpath(!Matched::AbstractString, !Matched::AbstractString...) at path.jl:289\n",
      "│ Stacktrace:\n",
      "│  [1] stat(::Nothing) at ./stat.jl:109\n",
      "│  [2] isfile(::Nothing) at ./stat.jl:311\n",
      "│  [3] _init_ijulia_plotting() at /scratch/users/shubhgup/julia/.julia/packages/Plots/jIs2V/src/ijulia.jl:7\n",
      "│  [4] top-level scope at /scratch/users/shubhgup/julia/.julia/packages/Plots/jIs2V/src/init.jl:75\n",
      "│  [5] eval at ./boot.jl:331 [inlined]\n",
      "│  [6] eval at /scratch/users/shubhgup/julia/.julia/packages/Plots/jIs2V/src/Plots.jl:1 [inlined]\n",
      "│  [7] (::Plots.var\"#277#310\")() at /scratch/users/shubhgup/julia/.julia/packages/Requires/vyVBT/src/require.jl:97\n",
      "│  [8] err(::Any, ::Module, ::String) at /scratch/users/shubhgup/julia/.julia/packages/Requires/vyVBT/src/require.jl:42\n",
      "│  [9] (::Plots.var\"#276#309\")() at /scratch/users/shubhgup/julia/.julia/packages/Requires/vyVBT/src/require.jl:96\n",
      "│  [10] withpath(::Any, ::String) at /scratch/users/shubhgup/julia/.julia/packages/Requires/vyVBT/src/require.jl:32\n",
      "│  [11] (::Plots.var\"#275#308\")() at /scratch/users/shubhgup/julia/.julia/packages/Requires/vyVBT/src/require.jl:95\n",
      "│  [12] listenpkg(::Any, ::Base.PkgId) at /scratch/users/shubhgup/julia/.julia/packages/Requires/vyVBT/src/require.jl:15\n",
      "│  [13] macro expansion at /scratch/users/shubhgup/julia/.julia/packages/Requires/vyVBT/src/require.jl:93 [inlined]\n",
      "│  [14] __init__() at /scratch/users/shubhgup/julia/.julia/packages/Plots/jIs2V/src/init.jl:73\n",
      "│  [15] _include_from_serialized(::String, ::Array{Any,1}) at ./loading.jl:697\n",
      "│  [16] _require_search_from_serialized(::Base.PkgId, ::String) at ./loading.jl:782\n",
      "│  [17] _require(::Base.PkgId) at ./loading.jl:1007\n",
      "│  [18] require(::Base.PkgId) at ./loading.jl:928\n",
      "│  [19] require(::Module, ::Symbol) at ./loading.jl:923\n",
      "│  [20] include_string(::Function, ::Module, ::String, ::String) at ./loading.jl:1091\n",
      "│  [21] execute_code(::String, ::String) at /scratch/users/shubhgup/julia/.julia/packages/IJulia/rWZ9e/src/execute_request.jl:27\n",
      "│  [22] execute_request(::ZMQ.Socket, ::IJulia.Msg) at /scratch/users/shubhgup/julia/.julia/packages/IJulia/rWZ9e/src/execute_request.jl:86\n",
      "│  [23] #invokelatest#1 at ./essentials.jl:710 [inlined]\n",
      "│  [24] invokelatest at ./essentials.jl:709 [inlined]\n",
      "│  [25] eventloop(::ZMQ.Socket) at /scratch/users/shubhgup/julia/.julia/packages/IJulia/rWZ9e/src/eventloop.jl:8\n",
      "│  [26] (::IJulia.var\"#15#18\")() at ./task.jl:356\n",
      "└ @ Requires /scratch/users/shubhgup/julia/.julia/packages/Requires/vyVBT/src/require.jl:44\n"
     ]
    },
    {
     "data": {
      "text/plain": [
       "Plots.PyPlotBackend()"
      ]
     },
     "execution_count": 3,
     "metadata": {},
     "output_type": "execute_result"
    }
   ],
   "source": [
    "using Plots\n",
    "pyplot()"
   ]
  },
  {
   "cell_type": "code",
   "execution_count": 4,
   "metadata": {},
   "outputs": [],
   "source": [
    "using Statistics"
   ]
  },
  {
   "cell_type": "code",
   "execution_count": 5,
   "metadata": {},
   "outputs": [],
   "source": [
    "using Distributions, Parameters, Random, Latexify, PlutoUI"
   ]
  },
  {
   "cell_type": "code",
   "execution_count": 6,
   "metadata": {},
   "outputs": [],
   "source": [
    "using Pkg\n",
    "# Pkg.develop(PackageSpec(url=\"/home/users/shubhgup/Codes/julia_learn/scripts/AutonomousRiskFramework/AdversarialDriving.jl\"))\n",
    "# Pkg.develop(PackageSpec(url=\"/home/users/shubhgup/Codes/julia_learn/scripts/AutonomousRiskFramework/RiskSimulator.jl\"))\n",
    "# Pkg.develop(PackageSpec(url=\"/home/users/shubhgup/Codes/julia_learn/scripts/AutonomousRiskFramework/STLCG.jl\"))"
   ]
  },
  {
   "cell_type": "code",
   "execution_count": 7,
   "metadata": {},
   "outputs": [],
   "source": [
    "using AutomotiveSimulator, AutomotiveVisualization"
   ]
  },
  {
   "cell_type": "code",
   "execution_count": 8,
   "metadata": {},
   "outputs": [],
   "source": [
    "# using WebIO\n",
    "# WebIO.install_jupyter_nbextension()"
   ]
  },
  {
   "cell_type": "code",
   "execution_count": 9,
   "metadata": {},
   "outputs": [],
   "source": [
    "using POMDPs, POMDPPolicies, POMDPSimulators"
   ]
  },
  {
   "cell_type": "code",
   "execution_count": 10,
   "metadata": {},
   "outputs": [],
   "source": [
    "using POMDPStressTesting"
   ]
  },
  {
   "cell_type": "code",
   "execution_count": 11,
   "metadata": {},
   "outputs": [],
   "source": [
    "using Revise"
   ]
  },
  {
   "cell_type": "code",
   "execution_count": 12,
   "metadata": {},
   "outputs": [],
   "source": [
    "using AdversarialDriving"
   ]
  },
  {
   "cell_type": "code",
   "execution_count": 13,
   "metadata": {},
   "outputs": [],
   "source": [
    "Base.rand(rng::AbstractRNG, s::Scene) = s"
   ]
  },
  {
   "cell_type": "markdown",
   "metadata": {},
   "source": [
    "### Function Definitions"
   ]
  },
  {
   "cell_type": "code",
   "execution_count": 14,
   "metadata": {},
   "outputs": [],
   "source": [
    "# # The function that propagates the PedestrianControl action\n",
    "# function AdversarialDriving.propagate(ped::Entity{NoisyPedState, D, I}, action::PedestrianControl, roadway::Roadway, Δt::Float64) where {D, I}\n",
    "#     starting_lane = laneid(ped)\n",
    "#     vs_entity = Entity(ped.state.veh_state, ped.def, ped.id)\n",
    "#     a_lat_lon = reverse(action.a + action.da)\n",
    "#     vs = propagate(vs_entity, LatLonAccel(a_lat_lon...), roadway, Δt)\n",
    "#     upd_noise = Noise((ped.state.noise.pos[1] + action.noise.pos[1] + action.noise.vel*Δt, ped.state.noise.pos[2] + action.noise.pos[2]), action.noise.vel)\n",
    "#     nps = NoisyPedState(AdversarialDriving.set_lane(vs, laneid(ped), roadway), upd_noise)\n",
    "#     @assert starting_lane == laneid(nps)\n",
    "#     nps\n",
    "# end"
   ]
  },
  {
   "cell_type": "code",
   "execution_count": 15,
   "metadata": {},
   "outputs": [],
   "source": [
    "# # The function to get GPS measurements for pedestrian, compute state estimate and update noise\n",
    "# function measure_gps(ped::Entity{NoisyPedState, D, I}, fixed_sat::Array{Satellite}, noise::Array{Float64}) where {D, I}\n",
    "#     ped_pos = posg(ped)\n",
    "    \n",
    "#     ranges = Union{Missing, GPSRangeMeasurement}[]\n",
    "    \n",
    "#     for i in 1:length(fixed_sat)\n",
    "#         satpos = fixed_sat[i].pos\n",
    "#         if fixed_sat[i].visible==true\n",
    "#             range = hypot(ped_pos.x - satpos.x, ped_pos.y - satpos.y, satpos.z)\n",
    "#             push!(ranges, GPSRangeMeasurement(range=range, noise=noise[i]))\n",
    "#         else\n",
    "#             push!(ranges, missing)\n",
    "#         end\n",
    "#     end\n",
    "    \n",
    "#     ranges\n",
    "# end"
   ]
  },
  {
   "cell_type": "code",
   "execution_count": 16,
   "metadata": {},
   "outputs": [],
   "source": [
    "# measure_gps(ped_state, fixed_sat, [0.0, 0.0, 0.0, 0.0])"
   ]
  },
  {
   "cell_type": "code",
   "execution_count": 17,
   "metadata": {},
   "outputs": [],
   "source": [
    "# function update_all_measurements(ped::Entity{NoisyPedState, D, I}, all_measurements) where {D, I}\n",
    "#     single_time_measurements = Array{Measurement}[] \n",
    "# end"
   ]
  },
  {
   "cell_type": "code",
   "execution_count": 18,
   "metadata": {},
   "outputs": [],
   "source": [
    "# # Instructions for rendering the noisy pedestrian\n",
    "# function AutomotiveVisualization.add_renderable!(rendermodel::RenderModel, ped::Entity{NoisyPedState, VehicleDef, Int64})\n",
    "#     reg_ped = Entity(ped.state.veh_state, ped.def, ped.id)\n",
    "#     add_renderable!(rendermodel, FancyPedestrian(ped=reg_ped))\n",
    "#     noisy_ped = Entity(noisy_entity(ped, ad_mdp.roadway).state.veh_state, ped.def, ped.id)\n",
    "#     ghost_color = weighted_color_mean(0.3, colorant\"blue\", colorant\"white\")\n",
    "#     add_renderable!(rendermodel, FancyPedestrian(ped=noisy_ped, color=ghost_color))\n",
    "#     return rendermodel\n",
    "# end"
   ]
  },
  {
   "cell_type": "code",
   "execution_count": 19,
   "metadata": {},
   "outputs": [],
   "source": [
    "# function AdversarialDriving.update_adversary!(adversary::Agent, action::Disturbance, s::Scene)\n",
    "#     index = findfirst(id(adversary), s)\n",
    "#     isnothing(index) && return nothing # If the adversary is not in the scene then don't update\n",
    "#     adversary.model.next_action = action # Set the adversaries next action\n",
    "#     # veh = s[index] # Get the actual entity\n",
    "#     # state_type = typeof(veh.state) # Find out the type of its state\n",
    "#     # s[index] =  Entity(state_type(veh.state, noise = action.noise), veh.def, veh.id) # replace the entity in the scene\n",
    "# end"
   ]
  },
  {
   "cell_type": "code",
   "execution_count": 20,
   "metadata": {},
   "outputs": [],
   "source": [
    "# Function to assign action as state noise directly\n",
    "function AdversarialDriving.localize(ped::Entity{NoisyPedState, D, I}, action::PedestrianControl, meas, roadway::Roadway) where {D,I}\n",
    "    upd_noise = Noise(pos = (action.noise.pos[1], action.noise.pos[2]), vel = action.noise.vel)\n",
    "    nps = NoisyPedState(ped.state.veh_state, upd_noise)\n",
    "    nps\n",
    "end"
   ]
  },
  {
   "cell_type": "code",
   "execution_count": 21,
   "metadata": {},
   "outputs": [],
   "source": [
    "# # Function to track the state of a pedestrian using velocity measurements\n",
    "# function AdversarialDriving.localize(ped::Entity{NoisyPedState, D, I}, action::PedestrianControl, meas, roadway::Roadway) where {D,I}\n",
    "#     # TODO: Replace with a higher-fidelity localization routine\n",
    "#     ped_noise = noise(ped)\n",
    "#     upd_noise = Noise(pos = (ped_noise.pos[1] + action.noise.vel*0.1, ped_noise.pos[2]), vel = action.noise.vel)\n",
    "#     nps = NoisyPedState(ped.state.veh_state, upd_noise)\n",
    "#     nps\n",
    "# end"
   ]
  },
  {
   "cell_type": "code",
   "execution_count": 22,
   "metadata": {},
   "outputs": [],
   "source": [
    "# # # Function to estimate the state of a pedestrian using GPS measurements\n",
    "# function localize(ped::Entity{NoisyPedState, D, I}, action::PedestrianControl, meas, roadway::Roadway) where {D,I}\n",
    "#     # TODO: Replace with a higher-fidelity localization routine\n",
    "#     last_meas = last(meas)\n",
    "#     gps_fix = GPS_fix(last_meas)\n",
    "#     ped_pos = posg(ped)\n",
    "#     upd_noise = Noise(pos = (gps_fix[1] - ped_pos.x, gps_fix[2] - ped_pos.y), vel = action.noise.vel)\n",
    "#     nps = NoisyPedState(ped.state.veh_state, upd_noise)\n",
    "#     nps\n",
    "# end"
   ]
  },
  {
   "cell_type": "code",
   "execution_count": 23,
   "metadata": {},
   "outputs": [],
   "source": [
    "# function logprob(ped::Entity{NoisyPedState, D, I}, action::PedestrianControl, meas, roadway::Roadway) where {D,I}\n",
    "    \n",
    "# end"
   ]
  },
  {
   "cell_type": "markdown",
   "metadata": {},
   "source": [
    "### Main"
   ]
  },
  {
   "cell_type": "code",
   "execution_count": 24,
   "metadata": {},
   "outputs": [
    {
     "data": {
      "text/plain": [
       "Noise\n",
       "  pos: VecE2{Float64}\n",
       "  vel: Float64 0.0\n",
       "  gps_range: Array{Float64}((5,)) [0.0, 0.0, 0.0, 0.0, 0.0]\n"
      ]
     },
     "execution_count": 24,
     "metadata": {},
     "output_type": "execute_result"
    }
   ],
   "source": [
    "init_noise = Noise(pos = (0, 0), vel = 0, gps_range = [0.0, 0.0, 0.0, 0.0, 0.0])\n",
    "cont_noise = Noise(pos = (-7, 0), vel = 0, gps_range = [0.0, 0.0, 0.0, 0.0, 0.0])"
   ]
  },
  {
   "cell_type": "code",
   "execution_count": 25,
   "metadata": {},
   "outputs": [],
   "source": [
    "sut_agent = BlinkerVehicleAgent(get_ped_vehicle(id=1, s=5.0, v=15.0),\n",
    "    TIDM(ped_TIDM_template, noisy_observations=true));"
   ]
  },
  {
   "cell_type": "code",
   "execution_count": 26,
   "metadata": {},
   "outputs": [
    {
     "data": {
      "text/plain": [
       "get_pedestrian_noisy (generic function with 1 method)"
      ]
     },
     "execution_count": 26,
     "metadata": {},
     "output_type": "execute_result"
    }
   ],
   "source": [
    "get_pedestrian_noisy(;id::Int64, s::Float64, v::Float64, noise::Noise) = (rng::AbstractRNG = Random.GLOBAL_RNG) -> NoisyPedestrian(roadway = AdversarialDriving.ped_roadway, lane = 2, s=s, v=v, id=id, noise=noise)"
   ]
  },
  {
   "cell_type": "code",
   "execution_count": 27,
   "metadata": {},
   "outputs": [],
   "source": [
    "adv_ped = NoisyPedestrianAgent(get_pedestrian_noisy(id=2, s=7.0, v=2.0, noise=init_noise), AdversarialPedestrian());"
   ]
  },
  {
   "cell_type": "code",
   "execution_count": 28,
   "metadata": {},
   "outputs": [],
   "source": [
    "ad_mdp = AdversarialDrivingMDP(sut_agent, [adv_ped], ped_roadway, 0.1);"
   ]
  },
  {
   "cell_type": "code",
   "execution_count": 29,
   "metadata": {},
   "outputs": [
    {
     "data": {
      "text/plain": [
       "Scene{Entity{S,VehicleDef,Int64} where S}(2 entities)"
      ]
     },
     "execution_count": 29,
     "metadata": {},
     "output_type": "execute_result"
    }
   ],
   "source": [
    "ped_state, veh_state = initialstate(ad_mdp)"
   ]
  },
  {
   "cell_type": "code",
   "execution_count": 30,
   "metadata": {},
   "outputs": [
    {
     "data": {
      "text/plain": [
       "1-element Array{Disturbance,1}:\n",
       " PedestrianControl\n",
       "  a: VecE2{Float64}\n",
       "  da: VecE2{Float64}\n",
       "  noise: Noise\n"
      ]
     },
     "execution_count": 30,
     "metadata": {},
     "output_type": "execute_result"
    }
   ],
   "source": [
    "noisy_action = Disturbance[PedestrianControl(a=VecE2(0, 0), da=VecE2(0, 0), noise=cont_noise)]"
   ]
  },
  {
   "cell_type": "code",
   "execution_count": 31,
   "metadata": {},
   "outputs": [],
   "source": [
    "# Behavior with noise\n",
    "hist_noise = POMDPSimulators.simulate(HistoryRecorder(), ad_mdp,\n",
    "    FunctionPolicy((s) -> noisy_action));"
   ]
  },
  {
   "cell_type": "code",
   "execution_count": 32,
   "metadata": {},
   "outputs": [
    {
     "data": {
      "text/plain": [
       "12-element Array{Tuple{Float64,Float64,Float64},1}:\n",
       " (-2.9999999999999982, -2.9999999999999982, 0.0)\n",
       " (-2.799999999999998, -9.8, -7.0)\n",
       " (-2.599999999999997, -9.599999999999994, -7.0)\n",
       " (-2.3999999999999977, -9.399999999999999, -7.0)\n",
       " (-2.1999999999999975, -9.2, -7.0)\n",
       " (-1.9999999999999982, -9.0, -7.0)\n",
       " (-1.799999999999999, -8.799999999999999, -7.0)\n",
       " (-1.5999999999999996, -8.599999999999998, -7.0)\n",
       " (-1.4000000000000004, -8.399999999999999, -7.0)\n",
       " (-1.200000000000001, -8.200000000000003, -7.0)\n",
       " (-1.0, -7.999999999999998, -7.0)\n",
       " (-0.7999999999999989, -7.799999999999998, -7.0)"
      ]
     },
     "execution_count": 32,
     "metadata": {},
     "output_type": "execute_result"
    }
   ],
   "source": [
    "map(x -> (x.entities[1].state.veh_state.posG[2], AdversarialDriving.noisy_entity(x.entities[1], ad_mdp.roadway).state.veh_state.posG[2], noise(x.entities[1]).pos[1]) , POMDPSimulators.stepthrough(ad_mdp, FunctionPolicy((s) -> noisy_action), \"s\", max_steps=20))"
   ]
  },
  {
   "cell_type": "code",
   "execution_count": 33,
   "metadata": {},
   "outputs": [],
   "source": [
    "ad_scenes_noise = state_hist(hist_noise);"
   ]
  },
  {
   "cell_type": "code",
   "execution_count": 34,
   "metadata": {},
   "outputs": [
    {
     "data": {
      "application/vnd.webio.node+json": {
       "children": [
        {
         "children": [
          {
           "children": [
            {
             "children": [
              {
               "children": [
                {
                 "children": [
                  "t"
                 ],
                 "instanceArgs": {
                  "namespace": "html",
                  "tag": "label"
                 },
                 "nodeType": "DOM",
                 "props": {
                  "className": "interact ",
                  "style": {
                   "padding": "5px 10px 0px 10px"
                  }
                 },
                 "type": "node"
                }
               ],
               "instanceArgs": {
                "namespace": "html",
                "tag": "div"
               },
               "nodeType": "DOM",
               "props": {
                "className": "interact-flex-row-left"
               },
               "type": "node"
              },
              {
               "children": [
                {
                 "children": [],
                 "instanceArgs": {
                  "namespace": "html",
                  "tag": "input"
                 },
                 "nodeType": "DOM",
                 "props": {
                  "attributes": {
                   "data-bind": "numericValue: index, valueUpdate: 'input', event: {change: function (){this.changes(this.changes()+1)}}",
                   "orient": "horizontal",
                   "type": "range"
                  },
                  "className": "slider slider is-fullwidth",
                  "max": 13,
                  "min": 1,
                  "step": 1,
                  "style": {}
                 },
                 "type": "node"
                }
               ],
               "instanceArgs": {
                "namespace": "html",
                "tag": "div"
               },
               "nodeType": "DOM",
               "props": {
                "className": "interact-flex-row-center"
               },
               "type": "node"
              },
              {
               "children": [
                {
                 "children": [],
                 "instanceArgs": {
                  "namespace": "html",
                  "tag": "p"
                 },
                 "nodeType": "DOM",
                 "props": {
                  "attributes": {
                   "data-bind": "text: formatted_val"
                  }
                 },
                 "type": "node"
                }
               ],
               "instanceArgs": {
                "namespace": "html",
                "tag": "div"
               },
               "nodeType": "DOM",
               "props": {
                "className": "interact-flex-row-right"
               },
               "type": "node"
              }
             ],
             "instanceArgs": {
              "namespace": "html",
              "tag": "div"
             },
             "nodeType": "DOM",
             "props": {
              "className": "interact-flex-row interact-widget"
             },
             "type": "node"
            }
           ],
           "instanceArgs": {
            "handlers": {
             "changes": [
              "(function (val){return (val!=this.model[\"changes\"]()) ? (this.valueFromJulia[\"changes\"]=true, this.model[\"changes\"](val)) : undefined})"
             ],
             "index": [
              "(function (val){return (val!=this.model[\"index\"]()) ? (this.valueFromJulia[\"index\"]=true, this.model[\"index\"](val)) : undefined})"
             ]
            },
            "id": "8710341199199207868",
            "imports": {
             "data": [
              {
               "name": "knockout",
               "type": "js",
               "url": "/assetserver/f83dc9757fede95ccda667ff812a2fcf4fcea406-knockout.js"
              },
              {
               "name": "knockout_punches",
               "type": "js",
               "url": "/assetserver/489381353c6689ef066cceedc5f4603376aece34-knockout_punches.js"
              },
              {
               "name": null,
               "type": "js",
               "url": "/assetserver/2b9a0101b1182967c1bc8e647e40e503b7f91214-all.js"
              },
              {
               "name": null,
               "type": "css",
               "url": "/assetserver/16c36b047c84a455687c728543beff2b71551cae-style.css"
              },
              {
               "name": null,
               "type": "css",
               "url": "/assetserver/d905e3af6552e0c7d3e81225bc2f25b3475dc59b-bulma_confined.min.css"
              }
             ],
             "type": "async_block"
            },
            "mount_callbacks": [
             "function () {\n    var handler = (function (ko, koPunches) {\n    ko.punches.enableAll();\n    ko.bindingHandlers.numericValue = {\n        init: function(element, valueAccessor, allBindings, data, context) {\n            var stringified = ko.observable(ko.unwrap(valueAccessor()));\n            stringified.subscribe(function(value) {\n                var val = parseFloat(value);\n                if (!isNaN(val)) {\n                    valueAccessor()(val);\n                }\n            });\n            valueAccessor().subscribe(function(value) {\n                var str = JSON.stringify(value);\n                if ((str == \"0\") && ([\"-0\", \"-0.\"].indexOf(stringified()) >= 0))\n                     return;\n                 if ([\"null\", \"\"].indexOf(str) >= 0)\n                     return;\n                stringified(str);\n            });\n            ko.applyBindingsToNode(\n                element,\n                {\n                    value: stringified,\n                    valueUpdate: allBindings.get('valueUpdate'),\n                },\n                context,\n            );\n        }\n    };\n    var json_data = {\"formatted_vals\":[\"1\",\"2\",\"3\",\"4\",\"5\",\"6\",\"7\",\"8\",\"9\",\"10\",\"11\",\"12\",\"13\"],\"changes\":WebIO.getval({\"name\":\"changes\",\"scope\":\"8710341199199207868\",\"id\":\"12283693373603613843\",\"type\":\"observable\"}),\"index\":WebIO.getval({\"name\":\"index\",\"scope\":\"8710341199199207868\",\"id\":\"3920040358059388535\",\"type\":\"observable\"})};\n    var self = this;\n    function AppViewModel() {\n        for (var key in json_data) {\n            var el = json_data[key];\n            this[key] = Array.isArray(el) ? ko.observableArray(el) : ko.observable(el);\n        }\n        \n        [this[\"formatted_val\"]=ko.computed(    function(){\n        return this.formatted_vals()[parseInt(this.index())-(1)];\n    }\n,this)]\n        [this[\"changes\"].subscribe((function (val){!(this.valueFromJulia[\"changes\"]) ? (WebIO.setval({\"name\":\"changes\",\"scope\":\"8710341199199207868\",\"id\":\"12283693373603613843\",\"type\":\"observable\"},val)) : undefined; return this.valueFromJulia[\"changes\"]=false}),self),this[\"index\"].subscribe((function (val){!(this.valueFromJulia[\"index\"]) ? (WebIO.setval({\"name\":\"index\",\"scope\":\"8710341199199207868\",\"id\":\"3920040358059388535\",\"type\":\"observable\"},val)) : undefined; return this.valueFromJulia[\"index\"]=false}),self)]\n        \n    }\n    self.model = new AppViewModel();\n    self.valueFromJulia = {};\n    for (var key in json_data) {\n        self.valueFromJulia[key] = false;\n    }\n    ko.applyBindings(self.model, self.dom);\n}\n);\n    (WebIO.importBlock({\"data\":[{\"name\":\"knockout\",\"type\":\"js\",\"url\":\"/assetserver/f83dc9757fede95ccda667ff812a2fcf4fcea406-knockout.js\"},{\"name\":\"knockout_punches\",\"type\":\"js\",\"url\":\"/assetserver/489381353c6689ef066cceedc5f4603376aece34-knockout_punches.js\"}],\"type\":\"async_block\"})).then((imports) => handler.apply(this, imports));\n}\n"
            ],
            "observables": {
             "changes": {
              "id": "12283693373603613843",
              "sync": false,
              "value": 0
             },
             "index": {
              "id": "3920040358059388535",
              "sync": true,
              "value": 7
             }
            },
            "systemjs_options": null
           },
           "nodeType": "Scope",
           "props": {},
           "type": "node"
          }
         ],
         "instanceArgs": {
          "namespace": "html",
          "tag": "div"
         },
         "nodeType": "DOM",
         "props": {
          "className": "field interact-widget"
         },
         "type": "node"
        },
        {
         "children": [
          {
           "children": [],
           "instanceArgs": {
            "id": "9441172440115694684",
            "name": "obs-node"
           },
           "nodeType": "ObservableNode",
           "props": {},
           "type": "node"
          }
         ],
         "instanceArgs": {
          "handlers": {},
          "id": "14627233800016231124",
          "imports": {
           "data": [],
           "type": "async_block"
          },
          "mount_callbacks": [],
          "observables": {
           "obs-node": {
            "id": "9441172440115694684",
            "sync": false,
            "value": {
             "children": [
              {
               "children": [],
               "instanceArgs": {
                "namespace": "html",
                "tag": "div"
               },
               "nodeType": "DOM",
               "props": {
                "setInnerHtml": "<img src='data:image/png;base64,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'></img>"
               },
               "type": "node"
              }
             ],
             "instanceArgs": {
              "namespace": "html",
              "tag": "div"
             },
             "nodeType": "DOM",
             "props": {
              "className": "interact-flex-row interact-widget"
             },
             "type": "node"
            }
           }
          },
          "systemjs_options": null
         },
         "nodeType": "Scope",
         "props": {},
         "type": "node"
        }
       ],
       "instanceArgs": {
        "namespace": "html",
        "tag": "div"
       },
       "nodeType": "DOM",
       "props": {},
       "type": "node"
      },
      "text/html": [
       "<div\n",
       "    class=\"webio-mountpoint\"\n",
       "    data-webio-mountpoint=\"10603942505919195535\"\n",
       ">\n",
       "    <script>\n",
       "    if (window.require && require.defined && require.defined(\"nbextensions/webio-jupyter-notebook\")) {\n",
       "        console.log(\"Jupyter WebIO extension detected, not mounting.\");\n",
       "    } else if (window.WebIO) {\n",
       "        WebIO.mount(\n",
       "            document.querySelector('[data-webio-mountpoint=\"10603942505919195535\"]'),\n",
       "            {\"props\":{},\"nodeType\":\"DOM\",\"type\":\"node\",\"instanceArgs\":{\"namespace\":\"html\",\"tag\":\"div\"},\"children\":[{\"props\":{\"className\":\"field interact-widget\"},\"nodeType\":\"DOM\",\"type\":\"node\",\"instanceArgs\":{\"namespace\":\"html\",\"tag\":\"div\"},\"children\":[{\"props\":{},\"nodeType\":\"Scope\",\"type\":\"node\",\"instanceArgs\":{\"imports\":{\"data\":[{\"name\":\"knockout\",\"type\":\"js\",\"url\":\"\\/assetserver\\/f83dc9757fede95ccda667ff812a2fcf4fcea406-knockout.js\"},{\"name\":\"knockout_punches\",\"type\":\"js\",\"url\":\"\\/assetserver\\/489381353c6689ef066cceedc5f4603376aece34-knockout_punches.js\"},{\"name\":null,\"type\":\"js\",\"url\":\"\\/assetserver\\/2b9a0101b1182967c1bc8e647e40e503b7f91214-all.js\"},{\"name\":null,\"type\":\"css\",\"url\":\"\\/assetserver\\/16c36b047c84a455687c728543beff2b71551cae-style.css\"},{\"name\":null,\"type\":\"css\",\"url\":\"\\/assetserver\\/d905e3af6552e0c7d3e81225bc2f25b3475dc59b-bulma_confined.min.css\"}],\"type\":\"async_block\"},\"id\":\"8710341199199207868\",\"handlers\":{\"changes\":[\"(function (val){return (val!=this.model[\\\"changes\\\"]()) ? (this.valueFromJulia[\\\"changes\\\"]=true, this.model[\\\"changes\\\"](val)) : undefined})\"],\"index\":[\"(function (val){return (val!=this.model[\\\"index\\\"]()) ? (this.valueFromJulia[\\\"index\\\"]=true, this.model[\\\"index\\\"](val)) : undefined})\"]},\"systemjs_options\":null,\"mount_callbacks\":[\"function () {\\n    var handler = (function (ko, koPunches) {\\n    ko.punches.enableAll();\\n    ko.bindingHandlers.numericValue = {\\n        init: function(element, valueAccessor, allBindings, data, context) {\\n            var stringified = ko.observable(ko.unwrap(valueAccessor()));\\n            stringified.subscribe(function(value) {\\n                var val = parseFloat(value);\\n                if (!isNaN(val)) {\\n                    valueAccessor()(val);\\n                }\\n            });\\n            valueAccessor().subscribe(function(value) {\\n                var str = JSON.stringify(value);\\n                if ((str == \\\"0\\\") && ([\\\"-0\\\", \\\"-0.\\\"].indexOf(stringified()) >= 0))\\n                     return;\\n                 if ([\\\"null\\\", \\\"\\\"].indexOf(str) >= 0)\\n                     return;\\n                stringified(str);\\n            });\\n            ko.applyBindingsToNode(\\n                element,\\n                {\\n                    value: stringified,\\n                    valueUpdate: allBindings.get('valueUpdate'),\\n                },\\n                context,\\n            );\\n        }\\n    };\\n    var json_data = {\\\"formatted_vals\\\":[\\\"1\\\",\\\"2\\\",\\\"3\\\",\\\"4\\\",\\\"5\\\",\\\"6\\\",\\\"7\\\",\\\"8\\\",\\\"9\\\",\\\"10\\\",\\\"11\\\",\\\"12\\\",\\\"13\\\"],\\\"changes\\\":WebIO.getval({\\\"name\\\":\\\"changes\\\",\\\"scope\\\":\\\"8710341199199207868\\\",\\\"id\\\":\\\"12283693373603613843\\\",\\\"type\\\":\\\"observable\\\"}),\\\"index\\\":WebIO.getval({\\\"name\\\":\\\"index\\\",\\\"scope\\\":\\\"8710341199199207868\\\",\\\"id\\\":\\\"3920040358059388535\\\",\\\"type\\\":\\\"observable\\\"})};\\n    var self = this;\\n    function AppViewModel() {\\n        for (var key in json_data) {\\n            var el = json_data[key];\\n            this[key] = Array.isArray(el) ? ko.observableArray(el) : ko.observable(el);\\n        }\\n        \\n        [this[\\\"formatted_val\\\"]=ko.computed(    function(){\\n        return this.formatted_vals()[parseInt(this.index())-(1)];\\n    }\\n,this)]\\n        [this[\\\"changes\\\"].subscribe((function (val){!(this.valueFromJulia[\\\"changes\\\"]) ? (WebIO.setval({\\\"name\\\":\\\"changes\\\",\\\"scope\\\":\\\"8710341199199207868\\\",\\\"id\\\":\\\"12283693373603613843\\\",\\\"type\\\":\\\"observable\\\"},val)) : undefined; return this.valueFromJulia[\\\"changes\\\"]=false}),self),this[\\\"index\\\"].subscribe((function (val){!(this.valueFromJulia[\\\"index\\\"]) ? (WebIO.setval({\\\"name\\\":\\\"index\\\",\\\"scope\\\":\\\"8710341199199207868\\\",\\\"id\\\":\\\"3920040358059388535\\\",\\\"type\\\":\\\"observable\\\"},val)) : undefined; return this.valueFromJulia[\\\"index\\\"]=false}),self)]\\n        \\n    }\\n    self.model = new AppViewModel();\\n    self.valueFromJulia = {};\\n    for (var key in json_data) {\\n        self.valueFromJulia[key] = false;\\n    }\\n    ko.applyBindings(self.model, self.dom);\\n}\\n);\\n    (WebIO.importBlock({\\\"data\\\":[{\\\"name\\\":\\\"knockout\\\",\\\"type\\\":\\\"js\\\",\\\"url\\\":\\\"\\/assetserver\\/f83dc9757fede95ccda667ff812a2fcf4fcea406-knockout.js\\\"},{\\\"name\\\":\\\"knockout_punches\\\",\\\"type\\\":\\\"js\\\",\\\"url\\\":\\\"\\/assetserver\\/489381353c6689ef066cceedc5f4603376aece34-knockout_punches.js\\\"}],\\\"type\\\":\\\"async_block\\\"})).then((imports) => handler.apply(this, imports));\\n}\\n\"],\"observables\":{\"changes\":{\"sync\":false,\"id\":\"12283693373603613843\",\"value\":0},\"index\":{\"sync\":true,\"id\":\"3920040358059388535\",\"value\":7}}},\"children\":[{\"props\":{\"className\":\"interact-flex-row interact-widget\"},\"nodeType\":\"DOM\",\"type\":\"node\",\"instanceArgs\":{\"namespace\":\"html\",\"tag\":\"div\"},\"children\":[{\"props\":{\"className\":\"interact-flex-row-left\"},\"nodeType\":\"DOM\",\"type\":\"node\",\"instanceArgs\":{\"namespace\":\"html\",\"tag\":\"div\"},\"children\":[{\"props\":{\"className\":\"interact \",\"style\":{\"padding\":\"5px 10px 0px 10px\"}},\"nodeType\":\"DOM\",\"type\":\"node\",\"instanceArgs\":{\"namespace\":\"html\",\"tag\":\"label\"},\"children\":[\"t\"]}]},{\"props\":{\"className\":\"interact-flex-row-center\"},\"nodeType\":\"DOM\",\"type\":\"node\",\"instanceArgs\":{\"namespace\":\"html\",\"tag\":\"div\"},\"children\":[{\"props\":{\"max\":13,\"min\":1,\"attributes\":{\"type\":\"range\",\"data-bind\":\"numericValue: index, valueUpdate: 'input', event: {change: function (){this.changes(this.changes()+1)}}\",\"orient\":\"horizontal\"},\"step\":1,\"className\":\"slider slider is-fullwidth\",\"style\":{}},\"nodeType\":\"DOM\",\"type\":\"node\",\"instanceArgs\":{\"namespace\":\"html\",\"tag\":\"input\"},\"children\":[]}]},{\"props\":{\"className\":\"interact-flex-row-right\"},\"nodeType\":\"DOM\",\"type\":\"node\",\"instanceArgs\":{\"namespace\":\"html\",\"tag\":\"div\"},\"children\":[{\"props\":{\"attributes\":{\"data-bind\":\"text: formatted_val\"}},\"nodeType\":\"DOM\",\"type\":\"node\",\"instanceArgs\":{\"namespace\":\"html\",\"tag\":\"p\"},\"children\":[]}]}]}]}]},{\"props\":{},\"nodeType\":\"Scope\",\"type\":\"node\",\"instanceArgs\":{\"imports\":{\"data\":[],\"type\":\"async_block\"},\"id\":\"9643342505270129341\",\"handlers\":{},\"systemjs_options\":null,\"mount_callbacks\":[],\"observables\":{\"obs-node\":{\"sync\":false,\"id\":\"7630851766534010813\",\"value\":{\"props\":{\"className\":\"interact-flex-row interact-widget\"},\"nodeType\":\"DOM\",\"type\":\"node\",\"instanceArgs\":{\"namespace\":\"html\",\"tag\":\"div\"},\"children\":[{\"props\":{\"setInnerHtml\":\"<img src='data:image\\/png;base64,iVBORw0KGgoAAAANSUhEUgAAA+gAAAJYCAIAAAB+fFtyAAAABmJLR0QA\\/wD\\/AP+gvaeTAAAgAElEQVR4nO3deXCc92Hf4Xdv3AQI3gDJJSiSoixIlCgpUiRW1uGIPiI20bTTySSpPU0atUmdTDPNZdfTcVzXnaRTp4ejXK2d2Gl8jxRbkS\\/ZCiVbh2mJgi2RogguSfDGfSyOvfoHLJoioYsE+eLHeZ6\\/gOUC+HpnDH\\/8w7u7UQQAAAAAAAAAAAAAAAAAAAAAAAAAAAAAAAAAAAAAAAAAAAAAAAAAAAAAAAAAAAAAAAAAAAAAAAAAAAAAAAAAAAAAAAAAAAAAAAAAAAAAAAAAAAAAAAAAAAAAAAAAAAAAAAAAAAAAAAAAAAAAAAAAAAAAAAAAAAAAAAAAAAAAAAAAAAAAAAAAAAAAAAAAAAAAAAAAAAAAAAAAAAAAAAAAAAAAAAAAAAAAAAAAAAAAAAAAAAAAAAAAAAAAAAAAAAAAAAAAAAAAAAAAAAAAAAAAAAAAAAAAAAAAAAAAAAAAAAAAAAAAAAAAAAAAAAAAAAAAAAAAAAAAAAAAAAAAAAAAAAAAAAAAAAAAAAAAAAAAAAAAAAAAAAAAAAAAAAAAAAAAAAAAAAAAAAAAAAAAAAAAAAAAAAAAAAAAAAAAAAAAAAAAAAAAAAAAAAAAAAAAAAAAAAAAAAAAAAAAQLi6u7u7u7vjXhE2jyHAeUjEPQAgJN3d3Q8++GAURR\\/88Md6C4finhOkrvyaj3zo96Io2rFjR09PT9xzAIKRjnsAQEi6uroSiUQURdvu\\/JllvX1xzwnSpq7O2cewq6tLuAO8ecm4BwAAAG9MuAMAQACEOwAABEC4AwBAAIQ7AAAEQLgDAEAAhDsAAARAuAMAQACEOwAABEC4AwBAAIQ7AAAEQLgDAEAAhDsAAARAuAMAQACEOwAABEC4AwBAAIQ7AAAEIB33AIDw5PP5+\\/P5uFeErVAoxD0BIDBO3AEAIADCHQAAAiDcAQAgAMIdAAACINwBACAAwh0AAAIg3AEAIADCHQAAAiDcAQAgAMIdAAACINwBACAAwh0AAAIg3AEAIADCHQAAAiDcAQAgAMIdAAACINwBACAA6bgHAISnUCg8snPX3t6+uIcEaVNX5\\/ZtW+NeARAeJ+4AABAA4Q4AAAEQ7gAAEADhDgAAARDuAAAQAOEOAAABEO4AABAA4Q4AAAEQ7gAAEADhDgAAARDuAAAQAOEOAAABEO4AABAA4Q4AAAEQ7gAAEADhDgAAARDuAAAQgHTcAwDCk8\\/n78\\/n414RtkKhEPcEgMA4cQcAgAAIdwAACIBwBwCAAAh3AAAIgHAHAIAACHcAAAiAcAcAgAAIdwAACIBwBwCAAAh3AAAIgHAHAIAACHcAAAiAcAcAgAAIdwAACIBwBwCAAAh3AAAIgHAHAIAApOMeABCeQqHwyM5de3v74h4SpE1dndu3bY17BUB4nLgDAEAAhDsAAARAuAMAQACEOwAABEC4AwBAAIQ7AAAEQLgDAEAAhDsAAARAuAMAQACEOwAABEC4AwBAAIQ7AAAEQLgDAEAAhDsAAARAuAMAQACEOwAABEC4AwBAANJxDwAITz6fvz+fj3tF2AqFQtwTAALjxB0AAAIg3AEAIADCHQAAAiDcAQAgAMIdAAACINwBACAAC\\/HlILu7u1evXh33CoA5bNmyJe4Jl48tW7aUSqW4VwDM4fDhwz09PXGvOFsi7gFn6+7ufvDBBxOJBTcM4LS8F3G\\/YF7HHVjIarXajh07Flq7u1QGAAACsOAulenp6fnghz926+13xz0EYA6rlrdv2dwV94rLxHMv9h49MRD3CoA5PPHYNxfacXu0AMM9iqLewqFl+aNxrwCYQzLlD5Xz5nj\\/0L6DftsDC1Fv4VDcE+bgf4EAACAAwh0AAAIg3AEAIADCHQAAAiDcAQAgAMIdAAACsBBfDhJggSsUCo\\/s3LW3ty\\/uIUHa1NW5fdvWuFcAhMeJOwAABEC4AwBAAIQ7AAAEQLgDAEAAhDsAAARAuAMAQACEOwAABEC4AwBAAIQ7AAAEQLgDAEAAhDsAAARAuAMAQACEOwAABEC4AwBAAIQ7AAAEQLgDAEAAhDsAAAQgHfcAgPDk8\\/n78\\/m4V4StUCjEPQEgME7cAQAgAMIdAAACINwBACAAwh0AAAIg3AEAIADCHQAAAiDcAQAgAMIdAAACINwBACAAwh0AAAIg3AEAIADCHQAAAiDcAQAgAMIdAAACINwBACAAwh0AAAIg3AEAIADpuAcAhKdQKDyyc9fe3r64hwRpU1fn9m1b414BEB4n7gAAEADhDgAAARDuAAAQAOEOAAABEO4AABAA4Q4AAAFYcC8H2dHRcevNN13R1Xl+X370xMDYxOT8TjpLc2P9quXt5\\/3lFkYWzgcLL9z5LVy1bPHsB\\/W57HwvOpvH8MJdro\\/haRZGFs4HC0Ox4ML9hhtu+I1fe995f\\/kleGXlVcvbL+QViC2MLJwPFl64C1zYtqhpHsfMyWN44S77x9DCyML5YGEoXCoDAAABSMQ94GwdHR3\\/4pf+1RVXXXN+X+6PNZGF88HCC3e5Lly1bPE1m9ZFUfTY0z3Pvdh7EXb9hMfwwl2uj+FpFkYWzgcLz\\/Xkdx558juPnPdPvEgWXLhHUXTz27ff\\/Pbtca8AmMOmrs7ZP9deNn94vfQ8hsDCtzDD3aUyAAAQAOEOAAABEO4AABAA4Q4AAAEQ7gAAEADhDgAAAVhw75wKsPDl8\\/n78\\/m4V4StUCjEPQEgME7cYQGpVqsjg\\/3lUinuIQDAgiPcYQHZ\\/eS3t9WVh599bGqyGPcWAGBhcakMnKeZ6empyfFKqVSr1RKJRBRFiWQqnclkMtl0JpNKZ87je7YvW7Wyte033\\/We\\/\\/j1b115\\/a1z36lWGx8dHh0ZrLxyMJ\\/J5dLpTGPzovrG5vP9TwMALHTCHd6Uqcni0KnjwwMn08XRpXXZtoa6jpZFbY1Nra2NycSP\\/3JVrVWL05PjxaHJqemJ6anJUmmqVCqWSjOV6nS5Uk0mE6nMdKmUTKUmS6VsOpVKpqqVclT7yU8plUsvtdVtWNWxIZd4+clH5xpS7azP3bz+iuVdHdl0qj6bLVWqY5PF0WJxpDjUe+iFwvBotW1Zx7ors7ncpXhcAIBLRbjDa5oYGzl59NBM\\/\\/GO+uyVnR1XXbF67S3X5TLnc5T+Vv3mu+897689MTz80DNP7R4ubrju5vM7+AcAFiDhDnPb8\\/Rj71q\\/5vqfum5Fa+tb+sKZcvmJF1\\/Yf+J4cXpqcmYmihJDoyPtixZlUqlqLUomE7l0plqtJRJRIpGoVKupZLJSrZarlUqlkkqlxiYnk1H03jvv7mhfcn7Ll7e2\\/uo77hkYG\\/vDz3+27eqfal+28vy+DwCwoAh3mMNUceKW5YvftfXG179btVwuR1F5crKh+ccXlz\\/a8\\/yDzzw1MD42e9V7FEUTxeLU9HR7W9vrfJ9KtdqYzbU3Na9obX3HNVtu3LAxlUxWa7UTw0M9Bwv9Y2N1mcxtm982+uNnrCaiKKpFtWQiUZfNNuZyLXX1yeTZTzRvb26+qrPjO48\\/sv6n7ljekT+PBwEAWFCEO8zh2OHe97xtwxvebfylvV\\/a88J12WzD9TdsWNWxp6\\/vb3d+p1KtVau1WlSNoiiZSExOTTXU11cqlVoUVavVXDqTSiYb6+qacrmW+obmhvrm+oZNK1ddu66rIZeLouiJF1944Gv\\/MDA2OjA+PlIsVmrV2Z\\/1teeevXH9Fe+76x2p5OlL6mvTpdLowMCe\\/S9HDY3phoZkIrG4qbmtsXH2\\/zbcsvHKLz\\/15L4nv9X4jvuaWt7a3w0AgIVGuMMcRk4dX79i2xverXnN2q0T482NzS3NLVEUXdnZ+Zf\\/9v3F6enRyeLoRHGqPDM1MzNSnGzIZpvq6xuyuab6ukQi0VLf0DDXM0cr1erHv\\/Lg8wcPVs98vuoriqWZx\\/a8MDEzffry92QiUZ\\/N1q9cmatWJsfGpo8eHU8m+5eU+0dHoyha1rqoO7\\/umrX55woHnn30wW07fjl65Y8AAECIhDvMoSWqZNJz\\/LejXKk8+dLeQ\\/2nRooTI8Xi8MTESLE4Uy6vXtz+Oz9332yON+RyDbncitbXuzZmTvuOHn2ucOD18\\/oHB3q\\/9uwP7rnu+oGxsdkLctqbmhYtWz4wNpqoq6tOFvv371uyNr8hv+748PDRwcH3v2fH\\/3747\\/ce6Tu470drN179VicBAAuHcIc5NGdS59548OTJP\\/36P\\/QNDiTOaev9p0482rP7PTfcdCE\\/dGhivDZ7Aftrq9Zqj\\/3oh3dfu6W9ubm9ubkWRYNjY\\/v7T0VNLVG1sqq9\\/dSpk8XjxxLrula2ta1obe0bHLh\\/+7sW1Tf8h898OhLuABAy75wKc2jO1Z11S6lSfuDr\\/3BkaPDcap81MTV18XdFURT1DQ08vW\\/v7MeJKGpvbt64ctXGzs61qzomUunE4vb65SsmZ2aiKEokEqvbl1Sq1WQqeddVm4vjo5dmIQBwMQh3OFu1Umlvbjrrxq9+\\/\\/uHBwdi2XOWWhQ9e+DAubfn0um1S5de2dG5fm3+5MjI3qNHCqdOliuVtUuXHervvya\\/7sSRg5d+LQAwX1wqA2erlEuN55y49xwqvNZZ+6XXP\\/Z6Z+fpVGrt0qVRFE3NzBzsP1WuVEYmJrZ2rS9+96lLNRAAmH\\/CHc5WKpUy6Vdd4z5aLB4e6I9rz7mGxsbezN3qstn1y1dEUTQ2OZlOpbLl6Yu8CwC4iFwqA2erVsrZdObMWw6eOlmcmYlrz7kmS6XpUunN37+5vj6VTKbL5Ys3CQC42IQ7nK1aq6aSrzpx33fs6MK5TiaKonK1Upx+y8fn9dnsxRgDAFwaLpUBeMsKhcIjO3ft7e2Le0iQNnV1bt+2Ne4VAOFx4g5nSyaSlWrlzFs2rFxVq83xbqZxyaTSjXVnP332DU289UN6AGDhEO5wtmQqPVN+1RXka5cuazrndWZiVJfJZOd6Y9fXMjY5WalWq6++cB8ACItwh7NlMplS+VUn7i0NDR2LF8e151yLm5rfzN2mZmb2nzi+9+iR5w8VypXKTCZ3sYcBABePa9zhbKl0Znxq8qwbu9fk9y6Yp6i2N79euJcrlSODg1OlmVwms3bJ0mQyWa5W9x871rCo\\/ZItBADmnXCHsyVTqcHxibNufM8NNz6976XDQwvgzVNrtRu61p9783S5fHxoaHJmOjE9vaZz9enXkOk9cXztkqVfeeap5R1rL+1QAGA+uVQG5jA6PXXWLelU6tfu2d7Z9poXzJzHs0XPz+rFS7ZesWH241oU9Y+NvnTs6Et9fQePHmmslGuDA5Mnjs9We61WOzzQn0mnK5XKoy\\/saWhquTQLAYCLwYk7zGG8NMd7Fa1duuwjv\\/BLT+7dc7D\\/1EhxYqRYHJ6YGCkWS5Xy6sXtd1+z5QJ\\/aFtj0xteiJNMJG5\\/29WpZHJgbGxgfCyZSC5ualy\\/ZGlh\\/75kpXpssjg6NrYsv65Wqx0bHhqemGiub\\/jEw1\\/Ze7Rv\\/XW3XuA8ACBewh3mMBqlS+Vy5pxXbkklk7duvup0AtfGx3\\/4wg9bm5pb1ubrXrk0ZWJ6aqw4OTQxXiqXp0ozI8XJhmy2sb6uIZNrrKtLpZKNubrm+vpzf+jGjo4ta9c9f+hgNZr7pScTicQNXevvue76KIram5tPX+k+cqSvIZEsTU1EqdSSDRuryeS+Y8eWt7aualv8O5\\/6P7sPFlqbW9dueNs8PC4AQHyEO8xh0dIV+48fv7Kz8\\/XvNnbo4A\\/6+rZkM1OtrYsaG\\/f09f23h75cqVWnSqXZ9E4mk0PDw\\/V1dblsthZFtVotl8kko0Rjrq6pvq6lrr6xvq6lvmHjqlVb1nU15up+e8fPfXfPC88eODAwNjowPj5SLFZq1dmf1Zyru76r6313vuP0T6\\/WalMzM6MD\\/YODA1FDY6ajsz6K2ptb2hobZ+\\/QUzjQc+hgW2PjlrvujRbG02oBgPMm3GEOK1d3ff\\/lfW8Y7k0bN\\/3Cpk0zE8XGlpYoiq7s7PyFbf\\/koe8\\/Mz02mnollOtyucmpqYZXjtirtVo1qo1MFUemikde+T7f7NndkM22Nzcva2m9ZeOm++95ZyqZrNZqJ4aHeg4W+sfG6rPZbZvfNlycOHDyRBQloiiqRbVUIpHLZpta265csTKZnOP5Kt97aU9bY1PXTXc0tbTOz+MCAMRHuMMc6hoav3dyYPGuZ65fv2FF62tWbzKdTkZRpuUnT\\/q8o\\/vaWze\\/7Xt7Xtx\\/4vjE9FRxeiadTJ0aHmxftCiZSKRSqVQymU6mKtVqKpmMomj2g0q1Wq5WKpVKMpn4xvO7H+3Z\\/d477+5oX7KybfHKM54Ou6TlLTy7tH905IeHj2y6bXv7spXn9RgAAAuLcIe5bb7p7T1jI9966tnp\\/uMddZnNnZ2bOzvzy5bnMm\\/w\\/qPZdPr2q7tvv7r70uw817GhwYeeeXr3SHHT7e9OebdUALhcCHd4TY3Ni9Zt6o42dUdR9PJk8Zn9R4efejZVHF1an21raGhvbl7c2NzW1JhM\\/PgylanSTKlSGZ+anJicmizNFGemp0rlyVJ5ulKZrlSjZLKWSJUqlWQqNVkqZdOpVDJVrZTPfCZqqVx61+aN795645989aEDY2e\\/JGUURVFU7ajL3bB+\\/fLWtmw61ZDLlSrVscniyERxeGLiwMljvcNjUduyzq7uq3LeJxUALivCHd6UuvqGlWu6Vq7pOn3LsenpA5PjleGZWq02+46qiWQqnanPNC5Kt2Zmj7pzUfSW8vnQyy9uXLlqaHz8palo8813zn2nWu2p0eHRA0crpdLsDZlcLp3ONDa311+V75r7awCA4Al3OE\\/ZXC4736faAyePHlvV9pnHd67r\\/unXvFMi0bSorWlR2\\/z+aABggfPOqbCAXHvzHTun0q3X3V5X3xD3FgBgYXHiDgtIMplctHhJ3CsAgIVIuAO8Zfl8\\/v58Pu4VYSsUCnFPAAiMS2UAACAAwh0AAAIg3AEAIADCHQAAAiDcAS4T5VLpgf\\/8B+OjI3EPAeCiEO4Al4nDvS\\/99Z\\/8ly\\/85f+MewgAF8VCfDnIrvyaDWtXxb0CYA4rliyg96x94IEH7r333lWrfvwLs6GxOZlKDfWfjHfVm7diSVu1Uo17BcAcTubXPBn3hnMtuHDv7u7+yId+L5FIxD0EYKH73Oc+NzAw8IEPfCCKokKhsGPHjonUkoGR0bh3vVlbNndt2dwV9wqAObzz9ht6dn2vp6cn7iGv4lIZgFCtWpYbPPGj2Y8\\/+tGPPv\\/88\\/uPnPjvf\\/W38a4C4CJZcCfuPT09O3bsWL16ddxDAOZw4403vve97417xY\\/ddF3HVHG4VqslEonR0R8ftNc3NlWr1WQyGUXRI5\\/\\/m+t++u3LOxbob9RPfvKTzzzzTNwrAOZw+PDhhXbcHi3AcI+iqKenZwE+UgBRFGUymbgn\\/EStFjXXT7700t5Nm64slUqzN\\/76b\\/y72WqPouizf\\/bxL3\\/ygT\\/76hPxbXw9zz333MMPPxz3CoBgLMRwB+ANlUql0lT\\/6o7sdx\\/74qZNHxgaGpq9\\/dlnn\\/2bT\\/3V4sWL163fdOjE4MxAX6VcTqX9tgcInl\\/lAEEaGhrKpGaiKDc1fiyKovHx8Wwmdc3mpStbDtWGvjQ6nvpfXzhyfHp8eDKr2gEuD36bAwRp2bJltUxHFPWXp0709u5f1jr9od\\/66c0b2k\\/f4e7b1tx165rHnjz08N9\\/\\/l0\\/+8+iKNq9e\\/e1114b32QALohXlQEIVS5XH0VRx9Lyp\\/\\/83\\/\\/L+9adWe2zEono7beseW7396MoGh4evu22m\\/fv3x\\/DUADmg3AHCN7V65OpZCKKoqGRqc9\\/de\\/LhaEz\\/7U49NIXPvsXn\\/3Mn\\/7X37\\/9\\/33yP8UzEYALJtwBQlXfuOTMT\\/sHJ\\/\\/gY\\/\\/4dw+++KE\\/fnzfgZ+0+\\/VXRsnRh5dmn16xtL4+NXj6aawAhMU17gBvWaFQeGTnrr29ffHOGD569OqV0+s6crOfPvj1fScHilEUTc9U\\/vwzu\\/\\/og28\\/90uO9Zc\\/\\/D\\/++lKOPNemrs7t27bGuwEgRE7cAULVumrzDw\\/Vnf700ScOnf6499DwV7559uXslWqtfyx1icYBMN+EO0DA6pZufXbPeBRFA0OTU9PlM\\/\\/pRP\\/EmZ\\/uOTD50JP1LWvvvqT7AJg\\/wh0gYHUNTUdnrvvSYzPVWiKdftWv9JuvW3X6410vFg9M3rAkf3Mq5cQdIFSucQcIW8uSjmhJx5N9R1d1\\/OjQwcOzN+ay6VMTix79Qa1UzZRr6WTj5qbWpfHuBOACCXeAy0HrklU\\/\\/77f3vfC7qOHDjQvar36+ltSuVwqijJxDwNgvgh3gMvHhquu3XCV90YFuDy5xh0AAAIg3AEAIADCHQAAAiDcAQAgAMIdAAACINwBACAAwh0AAAIg3AEAIADCHQAAAiDcAQAgAMIdAAACkI57AEB48vn8\\/fl83CvCVigU4p4AEBgn7gAAEADhDgAAARDuAAAQAOEOAAABEO4AABAA4Q4AAAEQ7gAAEADhDgAAARDuAAAQAOEOAAABEO4AABAA4Q4AAAEQ7gAAEADhDgAAARDuAAAQAOEOAAABEO4AABCAdNwDAMJTKBQe2blrb29f3EOCtKmrc\\/u2rXGvAAiPE3cAAAiAcAcAgAAIdwAACIBwBwCAAAh3AAAIgHAHAIAACHcAAAiAcAcAgAAIdwAACIBwBwCAAAh3AAAIgHAHAIAACHcAAAiAcAcAgAAIdwAACIBwBwCAAAh3AAAIQDruAQDhyefz9+fzca8IW6FQiHsCQGCcuAMAQACEOwAABEC4AwBAAIQ7AAAEQLgDAEAAhDsAAARAuAMAQACEOwAABEC4AwBAAIQ7AAAEQLgDAEAAhDsAAARAuAMAQACEOwAABEC4AwBAAIQ7AAAEQLgDAEAA0nEPAAhPoVB4ZOeuvb19cQ8J0qauzu3btsa9AiA8TtwBACAAwh0AAAIg3AEAIADCHQAAAiDcAQAgAMIdAAACINwBACAAwh0AAAIg3AEAIADCHQAAAiDcAQAgAMIdAAACINwBACAAwh0AAAIg3AEAIADCHQAAAiDcAQAgAOm4BwCEJ5\\/P35\\/Px70ibIVCIe4JAIFx4g4AAAEQ7gAAEADhDgAAARDuAAAQAOEOAAABEO4AABAA4Q4AAAEQ7gAAEADhDgAAARDuAAAQAOEOAAABEO4AABAA4Q4AAAEQ7gAAEADhDgAAARDuAAAQAOEOAAABSMc9ACA8hULhkZ279vb2xT0kSJu6Ordv2xr3CoDwOHEHAIAACHcAAAiAcAcAgAAIdwAACIBwB7hM1CqVw09+pTw9FfcQAC4K4Q5wmZgaOXV01zdP9vxj3EMAuCiEO0Conv\\/+ExNjI6c\\/TWVyUTJZmhyPcRIAF49wBwjVvh8996Nnn579eHR48HOf\\/ov9043jky6VAbg8CXeAUOXz17QvWjP78dM7v9F\\/4ujJ4bGdT++KdxUAF4l3TgUI1U03\\/WwmXT9VOxolEjOvPCc1kcnVarVEIhFFUf\\/eZ5pXbcg1t8Y6E4D54cQdIFS1Wm3t6mtGR4aiKKpWKrM3XnPTttlqj6Lo+O7HXv76p2LbB8C8cuIOEKRqpbKoob2z48pndueiKJqempy9\\/eSxvv0v9DQ0tmQb6vpHiw2l4Vq1mkg6pgEInnAHCNLU1GRbx8ooiloal0XRxMzMdDZbf+21d91447tvu+2fZ7N13\\/7Op8utV+878NRNqh3gsiDcAYLU0Nh04PBz69ffsHRx\\/kD\\/dzdvuu2d77\\/\\/qqu2nb7D9nv+9T0\\/86vf\\/vbfnDzy4tKOFVEUnTp+ZOmKjvgmA3BBHMMAhKsWRdE13Xe3JPO\\/9f5PnVntsxKJxJ13\\/vLIwGAURdNTk1\\/+6wdGBvtjmAnAfBDuAMG74\\/ZfTqXSURQNDh77u7\\/7w337njnzXztWbB48NjB4dPCP\\/\\/jp9IxXmAEIlUtlAEI1XXrVm6T29x\\/+3d\\/9JydPFr7whY999KPf3rjxptnb3\\/PO3zp9n9GxkwcHn8jVN1zSoQDMB+EO8Jbl8\\/n78\\/m4V0Tf+tb3Dh3as3TplbOffulLf3TyZCGKounp4ic+8W8+\\/vE53ompLjf1iY\\/9\\/qUc+VoKhULcEwAC41IZgFDdddct1eq+059+4xv\\/9\\/TH+\\/f\\/4KGHPn7W\\/SuVcrU6fInGATDfhDtAwO6995be3p1RFPX3901NverKmePHe8\\/8tK\\/vB2NjX\\/v1X\\/+nl3QfAPNHuAMEbOnSJXfcsWTfvr9NJGrpdPbMf7rllp8\\/\\/fGBA\\/94991tv\\/iL785ms+d8DwDC4Bp3gLB1d2\\/u7t7c0\\/PC9dff+PTTT8zeWF\\/f2No6feLEN7PZKJ2ubd++\\/oor1sW7E4ALJNwBLgfd3Vc99dTjX\\/ziFx9\\/\\/PE1a9b8yq\\/8SnNzc9yjAJhPwh3g8nHffffdd999ca8A4KJwjTsAAARAuAMAQACEOwAABEC4AwBAAIQ7AAAEQLgDAEAAhDsAAARAuAMAQACEOwAABEC4AwBAAIQ7AAAEIB33AICQ9Pb21mq1AwcOfPDDH+stHIp7TpC68ms+8qHfi6Kot7c37i0AAFy+uru7u7u7414RNo8hAAAAAAAAAAAAAAAAAAAAAAAAAAAAAAAAAAAAAAAAAAAAAAAAAAAAAAAAAAAAAAAAAAAAAAAAAAAAAAAAAAAAAAAAAAAAAAAAAAAAAAAAAAAAAAAAAAAAAAAAAAAAAAAAAAAAAAAAAAAAAAAAAAAAAAAAAAAAAAAAAAAAAAAAAAAAAAAAAAAAAAAAAAAAAAAAAAAAAAAAAAAAAAAAAAAAAAAAAAAAAAAAAAAAAAAAAAAAAAAAAAAAAAAAAAAAAAAAAAAAAAAAAAAAAAAAAAAAAAAAAAAAAAAAAAAAAAAAAAAAAAAAAAAAAAAAAAAAAAAAAAAAAAAAAAAAAAAAAAAAAAAAAAAAAAAAAMmPLigAAABWSURBVAAAAAAAAAAAAAAAAAAAAAAAAAAAAAAAAAAAAAAAAAAAAAAAAAAAAAAAAAAAAAAAAAAAAAAAAAAAAAAAAAAAAAAAAAAAAAAAAAAAAAAAAEDw\\/j\\/EoNY7c2e\\/wAAAAABJRU5ErkJggg=='><\\/img>\"},\"nodeType\":\"DOM\",\"type\":\"node\",\"instanceArgs\":{\"namespace\":\"html\",\"tag\":\"div\"},\"children\":[]}]}}}},\"children\":[{\"props\":{},\"nodeType\":\"ObservableNode\",\"type\":\"node\",\"instanceArgs\":{\"id\":\"7630851766534010813\",\"name\":\"obs-node\"},\"children\":[]}]}]},\n",
       "            window,\n",
       "        );\n",
       "    } else {\n",
       "        document\n",
       "            .querySelector('[data-webio-mountpoint=\"10603942505919195535\"]')\n",
       "            .innerHTML = (\n",
       "                '<div style=\"padding: 1em; background-color: #f8d6da; border: 1px solid #f5c6cb\">' +\n",
       "                '<p><strong>WebIO not detected.</strong></p>' +\n",
       "                '<p>Please read ' +\n",
       "                '<a href=\"https://juliagizmos.github.io/WebIO.jl/latest/troubleshooting/not-detected/\" target=\"_blank\">the troubleshooting guide</a> ' +\n",
       "                'for more information on how to resolve this issue.</p>' +\n",
       "                '<p><a href=\"https://juliagizmos.github.io/WebIO.jl/latest/troubleshooting/not-detected/\" target=\"_blank\">https://juliagizmos.github.io/WebIO.jl/latest/troubleshooting/not-detected/</a></p>' +\n",
       "                '</div>'\n",
       "            );\n",
       "    }\n",
       "    </script>\n",
       "</div>\n"
      ],
      "text/plain": [
       "Node{WebIO.DOM}(WebIO.DOM(:html, :div), Any[Node{WebIO.DOM}(WebIO.DOM(:html, :div), Any[Scope(Node{WebIO.DOM}(WebIO.DOM(:html, :div), Any[Node{WebIO.DOM}(WebIO.DOM(:html, :div), Any[Node{WebIO.DOM}(WebIO.DOM(:html, :label), Any[\"t\"], Dict{Symbol,Any}(:className => \"interact \",:style => Dict{Any,Any}(:padding => \"5px 10px 0px 10px\")))], Dict{Symbol,Any}(:className => \"interact-flex-row-left\")), Node{WebIO.DOM}(WebIO.DOM(:html, :div), Any[Node{WebIO.DOM}(WebIO.DOM(:html, :input), Any[], Dict{Symbol,Any}(:max => 13,:min => 1,:attributes => Dict{Any,Any}(:type => \"range\",Symbol(\"data-bind\") => \"numericValue: index, valueUpdate: 'input', event: {change: function (){this.changes(this.changes()+1)}}\",\"orient\" => \"horizontal\"),:step => 1,:className => \"slider slider is-fullwidth\",:style => Dict{Any,Any}()))], Dict{Symbol,Any}(:className => \"interact-flex-row-center\")), Node{WebIO.DOM}(WebIO.DOM(:html, :div), Any[Node{WebIO.DOM}(WebIO.DOM(:html, :p), Any[], Dict{Symbol,Any}(:attributes => Dict(\"data-bind\" => \"text: formatted_val\")))], Dict{Symbol,Any}(:className => \"interact-flex-row-right\"))], Dict{Symbol,Any}(:className => \"interact-flex-row interact-widget\")), Dict{String,Tuple{Observables.AbstractObservable,Union{Nothing, Bool}}}(\"changes\" => (Observable{Int64} with 1 listeners. Value:\n",
       "0, nothing),\"index\" => (Observable{Int64} with 2 listeners. Value:\n",
       "7, nothing)), Set{String}(), nothing, Asset[Asset(\"js\", \"knockout\", \"/scratch/users/shubhgup/julia/.julia/packages/Knockout/IP1uR/src/../assets/knockout.js\"), Asset(\"js\", \"knockout_punches\", \"/scratch/users/shubhgup/julia/.julia/packages/Knockout/IP1uR/src/../assets/knockout_punches.js\"), Asset(\"js\", nothing, \"/scratch/users/shubhgup/julia/.julia/packages/InteractBase/sOe2Z/src/../assets/all.js\"), Asset(\"css\", nothing, \"/scratch/users/shubhgup/julia/.julia/packages/InteractBase/sOe2Z/src/../assets/style.css\"), Asset(\"css\", nothing, \"/scratch/users/shubhgup/julia/.julia/packages/Interact/SbgIk/src/../assets/bulma_confined.min.css\")], Dict{Any,Any}(\"changes\" => Any[WebIO.JSString(\"(function (val){return (val!=this.model[\\\"changes\\\"]()) ? (this.valueFromJulia[\\\"changes\\\"]=true, this.model[\\\"changes\\\"](val)) : undefined})\")],\"index\" => Any[WebIO.JSString(\"(function (val){return (val!=this.model[\\\"index\\\"]()) ? (this.valueFromJulia[\\\"index\\\"]=true, this.model[\\\"index\\\"](val)) : undefined})\")]), WebIO.ConnectionPool(Channel{Any}(sz_max:32,sz_curr:0), Set{AbstractConnection}(), Base.GenericCondition{Base.AlwaysLockedST}(Base.InvasiveLinkedList{Task}(Task (runnable) @0x00007fdaab29a4a0, Task (runnable) @0x00007fdaab29a4a0), Base.AlwaysLockedST(1))), WebIO.JSString[WebIO.JSString(\"function () {\\n    var handler = (function (ko, koPunches) {\\n    ko.punches.enableAll();\\n    ko.bindingHandlers.numericValue = {\\n        init: function(element, valueAccessor, allBindings, data, context) {\\n            var stringified = ko.observable(ko.unwrap(valueAccessor()));\\n            stringified.subscribe(function(value) {\\n                var val = parseFloat(value);\\n                if (!isNaN(val)) {\\n                    valueAccessor()(val);\\n                }\\n            });\\n            valueAccessor().subscribe(function(value) {\\n                var str = JSON.stringify(value);\\n                if ((str == \\\"0\\\") && ([\\\"-0\\\", \\\"-0.\\\"].indexOf(stringified()) >= 0))\\n                     return;\\n                 if ([\\\"null\\\", \\\"\\\"].indexOf(str) >= 0)\\n                     return;\\n                stringified(str);\\n            });\\n            ko.applyBindingsToNode(\\n                element,\\n                {\\n                    value: stringified,\\n                    valueUpdate: allBindings.get('valueUpdate'),\\n                },\\n                context,\\n            );\\n        }\\n    };\\n    var json_data = {\\\"formatted_vals\\\":[\\\"1\\\",\\\"2\\\",\\\"3\\\",\\\"4\\\",\\\"5\\\",\\\"6\\\",\\\"7\\\",\\\"8\\\",\\\"9\\\",\\\"10\\\",\\\"11\\\",\\\"12\\\",\\\"13\\\"],\\\"changes\\\":WebIO.getval({\\\"name\\\":\\\"changes\\\",\\\"scope\\\":\\\"8710341199199207868\\\",\\\"id\\\":\\\"12283693373603613843\\\",\\\"type\\\":\\\"observable\\\"}),\\\"index\\\":WebIO.getval({\\\"name\\\":\\\"index\\\",\\\"scope\\\":\\\"8710341199199207868\\\",\\\"id\\\":\\\"3920040358059388535\\\",\\\"type\\\":\\\"observable\\\"})};\\n    var self = this;\\n    function AppViewModel() {\\n        for (var key in json_data) {\\n            var el = json_data[key];\\n            this[key] = Array.isArray(el) ? ko.observableArray(el) : ko.observable(el);\\n        }\\n        \\n        [this[\\\"formatted_val\\\"]=ko.computed(    function(){\\n        return this.formatted_vals()[parseInt(this.index())-(1)];\\n    }\\n,this)]\\n        [this[\\\"changes\\\"].subscribe((function (val){!(this.valueFromJulia[\\\"changes\\\"]) ? (WebIO.setval({\\\"name\\\":\\\"changes\\\",\\\"scope\\\":\\\"8710341199199207868\\\",\\\"id\\\":\\\"12283693373603613843\\\",\\\"type\\\":\\\"observable\\\"},val)) : undefined; return this.valueFromJulia[\\\"changes\\\"]=false}),self),this[\\\"index\\\"].subscribe((function (val){!(this.valueFromJulia[\\\"index\\\"]) ? (WebIO.setval({\\\"name\\\":\\\"index\\\",\\\"scope\\\":\\\"8710341199199207868\\\",\\\"id\\\":\\\"3920040358059388535\\\",\\\"type\\\":\\\"observable\\\"},val)) : undefined; return this.valueFromJulia[\\\"index\\\"]=false}),self)]\\n        \\n    }\\n    self.model = new AppViewModel();\\n    self.valueFromJulia = {};\\n    for (var key in json_data) {\\n        self.valueFromJulia[key] = false;\\n    }\\n    ko.applyBindings(self.model, self.dom);\\n}\\n);\\n    (WebIO.importBlock({\\\"data\\\":[{\\\"name\\\":\\\"knockout\\\",\\\"type\\\":\\\"js\\\",\\\"url\\\":\\\"/assetserver/f83dc9757fede95ccda667ff812a2fcf4fcea406-knockout.js\\\"},{\\\"name\\\":\\\"knockout_punches\\\",\\\"type\\\":\\\"js\\\",\\\"url\\\":\\\"/assetserver/489381353c6689ef066cceedc5f4603376aece34-knockout_punches.js\\\"}],\\\"type\\\":\\\"async_block\\\"})).then((imports) => handler.apply(this, imports));\\n}\\n\")])], Dict{Symbol,Any}(:className => \"field interact-widget\")), Observable{Any} with 0 listeners. Value:\n",
       "Node{WebIO.DOM}(WebIO.DOM(:html, :div), Any[Cairo.CairoSurfaceIOStream{UInt32}(Ptr{Nothing} @0x000000000a451840, 1000.0, 600.0, IOBuffer(data=UInt8[...], readable=true, writable=true, seekable=true, append=false, size=0, maxsize=Inf, ptr=1, mark=-1))], Dict{Symbol,Any}(:className => \"interact-flex-row interact-widget\"))], Dict{Symbol,Any}())"
      ]
     },
     "execution_count": 34,
     "metadata": {
      "application/vnd.webio.node+json": {
       "kernelId": "d0c15c61-c07a-4439-87be-2be58bf958eb"
      }
     },
     "output_type": "execute_result"
    }
   ],
   "source": [
    "# t = 10\n",
    "@manipulate for t=1:length(ad_scenes_noise)\n",
    "    AutomotiveVisualization.render([ad_mdp.roadway, crosswalk, ad_scenes_noise[t]])\n",
    "end"
   ]
  },
  {
   "cell_type": "markdown",
   "metadata": {},
   "source": [
    "#### Importance distribution"
   ]
  },
  {
   "cell_type": "code",
   "execution_count": 240,
   "metadata": {},
   "outputs": [],
   "source": [
    "struct INormal_Uniform{T<:Real} <: ContinuousUnivariateDistribution\n",
    "    mu::Float64\n",
    "    sigma::Float64\n",
    "    sup::Float64\n",
    "    INormal_Uniform(mu::T, sigma::T, sup::T) where {T<:Real} = new{T}(Float64(mu), Float64(sigma), Float64(sup))\n",
    "end"
   ]
  },
  {
   "cell_type": "code",
   "execution_count": 295,
   "metadata": {},
   "outputs": [],
   "source": [
    "INormal_Uniform(mu, sigma) = INormal_Uniform(Float64(mu), Float64(sigma), 10.0)\n",
    "Distributions.pdf(d::INormal_Uniform, x::Float64) = Distributions.pdf(Normal(d.mu, d.sigma), x)\n",
    "Base.rand(d::INormal_Uniform) = rand(Uniform(d.mu-d.sup/2, d.mu+d.sup/2))\n",
    "Base.rand(rng::AbstractRNG, d::INormal_Uniform) = rand(rng, Uniform(d.mu-d.sup/2, d.mu+d.sup/2))\n",
    "Distributions.sampler(d::INormal_Uniform) = Distributions.sampler(Uniform(d.mu-d.sup/2, d.mu+d.sup/2))\n",
    "Distributions.logpdf(d::INormal_Uniform, x::Real) = Distributions.logpdf(Normal(d.mu, d.sigma), x)\n",
    "Distributions.cdf(d::INormal_Uniform, x::Real) = Distributions.cdf(Normal(d.mu, d.sigma), x)\n",
    "Distributions.quantile(d::INormal_Uniform, q::Real) = Distributions.quantile(Normal(d.mu, d.sigma), q)\n",
    "Base.minimum(d::INormal_Uniform) = d.mu-d.sup/2\n",
    "Base.maximum(d::INormal_Uniform) = d.mu+d.sup/2\n",
    "Distributions.insupport(d::INormal_Uniform, x::Real) = Distributions.insupport(Normal(d.mu, d.sigma), x)\n",
    "Distributions.mean(d::INormal_Uniform) = Distributions.mean(Normal(d.mu, d.sigma))\n",
    "Distributions.var(d::INormal_Uniform) = Distributions.var(Normal(d.mu, d.sigma))\n",
    "\n",
    "function Distributions.fit(::Type{<:INormal_Uniform}, x::AbstractArray{T}, w::AbstractArray{Float64}; mu::Float64=NaN, sigma::Float64=NaN, sup::Float64=NaN) where T<:Real\n",
    "    norm_fit = Distributions.fit(Normal{T}, x, w)\n",
    "    INormal_Uniform(norm_fit.μ, norm_fit.σ)\n",
    "end"
   ]
  },
  {
   "cell_type": "markdown",
   "metadata": {},
   "source": [
    "#### Stress Testing Setup"
   ]
  },
  {
   "cell_type": "code",
   "execution_count": 296,
   "metadata": {},
   "outputs": [],
   "source": [
    "@with_kw struct AutoRiskParams\n",
    "    endtime::Real = 30 # Simulate end time\n",
    "end;"
   ]
  },
  {
   "cell_type": "code",
   "execution_count": 372,
   "metadata": {},
   "outputs": [],
   "source": [
    "@with_kw mutable struct AutoRiskSim <: GrayBox.Simulation\n",
    "    t::Real = 0 # Current time\n",
    "    params::AutoRiskParams = AutoRiskParams() # Parameters\n",
    "\n",
    "    # System under test, ego vehicle\n",
    "    sut = BlinkerVehicleAgent(get_ped_vehicle(id=1, s=5.0, v=15.0),\n",
    "                              TIDM(ped_TIDM_template, noisy_observations=true))\n",
    "\n",
    "    # Noisy adversary, pedestrian\n",
    "    adversary = NoisyPedestrianAgent(get_pedestrian_noisy(id=2, s=7.0, v=2.0, noise=init_noise),\n",
    "                                     AdversarialPedestrian())\n",
    "\n",
    "    # Adversarial Markov decision process\n",
    "    problem::MDP = AdversarialDrivingMDP(sut, [adversary], ped_roadway, 0.1)\n",
    "    state::Scene = rand(initialstate(problem))\n",
    "    prev_distance::Real = -Inf # Used when agent goes out of frame\n",
    "\n",
    "    # Noise distributions and disturbances\n",
    "    xposition_noise::Distribution = INormal_Uniform(0, 1) # Gaussian noise (notice larger σ)\n",
    "    yposition_noise::Distribution = INormal_Uniform(0, 1) # Gaussian noise\n",
    "    velocity_noise::Distribution = Normal(0, 0.1) # Gaussian noise\n",
    "    \n",
    "    # GPS range noise\n",
    "    range_sigma = 3.0\n",
    "    range_noise::Array{Distribution} = [Normal(0, range_sigma), Normal(0, range_sigma), Normal(0, range_sigma), Normal(0, range_sigma), Normal(0, range_sigma)] # Array of Gaussian\n",
    "    \n",
    "    disturbances = Disturbance[PedestrianControl()] # Initial 0-noise disturbance\n",
    "end;"
   ]
  },
  {
   "cell_type": "code",
   "execution_count": 373,
   "metadata": {},
   "outputs": [],
   "source": [
    "function GrayBox.environment(sim::AutoRiskSim)\n",
    "#     return GrayBox.Environment(:xpos => sim.xposition_noise,\n",
    "#                                :ypos => sim.yposition_noise,\n",
    "#                                :vel => sim.velocity_noise)\n",
    "\n",
    "    \n",
    "    obs_history = sim.sut.model.observation_history\n",
    "    \n",
    "    if length(obs_history[1])>0\n",
    "        base_meas = last(obs_history[1])\n",
    "        \n",
    "        xpos_samp = Float64[]\n",
    "        ypos_samp = Float64[]\n",
    "        xwt_samp = Float64[]\n",
    "        ywt_samp = Float64[]\n",
    "        \n",
    "        xprior = Normal(0.0, 5.0)\n",
    "        yprior = Normal(0.0, 5.0)\n",
    "        \n",
    "        for i=1:100\n",
    "            temp_meas = Union{Missing, AdversarialDriving.GPSRangeMeasurement}[]\n",
    "            for j=1:length(sim.range_noise)\n",
    "                cur_meas = base_meas[j]\n",
    "                if typeof(cur_meas)==Missing\n",
    "                    continue\n",
    "                else\n",
    "                    push!(temp_meas, AdversarialDriving.GPSRangeMeasurement(sat=cur_meas.sat, \n",
    "                                                                            range=cur_meas.range, \n",
    "                                                                            noise=rand(sim.range_noise[j])))\n",
    "                end\n",
    "            end\n",
    "            gps_fix = GPS_fix(temp_meas)\n",
    "            true_pos = posg(sim.state[id(sim.adversary)])\n",
    "            prev_noise = noise(sim.state[id(sim.adversary)])\n",
    "            \n",
    "\n",
    "            push!(xpos_samp, gps_fix[1]-true_pos.x)\n",
    "            push!(ypos_samp, gps_fix[2]-true_pos.y)\n",
    "            \n",
    "            push!(xwt_samp, pdf(xprior, prev_noise.pos.x - (gps_fix[1]-true_pos.x)))\n",
    "            push!(ywt_samp, pdf(yprior, prev_noise.pos.y - (gps_fix[2]-true_pos.y)))\n",
    "            \n",
    "        end\n",
    "#         @show xpos_samp, ypos_samp\n",
    "        sim.xposition_noise = Distributions.fit(INormal_Uniform{typeof(xpos_samp[1])}, xpos_samp, xwt_samp/sum(xwt_samp))\n",
    "        sim.yposition_noise = Distributions.fit(INormal_Uniform{typeof(ypos_samp[1])}, ypos_samp, ywt_samp/sum(ywt_samp))\n",
    "#         sim.xposition_noise = Distributions.fit(INormal_Uniform{typeof(xpos_samp[1])}, xpos_samp, ones(length(xpos_samp)))\n",
    "#         sim.yposition_noise = Distributions.fit(INormal_Uniform{typeof(ypos_samp[1])}, ypos_samp, ones(length(ypos_samp)))\n",
    "#         @show xposition_noise, yposition_noise\n",
    "    end\n",
    "    \n",
    "    return GrayBox.Environment(\n",
    "                                 :vel => sim.velocity_noise,\n",
    "#                                :range_1 => sim.range_noise[1],\n",
    "#                                :range_2 => sim.range_noise[2],\n",
    "#                                :range_3 => sim.range_noise[3],\n",
    "#                                :range_4 => sim.range_noise[4],\n",
    "#                                :range_5 => sim.range_noise[5]\n",
    "                                 :xpos => sim.xposition_noise,\n",
    "                                 :ypos => sim.yposition_noise\n",
    "                                )\n",
    "end"
   ]
  },
  {
   "cell_type": "code",
   "execution_count": 374,
   "metadata": {},
   "outputs": [],
   "source": [
    "function GrayBox.transition!(sim::AutoRiskSim, sample::GrayBox.EnvironmentSample)\n",
    "    sim.t += sim.problem.dt # Keep track of time\n",
    "\n",
    "#     println(sample)\n",
    "    \n",
    "    # replace current noise with new sampled noise\n",
    "#     range_noise = [sample[:range_1].value, sample[:range_2].value, sample[:range_3].value, sample[:range_4].value, sample[:range_5].value]\n",
    "#     range_noise = [sample[:range_1].value, 0.0, sample[:range_3].value, 0.0, 0.0]\n",
    "#     noise = Noise(pos = (0.0, 0.0), vel = sample[:vel].value, gps_range = [0.0, 0.0, 0.0, 0.0, 0.0])\n",
    "#     noise = Noise(pos = (0.0, 0.0), vel = 0.0, gps_range = range_noise)\n",
    "#     noise = Noise(pos = (sample[:xpos].value, sample[:ypos].value), vel = sample[:vel].value, gps_range = [0.0, 0.0, 0.0, 0.0, 0.0])\n",
    "    noise = Noise(pos = (sample[:xpos].value, sample[:ypos].value), vel = 0.0, gps_range = [0.0, 0.0, 0.0, 0.0, 0.0])\n",
    "    sim.disturbances[1] = PedestrianControl(noise=noise)\n",
    "\n",
    "    # step agents: given MDP, current state, and current action (i.e. disturbances)\n",
    "    (sim.state, r) = @gen(:sp, :r)(sim.problem, sim.state, sim.disturbances)\n",
    "\n",
    "    # return log-likelihood of actions, summation handled by `logpdf()`\n",
    "    return logpdf(sample)::Real\n",
    "end"
   ]
  },
  {
   "cell_type": "code",
   "execution_count": 375,
   "metadata": {},
   "outputs": [],
   "source": [
    "function BlackBox.initialize!(sim::AutoRiskSim)\n",
    "    sim.t = 0\n",
    "    sim.problem = AdversarialDrivingMDP(sim.sut, [sim.adversary], ped_roadway, 0.1)\n",
    "    sim.state = rand(initialstate(sim.problem))\n",
    "    sim.disturbances = Disturbance[PedestrianControl()] # noise-less\n",
    "    sim.prev_distance = -Inf\n",
    "end"
   ]
  },
  {
   "cell_type": "code",
   "execution_count": 376,
   "metadata": {},
   "outputs": [],
   "source": [
    "simx = AutoRiskSim()\n",
    "BlackBox.initialize!(simx);"
   ]
  },
  {
   "cell_type": "code",
   "execution_count": 377,
   "metadata": {},
   "outputs": [
    {
     "data": {
      "text/plain": [
       "out_of_frame (generic function with 1 method)"
      ]
     },
     "execution_count": 377,
     "metadata": {},
     "output_type": "execute_result"
    }
   ],
   "source": [
    "out_of_frame(sim) = length(sim.state.entities) < 2 # either agent went out of frame"
   ]
  },
  {
   "cell_type": "code",
   "execution_count": 378,
   "metadata": {},
   "outputs": [],
   "source": [
    "function BlackBox.distance(sim::AutoRiskSim)\n",
    "    if out_of_frame(sim)\n",
    "        return sim.prev_distance\n",
    "    else\n",
    "        pedestrian, vehicle = sim.state.entities\n",
    "        pos1 = posg(pedestrian)\n",
    "        pos2 = posg(vehicle)\n",
    "        return hypot(pos1.x - pos2.x, pos1.y - pos2.y)\n",
    "    end\n",
    "end"
   ]
  },
  {
   "cell_type": "code",
   "execution_count": 379,
   "metadata": {},
   "outputs": [
    {
     "data": {
      "text/plain": [
       "18.75518661597372"
      ]
     },
     "execution_count": 379,
     "metadata": {},
     "output_type": "execute_result"
    }
   ],
   "source": [
    "begin\n",
    "    envsample = rand(GrayBox.environment(simx))\n",
    "    GrayBox.transition!(simx, envsample)\n",
    "    BlackBox.distance(simx)\n",
    "end"
   ]
  },
  {
   "cell_type": "code",
   "execution_count": 380,
   "metadata": {},
   "outputs": [],
   "source": [
    "function BlackBox.isevent(sim::AutoRiskSim)\n",
    "    if out_of_frame(sim)\n",
    "        return false\n",
    "    else\n",
    "        pedestrian, vehicle = sim.state.entities\n",
    "        return collision_checker(pedestrian, vehicle)\n",
    "    end\n",
    "end"
   ]
  },
  {
   "cell_type": "code",
   "execution_count": 381,
   "metadata": {},
   "outputs": [],
   "source": [
    "function BlackBox.isterminal(sim::AutoRiskSim)\n",
    "    return isterminal(sim.problem, sim.state) ||\n",
    "           out_of_frame(sim) ||\n",
    "           BlackBox.isevent(sim) ||\n",
    "           sim.t ≥ sim.params.endtime\n",
    "end"
   ]
  },
  {
   "cell_type": "code",
   "execution_count": 382,
   "metadata": {},
   "outputs": [],
   "source": [
    "function BlackBox.evaluate!(sim::AutoRiskSim, sample::GrayBox.EnvironmentSample)\n",
    "    logprob::Real = GrayBox.transition!(sim, sample) # Step simulation\n",
    "    d::Real       = BlackBox.distance(sim)           # Calculate miss distance\n",
    "    event::Bool   = BlackBox.isevent(sim)            # Check event indication\n",
    "    sim.prev_distance = d                            # Store previous distance\n",
    "    return (logprob::Real, d::Real, event::Bool)\n",
    "end"
   ]
  },
  {
   "cell_type": "code",
   "execution_count": 383,
   "metadata": {},
   "outputs": [
    {
     "data": {
      "text/plain": [
       "(-2.8612278516332323, 17.316304455627932, false)"
      ]
     },
     "execution_count": 383,
     "metadata": {},
     "output_type": "execute_result"
    }
   ],
   "source": [
    "begin\n",
    "    envsample2 = rand(GrayBox.environment(simx))\n",
    "    BlackBox.evaluate!(simx, envsample2) # (log-likelihood, distance, isevent)\n",
    "end"
   ]
  },
  {
   "cell_type": "markdown",
   "metadata": {},
   "source": [
    "##### Progressive widening using CEM "
   ]
  },
  {
   "cell_type": "code",
   "execution_count": 384,
   "metadata": {},
   "outputs": [
    {
     "data": {
      "text/plain": [
       "cem_rollout (generic function with 1 method)"
      ]
     },
     "execution_count": 384,
     "metadata": {},
     "output_type": "execute_result"
    }
   ],
   "source": [
    "function cem_rollout(mdp::ASTMDP, s::ASTState, d::Int64)\n",
    "    cem_solver = CEMSolver(n_iterations=10,\n",
    "                           num_samples=20,\n",
    "                           episode_length=d,\n",
    "                           show_progress=false)\n",
    "    cem_mdp = mdp # deepcopy(mdp)\n",
    "    prev_top_k = cem_mdp.params.top_k\n",
    "    cem_mdp.params.top_k = 0\n",
    "    cem_planner = solve(cem_solver, cem_mdp)\n",
    "    q_value = 0\n",
    "    is_distrs = convert(Vector{GrayBox.Environment}, search!(cem_planner, s), d)\n",
    "    USE_MEAN = true # use the mean of the importance sampling distr, instead of rand.\n",
    "\n",
    "    AST.go_to_state(mdp, s) # Records trace through this call\n",
    "\n",
    "    for i in 1:length(is_distrs)\n",
    "        is_distr = is_distrs[1]\n",
    "        if USE_MEAN\n",
    "            sample = mean(is_distr)\n",
    "        else\n",
    "            sample = rand(is_distr)\n",
    "        end\n",
    "        # @info sample\n",
    "        # @info is_distr\n",
    "        a::ASTAction = ASTSampleAction(sample)\n",
    "        # a::ASTAction = ASTSampleAction(rand(GrayBox.environment(mdp.sim)))\n",
    "        # AST.random_action(mdp)\n",
    "        (s, r) = @gen(:sp, :r)(cem_mdp, s, a, Random.GLOBAL_RNG)\n",
    "        q_value = r + discount(cem_mdp)*q_value\n",
    "        # AST.go_to_state(mdp, s) # Records trace through this call\n",
    "    end\n",
    "    # AST.go_to_state(mdp, s) # Records trace through this call\n",
    "    cem_mdp.params.top_k = prev_top_k\n",
    "\n",
    "    return q_value\n",
    "end"
   ]
  },
  {
   "cell_type": "code",
   "execution_count": 385,
   "metadata": {},
   "outputs": [],
   "source": [
    "function Base.convert(::Type{Vector{GrayBox.Environment}}, distr::Dict{Symbol, Vector{Sampleable}}, max_steps::Integer=1)\n",
    "    env_vector = GrayBox.Environment[]\n",
    "    for t in 1:max_steps\n",
    "        env = GrayBox.Environment()\n",
    "        for k in keys(distr)\n",
    "            env[k] = distr[k][t]\n",
    "        end\n",
    "        push!(env_vector, env)\n",
    "    end\n",
    "    return env_vector::Vector{GrayBox.Environment}\n",
    "end"
   ]
  },
  {
   "cell_type": "code",
   "execution_count": 386,
   "metadata": {},
   "outputs": [],
   "source": [
    "function Statistics.mean(d::Dict)\n",
    "    meand = Dict()\n",
    "    for k in keys(d)\n",
    "        m = mean(d[k])\n",
    "        meand[k] = GrayBox.Sample(m, logpdf(d[k], m))\n",
    "    end\n",
    "    return meand\n",
    "end"
   ]
  },
  {
   "cell_type": "code",
   "execution_count": 387,
   "metadata": {},
   "outputs": [],
   "source": [
    "function AST.search!(planner::CEMPlanner, s::ASTState)\n",
    "    mdp::ASTMDP = planner.mdp\n",
    "    return action(planner, s)\n",
    "end"
   ]
  },
  {
   "cell_type": "markdown",
   "metadata": {},
   "source": [
    "###### AST setup"
   ]
  },
  {
   "cell_type": "code",
   "execution_count": 388,
   "metadata": {},
   "outputs": [],
   "source": [
    "function setup_ast(seed=0)\n",
    "    # Create gray-box simulation object\n",
    "    sim::GrayBox.Simulation = AutoRiskSim()\n",
    "\n",
    "    # AST MDP formulation object\n",
    "    mdp::ASTMDP = ASTMDP{ASTSampleAction}(sim)\n",
    "    mdp.params.debug = true # record metrics\n",
    "    mdp.params.top_k = 10   # record top k best trajectories\n",
    "    mdp.params.seed = seed  # set RNG seed for determinism\n",
    "\n",
    "    # Hyperparameters for MCTS-PW as the solver\n",
    "    solver = MCTSPWSolver(n_iterations=500,        # number of algorithm iterations\n",
    "                          exploration_constant=1.0, # UCT exploration\n",
    "                          k_action=1.0,             # action widening\n",
    "                          alpha_action=0.5,         # action widening\n",
    "                          depth=sim.params.endtime, # tree depth\n",
    "#                           estimate_value=cem_rollout\n",
    "                         )\n",
    "#     solver = CEMSolver(n_iterations=100, \n",
    "#                        episode_length=sim.params.endtime)\n",
    "    \n",
    "#     return actions(mdp, initialstate(mdp))\n",
    "    \n",
    "    # Get online planner (no work done, yet)\n",
    "    planner = solve(solver, mdp)\n",
    "\n",
    "    return planner\n",
    "end;"
   ]
  },
  {
   "cell_type": "code",
   "execution_count": 389,
   "metadata": {},
   "outputs": [],
   "source": [
    "planner = setup_ast();"
   ]
  },
  {
   "cell_type": "code",
   "execution_count": 390,
   "metadata": {},
   "outputs": [
    {
     "name": "stderr",
     "output_type": "stream",
     "text": [
      "\u001b[32mProgress: 100%|█████████████████████████████████████████| Time: 0:00:31\u001b[39m\n"
     ]
    },
    {
     "data": {
      "text/plain": [
       "13-element Array{ASTAction,1}:\n",
       " ASTSampleAction\n",
       "  sample: Dict{Symbol,POMDPStressTesting.AST.GrayBox.Sample}\n",
       "\n",
       " ASTSampleAction\n",
       "  sample: Dict{Symbol,POMDPStressTesting.AST.GrayBox.Sample}\n",
       "\n",
       " ASTSampleAction\n",
       "  sample: Dict{Symbol,POMDPStressTesting.AST.GrayBox.Sample}\n",
       "\n",
       " ASTSampleAction\n",
       "  sample: Dict{Symbol,POMDPStressTesting.AST.GrayBox.Sample}\n",
       "\n",
       " ASTSampleAction\n",
       "  sample: Dict{Symbol,POMDPStressTesting.AST.GrayBox.Sample}\n",
       "\n",
       " ASTSampleAction\n",
       "  sample: Dict{Symbol,POMDPStressTesting.AST.GrayBox.Sample}\n",
       "\n",
       " ASTSampleAction\n",
       "  sample: Dict{Symbol,POMDPStressTesting.AST.GrayBox.Sample}\n",
       "\n",
       " ASTSampleAction\n",
       "  sample: Dict{Symbol,POMDPStressTesting.AST.GrayBox.Sample}\n",
       "\n",
       " ASTSampleAction\n",
       "  sample: Dict{Symbol,POMDPStressTesting.AST.GrayBox.Sample}\n",
       "\n",
       " ASTSampleAction\n",
       "  sample: Dict{Symbol,POMDPStressTesting.AST.GrayBox.Sample}\n",
       "\n",
       " ASTSampleAction\n",
       "  sample: Dict{Symbol,POMDPStressTesting.AST.GrayBox.Sample}\n",
       "\n",
       " ASTSampleAction\n",
       "  sample: Dict{Symbol,POMDPStressTesting.AST.GrayBox.Sample}\n",
       "\n",
       " ASTSampleAction\n",
       "  sample: Dict{Symbol,POMDPStressTesting.AST.GrayBox.Sample}\n"
      ]
     },
     "execution_count": 390,
     "metadata": {},
     "output_type": "execute_result"
    }
   ],
   "source": [
    "action_trace = search!(planner)"
   ]
  },
  {
   "cell_type": "code",
   "execution_count": 391,
   "metadata": {},
   "outputs": [
    {
     "data": {
      "image/png": "[encoded data removed]",
      "text/plain": [
       "PyPlot.Figure(PyObject <Figure size 700x700 with 3 Axes>)"
      ]
     },
     "metadata": {},
     "output_type": "display_data"
    },
    {
     "data": {
      "image/png": "[encoded data removed]",
      "text/plain": [
       "PyPlot.Figure(PyObject <Figure size 700x700 with 3 Axes>)"
      ]
     },
     "execution_count": 391,
     "metadata": {},
     "output_type": "execute_result"
    }
   ],
   "source": [
    "episodic_figures(planner.mdp, gui=false); POMDPStressTesting.gcf()"
   ]
  },
  {
   "cell_type": "code",
   "execution_count": 392,
   "metadata": {},
   "outputs": [
    {
     "data": {
      "image/png": "[encoded data removed]",
      "text/plain": [
       "PyPlot.Figure(PyObject <Figure size 600x500 with 2 Axes>)"
      ]
     },
     "metadata": {},
     "output_type": "display_data"
    },
    {
     "data": {
      "image/png": "[encoded data removed]",
      "text/plain": [
       "PyPlot.Figure(PyObject <Figure size 600x500 with 2 Axes>)"
      ]
     },
     "execution_count": 392,
     "metadata": {},
     "output_type": "execute_result"
    }
   ],
   "source": [
    "distribution_figures(planner.mdp, gui=false); POMDPStressTesting.gcf()"
   ]
  },
  {
   "cell_type": "code",
   "execution_count": 393,
   "metadata": {
    "scrolled": true
   },
   "outputs": [
    {
     "name": "stdout",
     "output_type": "stream",
     "text": [
      "20.22374841615668\n",
      "18.75518661597372\n",
      "17.375626607406126\n",
      "16.025730092573\n",
      "14.646173561719108\n",
      "13.236964342325615\n",
      "11.798118494065053\n",
      "10.329667226004903\n",
      "8.831670283700578\n",
      "7.363438395206404\n",
      "5.9841457201508605\n",
      "4.693679260452281\n",
      "3.4919335617963707\n",
      "2.3788705303147393\n"
     ]
    },
    {
     "data": {
      "text/plain": [
       "14-element Array{Any,1}:\n",
       " 20.22374841615668\n",
       " 18.75518661597372\n",
       " 17.375626607406126\n",
       " 16.025730092573\n",
       " 14.646173561719108\n",
       " 13.236964342325615\n",
       " 11.798118494065053\n",
       " 10.329667226004903\n",
       "  8.831670283700578\n",
       "  7.363438395206404\n",
       "  5.9841457201508605\n",
       "  4.693679260452281\n",
       "  3.4919335617963707\n",
       "  2.3788705303147393"
      ]
     },
     "execution_count": 393,
     "metadata": {},
     "output_type": "execute_result"
    }
   ],
   "source": [
    "playback_trace = playback(planner, action_trace, BlackBox.distance, return_trace=true)"
   ]
  },
  {
   "cell_type": "code",
   "execution_count": 394,
   "metadata": {},
   "outputs": [
    {
     "name": "stdout",
     "output_type": "stream",
     "text": [
      "First failure: 259 of 33693\n",
      "Number of failures: 701\n",
      "Failure rate: 2.08055%\n"
     ]
    },
    {
     "data": {
      "text/plain": [
       "2.0805508562609445"
      ]
     },
     "execution_count": 394,
     "metadata": {},
     "output_type": "execute_result"
    }
   ],
   "source": [
    "failure_rate = print_metrics(planner)"
   ]
  },
  {
   "cell_type": "code",
   "execution_count": 395,
   "metadata": {},
   "outputs": [
    {
     "data": {
      "text/latex": [
       "$$p = 0.1175$$\n"
      ],
      "text/markdown": [
       "$$\n",
       "p = 0.1175\n",
       "$$\n"
      ],
      "text/plain": [
       "\u001b[35m  p = 0.1175\u001b[39m"
      ]
     },
     "execution_count": 395,
     "metadata": {},
     "output_type": "execute_result"
    }
   ],
   "source": [
    "begin\n",
    "    # TODO: get this index from the `trace` itself\n",
    "    # findmax(planner.mdp.metrics.reward[planner.mdp.metrics.event])\n",
    "    # findmax(ast_mdp.metrics.reward[ast_mdp.metrics.event])\n",
    "\n",
    "    failure_likelihood =\n",
    "        round(exp(maximum(planner.mdp.metrics.logprob[planner.mdp.metrics.event])), digits=4)\n",
    "\n",
    "    Markdown.parse(string(\"\\$\\$p = \", failure_likelihood, \"\\$\\$\"))\n",
    "end"
   ]
  },
  {
   "cell_type": "code",
   "execution_count": 396,
   "metadata": {},
   "outputs": [
    {
     "name": "stdout",
     "output_type": "stream",
     "text": [
      "Scene{Entity{S,VehicleDef,Int64} where S}(2 entities)\n",
      "Scene{Entity{S,VehicleDef,Int64} where S}(2 entities)\n",
      "Scene{Entity{S,VehicleDef,Int64} where S}(2 entities)\n",
      "Scene{Entity{S,VehicleDef,Int64} where S}(2 entities)\n",
      "Scene{Entity{S,VehicleDef,Int64} where S}(2 entities)\n",
      "Scene{Entity{S,VehicleDef,Int64} where S}(2 entities)\n",
      "Scene{Entity{S,VehicleDef,Int64} where S}(2 entities)\n",
      "Scene{Entity{S,VehicleDef,Int64} where S}(2 entities)\n",
      "Scene{Entity{S,VehicleDef,Int64} where S}(2 entities)\n",
      "Scene{Entity{S,VehicleDef,Int64} where S}(2 entities)\n",
      "Scene{Entity{S,VehicleDef,Int64} where S}(2 entities)\n",
      "Scene{Entity{S,VehicleDef,Int64} where S}(2 entities)\n",
      "Scene{Entity{S,VehicleDef,Int64} where S}(2 entities)\n",
      "Scene{Entity{S,VehicleDef,Int64} where S}(2 entities)\n"
     ]
    },
    {
     "data": {
      "text/plain": [
       "14-element Array{Any,1}:\n",
       " Scene{Entity{S,VehicleDef,Int64} where S}(2 entities)\n",
       " Scene{Entity{S,VehicleDef,Int64} where S}(2 entities)\n",
       " Scene{Entity{S,VehicleDef,Int64} where S}(2 entities)\n",
       " Scene{Entity{S,VehicleDef,Int64} where S}(2 entities)\n",
       " Scene{Entity{S,VehicleDef,Int64} where S}(2 entities)\n",
       " Scene{Entity{S,VehicleDef,Int64} where S}(2 entities)\n",
       " Scene{Entity{S,VehicleDef,Int64} where S}(2 entities)\n",
       " Scene{Entity{S,VehicleDef,Int64} where S}(2 entities)\n",
       " Scene{Entity{S,VehicleDef,Int64} where S}(2 entities)\n",
       " Scene{Entity{S,VehicleDef,Int64} where S}(2 entities)\n",
       " Scene{Entity{S,VehicleDef,Int64} where S}(2 entities)\n",
       " Scene{Entity{S,VehicleDef,Int64} where S}(2 entities)\n",
       " Scene{Entity{S,VehicleDef,Int64} where S}(2 entities)\n",
       " Scene{Entity{S,VehicleDef,Int64} where S}(2 entities)"
      ]
     },
     "execution_count": 396,
     "metadata": {},
     "output_type": "execute_result"
    }
   ],
   "source": [
    "playback_trace = playback(planner, action_trace, sim->sim.state, return_trace=true)"
   ]
  },
  {
   "cell_type": "code",
   "execution_count": 397,
   "metadata": {
    "scrolled": false
   },
   "outputs": [
    {
     "data": {
      "application/vnd.webio.node+json": {
       "children": [
        {
         "children": [
          {
           "children": [
            {
             "children": [
              {
               "children": [
                {
                 "children": [
                  "t"
                 ],
                 "instanceArgs": {
                  "namespace": "html",
                  "tag": "label"
                 },
                 "nodeType": "DOM",
                 "props": {
                  "className": "interact ",
                  "style": {
                   "padding": "5px 10px 0px 10px"
                  }
                 },
                 "type": "node"
                }
               ],
               "instanceArgs": {
                "namespace": "html",
                "tag": "div"
               },
               "nodeType": "DOM",
               "props": {
                "className": "interact-flex-row-left"
               },
               "type": "node"
              },
              {
               "children": [
                {
                 "children": [],
                 "instanceArgs": {
                  "namespace": "html",
                  "tag": "input"
                 },
                 "nodeType": "DOM",
                 "props": {
                  "attributes": {
                   "data-bind": "numericValue: index, valueUpdate: 'input', event: {change: function (){this.changes(this.changes()+1)}}",
                   "orient": "horizontal",
                   "type": "range"
                  },
                  "className": "slider slider is-fullwidth",
                  "max": 100,
                  "min": 1,
                  "step": 1,
                  "style": {}
                 },
                 "type": "node"
                }
               ],
               "instanceArgs": {
                "namespace": "html",
                "tag": "div"
               },
               "nodeType": "DOM",
               "props": {
                "className": "interact-flex-row-center"
               },
               "type": "node"
              },
              {
               "children": [
                {
                 "children": [],
                 "instanceArgs": {
                  "namespace": "html",
                  "tag": "p"
                 },
                 "nodeType": "DOM",
                 "props": {
                  "attributes": {
                   "data-bind": "text: formatted_val"
                  }
                 },
                 "type": "node"
                }
               ],
               "instanceArgs": {
                "namespace": "html",
                "tag": "div"
               },
               "nodeType": "DOM",
               "props": {
                "className": "interact-flex-row-right"
               },
               "type": "node"
              }
             ],
             "instanceArgs": {
              "namespace": "html",
              "tag": "div"
             },
             "nodeType": "DOM",
             "props": {
              "className": "interact-flex-row interact-widget"
             },
             "type": "node"
            }
           ],
           "instanceArgs": {
            "handlers": {
             "changes": [
              "(function (val){return (val!=this.model[\"changes\"]()) ? (this.valueFromJulia[\"changes\"]=true, this.model[\"changes\"](val)) : undefined})"
             ],
             "index": [
              "(function (val){return (val!=this.model[\"index\"]()) ? (this.valueFromJulia[\"index\"]=true, this.model[\"index\"](val)) : undefined})"
             ]
            },
            "id": "12715699162209448920",
            "imports": {
             "data": [
              {
               "name": "knockout",
               "type": "js",
               "url": "/assetserver/f83dc9757fede95ccda667ff812a2fcf4fcea406-knockout.js"
              },
              {
               "name": "knockout_punches",
               "type": "js",
               "url": "/assetserver/489381353c6689ef066cceedc5f4603376aece34-knockout_punches.js"
              },
              {
               "name": null,
               "type": "js",
               "url": "/assetserver/2b9a0101b1182967c1bc8e647e40e503b7f91214-all.js"
              },
              {
               "name": null,
               "type": "css",
               "url": "/assetserver/16c36b047c84a455687c728543beff2b71551cae-style.css"
              },
              {
               "name": null,
               "type": "css",
               "url": "/assetserver/d905e3af6552e0c7d3e81225bc2f25b3475dc59b-bulma_confined.min.css"
              }
             ],
             "type": "async_block"
            },
            "mount_callbacks": [
             "function () {\n    var handler = (function (ko, koPunches) {\n    ko.punches.enableAll();\n    ko.bindingHandlers.numericValue = {\n        init: function(element, valueAccessor, allBindings, data, context) {\n            var stringified = ko.observable(ko.unwrap(valueAccessor()));\n            stringified.subscribe(function(value) {\n                var val = parseFloat(value);\n                if (!isNaN(val)) {\n                    valueAccessor()(val);\n                }\n            });\n            valueAccessor().subscribe(function(value) {\n                var str = JSON.stringify(value);\n                if ((str == \"0\") && ([\"-0\", \"-0.\"].indexOf(stringified()) >= 0))\n                     return;\n                 if ([\"null\", \"\"].indexOf(str) >= 0)\n                     return;\n                stringified(str);\n            });\n            ko.applyBindingsToNode(\n                element,\n                {\n                    value: stringified,\n                    valueUpdate: allBindings.get('valueUpdate'),\n                },\n                context,\n            );\n        }\n    };\n    var json_data = {\"formatted_vals\":[\"1\",\"2\",\"3\",\"4\",\"5\",\"6\",\"7\",\"8\",\"9\",\"10\",\"11\",\"12\",\"13\",\"14\",\"15\",\"16\",\"17\",\"18\",\"19\",\"20\",\"21\",\"22\",\"23\",\"24\",\"25\",\"26\",\"27\",\"28\",\"29\",\"30\",\"31\",\"32\",\"33\",\"34\",\"35\",\"36\",\"37\",\"38\",\"39\",\"40\",\"41\",\"42\",\"43\",\"44\",\"45\",\"46\",\"47\",\"48\",\"49\",\"50\",\"51\",\"52\",\"53\",\"54\",\"55\",\"56\",\"57\",\"58\",\"59\",\"60\",\"61\",\"62\",\"63\",\"64\",\"65\",\"66\",\"67\",\"68\",\"69\",\"70\",\"71\",\"72\",\"73\",\"74\",\"75\",\"76\",\"77\",\"78\",\"79\",\"80\",\"81\",\"82\",\"83\",\"84\",\"85\",\"86\",\"87\",\"88\",\"89\",\"90\",\"91\",\"92\",\"93\",\"94\",\"95\",\"96\",\"97\",\"98\",\"99\",\"100\"],\"changes\":WebIO.getval({\"name\":\"changes\",\"scope\":\"12715699162209448920\",\"id\":\"919743626792200647\",\"type\":\"observable\"}),\"index\":WebIO.getval({\"name\":\"index\",\"scope\":\"12715699162209448920\",\"id\":\"14168953932727859191\",\"type\":\"observable\"})};\n    var self = this;\n    function AppViewModel() {\n        for (var key in json_data) {\n            var el = json_data[key];\n            this[key] = Array.isArray(el) ? ko.observableArray(el) : ko.observable(el);\n        }\n        \n        [this[\"formatted_val\"]=ko.computed(    function(){\n        return this.formatted_vals()[parseInt(this.index())-(1)];\n    }\n,this)]\n        [this[\"changes\"].subscribe((function (val){!(this.valueFromJulia[\"changes\"]) ? (WebIO.setval({\"name\":\"changes\",\"scope\":\"12715699162209448920\",\"id\":\"919743626792200647\",\"type\":\"observable\"},val)) : undefined; return this.valueFromJulia[\"changes\"]=false}),self),this[\"index\"].subscribe((function (val){!(this.valueFromJulia[\"index\"]) ? (WebIO.setval({\"name\":\"index\",\"scope\":\"12715699162209448920\",\"id\":\"14168953932727859191\",\"type\":\"observable\"},val)) : undefined; return this.valueFromJulia[\"index\"]=false}),self)]\n        \n    }\n    self.model = new AppViewModel();\n    self.valueFromJulia = {};\n    for (var key in json_data) {\n        self.valueFromJulia[key] = false;\n    }\n    ko.applyBindings(self.model, self.dom);\n}\n);\n    (WebIO.importBlock({\"data\":[{\"name\":\"knockout\",\"type\":\"js\",\"url\":\"/assetserver/f83dc9757fede95ccda667ff812a2fcf4fcea406-knockout.js\"},{\"name\":\"knockout_punches\",\"type\":\"js\",\"url\":\"/assetserver/489381353c6689ef066cceedc5f4603376aece34-knockout_punches.js\"}],\"type\":\"async_block\"})).then((imports) => handler.apply(this, imports));\n}\n"
            ],
            "observables": {
             "changes": {
              "id": "919743626792200647",
              "sync": false,
              "value": 0
             },
             "index": {
              "id": "14168953932727859191",
              "sync": true,
              "value": 1
             }
            },
            "systemjs_options": null
           },
           "nodeType": "Scope",
           "props": {},
           "type": "node"
          }
         ],
         "instanceArgs": {
          "namespace": "html",
          "tag": "div"
         },
         "nodeType": "DOM",
         "props": {
          "className": "field interact-widget"
         },
         "type": "node"
        },
        {
         "children": [
          {
           "children": [],
           "instanceArgs": {
            "id": "15826531439356502691",
            "name": "obs-node"
           },
           "nodeType": "ObservableNode",
           "props": {},
           "type": "node"
          }
         ],
         "instanceArgs": {
          "handlers": {},
          "id": "16319184011612977101",
          "imports": {
           "data": [],
           "type": "async_block"
          },
          "mount_callbacks": [],
          "observables": {
           "obs-node": {
            "id": "15826531439356502691",
            "sync": false,
            "value": {
             "children": [
              {
               "children": [],
               "instanceArgs": {
                "namespace": "html",
                "tag": "div"
               },
               "nodeType": "DOM",
               "props": {
                "setInnerHtml": "<img src='data:image/png;base64,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'></img>"
               },
               "type": "node"
              }
             ],
             "instanceArgs": {
              "namespace": "html",
              "tag": "div"
             },
             "nodeType": "DOM",
             "props": {
              "className": "interact-flex-row interact-widget"
             },
             "type": "node"
            }
           }
          },
          "systemjs_options": null
         },
         "nodeType": "Scope",
         "props": {},
         "type": "node"
        }
       ],
       "instanceArgs": {
        "namespace": "html",
        "tag": "div"
       },
       "nodeType": "DOM",
       "props": {},
       "type": "node"
      },
      "text/html": [
       "<div\n",
       "    class=\"webio-mountpoint\"\n",
       "    data-webio-mountpoint=\"189934380657687987\"\n",
       ">\n",
       "    <script>\n",
       "    if (window.require && require.defined && require.defined(\"nbextensions/webio-jupyter-notebook\")) {\n",
       "        console.log(\"Jupyter WebIO extension detected, not mounting.\");\n",
       "    } else if (window.WebIO) {\n",
       "        WebIO.mount(\n",
       "            document.querySelector('[data-webio-mountpoint=\"189934380657687987\"]'),\n",
       "            {\"props\":{},\"nodeType\":\"DOM\",\"type\":\"node\",\"instanceArgs\":{\"namespace\":\"html\",\"tag\":\"div\"},\"children\":[{\"props\":{\"className\":\"field interact-widget\"},\"nodeType\":\"DOM\",\"type\":\"node\",\"instanceArgs\":{\"namespace\":\"html\",\"tag\":\"div\"},\"children\":[{\"props\":{},\"nodeType\":\"Scope\",\"type\":\"node\",\"instanceArgs\":{\"imports\":{\"data\":[{\"name\":\"knockout\",\"type\":\"js\",\"url\":\"\\/assetserver\\/f83dc9757fede95ccda667ff812a2fcf4fcea406-knockout.js\"},{\"name\":\"knockout_punches\",\"type\":\"js\",\"url\":\"\\/assetserver\\/489381353c6689ef066cceedc5f4603376aece34-knockout_punches.js\"},{\"name\":null,\"type\":\"js\",\"url\":\"\\/assetserver\\/2b9a0101b1182967c1bc8e647e40e503b7f91214-all.js\"},{\"name\":null,\"type\":\"css\",\"url\":\"\\/assetserver\\/16c36b047c84a455687c728543beff2b71551cae-style.css\"},{\"name\":null,\"type\":\"css\",\"url\":\"\\/assetserver\\/d905e3af6552e0c7d3e81225bc2f25b3475dc59b-bulma_confined.min.css\"}],\"type\":\"async_block\"},\"id\":\"12715699162209448920\",\"handlers\":{\"changes\":[\"(function (val){return (val!=this.model[\\\"changes\\\"]()) ? (this.valueFromJulia[\\\"changes\\\"]=true, this.model[\\\"changes\\\"](val)) : undefined})\"],\"index\":[\"(function (val){return (val!=this.model[\\\"index\\\"]()) ? (this.valueFromJulia[\\\"index\\\"]=true, this.model[\\\"index\\\"](val)) : undefined})\"]},\"systemjs_options\":null,\"mount_callbacks\":[\"function () {\\n    var handler = (function (ko, koPunches) {\\n    ko.punches.enableAll();\\n    ko.bindingHandlers.numericValue = {\\n        init: function(element, valueAccessor, allBindings, data, context) {\\n            var stringified = ko.observable(ko.unwrap(valueAccessor()));\\n            stringified.subscribe(function(value) {\\n                var val = parseFloat(value);\\n                if (!isNaN(val)) {\\n                    valueAccessor()(val);\\n                }\\n            });\\n            valueAccessor().subscribe(function(value) {\\n                var str = JSON.stringify(value);\\n                if ((str == \\\"0\\\") && ([\\\"-0\\\", \\\"-0.\\\"].indexOf(stringified()) >= 0))\\n                     return;\\n                 if ([\\\"null\\\", \\\"\\\"].indexOf(str) >= 0)\\n                     return;\\n                stringified(str);\\n            });\\n            ko.applyBindingsToNode(\\n                element,\\n                {\\n                    value: stringified,\\n                    valueUpdate: allBindings.get('valueUpdate'),\\n                },\\n                context,\\n            );\\n        }\\n    };\\n    var json_data = {\\\"formatted_vals\\\":[\\\"1\\\",\\\"2\\\",\\\"3\\\",\\\"4\\\",\\\"5\\\",\\\"6\\\",\\\"7\\\",\\\"8\\\",\\\"9\\\",\\\"10\\\",\\\"11\\\",\\\"12\\\",\\\"13\\\",\\\"14\\\",\\\"15\\\",\\\"16\\\",\\\"17\\\",\\\"18\\\",\\\"19\\\",\\\"20\\\",\\\"21\\\",\\\"22\\\",\\\"23\\\",\\\"24\\\",\\\"25\\\",\\\"26\\\",\\\"27\\\",\\\"28\\\",\\\"29\\\",\\\"30\\\",\\\"31\\\",\\\"32\\\",\\\"33\\\",\\\"34\\\",\\\"35\\\",\\\"36\\\",\\\"37\\\",\\\"38\\\",\\\"39\\\",\\\"40\\\",\\\"41\\\",\\\"42\\\",\\\"43\\\",\\\"44\\\",\\\"45\\\",\\\"46\\\",\\\"47\\\",\\\"48\\\",\\\"49\\\",\\\"50\\\",\\\"51\\\",\\\"52\\\",\\\"53\\\",\\\"54\\\",\\\"55\\\",\\\"56\\\",\\\"57\\\",\\\"58\\\",\\\"59\\\",\\\"60\\\",\\\"61\\\",\\\"62\\\",\\\"63\\\",\\\"64\\\",\\\"65\\\",\\\"66\\\",\\\"67\\\",\\\"68\\\",\\\"69\\\",\\\"70\\\",\\\"71\\\",\\\"72\\\",\\\"73\\\",\\\"74\\\",\\\"75\\\",\\\"76\\\",\\\"77\\\",\\\"78\\\",\\\"79\\\",\\\"80\\\",\\\"81\\\",\\\"82\\\",\\\"83\\\",\\\"84\\\",\\\"85\\\",\\\"86\\\",\\\"87\\\",\\\"88\\\",\\\"89\\\",\\\"90\\\",\\\"91\\\",\\\"92\\\",\\\"93\\\",\\\"94\\\",\\\"95\\\",\\\"96\\\",\\\"97\\\",\\\"98\\\",\\\"99\\\",\\\"100\\\"],\\\"changes\\\":WebIO.getval({\\\"name\\\":\\\"changes\\\",\\\"scope\\\":\\\"12715699162209448920\\\",\\\"id\\\":\\\"919743626792200647\\\",\\\"type\\\":\\\"observable\\\"}),\\\"index\\\":WebIO.getval({\\\"name\\\":\\\"index\\\",\\\"scope\\\":\\\"12715699162209448920\\\",\\\"id\\\":\\\"14168953932727859191\\\",\\\"type\\\":\\\"observable\\\"})};\\n    var self = this;\\n    function AppViewModel() {\\n        for (var key in json_data) {\\n            var el = json_data[key];\\n            this[key] = Array.isArray(el) ? ko.observableArray(el) : ko.observable(el);\\n        }\\n        \\n        [this[\\\"formatted_val\\\"]=ko.computed(    function(){\\n        return this.formatted_vals()[parseInt(this.index())-(1)];\\n    }\\n,this)]\\n        [this[\\\"changes\\\"].subscribe((function (val){!(this.valueFromJulia[\\\"changes\\\"]) ? (WebIO.setval({\\\"name\\\":\\\"changes\\\",\\\"scope\\\":\\\"12715699162209448920\\\",\\\"id\\\":\\\"919743626792200647\\\",\\\"type\\\":\\\"observable\\\"},val)) : undefined; return this.valueFromJulia[\\\"changes\\\"]=false}),self),this[\\\"index\\\"].subscribe((function (val){!(this.valueFromJulia[\\\"index\\\"]) ? (WebIO.setval({\\\"name\\\":\\\"index\\\",\\\"scope\\\":\\\"12715699162209448920\\\",\\\"id\\\":\\\"14168953932727859191\\\",\\\"type\\\":\\\"observable\\\"},val)) : undefined; return this.valueFromJulia[\\\"index\\\"]=false}),self)]\\n        \\n    }\\n    self.model = new AppViewModel();\\n    self.valueFromJulia = {};\\n    for (var key in json_data) {\\n        self.valueFromJulia[key] = false;\\n    }\\n    ko.applyBindings(self.model, self.dom);\\n}\\n);\\n    (WebIO.importBlock({\\\"data\\\":[{\\\"name\\\":\\\"knockout\\\",\\\"type\\\":\\\"js\\\",\\\"url\\\":\\\"\\/assetserver\\/f83dc9757fede95ccda667ff812a2fcf4fcea406-knockout.js\\\"},{\\\"name\\\":\\\"knockout_punches\\\",\\\"type\\\":\\\"js\\\",\\\"url\\\":\\\"\\/assetserver\\/489381353c6689ef066cceedc5f4603376aece34-knockout_punches.js\\\"}],\\\"type\\\":\\\"async_block\\\"})).then((imports) => handler.apply(this, imports));\\n}\\n\"],\"observables\":{\"changes\":{\"sync\":false,\"id\":\"919743626792200647\",\"value\":0},\"index\":{\"sync\":true,\"id\":\"14168953932727859191\",\"value\":1}}},\"children\":[{\"props\":{\"className\":\"interact-flex-row interact-widget\"},\"nodeType\":\"DOM\",\"type\":\"node\",\"instanceArgs\":{\"namespace\":\"html\",\"tag\":\"div\"},\"children\":[{\"props\":{\"className\":\"interact-flex-row-left\"},\"nodeType\":\"DOM\",\"type\":\"node\",\"instanceArgs\":{\"namespace\":\"html\",\"tag\":\"div\"},\"children\":[{\"props\":{\"className\":\"interact \",\"style\":{\"padding\":\"5px 10px 0px 10px\"}},\"nodeType\":\"DOM\",\"type\":\"node\",\"instanceArgs\":{\"namespace\":\"html\",\"tag\":\"label\"},\"children\":[\"t\"]}]},{\"props\":{\"className\":\"interact-flex-row-center\"},\"nodeType\":\"DOM\",\"type\":\"node\",\"instanceArgs\":{\"namespace\":\"html\",\"tag\":\"div\"},\"children\":[{\"props\":{\"max\":100,\"min\":1,\"attributes\":{\"type\":\"range\",\"data-bind\":\"numericValue: index, valueUpdate: 'input', event: {change: function (){this.changes(this.changes()+1)}}\",\"orient\":\"horizontal\"},\"step\":1,\"className\":\"slider slider is-fullwidth\",\"style\":{}},\"nodeType\":\"DOM\",\"type\":\"node\",\"instanceArgs\":{\"namespace\":\"html\",\"tag\":\"input\"},\"children\":[]}]},{\"props\":{\"className\":\"interact-flex-row-right\"},\"nodeType\":\"DOM\",\"type\":\"node\",\"instanceArgs\":{\"namespace\":\"html\",\"tag\":\"div\"},\"children\":[{\"props\":{\"attributes\":{\"data-bind\":\"text: formatted_val\"}},\"nodeType\":\"DOM\",\"type\":\"node\",\"instanceArgs\":{\"namespace\":\"html\",\"tag\":\"p\"},\"children\":[]}]}]}]}]},{\"props\":{},\"nodeType\":\"Scope\",\"type\":\"node\",\"instanceArgs\":{\"imports\":{\"data\":[],\"type\":\"async_block\"},\"id\":\"11828792409457883332\",\"handlers\":{},\"systemjs_options\":null,\"mount_callbacks\":[],\"observables\":{\"obs-node\":{\"sync\":false,\"id\":\"16012452170624105446\",\"value\":{\"props\":{\"className\":\"interact-flex-row interact-widget\"},\"nodeType\":\"DOM\",\"type\":\"node\",\"instanceArgs\":{\"namespace\":\"html\",\"tag\":\"div\"},\"children\":[{\"props\":{\"setInnerHtml\":\"<img src='data:image\\/png;base64,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'><\\/img>\"},\"nodeType\":\"DOM\",\"type\":\"node\",\"instanceArgs\":{\"namespace\":\"html\",\"tag\":\"div\"},\"children\":[]}]}}}},\"children\":[{\"props\":{},\"nodeType\":\"ObservableNode\",\"type\":\"node\",\"instanceArgs\":{\"id\":\"16012452170624105446\",\"name\":\"obs-node\"},\"children\":[]}]}]},\n",
       "            window,\n",
       "        );\n",
       "    } else {\n",
       "        document\n",
       "            .querySelector('[data-webio-mountpoint=\"189934380657687987\"]')\n",
       "            .innerHTML = (\n",
       "                '<div style=\"padding: 1em; background-color: #f8d6da; border: 1px solid #f5c6cb\">' +\n",
       "                '<p><strong>WebIO not detected.</strong></p>' +\n",
       "                '<p>Please read ' +\n",
       "                '<a href=\"https://juliagizmos.github.io/WebIO.jl/latest/troubleshooting/not-detected/\" target=\"_blank\">the troubleshooting guide</a> ' +\n",
       "                'for more information on how to resolve this issue.</p>' +\n",
       "                '<p><a href=\"https://juliagizmos.github.io/WebIO.jl/latest/troubleshooting/not-detected/\" target=\"_blank\">https://juliagizmos.github.io/WebIO.jl/latest/troubleshooting/not-detected/</a></p>' +\n",
       "                '</div>'\n",
       "            );\n",
       "    }\n",
       "    </script>\n",
       "</div>\n"
      ],
      "text/plain": [
       "Node{WebIO.DOM}(WebIO.DOM(:html, :div), Any[Node{WebIO.DOM}(WebIO.DOM(:html, :div), Any[Scope(Node{WebIO.DOM}(WebIO.DOM(:html, :div), Any[Node{WebIO.DOM}(WebIO.DOM(:html, :div), Any[Node{WebIO.DOM}(WebIO.DOM(:html, :label), Any[\"t\"], Dict{Symbol,Any}(:className => \"interact \",:style => Dict{Any,Any}(:padding => \"5px 10px 0px 10px\")))], Dict{Symbol,Any}(:className => \"interact-flex-row-left\")), Node{WebIO.DOM}(WebIO.DOM(:html, :div), Any[Node{WebIO.DOM}(WebIO.DOM(:html, :input), Any[], Dict{Symbol,Any}(:max => 100,:min => 1,:attributes => Dict{Any,Any}(:type => \"range\",Symbol(\"data-bind\") => \"numericValue: index, valueUpdate: 'input', event: {change: function (){this.changes(this.changes()+1)}}\",\"orient\" => \"horizontal\"),:step => 1,:className => \"slider slider is-fullwidth\",:style => Dict{Any,Any}()))], Dict{Symbol,Any}(:className => \"interact-flex-row-center\")), Node{WebIO.DOM}(WebIO.DOM(:html, :div), Any[Node{WebIO.DOM}(WebIO.DOM(:html, :p), Any[], Dict{Symbol,Any}(:attributes => Dict(\"data-bind\" => \"text: formatted_val\")))], Dict{Symbol,Any}(:className => \"interact-flex-row-right\"))], Dict{Symbol,Any}(:className => \"interact-flex-row interact-widget\")), Dict{String,Tuple{Observables.AbstractObservable,Union{Nothing, Bool}}}(\"changes\" => (Observable{Int64} with 1 listeners. Value:\n",
       "0, nothing),\"index\" => (Observable{Int64} with 2 listeners. Value:\n",
       "1, nothing)), Set{String}(), nothing, Asset[Asset(\"js\", \"knockout\", \"/scratch/users/shubhgup/julia/.julia/packages/Knockout/IP1uR/src/../assets/knockout.js\"), Asset(\"js\", \"knockout_punches\", \"/scratch/users/shubhgup/julia/.julia/packages/Knockout/IP1uR/src/../assets/knockout_punches.js\"), Asset(\"js\", nothing, \"/scratch/users/shubhgup/julia/.julia/packages/InteractBase/sOe2Z/src/../assets/all.js\"), Asset(\"css\", nothing, \"/scratch/users/shubhgup/julia/.julia/packages/InteractBase/sOe2Z/src/../assets/style.css\"), Asset(\"css\", nothing, \"/scratch/users/shubhgup/julia/.julia/packages/Interact/SbgIk/src/../assets/bulma_confined.min.css\")], Dict{Any,Any}(\"changes\" => Any[WebIO.JSString(\"(function (val){return (val!=this.model[\\\"changes\\\"]()) ? (this.valueFromJulia[\\\"changes\\\"]=true, this.model[\\\"changes\\\"](val)) : undefined})\")],\"index\" => Any[WebIO.JSString(\"(function (val){return (val!=this.model[\\\"index\\\"]()) ? (this.valueFromJulia[\\\"index\\\"]=true, this.model[\\\"index\\\"](val)) : undefined})\")]), WebIO.ConnectionPool(Channel{Any}(sz_max:32,sz_curr:0), Set{AbstractConnection}(), Base.GenericCondition{Base.AlwaysLockedST}(Base.InvasiveLinkedList{Task}(Task (runnable) @0x00007fdaa5ba6710, Task (runnable) @0x00007fdaa5ba6710), Base.AlwaysLockedST(1))), WebIO.JSString[WebIO.JSString(\"function () {\\n    var handler = (function (ko, koPunches) {\\n    ko.punches.enableAll();\\n    ko.bindingHandlers.numericValue = {\\n        init: function(element, valueAccessor, allBindings, data, context) {\\n            var stringified = ko.observable(ko.unwrap(valueAccessor()));\\n            stringified.subscribe(function(value) {\\n                var val = parseFloat(value);\\n                if (!isNaN(val)) {\\n                    valueAccessor()(val);\\n                }\\n            });\\n            valueAccessor().subscribe(function(value) {\\n                var str = JSON.stringify(value);\\n                if ((str == \\\"0\\\") && ([\\\"-0\\\", \\\"-0.\\\"].indexOf(stringified()) >= 0))\\n                     return;\\n                 if ([\\\"null\\\", \\\"\\\"].indexOf(str) >= 0)\\n                     return;\\n                stringified(str);\\n            });\\n            ko.applyBindingsToNode(\\n                element,\\n                {\\n                    value: stringified,\\n                    valueUpdate: allBindings.get('valueUpdate'),\\n                },\\n                context,\\n            );\\n        }\\n    };\\n    var json_data = {\\\"formatted_vals\\\":[\\\"1\\\",\\\"2\\\",\\\"3\\\",\\\"4\\\",\\\"5\\\",\\\"6\\\",\\\"7\\\",\\\"8\\\",\\\"9\\\",\\\"10\\\",\\\"11\\\",\\\"12\\\",\\\"13\\\",\\\"14\\\",\\\"15\\\",\\\"16\\\",\\\"17\\\",\\\"18\\\",\\\"19\\\",\\\"20\\\",\\\"21\\\",\\\"22\\\",\\\"23\\\",\\\"24\\\",\\\"25\\\",\\\"26\\\",\\\"27\\\",\\\"28\\\",\\\"29\\\",\\\"30\\\",\\\"31\\\",\\\"32\\\",\\\"33\\\",\\\"34\\\",\\\"35\\\",\\\"36\\\",\\\"37\\\",\\\"38\\\",\\\"39\\\",\\\"40\\\",\\\"41\\\",\\\"42\\\",\\\"43\\\",\\\"44\\\",\\\"45\\\",\\\"46\\\",\\\"47\\\",\\\"48\\\",\\\"49\\\",\\\"50\\\",\\\"51\\\",\\\"52\\\",\\\"53\\\",\\\"54\\\",\\\"55\\\",\\\"56\\\",\\\"57\\\",\\\"58\\\",\\\"59\\\",\\\"60\\\",\\\"61\\\",\\\"62\\\",\\\"63\\\",\\\"64\\\",\\\"65\\\",\\\"66\\\",\\\"67\\\",\\\"68\\\",\\\"69\\\",\\\"70\\\",\\\"71\\\",\\\"72\\\",\\\"73\\\",\\\"74\\\",\\\"75\\\",\\\"76\\\",\\\"77\\\",\\\"78\\\",\\\"79\\\",\\\"80\\\",\\\"81\\\",\\\"82\\\",\\\"83\\\",\\\"84\\\",\\\"85\\\",\\\"86\\\",\\\"87\\\",\\\"88\\\",\\\"89\\\",\\\"90\\\",\\\"91\\\",\\\"92\\\",\\\"93\\\",\\\"94\\\",\\\"95\\\",\\\"96\\\",\\\"97\\\",\\\"98\\\",\\\"99\\\",\\\"100\\\"],\\\"changes\\\":WebIO.getval({\\\"name\\\":\\\"changes\\\",\\\"scope\\\":\\\"12715699162209448920\\\",\\\"id\\\":\\\"919743626792200647\\\",\\\"type\\\":\\\"observable\\\"}),\\\"index\\\":WebIO.getval({\\\"name\\\":\\\"index\\\",\\\"scope\\\":\\\"12715699162209448920\\\",\\\"id\\\":\\\"14168953932727859191\\\",\\\"type\\\":\\\"observable\\\"})};\\n    var self = this;\\n    function AppViewModel() {\\n        for (var key in json_data) {\\n            var el = json_data[key];\\n            this[key] = Array.isArray(el) ? ko.observableArray(el) : ko.observable(el);\\n        }\\n        \\n        [this[\\\"formatted_val\\\"]=ko.computed(    function(){\\n        return this.formatted_vals()[parseInt(this.index())-(1)];\\n    }\\n,this)]\\n        [this[\\\"changes\\\"].subscribe((function (val){!(this.valueFromJulia[\\\"changes\\\"]) ? (WebIO.setval({\\\"name\\\":\\\"changes\\\",\\\"scope\\\":\\\"12715699162209448920\\\",\\\"id\\\":\\\"919743626792200647\\\",\\\"type\\\":\\\"observable\\\"},val)) : undefined; return this.valueFromJulia[\\\"changes\\\"]=false}),self),this[\\\"index\\\"].subscribe((function (val){!(this.valueFromJulia[\\\"index\\\"]) ? (WebIO.setval({\\\"name\\\":\\\"index\\\",\\\"scope\\\":\\\"12715699162209448920\\\",\\\"id\\\":\\\"14168953932727859191\\\",\\\"type\\\":\\\"observable\\\"},val)) : undefined; return this.valueFromJulia[\\\"index\\\"]=false}),self)]\\n        \\n    }\\n    self.model = new AppViewModel();\\n    self.valueFromJulia = {};\\n    for (var key in json_data) {\\n        self.valueFromJulia[key] = false;\\n    }\\n    ko.applyBindings(self.model, self.dom);\\n}\\n);\\n    (WebIO.importBlock({\\\"data\\\":[{\\\"name\\\":\\\"knockout\\\",\\\"type\\\":\\\"js\\\",\\\"url\\\":\\\"/assetserver/f83dc9757fede95ccda667ff812a2fcf4fcea406-knockout.js\\\"},{\\\"name\\\":\\\"knockout_punches\\\",\\\"type\\\":\\\"js\\\",\\\"url\\\":\\\"/assetserver/489381353c6689ef066cceedc5f4603376aece34-knockout_punches.js\\\"}],\\\"type\\\":\\\"async_block\\\"})).then((imports) => handler.apply(this, imports));\\n}\\n\")])], Dict{Symbol,Any}(:className => \"field interact-widget\")), Observable{Any} with 0 listeners. Value:\n",
       "Node{WebIO.DOM}(WebIO.DOM(:html, :div), Any[Cairo.CairoSurfaceIOStream{UInt32}(Ptr{Nothing} @0x0000000013e60a80, 1000.0, 600.0, IOBuffer(data=UInt8[...], readable=true, writable=true, seekable=true, append=false, size=0, maxsize=Inf, ptr=1, mark=-1))], Dict{Symbol,Any}(:className => \"interact-flex-row interact-widget\"))], Dict{Symbol,Any}())"
      ]
     },
     "execution_count": 397,
     "metadata": {
      "application/vnd.webio.node+json": {
       "kernelId": "d0c15c61-c07a-4439-87be-2be58bf958eb"
      }
     },
     "output_type": "execute_result"
    }
   ],
   "source": [
    "# t = 10\n",
    "mp = @manipulate for t=slider(1:100, value=1., label=\"t\")\n",
    "    AutomotiveVisualization.render([planner.mdp.sim.problem.roadway, crosswalk, playback_trace[min(t, length(playback_trace))]])\n",
    "end"
   ]
  },
  {
   "cell_type": "markdown",
   "metadata": {},
   "source": [
    "### Example for localizing using GPS"
   ]
  },
  {
   "cell_type": "markdown",
   "metadata": {},
   "source": [
    "**Input**: state of agent, noise in each GPS range measurement\n",
    "\n",
    "**Output**: agent with noise parameter containing difference between estimated state and true state"
   ]
  },
  {
   "cell_type": "code",
   "execution_count": 64,
   "metadata": {},
   "outputs": [
    {
     "ename": "LoadError",
     "evalue": "BoundsError: attempt to access 4-element Array{Float64,1} at index [5]",
     "output_type": "error",
     "traceback": [
      "BoundsError: attempt to access 4-element Array{Float64,1} at index [5]",
      "",
      "Stacktrace:",
      " [1] getindex at ./array.jl:809 [inlined]",
      " [2] measure_gps(::Entity{NoisyPedState,VehicleDef,Int64}, ::Array{Float64,1}) at /home/users/shubhgup/Codes/julia_learn/scripts/AutonomousRiskFramework/AdversarialDriving.jl/src/driving_models.jl:269",
      " [3] top-level scope at In[64]:1",
      " [4] include_string(::Function, ::Module, ::String, ::String) at ./loading.jl:1091",
      " [5] execute_code(::String, ::String) at /scratch/users/shubhgup/julia/.julia/packages/IJulia/rWZ9e/src/execute_request.jl:27",
      " [6] execute_request(::ZMQ.Socket, ::IJulia.Msg) at /scratch/users/shubhgup/julia/.julia/packages/IJulia/rWZ9e/src/execute_request.jl:86",
      " [7] #invokelatest#1 at ./essentials.jl:710 [inlined]",
      " [8] invokelatest at ./essentials.jl:709 [inlined]",
      " [9] eventloop(::ZMQ.Socket) at /scratch/users/shubhgup/julia/.julia/packages/IJulia/rWZ9e/src/eventloop.jl:8",
      " [10] (::IJulia.var\"#15#18\")() at ./task.jl:356"
     ]
    }
   ],
   "source": [
    "eg1_meas = AdversarialDriving.measure_gps(ped_state, [0.0, 0.0, 0.0, 0.0])"
   ]
  },
  {
   "cell_type": "code",
   "execution_count": 65,
   "metadata": {},
   "outputs": [
    {
     "data": {
      "text/plain": [
       "VehicleState(VecSE2({25.000, -3.000}, 1.571), Frenet(RoadIndex({1, 0.350000}, {2, 1}), 7.000, 0.000, 0.000), 2.000)"
      ]
     },
     "execution_count": 65,
     "metadata": {},
     "output_type": "execute_result"
    }
   ],
   "source": [
    "ped_state.state.veh_state"
   ]
  },
  {
   "cell_type": "code",
   "execution_count": 66,
   "metadata": {},
   "outputs": [
    {
     "ename": "LoadError",
     "evalue": "UndefVarError: eg1_meas not defined",
     "output_type": "error",
     "traceback": [
      "UndefVarError: eg1_meas not defined",
      "",
      "Stacktrace:",
      " [1] top-level scope at In[66]:1",
      " [2] include_string(::Function, ::Module, ::String, ::String) at ./loading.jl:1091",
      " [3] execute_code(::String, ::String) at /scratch/users/shubhgup/julia/.julia/packages/IJulia/rWZ9e/src/execute_request.jl:27",
      " [4] execute_request(::ZMQ.Socket, ::IJulia.Msg) at /scratch/users/shubhgup/julia/.julia/packages/IJulia/rWZ9e/src/execute_request.jl:86",
      " [5] #invokelatest#1 at ./essentials.jl:710 [inlined]",
      " [6] invokelatest at ./essentials.jl:709 [inlined]",
      " [7] eventloop(::ZMQ.Socket) at /scratch/users/shubhgup/julia/.julia/packages/IJulia/rWZ9e/src/eventloop.jl:8",
      " [8] (::IJulia.var\"#15#18\")() at ./task.jl:356"
     ]
    }
   ],
   "source": [
    "eg1_ped = AdversarialDriving.localize(ped_state, [eg1_meas], planner.mdp.sim.problem.roadway)"
   ]
  },
  {
   "cell_type": "markdown",
   "metadata": {},
   "source": [
    "### Example for Distribution likelihood estimation under measurements (In progress)"
   ]
  },
  {
   "cell_type": "markdown",
   "metadata": {},
   "source": [
    "**Input**: distribution of measurements, function mapping from measurements to states of all agents\n",
    "\n",
    "**Output**: log probability of a given set of agent states "
   ]
  },
  {
   "cell_type": "code",
   "execution_count": 67,
   "metadata": {},
   "outputs": [
    {
     "data": {
      "text/plain": [
       "3-element Array{Float64,1}:\n",
       " 10.0\n",
       " 11.0\n",
       "  9.0"
      ]
     },
     "execution_count": 67,
     "metadata": {},
     "output_type": "execute_result"
    }
   ],
   "source": [
    "eg2_range_noise = [Normal(0, 5.0), Normal(0, 5.0), Normal(0, 5.0)] # Array of Gaussian\n",
    "eg2_range_mu = [10.0, 11.0, 9.0]"
   ]
  },
  {
   "cell_type": "code",
   "execution_count": 68,
   "metadata": {},
   "outputs": [
    {
     "data": {
      "text/plain": [
       "eg2_localize (generic function with 1 method)"
      ]
     },
     "execution_count": 68,
     "metadata": {},
     "output_type": "execute_result"
    }
   ],
   "source": [
    "function eg2_localize(m)\n",
    "    return [1/sqrt(2)*hypot(m[1], m[2]), 1/sqrt(2)*hypot(m[2], m[3])]\n",
    "end"
   ]
  },
  {
   "cell_type": "code",
   "execution_count": 69,
   "metadata": {},
   "outputs": [
    {
     "data": {
      "text/plain": [
       "2-element Array{Float64,1}:\n",
       " 1.2041594578792296\n",
       " 2.182887995294307"
      ]
     },
     "execution_count": 69,
     "metadata": {},
     "output_type": "execute_result"
    }
   ],
   "source": [
    "eg2_localize([1.1, 1.3, 2.8])"
   ]
  },
  {
   "cell_type": "code",
   "execution_count": 70,
   "metadata": {},
   "outputs": [
    {
     "data": {
      "text/plain": [
       "1000×3 Array{Float64,2}:\n",
       " -0.464966  -0.621254    3.33362\n",
       " -5.26625   -0.324399  -13.3643\n",
       "  2.61045   -7.7161     -0.496339\n",
       " -1.17619    9.06227    -4.59259\n",
       "  1.85906   -2.3461      0.0853738\n",
       " -2.65177   -1.54434     3.6272\n",
       "  5.44265    7.16325    -1.94734\n",
       " -8.83186   -1.82638     1.40369\n",
       "  3.10122    4.58229     2.71397\n",
       " -0.327097   5.40321    -0.381546\n",
       " -5.18459    3.62618    -0.69314\n",
       "  3.09718    3.88594     9.62272\n",
       "  4.89281    2.88228     0.798455\n",
       "  ⋮                    \n",
       " -2.28288   -7.68206     8.21716\n",
       " -1.34401   -6.17792     0.61661\n",
       " -5.34579   -8.19861     2.77112\n",
       " -4.42201    0.868747    1.37951\n",
       "  6.19685    4.97703     1.53635\n",
       " -6.90596    1.79908    -0.909268\n",
       "  3.39362   -0.765253  -15.6482\n",
       " -4.96475    7.30558     1.19433\n",
       "  6.38133   -7.55591    -6.50467\n",
       " -0.939218  -2.39424    -3.82054\n",
       " 10.3824     2.44826    -1.72287\n",
       " -4.32462   -3.39292    -4.47747"
      ]
     },
     "execution_count": 70,
     "metadata": {},
     "output_type": "execute_result"
    }
   ],
   "source": [
    "n_samp = 1000\n",
    "eg2_noise_samp = zeros(n_samp, length(eg2_range_noise))\n",
    "for i=1:length(eg2_range_noise)\n",
    "    eg2_noise_samp[:, i] = rand(eg2_range_noise[i], n_samp)\n",
    "end\n",
    "eg2_noise_samp"
   ]
  },
  {
   "cell_type": "code",
   "execution_count": 71,
   "metadata": {},
   "outputs": [
    {
     "data": {
      "text/plain": [
       "1000×2 Array{Float64,2}:\n",
       "  9.96582  11.3982\n",
       "  8.25763   8.15524\n",
       "  9.21432   6.44578\n",
       " 15.4976   14.5245\n",
       " 10.3809    8.87226\n",
       "  8.46776  11.1547\n",
       " 16.8579   13.7776\n",
       "  6.53911   9.80796\n",
       " 14.3953   13.7845\n",
       " 13.4653   13.1023\n",
       " 10.8884   11.8939\n",
       " 14.0201   16.8582\n",
       " 14.3964   12.0151\n",
       "  ⋮        \n",
       "  5.93981  12.3984\n",
       "  7.00638   7.60696\n",
       "  3.84118   8.55591\n",
       "  9.27311  11.149\n",
       " 16.0873   13.5329\n",
       "  9.311    10.7069\n",
       " 11.9193    8.62986\n",
       " 13.4248   14.8159\n",
       " 11.8366    3.00736\n",
       "  8.8362    7.10232\n",
       " 17.267    10.8123\n",
       "  6.7111    6.25783"
      ]
     },
     "execution_count": 71,
     "metadata": {},
     "output_type": "execute_result"
    }
   ],
   "source": [
    "loc_samp = zeros(n_samp, 2)\n",
    "for i=1:n_samp\n",
    "    loc_samp[i, :] = eg2_localize(eg2_range_mu + eg2_noise_samp[i, :])\n",
    "end\n",
    "loc_samp"
   ]
  },
  {
   "cell_type": "code",
   "execution_count": 72,
   "metadata": {},
   "outputs": [],
   "source": [
    "using Plots"
   ]
  },
  {
   "cell_type": "code",
   "execution_count": 73,
   "metadata": {},
   "outputs": [
    {
     "data": {
      "image/png": "[encoded data removed]",
      "image/svg+xml": [
       "<?xml version=\"1.0\" encoding=\"utf-8\" standalone=\"no\"?>\n",
       "<!DOCTYPE svg PUBLIC \"-//W3C//DTD SVG 1.1//EN\"\n",
       "  \"http://www.w3.org/Graphics/SVG/1.1/DTD/svg11.dtd\">\n",
       "<!-- Created with matplotlib (https://matplotlib.org/) -->\n",
       "<svg height=\"288pt\" version=\"1.1\" viewBox=\"0 0 432 288\" width=\"432pt\" xmlns=\"http://www.w3.org/2000/svg\" xmlns:xlink=\"http://www.w3.org/1999/xlink\">\n",
       " <metadata>\n",
       "  <rdf:RDF xmlns:cc=\"http://creativecommons.org/ns#\" xmlns:dc=\"http://purl.org/dc/elements/1.1/\" xmlns:rdf=\"http://www.w3.org/1999/02/22-rdf-syntax-ns#\">\n",
       "   <cc:Work>\n",
       "    <dc:type rdf:resource=\"http://purl.org/dc/dcmitype/StillImage\"/>\n",
       "    <dc:date>2020-11-27T00:41:11.902366</dc:date>\n",
       "    <dc:format>image/svg+xml</dc:format>\n",
       "    <dc:creator>\n",
       "     <cc:Agent>\n",
       "      <dc:title>Matplotlib v3.3.2, https://matplotlib.org/</dc:title>\n",
       "     </cc:Agent>\n",
       "    </dc:creator>\n",
       "   </cc:Work>\n",
       "  </rdf:RDF>\n",
       " </metadata>\n",
       " <defs>\n",
       "  <style type=\"text/css\">*{stroke-linecap:butt;stroke-linejoin:round;}</style>\n",
       " </defs>\n",
       " <g id=\"figure_1\">\n",
       "  <g id=\"patch_1\">\n",
       "   <path d=\"M 0 288 \n",
       "L 432 288 \n",
       "L 432 0 \n",
       "L 0 0 \n",
       "z\n",
       "\" style=\"fill:#ffffff;\"/>\n",
       "  </g>\n",
       "  <g id=\"axes_1\">\n",
       "   <g id=\"patch_2\">\n",
       "    <path d=\"M 22.512058 273.025354 \n",
       "L 429.165354 273.025354 \n",
       "L 429.165354 2.834646 \n",
       "L 22.512058 2.834646 \n",
       "z\n",
       "\" style=\"fill:#ffffff;\"/>\n",
       "   </g>\n",
       "   <g id=\"matplotlib.axis_1\">\n",
       "    <g id=\"xtick_1\">\n",
       "     <g id=\"line2d_1\">\n",
       "      <path clip-path=\"url(#pe82ed7c1b7)\" d=\"M 44.878713 273.025354 \n",
       "L 44.878713 2.834646 \n",
       "\" style=\"fill:none;stroke:#000000;stroke-linecap:square;stroke-opacity:0.1;stroke-width:0.5;\"/>\n",
       "     </g>\n",
       "     <g id=\"line2d_2\">\n",
       "      <defs>\n",
       "       <path d=\"M 0 0 \n",
       "L 0 -2.5 \n",
       "\" id=\"m531a743fb2\" style=\"stroke:#000000;stroke-width:0.5;\"/>\n",
       "      </defs>\n",
       "      <g>\n",
       "       <use style=\"stroke:#000000;stroke-width:0.5;\" x=\"44.878713\" xlink:href=\"#m531a743fb2\" y=\"273.025354\"/>\n",
       "      </g>\n",
       "     </g>\n",
       "     <g id=\"text_1\">\n",
       "      <!-- $\\mathregular{0}$ -->\n",
       "      <g transform=\"translate(42.318713 282.604104)scale(0.08 -0.08)\">\n",
       "       <defs>\n",
       "        <path d=\"M 31.78125 66.40625 \n",
       "Q 24.171875 66.40625 20.328125 58.90625 \n",
       "Q 16.5 51.421875 16.5 36.375 \n",
       "Q 16.5 21.390625 20.328125 13.890625 \n",
       "Q 24.171875 6.390625 31.78125 6.390625 \n",
       "Q 39.453125 6.390625 43.28125 13.890625 \n",
       "Q 47.125 21.390625 47.125 36.375 \n",
       "Q 47.125 51.421875 43.28125 58.90625 \n",
       "Q 39.453125 66.40625 31.78125 66.40625 \n",
       "z\n",
       "M 31.78125 74.21875 \n",
       "Q 44.046875 74.21875 50.515625 64.515625 \n",
       "Q 56.984375 54.828125 56.984375 36.375 \n",
       "Q 56.984375 17.96875 50.515625 8.265625 \n",
       "Q 44.046875 -1.421875 31.78125 -1.421875 \n",
       "Q 19.53125 -1.421875 13.0625 8.265625 \n",
       "Q 6.59375 17.96875 6.59375 36.375 \n",
       "Q 6.59375 54.828125 13.0625 64.515625 \n",
       "Q 19.53125 74.21875 31.78125 74.21875 \n",
       "z\n",
       "\" id=\"DejaVuSans-48\"/>\n",
       "       </defs>\n",
       "       <use transform=\"translate(0 0.78125)\" xlink:href=\"#DejaVuSans-48\"/>\n",
       "      </g>\n",
       "     </g>\n",
       "    </g>\n",
       "    <g id=\"xtick_2\">\n",
       "     <g id=\"line2d_3\">\n",
       "      <path clip-path=\"url(#pe82ed7c1b7)\" d=\"M 123.556971 273.025354 \n",
       "L 123.556971 2.834646 \n",
       "\" style=\"fill:none;stroke:#000000;stroke-linecap:square;stroke-opacity:0.1;stroke-width:0.5;\"/>\n",
       "     </g>\n",
       "     <g id=\"line2d_4\">\n",
       "      <g>\n",
       "       <use style=\"stroke:#000000;stroke-width:0.5;\" x=\"123.556971\" xlink:href=\"#m531a743fb2\" y=\"273.025354\"/>\n",
       "      </g>\n",
       "     </g>\n",
       "     <g id=\"text_2\">\n",
       "      <!-- $\\mathregular{5}$ -->\n",
       "      <g transform=\"translate(120.996971 282.604104)scale(0.08 -0.08)\">\n",
       "       <defs>\n",
       "        <path d=\"M 10.796875 72.90625 \n",
       "L 49.515625 72.90625 \n",
       "L 49.515625 64.59375 \n",
       "L 19.828125 64.59375 \n",
       "L 19.828125 46.734375 \n",
       "Q 21.96875 47.46875 24.109375 47.828125 \n",
       "Q 26.265625 48.1875 28.421875 48.1875 \n",
       "Q 40.625 48.1875 47.75 41.5 \n",
       "Q 54.890625 34.8125 54.890625 23.390625 \n",
       "Q 54.890625 11.625 47.5625 5.09375 \n",
       "Q 40.234375 -1.421875 26.90625 -1.421875 \n",
       "Q 22.3125 -1.421875 17.546875 -0.640625 \n",
       "Q 12.796875 0.140625 7.71875 1.703125 \n",
       "L 7.71875 11.625 \n",
       "Q 12.109375 9.234375 16.796875 8.0625 \n",
       "Q 21.484375 6.890625 26.703125 6.890625 \n",
       "Q 35.15625 6.890625 40.078125 11.328125 \n",
       "Q 45.015625 15.765625 45.015625 23.390625 \n",
       "Q 45.015625 31 40.078125 35.4375 \n",
       "Q 35.15625 39.890625 26.703125 39.890625 \n",
       "Q 22.75 39.890625 18.8125 39.015625 \n",
       "Q 14.890625 38.140625 10.796875 36.28125 \n",
       "z\n",
       "\" id=\"DejaVuSans-53\"/>\n",
       "       </defs>\n",
       "       <use transform=\"translate(0 0.09375)\" xlink:href=\"#DejaVuSans-53\"/>\n",
       "      </g>\n",
       "     </g>\n",
       "    </g>\n",
       "    <g id=\"xtick_3\">\n",
       "     <g id=\"line2d_5\">\n",
       "      <path clip-path=\"url(#pe82ed7c1b7)\" d=\"M 202.235229 273.025354 \n",
       "L 202.235229 2.834646 \n",
       "\" style=\"fill:none;stroke:#000000;stroke-linecap:square;stroke-opacity:0.1;stroke-width:0.5;\"/>\n",
       "     </g>\n",
       "     <g id=\"line2d_6\">\n",
       "      <g>\n",
       "       <use style=\"stroke:#000000;stroke-width:0.5;\" x=\"202.235229\" xlink:href=\"#m531a743fb2\" y=\"273.025354\"/>\n",
       "      </g>\n",
       "     </g>\n",
       "     <g id=\"text_3\">\n",
       "      <!-- $\\mathregular{10}$ -->\n",
       "      <g transform=\"translate(197.115229 282.604104)scale(0.08 -0.08)\">\n",
       "       <defs>\n",
       "        <path d=\"M 12.40625 8.296875 \n",
       "L 28.515625 8.296875 \n",
       "L 28.515625 63.921875 \n",
       "L 10.984375 60.40625 \n",
       "L 10.984375 69.390625 \n",
       "L 28.421875 72.90625 \n",
       "L 38.28125 72.90625 \n",
       "L 38.28125 8.296875 \n",
       "L 54.390625 8.296875 \n",
       "L 54.390625 0 \n",
       "L 12.40625 0 \n",
       "z\n",
       "\" id=\"DejaVuSans-49\"/>\n",
       "       </defs>\n",
       "       <use transform=\"translate(0 0.78125)\" xlink:href=\"#DejaVuSans-49\"/>\n",
       "       <use transform=\"translate(63.623047 0.78125)\" xlink:href=\"#DejaVuSans-48\"/>\n",
       "      </g>\n",
       "     </g>\n",
       "    </g>\n",
       "    <g id=\"xtick_4\">\n",
       "     <g id=\"line2d_7\">\n",
       "      <path clip-path=\"url(#pe82ed7c1b7)\" d=\"M 280.913487 273.025354 \n",
       "L 280.913487 2.834646 \n",
       "\" style=\"fill:none;stroke:#000000;stroke-linecap:square;stroke-opacity:0.1;stroke-width:0.5;\"/>\n",
       "     </g>\n",
       "     <g id=\"line2d_8\">\n",
       "      <g>\n",
       "       <use style=\"stroke:#000000;stroke-width:0.5;\" x=\"280.913487\" xlink:href=\"#m531a743fb2\" y=\"273.025354\"/>\n",
       "      </g>\n",
       "     </g>\n",
       "     <g id=\"text_4\">\n",
       "      <!-- $\\mathregular{15}$ -->\n",
       "      <g transform=\"translate(275.793487 282.604104)scale(0.08 -0.08)\">\n",
       "       <use transform=\"translate(0 0.09375)\" xlink:href=\"#DejaVuSans-49\"/>\n",
       "       <use transform=\"translate(63.623047 0.09375)\" xlink:href=\"#DejaVuSans-53\"/>\n",
       "      </g>\n",
       "     </g>\n",
       "    </g>\n",
       "    <g id=\"xtick_5\">\n",
       "     <g id=\"line2d_9\">\n",
       "      <path clip-path=\"url(#pe82ed7c1b7)\" d=\"M 359.591744 273.025354 \n",
       "L 359.591744 2.834646 \n",
       "\" style=\"fill:none;stroke:#000000;stroke-linecap:square;stroke-opacity:0.1;stroke-width:0.5;\"/>\n",
       "     </g>\n",
       "     <g id=\"line2d_10\">\n",
       "      <g>\n",
       "       <use style=\"stroke:#000000;stroke-width:0.5;\" x=\"359.591744\" xlink:href=\"#m531a743fb2\" y=\"273.025354\"/>\n",
       "      </g>\n",
       "     </g>\n",
       "     <g id=\"text_5\">\n",
       "      <!-- $\\mathregular{20}$ -->\n",
       "      <g transform=\"translate(354.471744 282.604104)scale(0.08 -0.08)\">\n",
       "       <defs>\n",
       "        <path d=\"M 19.1875 8.296875 \n",
       "L 53.609375 8.296875 \n",
       "L 53.609375 0 \n",
       "L 7.328125 0 \n",
       "L 7.328125 8.296875 \n",
       "Q 12.9375 14.109375 22.625 23.890625 \n",
       "Q 32.328125 33.6875 34.8125 36.53125 \n",
       "Q 39.546875 41.84375 41.421875 45.53125 \n",
       "Q 43.3125 49.21875 43.3125 52.78125 \n",
       "Q 43.3125 58.59375 39.234375 62.25 \n",
       "Q 35.15625 65.921875 28.609375 65.921875 \n",
       "Q 23.96875 65.921875 18.8125 64.3125 \n",
       "Q 13.671875 62.703125 7.8125 59.421875 \n",
       "L 7.8125 69.390625 \n",
       "Q 13.765625 71.78125 18.9375 73 \n",
       "Q 24.125 74.21875 28.421875 74.21875 \n",
       "Q 39.75 74.21875 46.484375 68.546875 \n",
       "Q 53.21875 62.890625 53.21875 53.421875 \n",
       "Q 53.21875 48.921875 51.53125 44.890625 \n",
       "Q 49.859375 40.875 45.40625 35.40625 \n",
       "Q 44.1875 33.984375 37.640625 27.21875 \n",
       "Q 31.109375 20.453125 19.1875 8.296875 \n",
       "z\n",
       "\" id=\"DejaVuSans-50\"/>\n",
       "       </defs>\n",
       "       <use transform=\"translate(0 0.78125)\" xlink:href=\"#DejaVuSans-50\"/>\n",
       "       <use transform=\"translate(63.623047 0.78125)\" xlink:href=\"#DejaVuSans-48\"/>\n",
       "      </g>\n",
       "     </g>\n",
       "    </g>\n",
       "   </g>\n",
       "   <g id=\"matplotlib.axis_2\">\n",
       "    <g id=\"ytick_1\">\n",
       "     <g id=\"line2d_11\">\n",
       "      <path clip-path=\"url(#pe82ed7c1b7)\" d=\"M 22.512058 265.378447 \n",
       "L 429.165354 265.378447 \n",
       "\" style=\"fill:none;stroke:#000000;stroke-linecap:square;stroke-opacity:0.1;stroke-width:0.5;\"/>\n",
       "     </g>\n",
       "     <g id=\"line2d_12\">\n",
       "      <defs>\n",
       "       <path d=\"M 0 0 \n",
       "L 2.5 0 \n",
       "\" id=\"mf990792834\" style=\"stroke:#000000;stroke-width:0.5;\"/>\n",
       "      </defs>\n",
       "      <g>\n",
       "       <use style=\"stroke:#000000;stroke-width:0.5;\" x=\"22.512058\" xlink:href=\"#mf990792834\" y=\"265.378447\"/>\n",
       "      </g>\n",
       "     </g>\n",
       "     <g id=\"text_6\">\n",
       "      <!-- $\\mathregular{0}$ -->\n",
       "      <g transform=\"translate(13.892058 268.417822)scale(0.08 -0.08)\">\n",
       "       <use transform=\"translate(0 0.78125)\" xlink:href=\"#DejaVuSans-48\"/>\n",
       "      </g>\n",
       "     </g>\n",
       "    </g>\n",
       "    <g id=\"ytick_2\">\n",
       "     <g id=\"line2d_13\">\n",
       "      <path clip-path=\"url(#pe82ed7c1b7)\" d=\"M 22.512058 211.82868 \n",
       "L 429.165354 211.82868 \n",
       "\" style=\"fill:none;stroke:#000000;stroke-linecap:square;stroke-opacity:0.1;stroke-width:0.5;\"/>\n",
       "     </g>\n",
       "     <g id=\"line2d_14\">\n",
       "      <g>\n",
       "       <use style=\"stroke:#000000;stroke-width:0.5;\" x=\"22.512058\" xlink:href=\"#mf990792834\" y=\"211.82868\"/>\n",
       "      </g>\n",
       "     </g>\n",
       "     <g id=\"text_7\">\n",
       "      <!-- $\\mathregular{25}$ -->\n",
       "      <g transform=\"translate(8.772058 214.868055)scale(0.08 -0.08)\">\n",
       "       <use transform=\"translate(0 0.78125)\" xlink:href=\"#DejaVuSans-50\"/>\n",
       "       <use transform=\"translate(63.623047 0.78125)\" xlink:href=\"#DejaVuSans-53\"/>\n",
       "      </g>\n",
       "     </g>\n",
       "    </g>\n",
       "    <g id=\"ytick_3\">\n",
       "     <g id=\"line2d_15\">\n",
       "      <path clip-path=\"url(#pe82ed7c1b7)\" d=\"M 22.512058 158.278912 \n",
       "L 429.165354 158.278912 \n",
       "\" style=\"fill:none;stroke:#000000;stroke-linecap:square;stroke-opacity:0.1;stroke-width:0.5;\"/>\n",
       "     </g>\n",
       "     <g id=\"line2d_16\">\n",
       "      <g>\n",
       "       <use style=\"stroke:#000000;stroke-width:0.5;\" x=\"22.512058\" xlink:href=\"#mf990792834\" y=\"158.278912\"/>\n",
       "      </g>\n",
       "     </g>\n",
       "     <g id=\"text_8\">\n",
       "      <!-- $\\mathregular{50}$ -->\n",
       "      <g transform=\"translate(8.772058 161.318287)scale(0.08 -0.08)\">\n",
       "       <use transform=\"translate(0 0.78125)\" xlink:href=\"#DejaVuSans-53\"/>\n",
       "       <use transform=\"translate(63.623047 0.78125)\" xlink:href=\"#DejaVuSans-48\"/>\n",
       "      </g>\n",
       "     </g>\n",
       "    </g>\n",
       "    <g id=\"ytick_4\">\n",
       "     <g id=\"line2d_17\">\n",
       "      <path clip-path=\"url(#pe82ed7c1b7)\" d=\"M 22.512058 104.729144 \n",
       "L 429.165354 104.729144 \n",
       "\" style=\"fill:none;stroke:#000000;stroke-linecap:square;stroke-opacity:0.1;stroke-width:0.5;\"/>\n",
       "     </g>\n",
       "     <g id=\"line2d_18\">\n",
       "      <g>\n",
       "       <use style=\"stroke:#000000;stroke-width:0.5;\" x=\"22.512058\" xlink:href=\"#mf990792834\" y=\"104.729144\"/>\n",
       "      </g>\n",
       "     </g>\n",
       "     <g id=\"text_9\">\n",
       "      <!-- $\\mathregular{75}$ -->\n",
       "      <g transform=\"translate(8.772058 107.768519)scale(0.08 -0.08)\">\n",
       "       <defs>\n",
       "        <path d=\"M 8.203125 72.90625 \n",
       "L 55.078125 72.90625 \n",
       "L 55.078125 68.703125 \n",
       "L 28.609375 0 \n",
       "L 18.3125 0 \n",
       "L 43.21875 64.59375 \n",
       "L 8.203125 64.59375 \n",
       "z\n",
       "\" id=\"DejaVuSans-55\"/>\n",
       "       </defs>\n",
       "       <use transform=\"translate(0 0.09375)\" xlink:href=\"#DejaVuSans-55\"/>\n",
       "       <use transform=\"translate(63.623047 0.09375)\" xlink:href=\"#DejaVuSans-53\"/>\n",
       "      </g>\n",
       "     </g>\n",
       "    </g>\n",
       "    <g id=\"ytick_5\">\n",
       "     <g id=\"line2d_19\">\n",
       "      <path clip-path=\"url(#pe82ed7c1b7)\" d=\"M 22.512058 51.179376 \n",
       "L 429.165354 51.179376 \n",
       "\" style=\"fill:none;stroke:#000000;stroke-linecap:square;stroke-opacity:0.1;stroke-width:0.5;\"/>\n",
       "     </g>\n",
       "     <g id=\"line2d_20\">\n",
       "      <g>\n",
       "       <use style=\"stroke:#000000;stroke-width:0.5;\" x=\"22.512058\" xlink:href=\"#mf990792834\" y=\"51.179376\"/>\n",
       "      </g>\n",
       "     </g>\n",
       "     <g id=\"text_10\">\n",
       "      <!-- $\\mathregular{100}$ -->\n",
       "      <g transform=\"translate(3.732058 54.218751)scale(0.08 -0.08)\">\n",
       "       <use transform=\"translate(0 0.78125)\" xlink:href=\"#DejaVuSans-49\"/>\n",
       "       <use transform=\"translate(63.623047 0.78125)\" xlink:href=\"#DejaVuSans-48\"/>\n",
       "       <use transform=\"translate(127.246094 0.78125)\" xlink:href=\"#DejaVuSans-48\"/>\n",
       "      </g>\n",
       "     </g>\n",
       "    </g>\n",
       "   </g>\n",
       "   <g id=\"patch_3\">\n",
       "    <path clip-path=\"url(#pe82ed7c1b7)\" d=\"M 44.878713 263.236457 \n",
       "L 44.878713 265.378447 \n",
       "L 60.614365 265.378447 \n",
       "L 60.614365 263.236457 \n",
       "L 44.878713 263.236457 \n",
       "\" style=\"fill:#009afa;stroke:#000000;stroke-linejoin:miter;\"/>\n",
       "   </g>\n",
       "   <g id=\"patch_4\">\n",
       "    <path clip-path=\"url(#pe82ed7c1b7)\" d=\"M 60.614365 263.236457 \n",
       "L 60.614365 265.378447 \n",
       "L 76.350016 265.378447 \n",
       "L 76.350016 263.236457 \n",
       "L 60.614365 263.236457 \n",
       "\" style=\"fill:#009afa;stroke:#000000;stroke-linejoin:miter;\"/>\n",
       "   </g>\n",
       "   <g id=\"patch_5\">\n",
       "    <path clip-path=\"url(#pe82ed7c1b7)\" d=\"M 76.350016 258.952475 \n",
       "L 76.350016 265.378447 \n",
       "L 92.085668 265.378447 \n",
       "L 92.085668 258.952475 \n",
       "L 76.350016 258.952475 \n",
       "\" style=\"fill:#009afa;stroke:#000000;stroke-linejoin:miter;\"/>\n",
       "   </g>\n",
       "   <g id=\"patch_6\">\n",
       "    <path clip-path=\"url(#pe82ed7c1b7)\" d=\"M 92.085668 241.81655 \n",
       "L 92.085668 265.378447 \n",
       "L 107.821319 265.378447 \n",
       "L 107.821319 241.81655 \n",
       "L 92.085668 241.81655 \n",
       "\" style=\"fill:#009afa;stroke:#000000;stroke-linejoin:miter;\"/>\n",
       "   </g>\n",
       "   <g id=\"patch_7\">\n",
       "    <path clip-path=\"url(#pe82ed7c1b7)\" d=\"M 107.821319 213.97067 \n",
       "L 107.821319 265.378447 \n",
       "L 123.556971 265.378447 \n",
       "L 123.556971 213.97067 \n",
       "L 107.821319 213.97067 \n",
       "\" style=\"fill:#009afa;stroke:#000000;stroke-linejoin:miter;\"/>\n",
       "   </g>\n",
       "   <g id=\"patch_8\">\n",
       "    <path clip-path=\"url(#pe82ed7c1b7)\" d=\"M 123.556971 190.408772 \n",
       "L 123.556971 265.378447 \n",
       "L 139.292622 265.378447 \n",
       "L 139.292622 190.408772 \n",
       "L 123.556971 190.408772 \n",
       "\" style=\"fill:#009afa;stroke:#000000;stroke-linejoin:miter;\"/>\n",
       "   </g>\n",
       "   <g id=\"patch_9\">\n",
       "    <path clip-path=\"url(#pe82ed7c1b7)\" d=\"M 139.292622 147.568958 \n",
       "L 139.292622 265.378447 \n",
       "L 155.028274 265.378447 \n",
       "L 155.028274 147.568958 \n",
       "L 139.292622 147.568958 \n",
       "\" style=\"fill:#009afa;stroke:#000000;stroke-linejoin:miter;\"/>\n",
       "   </g>\n",
       "   <g id=\"patch_10\">\n",
       "    <path clip-path=\"url(#pe82ed7c1b7)\" d=\"M 155.028274 94.01919 \n",
       "L 155.028274 265.378447 \n",
       "L 170.763926 265.378447 \n",
       "L 170.763926 94.01919 \n",
       "L 155.028274 94.01919 \n",
       "\" style=\"fill:#009afa;stroke:#000000;stroke-linejoin:miter;\"/>\n",
       "   </g>\n",
       "   <g id=\"patch_11\">\n",
       "    <path clip-path=\"url(#pe82ed7c1b7)\" d=\"M 170.763926 85.451228 \n",
       "L 170.763926 265.378447 \n",
       "L 186.499577 265.378447 \n",
       "L 186.499577 85.451228 \n",
       "L 170.763926 85.451228 \n",
       "\" style=\"fill:#009afa;stroke:#000000;stroke-linejoin:miter;\"/>\n",
       "   </g>\n",
       "   <g id=\"patch_12\">\n",
       "    <path clip-path=\"url(#pe82ed7c1b7)\" d=\"M 186.499577 49.037385 \n",
       "L 186.499577 265.378447 \n",
       "L 202.235229 265.378447 \n",
       "L 202.235229 49.037385 \n",
       "L 186.499577 49.037385 \n",
       "\" style=\"fill:#009afa;stroke:#000000;stroke-linejoin:miter;\"/>\n",
       "   </g>\n",
       "   <g id=\"patch_13\">\n",
       "    <path clip-path=\"url(#pe82ed7c1b7)\" d=\"M 202.235229 61.88933 \n",
       "L 202.235229 265.378447 \n",
       "L 217.97088 265.378447 \n",
       "L 217.97088 61.88933 \n",
       "L 202.235229 61.88933 \n",
       "\" style=\"fill:#009afa;stroke:#000000;stroke-linejoin:miter;\"/>\n",
       "   </g>\n",
       "   <g id=\"patch_14\">\n",
       "    <path clip-path=\"url(#pe82ed7c1b7)\" d=\"M 217.97088 14.765534 \n",
       "L 217.97088 265.378447 \n",
       "L 233.706532 265.378447 \n",
       "L 233.706532 14.765534 \n",
       "L 217.97088 14.765534 \n",
       "\" style=\"fill:#009afa;stroke:#000000;stroke-linejoin:miter;\"/>\n",
       "   </g>\n",
       "   <g id=\"patch_15\">\n",
       "    <path clip-path=\"url(#pe82ed7c1b7)\" d=\"M 233.706532 31.90146 \n",
       "L 233.706532 265.378447 \n",
       "L 249.442183 265.378447 \n",
       "L 249.442183 31.90146 \n",
       "L 233.706532 31.90146 \n",
       "\" style=\"fill:#009afa;stroke:#000000;stroke-linejoin:miter;\"/>\n",
       "   </g>\n",
       "   <g id=\"patch_16\">\n",
       "    <path clip-path=\"url(#pe82ed7c1b7)\" d=\"M 249.442183 55.463358 \n",
       "L 249.442183 265.378447 \n",
       "L 265.177835 265.378447 \n",
       "L 265.177835 55.463358 \n",
       "L 249.442183 55.463358 \n",
       "\" style=\"fill:#009afa;stroke:#000000;stroke-linejoin:miter;\"/>\n",
       "   </g>\n",
       "   <g id=\"patch_17\">\n",
       "    <path clip-path=\"url(#pe82ed7c1b7)\" d=\"M 265.177835 126.149051 \n",
       "L 265.177835 265.378447 \n",
       "L 280.913487 265.378447 \n",
       "L 280.913487 126.149051 \n",
       "L 265.177835 126.149051 \n",
       "\" style=\"fill:#009afa;stroke:#000000;stroke-linejoin:miter;\"/>\n",
       "   </g>\n",
       "   <g id=\"patch_18\">\n",
       "    <path clip-path=\"url(#pe82ed7c1b7)\" d=\"M 280.913487 156.136921 \n",
       "L 280.913487 265.378447 \n",
       "L 296.649138 265.378447 \n",
       "L 296.649138 156.136921 \n",
       "L 280.913487 156.136921 \n",
       "\" style=\"fill:#009afa;stroke:#000000;stroke-linejoin:miter;\"/>\n",
       "   </g>\n",
       "   <g id=\"patch_19\">\n",
       "    <path clip-path=\"url(#pe82ed7c1b7)\" d=\"M 296.649138 209.686689 \n",
       "L 296.649138 265.378447 \n",
       "L 312.38479 265.378447 \n",
       "L 312.38479 209.686689 \n",
       "L 296.649138 209.686689 \n",
       "\" style=\"fill:#009afa;stroke:#000000;stroke-linejoin:miter;\"/>\n",
       "   </g>\n",
       "   <g id=\"patch_20\">\n",
       "    <path clip-path=\"url(#pe82ed7c1b7)\" d=\"M 312.38479 241.81655 \n",
       "L 312.38479 265.378447 \n",
       "L 328.120441 265.378447 \n",
       "L 328.120441 241.81655 \n",
       "L 312.38479 241.81655 \n",
       "\" style=\"fill:#009afa;stroke:#000000;stroke-linejoin:miter;\"/>\n",
       "   </g>\n",
       "   <g id=\"patch_21\">\n",
       "    <path clip-path=\"url(#pe82ed7c1b7)\" d=\"M 328.120441 224.680624 \n",
       "L 328.120441 265.378447 \n",
       "L 343.856093 265.378447 \n",
       "L 343.856093 224.680624 \n",
       "L 328.120441 224.680624 \n",
       "\" style=\"fill:#009afa;stroke:#000000;stroke-linejoin:miter;\"/>\n",
       "   </g>\n",
       "   <g id=\"patch_22\">\n",
       "    <path clip-path=\"url(#pe82ed7c1b7)\" d=\"M 343.856093 246.100531 \n",
       "L 343.856093 265.378447 \n",
       "L 359.591744 265.378447 \n",
       "L 359.591744 246.100531 \n",
       "L 343.856093 246.100531 \n",
       "\" style=\"fill:#009afa;stroke:#000000;stroke-linejoin:miter;\"/>\n",
       "   </g>\n",
       "   <g id=\"patch_23\">\n",
       "    <path clip-path=\"url(#pe82ed7c1b7)\" d=\"M 359.591744 261.094466 \n",
       "L 359.591744 265.378447 \n",
       "L 375.327396 265.378447 \n",
       "L 375.327396 261.094466 \n",
       "L 359.591744 261.094466 \n",
       "\" style=\"fill:#009afa;stroke:#000000;stroke-linejoin:miter;\"/>\n",
       "   </g>\n",
       "   <g id=\"patch_24\">\n",
       "    <path clip-path=\"url(#pe82ed7c1b7)\" d=\"M 375.327396 263.236457 \n",
       "L 375.327396 265.378447 \n",
       "L 391.063048 265.378447 \n",
       "L 391.063048 263.236457 \n",
       "L 375.327396 263.236457 \n",
       "\" style=\"fill:#009afa;stroke:#000000;stroke-linejoin:miter;\"/>\n",
       "   </g>\n",
       "   <g id=\"patch_25\">\n",
       "    <path clip-path=\"url(#pe82ed7c1b7)\" d=\"M 391.063048 261.094466 \n",
       "L 391.063048 265.378447 \n",
       "L 406.798699 265.378447 \n",
       "L 406.798699 261.094466 \n",
       "L 391.063048 261.094466 \n",
       "\" style=\"fill:#009afa;stroke:#000000;stroke-linejoin:miter;\"/>\n",
       "   </g>\n",
       "   <g id=\"patch_26\">\n",
       "    <path clip-path=\"url(#pe82ed7c1b7)\" d=\"M 44.878713 261.094466 \n",
       "L 44.878713 265.378447 \n",
       "L 60.614365 265.378447 \n",
       "L 60.614365 261.094466 \n",
       "L 44.878713 261.094466 \n",
       "\" style=\"fill:#e36f47;stroke:#000000;stroke-linejoin:miter;\"/>\n",
       "   </g>\n",
       "   <g id=\"patch_27\">\n",
       "    <path clip-path=\"url(#pe82ed7c1b7)\" d=\"M 60.614365 256.810485 \n",
       "L 60.614365 265.378447 \n",
       "L 76.350016 265.378447 \n",
       "L 76.350016 256.810485 \n",
       "L 60.614365 256.810485 \n",
       "\" style=\"fill:#e36f47;stroke:#000000;stroke-linejoin:miter;\"/>\n",
       "   </g>\n",
       "   <g id=\"patch_28\">\n",
       "    <path clip-path=\"url(#pe82ed7c1b7)\" d=\"M 76.350016 243.95854 \n",
       "L 76.350016 265.378447 \n",
       "L 92.085668 265.378447 \n",
       "L 92.085668 243.95854 \n",
       "L 76.350016 243.95854 \n",
       "\" style=\"fill:#e36f47;stroke:#000000;stroke-linejoin:miter;\"/>\n",
       "   </g>\n",
       "   <g id=\"patch_29\">\n",
       "    <path clip-path=\"url(#pe82ed7c1b7)\" d=\"M 92.085668 233.248587 \n",
       "L 92.085668 265.378447 \n",
       "L 107.821319 265.378447 \n",
       "L 107.821319 233.248587 \n",
       "L 92.085668 233.248587 \n",
       "\" style=\"fill:#e36f47;stroke:#000000;stroke-linejoin:miter;\"/>\n",
       "   </g>\n",
       "   <g id=\"patch_30\">\n",
       "    <path clip-path=\"url(#pe82ed7c1b7)\" d=\"M 107.821319 205.402707 \n",
       "L 107.821319 265.378447 \n",
       "L 123.556971 265.378447 \n",
       "L 123.556971 205.402707 \n",
       "L 107.821319 205.402707 \n",
       "\" style=\"fill:#e36f47;stroke:#000000;stroke-linejoin:miter;\"/>\n",
       "   </g>\n",
       "   <g id=\"patch_31\">\n",
       "    <path clip-path=\"url(#pe82ed7c1b7)\" d=\"M 123.556971 188.266782 \n",
       "L 123.556971 265.378447 \n",
       "L 139.292622 265.378447 \n",
       "L 139.292622 188.266782 \n",
       "L 123.556971 188.266782 \n",
       "\" style=\"fill:#e36f47;stroke:#000000;stroke-linejoin:miter;\"/>\n",
       "   </g>\n",
       "   <g id=\"patch_32\">\n",
       "    <path clip-path=\"url(#pe82ed7c1b7)\" d=\"M 139.292622 151.85294 \n",
       "L 139.292622 265.378447 \n",
       "L 155.028274 265.378447 \n",
       "L 155.028274 151.85294 \n",
       "L 139.292622 151.85294 \n",
       "\" style=\"fill:#e36f47;stroke:#000000;stroke-linejoin:miter;\"/>\n",
       "   </g>\n",
       "   <g id=\"patch_33\">\n",
       "    <path clip-path=\"url(#pe82ed7c1b7)\" d=\"M 155.028274 100.445163 \n",
       "L 155.028274 265.378447 \n",
       "L 170.763926 265.378447 \n",
       "L 170.763926 100.445163 \n",
       "L 155.028274 100.445163 \n",
       "\" style=\"fill:#e36f47;stroke:#000000;stroke-linejoin:miter;\"/>\n",
       "   </g>\n",
       "   <g id=\"patch_34\">\n",
       "    <path clip-path=\"url(#pe82ed7c1b7)\" d=\"M 170.763926 46.895395 \n",
       "L 170.763926 265.378447 \n",
       "L 186.499577 265.378447 \n",
       "L 186.499577 46.895395 \n",
       "L 170.763926 46.895395 \n",
       "\" style=\"fill:#e36f47;stroke:#000000;stroke-linejoin:miter;\"/>\n",
       "   </g>\n",
       "   <g id=\"patch_35\">\n",
       "    <path clip-path=\"url(#pe82ed7c1b7)\" d=\"M 186.499577 10.481553 \n",
       "L 186.499577 265.378447 \n",
       "L 202.235229 265.378447 \n",
       "L 202.235229 10.481553 \n",
       "L 186.499577 10.481553 \n",
       "\" style=\"fill:#e36f47;stroke:#000000;stroke-linejoin:miter;\"/>\n",
       "   </g>\n",
       "   <g id=\"patch_36\">\n",
       "    <path clip-path=\"url(#pe82ed7c1b7)\" d=\"M 202.235229 34.04345 \n",
       "L 202.235229 265.378447 \n",
       "L 217.97088 265.378447 \n",
       "L 217.97088 34.04345 \n",
       "L 202.235229 34.04345 \n",
       "\" style=\"fill:#e36f47;stroke:#000000;stroke-linejoin:miter;\"/>\n",
       "   </g>\n",
       "   <g id=\"patch_37\">\n",
       "    <path clip-path=\"url(#pe82ed7c1b7)\" d=\"M 217.97088 40.469423 \n",
       "L 217.97088 265.378447 \n",
       "L 233.706532 265.378447 \n",
       "L 233.706532 40.469423 \n",
       "L 217.97088 40.469423 \n",
       "\" style=\"fill:#e36f47;stroke:#000000;stroke-linejoin:miter;\"/>\n",
       "   </g>\n",
       "   <g id=\"patch_38\">\n",
       "    <path clip-path=\"url(#pe82ed7c1b7)\" d=\"M 233.706532 83.309237 \n",
       "L 233.706532 265.378447 \n",
       "L 249.442183 265.378447 \n",
       "L 249.442183 83.309237 \n",
       "L 233.706532 83.309237 \n",
       "\" style=\"fill:#e36f47;stroke:#000000;stroke-linejoin:miter;\"/>\n",
       "   </g>\n",
       "   <g id=\"patch_39\">\n",
       "    <path clip-path=\"url(#pe82ed7c1b7)\" d=\"M 249.442183 53.321367 \n",
       "L 249.442183 265.378447 \n",
       "L 265.177835 265.378447 \n",
       "L 265.177835 53.321367 \n",
       "L 249.442183 53.321367 \n",
       "\" style=\"fill:#e36f47;stroke:#000000;stroke-linejoin:miter;\"/>\n",
       "   </g>\n",
       "   <g id=\"patch_40\">\n",
       "    <path clip-path=\"url(#pe82ed7c1b7)\" d=\"M 265.177835 143.284977 \n",
       "L 265.177835 265.378447 \n",
       "L 280.913487 265.378447 \n",
       "L 280.913487 143.284977 \n",
       "L 265.177835 143.284977 \n",
       "\" style=\"fill:#e36f47;stroke:#000000;stroke-linejoin:miter;\"/>\n",
       "   </g>\n",
       "   <g id=\"patch_41\">\n",
       "    <path clip-path=\"url(#pe82ed7c1b7)\" d=\"M 280.913487 171.130856 \n",
       "L 280.913487 265.378447 \n",
       "L 296.649138 265.378447 \n",
       "L 296.649138 171.130856 \n",
       "L 280.913487 171.130856 \n",
       "\" style=\"fill:#e36f47;stroke:#000000;stroke-linejoin:miter;\"/>\n",
       "   </g>\n",
       "   <g id=\"patch_42\">\n",
       "    <path clip-path=\"url(#pe82ed7c1b7)\" d=\"M 296.649138 201.118726 \n",
       "L 296.649138 265.378447 \n",
       "L 312.38479 265.378447 \n",
       "L 312.38479 201.118726 \n",
       "L 296.649138 201.118726 \n",
       "\" style=\"fill:#e36f47;stroke:#000000;stroke-linejoin:miter;\"/>\n",
       "   </g>\n",
       "   <g id=\"patch_43\">\n",
       "    <path clip-path=\"url(#pe82ed7c1b7)\" d=\"M 312.38479 239.674559 \n",
       "L 312.38479 265.378447 \n",
       "L 328.120441 265.378447 \n",
       "L 328.120441 239.674559 \n",
       "L 312.38479 239.674559 \n",
       "\" style=\"fill:#e36f47;stroke:#000000;stroke-linejoin:miter;\"/>\n",
       "   </g>\n",
       "   <g id=\"patch_44\">\n",
       "    <path clip-path=\"url(#pe82ed7c1b7)\" d=\"M 328.120441 252.526503 \n",
       "L 328.120441 265.378447 \n",
       "L 343.856093 265.378447 \n",
       "L 343.856093 252.526503 \n",
       "L 328.120441 252.526503 \n",
       "\" style=\"fill:#e36f47;stroke:#000000;stroke-linejoin:miter;\"/>\n",
       "   </g>\n",
       "   <g id=\"patch_45\">\n",
       "    <path clip-path=\"url(#pe82ed7c1b7)\" d=\"M 343.856093 256.810485 \n",
       "L 343.856093 265.378447 \n",
       "L 359.591744 265.378447 \n",
       "L 359.591744 256.810485 \n",
       "L 343.856093 256.810485 \n",
       "\" style=\"fill:#e36f47;stroke:#000000;stroke-linejoin:miter;\"/>\n",
       "   </g>\n",
       "   <g id=\"patch_46\">\n",
       "    <path clip-path=\"url(#pe82ed7c1b7)\" d=\"M 359.591744 258.952475 \n",
       "L 359.591744 265.378447 \n",
       "L 375.327396 265.378447 \n",
       "L 375.327396 258.952475 \n",
       "L 359.591744 258.952475 \n",
       "\" style=\"fill:#e36f47;stroke:#000000;stroke-linejoin:miter;\"/>\n",
       "   </g>\n",
       "   <g id=\"patch_47\">\n",
       "    <path clip-path=\"url(#pe82ed7c1b7)\" d=\"M 375.327396 263.236457 \n",
       "L 375.327396 265.378447 \n",
       "L 391.063048 265.378447 \n",
       "L 391.063048 263.236457 \n",
       "L 375.327396 263.236457 \n",
       "\" style=\"fill:#e36f47;stroke:#000000;stroke-linejoin:miter;\"/>\n",
       "   </g>\n",
       "   <g id=\"patch_48\">\n",
       "    <path d=\"M 22.512058 273.025354 \n",
       "L 22.512058 2.834646 \n",
       "\" style=\"fill:none;stroke:#000000;stroke-linecap:square;stroke-linejoin:miter;\"/>\n",
       "   </g>\n",
       "   <g id=\"patch_49\">\n",
       "    <path d=\"M 22.512058 273.025354 \n",
       "L 429.165354 273.025354 \n",
       "\" style=\"fill:none;stroke:#000000;stroke-linecap:square;stroke-linejoin:miter;\"/>\n",
       "   </g>\n",
       "   <g id=\"legend_1\">\n",
       "    <g id=\"patch_50\">\n",
       "     <path d=\"M 380.140354 39.119646 \n",
       "L 425.165354 39.119646 \n",
       "L 425.165354 6.834646 \n",
       "L 380.140354 6.834646 \n",
       "z\n",
       "\" style=\"fill:#ffffff;stroke:#000000;stroke-linejoin:miter;\"/>\n",
       "    </g>\n",
       "    <g id=\"patch_51\">\n",
       "     <path d=\"M 386.540354 19.313396 \n",
       "L 402.540354 19.313396 \n",
       "L 402.540354 13.713396 \n",
       "L 386.540354 13.713396 \n",
       "z\n",
       "\" style=\"fill:#009afa;stroke:#000000;stroke-linejoin:miter;\"/>\n",
       "    </g>\n",
       "    <g id=\"text_11\">\n",
       "     <!-- y1 -->\n",
       "     <g transform=\"translate(408.940354 19.313396)scale(0.08 -0.08)\">\n",
       "      <defs>\n",
       "       <path d=\"M 32.171875 -5.078125 \n",
       "Q 28.375 -14.84375 24.75 -17.8125 \n",
       "Q 21.140625 -20.796875 15.09375 -20.796875 \n",
       "L 7.90625 -20.796875 \n",
       "L 7.90625 -13.28125 \n",
       "L 13.1875 -13.28125 \n",
       "Q 16.890625 -13.28125 18.9375 -11.515625 \n",
       "Q 21 -9.765625 23.484375 -3.21875 \n",
       "L 25.09375 0.875 \n",
       "L 2.984375 54.6875 \n",
       "L 12.5 54.6875 \n",
       "L 29.59375 11.921875 \n",
       "L 46.6875 54.6875 \n",
       "L 56.203125 54.6875 \n",
       "z\n",
       "\" id=\"DejaVuSans-121\"/>\n",
       "      </defs>\n",
       "      <use xlink:href=\"#DejaVuSans-121\"/>\n",
       "      <use x=\"59.179688\" xlink:href=\"#DejaVuSans-49\"/>\n",
       "     </g>\n",
       "    </g>\n",
       "    <g id=\"patch_52\">\n",
       "     <path d=\"M 386.540354 31.055896 \n",
       "L 402.540354 31.055896 \n",
       "L 402.540354 25.455896 \n",
       "L 386.540354 25.455896 \n",
       "z\n",
       "\" style=\"fill:#e36f47;stroke:#000000;stroke-linejoin:miter;\"/>\n",
       "    </g>\n",
       "    <g id=\"text_12\">\n",
       "     <!-- y2 -->\n",
       "     <g transform=\"translate(408.940354 31.055896)scale(0.08 -0.08)\">\n",
       "      <use xlink:href=\"#DejaVuSans-121\"/>\n",
       "      <use x=\"59.179688\" xlink:href=\"#DejaVuSans-50\"/>\n",
       "     </g>\n",
       "    </g>\n",
       "   </g>\n",
       "  </g>\n",
       " </g>\n",
       " <defs>\n",
       "  <clipPath id=\"pe82ed7c1b7\">\n",
       "   <rect height=\"270.190709\" width=\"406.653297\" x=\"22.512058\" y=\"2.834646\"/>\n",
       "  </clipPath>\n",
       " </defs>\n",
       "</svg>\n"
      ],
      "text/html": [
       "<img src=\"data:image/png;base64,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\" />"
      ]
     },
     "execution_count": 73,
     "metadata": {},
     "output_type": "execute_result"
    }
   ],
   "source": [
    "histogram(loc_samp[:, 1])\n",
    "histogram!(loc_samp[:, 2])"
   ]
  },
  {
   "cell_type": "markdown",
   "metadata": {},
   "source": [
    "Need to calc log likelihood from the empirical distribution"
   ]
  },
  {
   "cell_type": "code",
   "execution_count": null,
   "metadata": {},
   "outputs": [],
   "source": []
  }
 ],
 "metadata": {
  "@webio": {
   "lastCommId": "2f9d341618174490b7265f614307909a",
   "lastKernelId": "d0c15c61-c07a-4439-87be-2be58bf958eb"
  },
  "kernelspec": {
   "display_name": "Julia 1.5.1",
   "language": "julia",
   "name": "julia-1.5"
  },
  "language_info": {
   "file_extension": ".jl",
   "mimetype": "application/julia",
   "name": "julia",
   "version": "1.5.1"
  }
 },
 "nbformat": 4,
 "nbformat_minor": 2
}
