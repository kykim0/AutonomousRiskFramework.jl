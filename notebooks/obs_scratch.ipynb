{
 "cells": [
  {
   "cell_type": "code",
   "execution_count": 1,
   "metadata": {},
   "outputs": [
    {
     "data": {
      "text/html": [
       "<script>\n",
       "// Immediately-invoked-function-expression to avoid global variables.\n",
       "(function() {\n",
       "    var warning_div = document.getElementById(\"webio-warning-5671540562123054925\");\n",
       "    var hide = function () {\n",
       "        var script = document.getElementById(\"webio-setup-8039393991627099159\");\n",
       "        var parent = script && script.parentElement;\n",
       "        var grandparent = parent && parent.parentElement;\n",
       "        if (grandparent) {\n",
       "            grandparent.style.display = \"none\";\n",
       "        }\n",
       "        warning_div.style.display = \"none\";\n",
       "    };\n",
       "    if (typeof Jupyter !== \"undefined\") {\n",
       "        console.log(\"WebIO detected Jupyter notebook environment.\");\n",
       "        // Jupyter notebook.\n",
       "        var extensions = (\n",
       "            Jupyter\n",
       "            && Jupyter.notebook.config.data\n",
       "            && Jupyter.notebook.config.data.load_extensions\n",
       "        );\n",
       "        if (extensions && extensions[\"webio-jupyter-notebook\"]) {\n",
       "            // Extension already loaded.\n",
       "            console.log(\"Jupyter WebIO nbextension detected; not loading ad-hoc.\");\n",
       "            hide();\n",
       "            return;\n",
       "        }\n",
       "    } else if (window.location.pathname.includes(\"/lab\")) {\n",
       "        // Guessing JupyterLa\n",
       "        console.log(\"Jupyter Lab detected; make sure the @webio/jupyter-lab-provider labextension is installed.\");\n",
       "        hide();\n",
       "        return;\n",
       "    }\n",
       "})();\n",
       "\n",
       "</script>\n",
       "<p\n",
       "    id=\"webio-warning-5671540562123054925\"\n",
       "    class=\"output_text output_stderr\"\n",
       "    style=\"padding: 1em; font-weight: bold;\"\n",
       ">\n",
       "    Unable to load WebIO. Please make sure WebIO works for your Jupyter client.\n",
       "    For troubleshooting, please see <a href=\"https://juliagizmos.github.io/WebIO.jl/latest/providers/ijulia/\">\n",
       "    the WebIO/IJulia documentation</a>.\n",
       "    <!-- TODO: link to installation docs. -->\n",
       "</p>\n"
      ],
      "text/plain": [
       "HTML{String}(\"<script>\\n// Immediately-invoked-function-expression to avoid global variables.\\n(function() {\\n    var warning_div = document.getElementById(\\\"webio-warning-5671540562123054925\\\");\\n    var hide = function () {\\n        var script = document.getElementById(\\\"webio-setup-8039393991627099159\\\");\\n        var parent = script && script.parentElement;\\n        var grandparent = parent && parent.parentElement;\\n        if (grandparent) {\\n            grandparent.style.display = \\\"none\\\";\\n        }\\n        warning_div.style.display = \\\"none\\\";\\n    };\\n    if (typeof Jupyter !== \\\"undefined\\\") {\\n        console.log(\\\"WebIO detected Jupyter notebook environment.\\\");\\n        // Jupyter notebook.\\n        var extensions = (\\n            Jupyter\\n            && Jupyter.notebook.config.data\\n            && Jupyter.notebook.config.data.load_extensions\\n        );\\n        if (extensions && extensions[\\\"webio-jupyter-notebook\\\"]) {\\n            // Extension already loaded.\\n            console.log(\\\"Jupyter WebIO nbextension detected; not loading ad-hoc.\\\");\\n            hide();\\n            return;\\n        }\\n    } else if (window.location.pathname.includes(\\\"/lab\\\")) {\\n        // Guessing JupyterLa\\n        console.log(\\\"Jupyter Lab detected; make sure the @webio/jupyter-lab-provider labextension is installed.\\\");\\n        hide();\\n        return;\\n    }\\n})();\\n\\n</script>\\n<p\\n    id=\\\"webio-warning-5671540562123054925\\\"\\n    class=\\\"output_text output_stderr\\\"\\n    style=\\\"padding: 1em; font-weight: bold;\\\"\\n>\\n    Unable to load WebIO. Please make sure WebIO works for your Jupyter client.\\n    For troubleshooting, please see <a href=\\\"https://juliagizmos.github.io/WebIO.jl/latest/providers/ijulia/\\\">\\n    the WebIO/IJulia documentation</a>.\\n    <!-- TODO: link to installation docs. -->\\n</p>\\n\")"
      ]
     },
     "metadata": {},
     "output_type": "display_data"
    }
   ],
   "source": [
    "using Markdown\n",
    "using InteractiveUtils\n",
    "using Interact"
   ]
  },
  {
   "cell_type": "code",
   "execution_count": 2,
   "metadata": {},
   "outputs": [],
   "source": [
    "using LinearAlgebra"
   ]
  },
  {
   "cell_type": "code",
   "execution_count": 3,
   "metadata": {},
   "outputs": [],
   "source": [
    "using Revise"
   ]
  },
  {
   "cell_type": "code",
   "execution_count": 4,
   "metadata": {},
   "outputs": [],
   "source": [
    "using Pkg\n",
    "# Pkg.develop(PackageSpec(url=\"/home/users/shubhgup/Codes/julia_learn/scripts/AutonomousRiskFramework/AdversarialDriving.jl\"))\n",
    "# Pkg.develop(PackageSpec(url=\"/home/users/shubhgup/Codes/julia_learn/scripts/AutonomousRiskFramework/RiskSimulator.jl\"))\n",
    "# Pkg.develop(PackageSpec(url=\"/home/users/shubhgup/Codes/julia_learn/scripts/AutonomousRiskFramework/STLCG.jl\"))"
   ]
  },
  {
   "cell_type": "code",
   "execution_count": 5,
   "metadata": {},
   "outputs": [],
   "source": [
    "# using WebIO\n",
    "# WebIO.install_jupyter_nbextension()"
   ]
  },
  {
   "cell_type": "code",
   "execution_count": 6,
   "metadata": {},
   "outputs": [],
   "source": [
    "using Distributions, Parameters, Random, Latexify, PlutoUI"
   ]
  },
  {
   "cell_type": "code",
   "execution_count": 7,
   "metadata": {},
   "outputs": [],
   "source": [
    "using AutomotiveSimulator, AutomotiveVisualization"
   ]
  },
  {
   "cell_type": "code",
   "execution_count": 8,
   "metadata": {},
   "outputs": [
    {
     "name": "stderr",
     "output_type": "stream",
     "text": [
      "┌ Info: Precompiling AdversarialDriving [0f7eb3e9-d51f-47f4-b915-6157e1c8ce29]\n",
      "└ @ Base loading.jl:1278\n"
     ]
    }
   ],
   "source": [
    "using AdversarialDriving"
   ]
  },
  {
   "cell_type": "code",
   "execution_count": 9,
   "metadata": {},
   "outputs": [],
   "source": [
    "using POMDPs, POMDPPolicies, POMDPSimulators"
   ]
  },
  {
   "cell_type": "code",
   "execution_count": 10,
   "metadata": {},
   "outputs": [],
   "source": [
    "using POMDPStressTesting"
   ]
  },
  {
   "cell_type": "code",
   "execution_count": 11,
   "metadata": {},
   "outputs": [],
   "source": [
    "Base.rand(rng::AbstractRNG, s::Scene) = s"
   ]
  },
  {
   "cell_type": "markdown",
   "metadata": {},
   "source": [
    "### Function Definitions"
   ]
  },
  {
   "cell_type": "code",
   "execution_count": 12,
   "metadata": {},
   "outputs": [],
   "source": [
    "# # The function that propagates the PedestrianControl action\n",
    "# function AdversarialDriving.propagate(ped::Entity{NoisyPedState, D, I}, action::PedestrianControl, roadway::Roadway, Δt::Float64) where {D, I}\n",
    "#     starting_lane = laneid(ped)\n",
    "#     vs_entity = Entity(ped.state.veh_state, ped.def, ped.id)\n",
    "#     a_lat_lon = reverse(action.a + action.da)\n",
    "#     vs = propagate(vs_entity, LatLonAccel(a_lat_lon...), roadway, Δt)\n",
    "#     upd_noise = Noise((ped.state.noise.pos[1] + action.noise.pos[1] + action.noise.vel*Δt, ped.state.noise.pos[2] + action.noise.pos[2]), action.noise.vel)\n",
    "#     nps = NoisyPedState(AdversarialDriving.set_lane(vs, laneid(ped), roadway), upd_noise)\n",
    "#     @assert starting_lane == laneid(nps)\n",
    "#     nps\n",
    "# end"
   ]
  },
  {
   "cell_type": "code",
   "execution_count": 13,
   "metadata": {},
   "outputs": [],
   "source": [
    "# # The function to get GPS measurements for pedestrian, compute state estimate and update noise\n",
    "# function measure_gps(ped::Entity{NoisyPedState, D, I}, fixed_sat::Array{Satellite}, noise::Array{Float64}) where {D, I}\n",
    "#     ped_pos = posg(ped)\n",
    "    \n",
    "#     ranges = Union{Missing, GPSRangeMeasurement}[]\n",
    "    \n",
    "#     for i in 1:length(fixed_sat)\n",
    "#         satpos = fixed_sat[i].pos\n",
    "#         if fixed_sat[i].visible==true\n",
    "#             range = hypot(ped_pos.x - satpos.x, ped_pos.y - satpos.y, satpos.z)\n",
    "#             push!(ranges, GPSRangeMeasurement(range=range, noise=noise[i]))\n",
    "#         else\n",
    "#             push!(ranges, missing)\n",
    "#         end\n",
    "#     end\n",
    "    \n",
    "#     ranges\n",
    "# end"
   ]
  },
  {
   "cell_type": "code",
   "execution_count": 14,
   "metadata": {},
   "outputs": [],
   "source": [
    "# measure_gps(ped_state, fixed_sat, [0.0, 0.0, 0.0, 0.0])"
   ]
  },
  {
   "cell_type": "code",
   "execution_count": 15,
   "metadata": {},
   "outputs": [],
   "source": [
    "# function update_all_measurements(ped::Entity{NoisyPedState, D, I}, all_measurements) where {D, I}\n",
    "#     single_time_measurements = Array{Measurement}[] \n",
    "# end"
   ]
  },
  {
   "cell_type": "code",
   "execution_count": 16,
   "metadata": {},
   "outputs": [],
   "source": [
    "# # Instructions for rendering the noisy pedestrian\n",
    "# function AutomotiveVisualization.add_renderable!(rendermodel::RenderModel, ped::Entity{NoisyPedState, VehicleDef, Int64})\n",
    "#     reg_ped = Entity(ped.state.veh_state, ped.def, ped.id)\n",
    "#     add_renderable!(rendermodel, FancyPedestrian(ped=reg_ped))\n",
    "#     noisy_ped = Entity(noisy_entity(ped, ad_mdp.roadway).state.veh_state, ped.def, ped.id)\n",
    "#     ghost_color = weighted_color_mean(0.3, colorant\"blue\", colorant\"white\")\n",
    "#     add_renderable!(rendermodel, FancyPedestrian(ped=noisy_ped, color=ghost_color))\n",
    "#     return rendermodel\n",
    "# end"
   ]
  },
  {
   "cell_type": "code",
   "execution_count": 17,
   "metadata": {},
   "outputs": [],
   "source": [
    "# function AdversarialDriving.update_adversary!(adversary::Agent, action::Disturbance, s::Scene)\n",
    "#     index = findfirst(id(adversary), s)\n",
    "#     isnothing(index) && return nothing # If the adversary is not in the scene then don't update\n",
    "#     adversary.model.next_action = action # Set the adversaries next action\n",
    "#     # veh = s[index] # Get the actual entity\n",
    "#     # state_type = typeof(veh.state) # Find out the type of its state\n",
    "#     # s[index] =  Entity(state_type(veh.state, noise = action.noise), veh.def, veh.id) # replace the entity in the scene\n",
    "# end"
   ]
  },
  {
   "cell_type": "code",
   "execution_count": 18,
   "metadata": {},
   "outputs": [],
   "source": [
    "# Function to assign action as state noise directly\n",
    "function AdversarialDriving.localize(ped::Entity{NoisyPedState, D, I}, action::PedestrianControl, meas, roadway::Roadway) where {D,I}\n",
    "    upd_noise = Noise(pos = (action.noise.pos[1], action.noise.pos[2]), vel = action.noise.vel)\n",
    "    nps = NoisyPedState(ped.state.veh_state, upd_noise)\n",
    "    nps\n",
    "end"
   ]
  },
  {
   "cell_type": "code",
   "execution_count": 19,
   "metadata": {},
   "outputs": [],
   "source": [
    "# # Function to track the state of a pedestrian using velocity measurements\n",
    "# function AdversarialDriving.localize(ped::Entity{NoisyPedState, D, I}, action::PedestrianControl, meas, roadway::Roadway) where {D,I}\n",
    "#     # TODO: Replace with a higher-fidelity localization routine\n",
    "#     ped_noise = noise(ped)\n",
    "#     upd_noise = Noise(pos = (ped_noise.pos[1] + action.noise.vel*0.1, ped_noise.pos[2]), vel = action.noise.vel)\n",
    "#     nps = NoisyPedState(ped.state.veh_state, upd_noise)\n",
    "#     nps\n",
    "# end"
   ]
  },
  {
   "cell_type": "code",
   "execution_count": 20,
   "metadata": {},
   "outputs": [],
   "source": [
    "# # # Function to estimate the state of a pedestrian using GPS measurements\n",
    "# function localize(ped::Entity{NoisyPedState, D, I}, action::PedestrianControl, meas, roadway::Roadway) where {D,I}\n",
    "#     # TODO: Replace with a higher-fidelity localization routine\n",
    "#     last_meas = last(meas)\n",
    "#     gps_fix = GPS_fix(last_meas)\n",
    "#     ped_pos = posg(ped)\n",
    "#     upd_noise = Noise(pos = (gps_fix[1] - ped_pos.x, gps_fix[2] - ped_pos.y), vel = action.noise.vel)\n",
    "#     nps = NoisyPedState(ped.state.veh_state, upd_noise)\n",
    "#     nps\n",
    "# end"
   ]
  },
  {
   "cell_type": "code",
   "execution_count": 21,
   "metadata": {},
   "outputs": [],
   "source": [
    "# function logprob(ped::Entity{NoisyPedState, D, I}, action::PedestrianControl, meas, roadway::Roadway) where {D,I}\n",
    "    \n",
    "# end"
   ]
  },
  {
   "cell_type": "markdown",
   "metadata": {},
   "source": [
    "### Main"
   ]
  },
  {
   "cell_type": "code",
   "execution_count": 67,
   "metadata": {},
   "outputs": [
    {
     "data": {
      "text/plain": [
       "Noise\n",
       "  pos: VecE2{Float64}\n",
       "  vel: Float64 0.0\n",
       "  gps_range: Array{Float64}((5,)) [0.0, 0.0, 0.0, 0.0, 0.0]\n"
      ]
     },
     "execution_count": 67,
     "metadata": {},
     "output_type": "execute_result"
    }
   ],
   "source": [
    "init_noise = Noise(pos = (0, 0), vel = 0, gps_range = [0.0, 0.0, 0.0, 0.0, 0.0])\n",
    "cont_noise = Noise(pos = (-7, 0), vel = 0, gps_range = [0.0, 0.0, 0.0, 0.0, 0.0])"
   ]
  },
  {
   "cell_type": "code",
   "execution_count": 68,
   "metadata": {},
   "outputs": [],
   "source": [
    "sut_agent = BlinkerVehicleAgent(get_ped_vehicle(id=1, s=5.0, v=15.0),\n",
    "    TIDM(ped_TIDM_template, noisy_observations=true));"
   ]
  },
  {
   "cell_type": "code",
   "execution_count": 69,
   "metadata": {},
   "outputs": [
    {
     "data": {
      "text/plain": [
       "get_pedestrian_noisy (generic function with 1 method)"
      ]
     },
     "execution_count": 69,
     "metadata": {},
     "output_type": "execute_result"
    }
   ],
   "source": [
    "get_pedestrian_noisy(;id::Int64, s::Float64, v::Float64, noise::Noise) = (rng::AbstractRNG = Random.GLOBAL_RNG) -> NoisyPedestrian(roadway = AdversarialDriving.ped_roadway, lane = 2, s=s, v=v, id=id, noise=noise)"
   ]
  },
  {
   "cell_type": "code",
   "execution_count": 70,
   "metadata": {},
   "outputs": [],
   "source": [
    "adv_ped = NoisyPedestrianAgent(get_pedestrian_noisy(id=2, s=7.0, v=2.0, noise=init_noise), AdversarialPedestrian());"
   ]
  },
  {
   "cell_type": "code",
   "execution_count": 71,
   "metadata": {},
   "outputs": [],
   "source": [
    "ad_mdp = AdversarialDrivingMDP(sut_agent, [adv_ped], ped_roadway, 0.1);"
   ]
  },
  {
   "cell_type": "code",
   "execution_count": 72,
   "metadata": {},
   "outputs": [
    {
     "data": {
      "text/plain": [
       "Scene{Entity{S,VehicleDef,Int64} where S}(2 entities)"
      ]
     },
     "execution_count": 72,
     "metadata": {},
     "output_type": "execute_result"
    }
   ],
   "source": [
    "ped_state, veh_state = initialstate(ad_mdp)"
   ]
  },
  {
   "cell_type": "code",
   "execution_count": 73,
   "metadata": {},
   "outputs": [
    {
     "data": {
      "text/plain": [
       "1-element Array{Disturbance,1}:\n",
       " PedestrianControl\n",
       "  a: VecE2{Float64}\n",
       "  da: VecE2{Float64}\n",
       "  noise: Noise\n"
      ]
     },
     "execution_count": 73,
     "metadata": {},
     "output_type": "execute_result"
    }
   ],
   "source": [
    "noisy_action = Disturbance[PedestrianControl(a=VecE2(0, 0), da=VecE2(0, 0), noise=cont_noise)]"
   ]
  },
  {
   "cell_type": "code",
   "execution_count": 74,
   "metadata": {},
   "outputs": [],
   "source": [
    "# Behavior with noise\n",
    "hist_noise = POMDPSimulators.simulate(HistoryRecorder(), ad_mdp,\n",
    "    FunctionPolicy((s) -> noisy_action));"
   ]
  },
  {
   "cell_type": "code",
   "execution_count": 75,
   "metadata": {},
   "outputs": [
    {
     "data": {
      "text/plain": [
       "12-element Array{Tuple{Float64,Float64,Float64},1}:\n",
       " (-2.9999999999999982, -2.9999999999999982, 0.0)\n",
       " (-2.799999999999998, -9.8, -7.0)\n",
       " (-2.599999999999997, -9.599999999999994, -7.0)\n",
       " (-2.3999999999999977, -9.399999999999999, -7.0)\n",
       " (-2.1999999999999975, -9.2, -7.0)\n",
       " (-1.9999999999999982, -9.0, -7.0)\n",
       " (-1.799999999999999, -8.799999999999999, -7.0)\n",
       " (-1.5999999999999996, -8.599999999999998, -7.0)\n",
       " (-1.4000000000000004, -8.399999999999999, -7.0)\n",
       " (-1.200000000000001, -8.200000000000003, -7.0)\n",
       " (-1.0, -7.999999999999998, -7.0)\n",
       " (-0.7999999999999989, -7.799999999999998, -7.0)"
      ]
     },
     "execution_count": 75,
     "metadata": {},
     "output_type": "execute_result"
    }
   ],
   "source": [
    "map(x -> (x.entities[1].state.veh_state.posG[2], AdversarialDriving.noisy_entity(x.entities[1], ad_mdp.roadway).state.veh_state.posG[2], noise(x.entities[1]).pos[1]) , POMDPSimulators.stepthrough(ad_mdp, FunctionPolicy((s) -> noisy_action), \"s\", max_steps=20))"
   ]
  },
  {
   "cell_type": "code",
   "execution_count": 76,
   "metadata": {},
   "outputs": [],
   "source": [
    "ad_scenes_noise = state_hist(hist_noise);"
   ]
  },
  {
   "cell_type": "code",
   "execution_count": 77,
   "metadata": {},
   "outputs": [
    {
     "data": {
      "application/vnd.webio.node+json": {
       "children": [
        {
         "children": [
          {
           "children": [
            {
             "children": [
              {
               "children": [
                {
                 "children": [
                  "t"
                 ],
                 "instanceArgs": {
                  "namespace": "html",
                  "tag": "label"
                 },
                 "nodeType": "DOM",
                 "props": {
                  "className": "interact ",
                  "style": {
                   "padding": "5px 10px 0px 10px"
                  }
                 },
                 "type": "node"
                }
               ],
               "instanceArgs": {
                "namespace": "html",
                "tag": "div"
               },
               "nodeType": "DOM",
               "props": {
                "className": "interact-flex-row-left"
               },
               "type": "node"
              },
              {
               "children": [
                {
                 "children": [],
                 "instanceArgs": {
                  "namespace": "html",
                  "tag": "input"
                 },
                 "nodeType": "DOM",
                 "props": {
                  "attributes": {
                   "data-bind": "numericValue: index, valueUpdate: 'input', event: {change: function (){this.changes(this.changes()+1)}}",
                   "orient": "horizontal",
                   "type": "range"
                  },
                  "className": "slider slider is-fullwidth",
                  "max": 13,
                  "min": 1,
                  "step": 1,
                  "style": {}
                 },
                 "type": "node"
                }
               ],
               "instanceArgs": {
                "namespace": "html",
                "tag": "div"
               },
               "nodeType": "DOM",
               "props": {
                "className": "interact-flex-row-center"
               },
               "type": "node"
              },
              {
               "children": [
                {
                 "children": [],
                 "instanceArgs": {
                  "namespace": "html",
                  "tag": "p"
                 },
                 "nodeType": "DOM",
                 "props": {
                  "attributes": {
                   "data-bind": "text: formatted_val"
                  }
                 },
                 "type": "node"
                }
               ],
               "instanceArgs": {
                "namespace": "html",
                "tag": "div"
               },
               "nodeType": "DOM",
               "props": {
                "className": "interact-flex-row-right"
               },
               "type": "node"
              }
             ],
             "instanceArgs": {
              "namespace": "html",
              "tag": "div"
             },
             "nodeType": "DOM",
             "props": {
              "className": "interact-flex-row interact-widget"
             },
             "type": "node"
            }
           ],
           "instanceArgs": {
            "handlers": {
             "changes": [
              "(function (val){return (val!=this.model[\"changes\"]()) ? (this.valueFromJulia[\"changes\"]=true, this.model[\"changes\"](val)) : undefined})"
             ],
             "index": [
              "(function (val){return (val!=this.model[\"index\"]()) ? (this.valueFromJulia[\"index\"]=true, this.model[\"index\"](val)) : undefined})"
             ]
            },
            "id": "13744758810541119308",
            "imports": {
             "data": [
              {
               "name": "knockout",
               "type": "js",
               "url": "/assetserver/f83dc9757fede95ccda667ff812a2fcf4fcea406-knockout.js"
              },
              {
               "name": "knockout_punches",
               "type": "js",
               "url": "/assetserver/489381353c6689ef066cceedc5f4603376aece34-knockout_punches.js"
              },
              {
               "name": null,
               "type": "js",
               "url": "/assetserver/2b9a0101b1182967c1bc8e647e40e503b7f91214-all.js"
              },
              {
               "name": null,
               "type": "css",
               "url": "/assetserver/16c36b047c84a455687c728543beff2b71551cae-style.css"
              },
              {
               "name": null,
               "type": "css",
               "url": "/assetserver/d905e3af6552e0c7d3e81225bc2f25b3475dc59b-bulma_confined.min.css"
              }
             ],
             "type": "async_block"
            },
            "mount_callbacks": [
             "function () {\n    var handler = (function (ko, koPunches) {\n    ko.punches.enableAll();\n    ko.bindingHandlers.numericValue = {\n        init: function(element, valueAccessor, allBindings, data, context) {\n            var stringified = ko.observable(ko.unwrap(valueAccessor()));\n            stringified.subscribe(function(value) {\n                var val = parseFloat(value);\n                if (!isNaN(val)) {\n                    valueAccessor()(val);\n                }\n            });\n            valueAccessor().subscribe(function(value) {\n                var str = JSON.stringify(value);\n                if ((str == \"0\") && ([\"-0\", \"-0.\"].indexOf(stringified()) >= 0))\n                     return;\n                 if ([\"null\", \"\"].indexOf(str) >= 0)\n                     return;\n                stringified(str);\n            });\n            ko.applyBindingsToNode(\n                element,\n                {\n                    value: stringified,\n                    valueUpdate: allBindings.get('valueUpdate'),\n                },\n                context,\n            );\n        }\n    };\n    var json_data = {\"formatted_vals\":[\"1\",\"2\",\"3\",\"4\",\"5\",\"6\",\"7\",\"8\",\"9\",\"10\",\"11\",\"12\",\"13\"],\"changes\":WebIO.getval({\"name\":\"changes\",\"scope\":\"13744758810541119308\",\"id\":\"1358650500016604514\",\"type\":\"observable\"}),\"index\":WebIO.getval({\"name\":\"index\",\"scope\":\"13744758810541119308\",\"id\":\"11243657969193368047\",\"type\":\"observable\"})};\n    var self = this;\n    function AppViewModel() {\n        for (var key in json_data) {\n            var el = json_data[key];\n            this[key] = Array.isArray(el) ? ko.observableArray(el) : ko.observable(el);\n        }\n        \n        [this[\"formatted_val\"]=ko.computed(    function(){\n        return this.formatted_vals()[parseInt(this.index())-(1)];\n    }\n,this)]\n        [this[\"changes\"].subscribe((function (val){!(this.valueFromJulia[\"changes\"]) ? (WebIO.setval({\"name\":\"changes\",\"scope\":\"13744758810541119308\",\"id\":\"1358650500016604514\",\"type\":\"observable\"},val)) : undefined; return this.valueFromJulia[\"changes\"]=false}),self),this[\"index\"].subscribe((function (val){!(this.valueFromJulia[\"index\"]) ? (WebIO.setval({\"name\":\"index\",\"scope\":\"13744758810541119308\",\"id\":\"11243657969193368047\",\"type\":\"observable\"},val)) : undefined; return this.valueFromJulia[\"index\"]=false}),self)]\n        \n    }\n    self.model = new AppViewModel();\n    self.valueFromJulia = {};\n    for (var key in json_data) {\n        self.valueFromJulia[key] = false;\n    }\n    ko.applyBindings(self.model, self.dom);\n}\n);\n    (WebIO.importBlock({\"data\":[{\"name\":\"knockout\",\"type\":\"js\",\"url\":\"/assetserver/f83dc9757fede95ccda667ff812a2fcf4fcea406-knockout.js\"},{\"name\":\"knockout_punches\",\"type\":\"js\",\"url\":\"/assetserver/489381353c6689ef066cceedc5f4603376aece34-knockout_punches.js\"}],\"type\":\"async_block\"})).then((imports) => handler.apply(this, imports));\n}\n"
            ],
            "observables": {
             "changes": {
              "id": "1358650500016604514",
              "sync": false,
              "value": 0
             },
             "index": {
              "id": "11243657969193368047",
              "sync": true,
              "value": 7
             }
            },
            "systemjs_options": null
           },
           "nodeType": "Scope",
           "props": {},
           "type": "node"
          }
         ],
         "instanceArgs": {
          "namespace": "html",
          "tag": "div"
         },
         "nodeType": "DOM",
         "props": {
          "className": "field interact-widget"
         },
         "type": "node"
        },
        {
         "children": [
          {
           "children": [],
           "instanceArgs": {
            "id": "16153760276072410430",
            "name": "obs-node"
           },
           "nodeType": "ObservableNode",
           "props": {},
           "type": "node"
          }
         ],
         "instanceArgs": {
          "handlers": {},
          "id": "7953588359490498782",
          "imports": {
           "data": [],
           "type": "async_block"
          },
          "mount_callbacks": [],
          "observables": {
           "obs-node": {
            "id": "16153760276072410430",
            "sync": false,
            "value": {
             "children": [
              {
               "children": [],
               "instanceArgs": {
                "namespace": "html",
                "tag": "div"
               },
               "nodeType": "DOM",
               "props": {
                "setInnerHtml": "<img src='data:image/png;base64,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'></img>"
               },
               "type": "node"
              }
             ],
             "instanceArgs": {
              "namespace": "html",
              "tag": "div"
             },
             "nodeType": "DOM",
             "props": {
              "className": "interact-flex-row interact-widget"
             },
             "type": "node"
            }
           }
          },
          "systemjs_options": null
         },
         "nodeType": "Scope",
         "props": {},
         "type": "node"
        }
       ],
       "instanceArgs": {
        "namespace": "html",
        "tag": "div"
       },
       "nodeType": "DOM",
       "props": {},
       "type": "node"
      },
      "text/html": [
       "<div\n",
       "    class=\"webio-mountpoint\"\n",
       "    data-webio-mountpoint=\"5394637871143922754\"\n",
       ">\n",
       "    <script>\n",
       "    if (window.require && require.defined && require.defined(\"nbextensions/webio-jupyter-notebook\")) {\n",
       "        console.log(\"Jupyter WebIO extension detected, not mounting.\");\n",
       "    } else if (window.WebIO) {\n",
       "        WebIO.mount(\n",
       "            document.querySelector('[data-webio-mountpoint=\"5394637871143922754\"]'),\n",
       "            {\"props\":{},\"nodeType\":\"DOM\",\"type\":\"node\",\"instanceArgs\":{\"namespace\":\"html\",\"tag\":\"div\"},\"children\":[{\"props\":{\"className\":\"field interact-widget\"},\"nodeType\":\"DOM\",\"type\":\"node\",\"instanceArgs\":{\"namespace\":\"html\",\"tag\":\"div\"},\"children\":[{\"props\":{},\"nodeType\":\"Scope\",\"type\":\"node\",\"instanceArgs\":{\"imports\":{\"data\":[{\"name\":\"knockout\",\"type\":\"js\",\"url\":\"\\/assetserver\\/f83dc9757fede95ccda667ff812a2fcf4fcea406-knockout.js\"},{\"name\":\"knockout_punches\",\"type\":\"js\",\"url\":\"\\/assetserver\\/489381353c6689ef066cceedc5f4603376aece34-knockout_punches.js\"},{\"name\":null,\"type\":\"js\",\"url\":\"\\/assetserver\\/2b9a0101b1182967c1bc8e647e40e503b7f91214-all.js\"},{\"name\":null,\"type\":\"css\",\"url\":\"\\/assetserver\\/16c36b047c84a455687c728543beff2b71551cae-style.css\"},{\"name\":null,\"type\":\"css\",\"url\":\"\\/assetserver\\/d905e3af6552e0c7d3e81225bc2f25b3475dc59b-bulma_confined.min.css\"}],\"type\":\"async_block\"},\"id\":\"13744758810541119308\",\"handlers\":{\"changes\":[\"(function (val){return (val!=this.model[\\\"changes\\\"]()) ? (this.valueFromJulia[\\\"changes\\\"]=true, this.model[\\\"changes\\\"](val)) : undefined})\"],\"index\":[\"(function (val){return (val!=this.model[\\\"index\\\"]()) ? (this.valueFromJulia[\\\"index\\\"]=true, this.model[\\\"index\\\"](val)) : undefined})\"]},\"systemjs_options\":null,\"mount_callbacks\":[\"function () {\\n    var handler = (function (ko, koPunches) {\\n    ko.punches.enableAll();\\n    ko.bindingHandlers.numericValue = {\\n        init: function(element, valueAccessor, allBindings, data, context) {\\n            var stringified = ko.observable(ko.unwrap(valueAccessor()));\\n            stringified.subscribe(function(value) {\\n                var val = parseFloat(value);\\n                if (!isNaN(val)) {\\n                    valueAccessor()(val);\\n                }\\n            });\\n            valueAccessor().subscribe(function(value) {\\n                var str = JSON.stringify(value);\\n                if ((str == \\\"0\\\") && ([\\\"-0\\\", \\\"-0.\\\"].indexOf(stringified()) >= 0))\\n                     return;\\n                 if ([\\\"null\\\", \\\"\\\"].indexOf(str) >= 0)\\n                     return;\\n                stringified(str);\\n            });\\n            ko.applyBindingsToNode(\\n                element,\\n                {\\n                    value: stringified,\\n                    valueUpdate: allBindings.get('valueUpdate'),\\n                },\\n                context,\\n            );\\n        }\\n    };\\n    var json_data = {\\\"formatted_vals\\\":[\\\"1\\\",\\\"2\\\",\\\"3\\\",\\\"4\\\",\\\"5\\\",\\\"6\\\",\\\"7\\\",\\\"8\\\",\\\"9\\\",\\\"10\\\",\\\"11\\\",\\\"12\\\",\\\"13\\\"],\\\"changes\\\":WebIO.getval({\\\"name\\\":\\\"changes\\\",\\\"scope\\\":\\\"13744758810541119308\\\",\\\"id\\\":\\\"1358650500016604514\\\",\\\"type\\\":\\\"observable\\\"}),\\\"index\\\":WebIO.getval({\\\"name\\\":\\\"index\\\",\\\"scope\\\":\\\"13744758810541119308\\\",\\\"id\\\":\\\"11243657969193368047\\\",\\\"type\\\":\\\"observable\\\"})};\\n    var self = this;\\n    function AppViewModel() {\\n        for (var key in json_data) {\\n            var el = json_data[key];\\n            this[key] = Array.isArray(el) ? ko.observableArray(el) : ko.observable(el);\\n        }\\n        \\n        [this[\\\"formatted_val\\\"]=ko.computed(    function(){\\n        return this.formatted_vals()[parseInt(this.index())-(1)];\\n    }\\n,this)]\\n        [this[\\\"changes\\\"].subscribe((function (val){!(this.valueFromJulia[\\\"changes\\\"]) ? (WebIO.setval({\\\"name\\\":\\\"changes\\\",\\\"scope\\\":\\\"13744758810541119308\\\",\\\"id\\\":\\\"1358650500016604514\\\",\\\"type\\\":\\\"observable\\\"},val)) : undefined; return this.valueFromJulia[\\\"changes\\\"]=false}),self),this[\\\"index\\\"].subscribe((function (val){!(this.valueFromJulia[\\\"index\\\"]) ? (WebIO.setval({\\\"name\\\":\\\"index\\\",\\\"scope\\\":\\\"13744758810541119308\\\",\\\"id\\\":\\\"11243657969193368047\\\",\\\"type\\\":\\\"observable\\\"},val)) : undefined; return this.valueFromJulia[\\\"index\\\"]=false}),self)]\\n        \\n    }\\n    self.model = new AppViewModel();\\n    self.valueFromJulia = {};\\n    for (var key in json_data) {\\n        self.valueFromJulia[key] = false;\\n    }\\n    ko.applyBindings(self.model, self.dom);\\n}\\n);\\n    (WebIO.importBlock({\\\"data\\\":[{\\\"name\\\":\\\"knockout\\\",\\\"type\\\":\\\"js\\\",\\\"url\\\":\\\"\\/assetserver\\/f83dc9757fede95ccda667ff812a2fcf4fcea406-knockout.js\\\"},{\\\"name\\\":\\\"knockout_punches\\\",\\\"type\\\":\\\"js\\\",\\\"url\\\":\\\"\\/assetserver\\/489381353c6689ef066cceedc5f4603376aece34-knockout_punches.js\\\"}],\\\"type\\\":\\\"async_block\\\"})).then((imports) => handler.apply(this, imports));\\n}\\n\"],\"observables\":{\"changes\":{\"sync\":false,\"id\":\"1358650500016604514\",\"value\":0},\"index\":{\"sync\":true,\"id\":\"11243657969193368047\",\"value\":7}}},\"children\":[{\"props\":{\"className\":\"interact-flex-row interact-widget\"},\"nodeType\":\"DOM\",\"type\":\"node\",\"instanceArgs\":{\"namespace\":\"html\",\"tag\":\"div\"},\"children\":[{\"props\":{\"className\":\"interact-flex-row-left\"},\"nodeType\":\"DOM\",\"type\":\"node\",\"instanceArgs\":{\"namespace\":\"html\",\"tag\":\"div\"},\"children\":[{\"props\":{\"className\":\"interact \",\"style\":{\"padding\":\"5px 10px 0px 10px\"}},\"nodeType\":\"DOM\",\"type\":\"node\",\"instanceArgs\":{\"namespace\":\"html\",\"tag\":\"label\"},\"children\":[\"t\"]}]},{\"props\":{\"className\":\"interact-flex-row-center\"},\"nodeType\":\"DOM\",\"type\":\"node\",\"instanceArgs\":{\"namespace\":\"html\",\"tag\":\"div\"},\"children\":[{\"props\":{\"max\":13,\"min\":1,\"attributes\":{\"type\":\"range\",\"data-bind\":\"numericValue: index, valueUpdate: 'input', event: {change: function (){this.changes(this.changes()+1)}}\",\"orient\":\"horizontal\"},\"step\":1,\"className\":\"slider slider is-fullwidth\",\"style\":{}},\"nodeType\":\"DOM\",\"type\":\"node\",\"instanceArgs\":{\"namespace\":\"html\",\"tag\":\"input\"},\"children\":[]}]},{\"props\":{\"className\":\"interact-flex-row-right\"},\"nodeType\":\"DOM\",\"type\":\"node\",\"instanceArgs\":{\"namespace\":\"html\",\"tag\":\"div\"},\"children\":[{\"props\":{\"attributes\":{\"data-bind\":\"text: formatted_val\"}},\"nodeType\":\"DOM\",\"type\":\"node\",\"instanceArgs\":{\"namespace\":\"html\",\"tag\":\"p\"},\"children\":[]}]}]}]}]},{\"props\":{},\"nodeType\":\"Scope\",\"type\":\"node\",\"instanceArgs\":{\"imports\":{\"data\":[],\"type\":\"async_block\"},\"id\":\"12552474698911624242\",\"handlers\":{},\"systemjs_options\":null,\"mount_callbacks\":[],\"observables\":{\"obs-node\":{\"sync\":false,\"id\":\"6138200539229576844\",\"value\":{\"props\":{\"className\":\"interact-flex-row interact-widget\"},\"nodeType\":\"DOM\",\"type\":\"node\",\"instanceArgs\":{\"namespace\":\"html\",\"tag\":\"div\"},\"children\":[{\"props\":{\"setInnerHtml\":\"<img src='data:image\\/png;base64,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'><\\/img>\"},\"nodeType\":\"DOM\",\"type\":\"node\",\"instanceArgs\":{\"namespace\":\"html\",\"tag\":\"div\"},\"children\":[]}]}}}},\"children\":[{\"props\":{},\"nodeType\":\"ObservableNode\",\"type\":\"node\",\"instanceArgs\":{\"id\":\"6138200539229576844\",\"name\":\"obs-node\"},\"children\":[]}]}]},\n",
       "            window,\n",
       "        );\n",
       "    } else {\n",
       "        document\n",
       "            .querySelector('[data-webio-mountpoint=\"5394637871143922754\"]')\n",
       "            .innerHTML = (\n",
       "                '<div style=\"padding: 1em; background-color: #f8d6da; border: 1px solid #f5c6cb\">' +\n",
       "                '<p><strong>WebIO not detected.</strong></p>' +\n",
       "                '<p>Please read ' +\n",
       "                '<a href=\"https://juliagizmos.github.io/WebIO.jl/latest/troubleshooting/not-detected/\" target=\"_blank\">the troubleshooting guide</a> ' +\n",
       "                'for more information on how to resolve this issue.</p>' +\n",
       "                '<p><a href=\"https://juliagizmos.github.io/WebIO.jl/latest/troubleshooting/not-detected/\" target=\"_blank\">https://juliagizmos.github.io/WebIO.jl/latest/troubleshooting/not-detected/</a></p>' +\n",
       "                '</div>'\n",
       "            );\n",
       "    }\n",
       "    </script>\n",
       "</div>\n"
      ],
      "text/plain": [
       "Node{WebIO.DOM}(WebIO.DOM(:html, :div), Any[Node{WebIO.DOM}(WebIO.DOM(:html, :div), Any[Scope(Node{WebIO.DOM}(WebIO.DOM(:html, :div), Any[Node{WebIO.DOM}(WebIO.DOM(:html, :div), Any[Node{WebIO.DOM}(WebIO.DOM(:html, :label), Any[\"t\"], Dict{Symbol,Any}(:className => \"interact \",:style => Dict{Any,Any}(:padding => \"5px 10px 0px 10px\")))], Dict{Symbol,Any}(:className => \"interact-flex-row-left\")), Node{WebIO.DOM}(WebIO.DOM(:html, :div), Any[Node{WebIO.DOM}(WebIO.DOM(:html, :input), Any[], Dict{Symbol,Any}(:max => 13,:min => 1,:attributes => Dict{Any,Any}(:type => \"range\",Symbol(\"data-bind\") => \"numericValue: index, valueUpdate: 'input', event: {change: function (){this.changes(this.changes()+1)}}\",\"orient\" => \"horizontal\"),:step => 1,:className => \"slider slider is-fullwidth\",:style => Dict{Any,Any}()))], Dict{Symbol,Any}(:className => \"interact-flex-row-center\")), Node{WebIO.DOM}(WebIO.DOM(:html, :div), Any[Node{WebIO.DOM}(WebIO.DOM(:html, :p), Any[], Dict{Symbol,Any}(:attributes => Dict(\"data-bind\" => \"text: formatted_val\")))], Dict{Symbol,Any}(:className => \"interact-flex-row-right\"))], Dict{Symbol,Any}(:className => \"interact-flex-row interact-widget\")), Dict{String,Tuple{Observables.AbstractObservable,Union{Nothing, Bool}}}(\"changes\" => (Observable{Int64} with 1 listeners. Value:\n",
       "0, nothing),\"index\" => (Observable{Int64} with 2 listeners. Value:\n",
       "7, nothing)), Set{String}(), nothing, Asset[Asset(\"js\", \"knockout\", \"/scratch/users/shubhgup/julia/.julia/packages/Knockout/IP1uR/src/../assets/knockout.js\"), Asset(\"js\", \"knockout_punches\", \"/scratch/users/shubhgup/julia/.julia/packages/Knockout/IP1uR/src/../assets/knockout_punches.js\"), Asset(\"js\", nothing, \"/scratch/users/shubhgup/julia/.julia/packages/InteractBase/sOe2Z/src/../assets/all.js\"), Asset(\"css\", nothing, \"/scratch/users/shubhgup/julia/.julia/packages/InteractBase/sOe2Z/src/../assets/style.css\"), Asset(\"css\", nothing, \"/scratch/users/shubhgup/julia/.julia/packages/Interact/SbgIk/src/../assets/bulma_confined.min.css\")], Dict{Any,Any}(\"changes\" => Any[WebIO.JSString(\"(function (val){return (val!=this.model[\\\"changes\\\"]()) ? (this.valueFromJulia[\\\"changes\\\"]=true, this.model[\\\"changes\\\"](val)) : undefined})\")],\"index\" => Any[WebIO.JSString(\"(function (val){return (val!=this.model[\\\"index\\\"]()) ? (this.valueFromJulia[\\\"index\\\"]=true, this.model[\\\"index\\\"](val)) : undefined})\")]), WebIO.ConnectionPool(Channel{Any}(sz_max:32,sz_curr:0), Set{AbstractConnection}(), Base.GenericCondition{Base.AlwaysLockedST}(Base.InvasiveLinkedList{Task}(Task (runnable) @0x00007f80d20c6e60, Task (runnable) @0x00007f80d20c6e60), Base.AlwaysLockedST(1))), WebIO.JSString[WebIO.JSString(\"function () {\\n    var handler = (function (ko, koPunches) {\\n    ko.punches.enableAll();\\n    ko.bindingHandlers.numericValue = {\\n        init: function(element, valueAccessor, allBindings, data, context) {\\n            var stringified = ko.observable(ko.unwrap(valueAccessor()));\\n            stringified.subscribe(function(value) {\\n                var val = parseFloat(value);\\n                if (!isNaN(val)) {\\n                    valueAccessor()(val);\\n                }\\n            });\\n            valueAccessor().subscribe(function(value) {\\n                var str = JSON.stringify(value);\\n                if ((str == \\\"0\\\") && ([\\\"-0\\\", \\\"-0.\\\"].indexOf(stringified()) >= 0))\\n                     return;\\n                 if ([\\\"null\\\", \\\"\\\"].indexOf(str) >= 0)\\n                     return;\\n                stringified(str);\\n            });\\n            ko.applyBindingsToNode(\\n                element,\\n                {\\n                    value: stringified,\\n                    valueUpdate: allBindings.get('valueUpdate'),\\n                },\\n                context,\\n            );\\n        }\\n    };\\n    var json_data = {\\\"formatted_vals\\\":[\\\"1\\\",\\\"2\\\",\\\"3\\\",\\\"4\\\",\\\"5\\\",\\\"6\\\",\\\"7\\\",\\\"8\\\",\\\"9\\\",\\\"10\\\",\\\"11\\\",\\\"12\\\",\\\"13\\\"],\\\"changes\\\":WebIO.getval({\\\"name\\\":\\\"changes\\\",\\\"scope\\\":\\\"13744758810541119308\\\",\\\"id\\\":\\\"1358650500016604514\\\",\\\"type\\\":\\\"observable\\\"}),\\\"index\\\":WebIO.getval({\\\"name\\\":\\\"index\\\",\\\"scope\\\":\\\"13744758810541119308\\\",\\\"id\\\":\\\"11243657969193368047\\\",\\\"type\\\":\\\"observable\\\"})};\\n    var self = this;\\n    function AppViewModel() {\\n        for (var key in json_data) {\\n            var el = json_data[key];\\n            this[key] = Array.isArray(el) ? ko.observableArray(el) : ko.observable(el);\\n        }\\n        \\n        [this[\\\"formatted_val\\\"]=ko.computed(    function(){\\n        return this.formatted_vals()[parseInt(this.index())-(1)];\\n    }\\n,this)]\\n        [this[\\\"changes\\\"].subscribe((function (val){!(this.valueFromJulia[\\\"changes\\\"]) ? (WebIO.setval({\\\"name\\\":\\\"changes\\\",\\\"scope\\\":\\\"13744758810541119308\\\",\\\"id\\\":\\\"1358650500016604514\\\",\\\"type\\\":\\\"observable\\\"},val)) : undefined; return this.valueFromJulia[\\\"changes\\\"]=false}),self),this[\\\"index\\\"].subscribe((function (val){!(this.valueFromJulia[\\\"index\\\"]) ? (WebIO.setval({\\\"name\\\":\\\"index\\\",\\\"scope\\\":\\\"13744758810541119308\\\",\\\"id\\\":\\\"11243657969193368047\\\",\\\"type\\\":\\\"observable\\\"},val)) : undefined; return this.valueFromJulia[\\\"index\\\"]=false}),self)]\\n        \\n    }\\n    self.model = new AppViewModel();\\n    self.valueFromJulia = {};\\n    for (var key in json_data) {\\n        self.valueFromJulia[key] = false;\\n    }\\n    ko.applyBindings(self.model, self.dom);\\n}\\n);\\n    (WebIO.importBlock({\\\"data\\\":[{\\\"name\\\":\\\"knockout\\\",\\\"type\\\":\\\"js\\\",\\\"url\\\":\\\"/assetserver/f83dc9757fede95ccda667ff812a2fcf4fcea406-knockout.js\\\"},{\\\"name\\\":\\\"knockout_punches\\\",\\\"type\\\":\\\"js\\\",\\\"url\\\":\\\"/assetserver/489381353c6689ef066cceedc5f4603376aece34-knockout_punches.js\\\"}],\\\"type\\\":\\\"async_block\\\"})).then((imports) => handler.apply(this, imports));\\n}\\n\")])], Dict{Symbol,Any}(:className => \"field interact-widget\")), Observable{Any} with 0 listeners. Value:\n",
       "Node{WebIO.DOM}(WebIO.DOM(:html, :div), Any[Cairo.CairoSurfaceIOStream{UInt32}(Ptr{Nothing} @0x000000000eb94cf0, 1000.0, 600.0, IOBuffer(data=UInt8[...], readable=true, writable=true, seekable=true, append=false, size=0, maxsize=Inf, ptr=1, mark=-1))], Dict{Symbol,Any}(:className => \"interact-flex-row interact-widget\"))], Dict{Symbol,Any}())"
      ]
     },
     "execution_count": 77,
     "metadata": {
      "application/vnd.webio.node+json": {
       "kernelId": "b0f0d372-d609-4a46-87d0-eabc2b186f03"
      }
     },
     "output_type": "execute_result"
    }
   ],
   "source": [
    "# t = 10\n",
    "@manipulate for t=1:length(ad_scenes_noise)\n",
    "    AutomotiveVisualization.render([ad_mdp.roadway, crosswalk, ad_scenes_noise[t]])\n",
    "end"
   ]
  },
  {
   "cell_type": "code",
   "execution_count": 78,
   "metadata": {},
   "outputs": [],
   "source": [
    "# model(ad_mdp, sutid(ad_mdp)).observation_history[1]"
   ]
  },
  {
   "cell_type": "code",
   "execution_count": 79,
   "metadata": {},
   "outputs": [],
   "source": [
    "@with_kw struct AutoRiskParams\n",
    "    endtime::Real = 30 # Simulate end time\n",
    "end;"
   ]
  },
  {
   "cell_type": "code",
   "execution_count": 296,
   "metadata": {},
   "outputs": [],
   "source": [
    "@with_kw mutable struct AutoRiskSim <: GrayBox.Simulation\n",
    "    t::Real = 0 # Current time\n",
    "    params::AutoRiskParams = AutoRiskParams() # Parameters\n",
    "\n",
    "    # System under test, ego vehicle\n",
    "    sut = BlinkerVehicleAgent(get_ped_vehicle(id=1, s=5.0, v=15.0),\n",
    "                              TIDM(ped_TIDM_template, noisy_observations=true))\n",
    "\n",
    "    # Noisy adversary, pedestrian\n",
    "    adversary = NoisyPedestrianAgent(get_pedestrian_noisy(id=2, s=7.0, v=2.0, noise=init_noise),\n",
    "                                     AdversarialPedestrian())\n",
    "\n",
    "    # Adversarial Markov decision process\n",
    "    problem::MDP = AdversarialDrivingMDP(sut, [adversary], ped_roadway, 0.1)\n",
    "    state::Scene = rand(initialstate(problem))\n",
    "    prev_distance::Real = -Inf # Used when agent goes out of frame\n",
    "\n",
    "    # Noise distributions and disturbances\n",
    "    xposition_noise::Distribution = Normal(0, 5) # Gaussian noise (notice larger σ)\n",
    "    yposition_noise::Distribution = Normal(0, 1) # Gaussian noise\n",
    "    velocity_noise::Distribution = Normal(0, 0.1) # Gaussian noise\n",
    "    \n",
    "    # GPS range noise\n",
    "    range_noise::Array{Distribution} = [Normal(0, 5.), Normal(0, 5.), Normal(0, 5.), Normal(0, 5.), Normal(0, 5.)] # Array of Gaussian\n",
    "    \n",
    "    disturbances = Disturbance[PedestrianControl()] # Initial 0-noise disturbance\n",
    "end;"
   ]
  },
  {
   "cell_type": "code",
   "execution_count": 297,
   "metadata": {},
   "outputs": [],
   "source": [
    "function GrayBox.environment(sim::AutoRiskSim)\n",
    "#     return GrayBox.Environment(:xpos => sim.xposition_noise,\n",
    "#                                :ypos => sim.yposition_noise,\n",
    "#                                :vel => sim.velocity_noise)\n",
    "\n",
    "    \n",
    "    obs_history = sim.sut.model.observation_history\n",
    "    \n",
    "    if length(obs_history[1])>0\n",
    "        base_meas = last(obs_history[1])\n",
    "        \n",
    "        xpos_samp = Float64[]\n",
    "        ypos_samp = Float64[]\n",
    "        \n",
    "        for i=1:100\n",
    "            temp_meas = Union{Missing, AdversarialDriving.GPSRangeMeasurement}[]\n",
    "            for j=1:length(sim.range_noise)\n",
    "                cur_meas = base_meas[j]\n",
    "                if typeof(cur_meas)==Missing\n",
    "                    continue\n",
    "                else\n",
    "                    push!(temp_meas, AdversarialDriving.GPSRangeMeasurement(sat=cur_meas.sat, \n",
    "                                                                            range=cur_meas.range, \n",
    "                                                                            noise=rand(sim.range_noise[j])))\n",
    "                end\n",
    "            end\n",
    "            gps_fix = GPS_fix(temp_meas)\n",
    "            true_pos = posg(sim.state[id(sim.adversary)])\n",
    "\n",
    "            push!(xpos_samp, gps_fix[1]-true_pos.x)\n",
    "            push!(ypos_samp, gps_fix[2]-true_pos.y)\n",
    "        end\n",
    "#         @show xpos_samp, ypos_samp\n",
    "        xposition_noise = Distributions.fit(Normal{typeof(xpos_samp[1])}, xpos_samp, ones(length(xpos_samp)))\n",
    "        yposition_noise = Distributions.fit(Normal{typeof(ypos_samp[1])}, ypos_samp, ones(length(ypos_samp)))\n",
    "#         @show xposition_noise, yposition_noise\n",
    "    else\n",
    "        xposition_noise = Normal(0, 1)\n",
    "        yposition_noise = Normal(0, 1)\n",
    "    end\n",
    "    \n",
    "    return GrayBox.Environment(\n",
    "                                 :vel => sim.velocity_noise,\n",
    "#                                :range_1 => sim.range_noise[1],\n",
    "#                                :range_2 => sim.range_noise[2],\n",
    "#                                :range_3 => sim.range_noise[3],\n",
    "#                                :range_4 => sim.range_noise[4],\n",
    "#                                :range_5 => sim.range_noise[5]\n",
    "                                 :xpos => xposition_noise,\n",
    "                                 :ypos => yposition_noise\n",
    "                                )\n",
    "end"
   ]
  },
  {
   "cell_type": "code",
   "execution_count": 358,
   "metadata": {},
   "outputs": [],
   "source": [
    "function GrayBox.transition!(sim::AutoRiskSim, sample::GrayBox.EnvironmentSample)\n",
    "    sim.t += sim.problem.dt # Keep track of time\n",
    "\n",
    "    # replace current noise with new sampled noise\n",
    "#     range_noise = [sample[:range_1].value, sample[:range_2].value, sample[:range_3].value, sample[:range_4].value, sample[:range_5].value]\n",
    "#     range_noise = [sample[:range_1].value, 0.0, sample[:range_3].value, 0.0, 0.0]\n",
    "#     noise = Noise(pos = (0.0, 0.0), vel = sample[:vel].value, gps_range = [0.0, 0.0, 0.0, 0.0, 0.0])\n",
    "#     noise = Noise(pos = (0.0, 0.0), vel = 0.0, gps_range = range_noise)\n",
    "#     noise = Noise(pos = (sample[:xpos].value, sample[:ypos].value), vel = sample[:vel].value, gps_range = [0.0, 0.0, 0.0, 0.0, 0.0])\n",
    "    noise = Noise(pos = (sample[:xpos].value, 0.), vel = sample[:vel].value, gps_range = [0.0, 0.0, 0.0, 0.0, 0.0])\n",
    "    sim.disturbances[1] = PedestrianControl(noise=noise)\n",
    "\n",
    "    # step agents: given MDP, current state, and current action (i.e. disturbances)\n",
    "    (sim.state, r) = @gen(:sp, :r)(sim.problem, sim.state, sim.disturbances)\n",
    "\n",
    "    # return log-likelihood of actions, summation handled by `logpdf()`\n",
    "    return logpdf(sample)::Real\n",
    "end"
   ]
  },
  {
   "cell_type": "code",
   "execution_count": 359,
   "metadata": {},
   "outputs": [],
   "source": [
    "function BlackBox.initialize!(sim::AutoRiskSim)\n",
    "    sim.t = 0\n",
    "    sim.problem = AdversarialDrivingMDP(sim.sut, [sim.adversary], ped_roadway, 0.1)\n",
    "    sim.state = rand(initialstate(sim.problem))\n",
    "    sim.disturbances = Disturbance[PedestrianControl()] # noise-less\n",
    "    sim.prev_distance = -Inf\n",
    "end"
   ]
  },
  {
   "cell_type": "code",
   "execution_count": 360,
   "metadata": {},
   "outputs": [],
   "source": [
    "simx = AutoRiskSim()\n",
    "BlackBox.initialize!(simx);"
   ]
  },
  {
   "cell_type": "code",
   "execution_count": 361,
   "metadata": {},
   "outputs": [
    {
     "data": {
      "text/plain": [
       "out_of_frame (generic function with 1 method)"
      ]
     },
     "execution_count": 361,
     "metadata": {},
     "output_type": "execute_result"
    }
   ],
   "source": [
    "out_of_frame(sim) = length(sim.state.entities) < 2 # either agent went out of frame"
   ]
  },
  {
   "cell_type": "code",
   "execution_count": 362,
   "metadata": {},
   "outputs": [],
   "source": [
    "function BlackBox.distance(sim::AutoRiskSim)\n",
    "    if out_of_frame(sim)\n",
    "        return sim.prev_distance\n",
    "    else\n",
    "        pedestrian, vehicle = sim.state.entities\n",
    "        pos1 = posg(pedestrian)\n",
    "        pos2 = posg(vehicle)\n",
    "        return hypot(pos1.x - pos2.x, pos1.y - pos2.y)\n",
    "    end\n",
    "end"
   ]
  },
  {
   "cell_type": "code",
   "execution_count": 363,
   "metadata": {},
   "outputs": [
    {
     "data": {
      "text/plain": [
       "18.75518661597372"
      ]
     },
     "execution_count": 363,
     "metadata": {},
     "output_type": "execute_result"
    }
   ],
   "source": [
    "begin\n",
    "    envsample = rand(GrayBox.environment(simx))\n",
    "    GrayBox.transition!(simx, envsample)\n",
    "    BlackBox.distance(simx)\n",
    "end"
   ]
  },
  {
   "cell_type": "code",
   "execution_count": 364,
   "metadata": {},
   "outputs": [],
   "source": [
    "function BlackBox.isevent(sim::AutoRiskSim)\n",
    "    if out_of_frame(sim)\n",
    "        return false\n",
    "    else\n",
    "        pedestrian, vehicle = sim.state.entities\n",
    "        return collision_checker(pedestrian, vehicle)\n",
    "    end\n",
    "end"
   ]
  },
  {
   "cell_type": "code",
   "execution_count": 365,
   "metadata": {},
   "outputs": [],
   "source": [
    "function BlackBox.isterminal(sim::AutoRiskSim)\n",
    "    return isterminal(sim.problem, sim.state) ||\n",
    "           out_of_frame(sim) ||\n",
    "           BlackBox.isevent(sim) ||\n",
    "           sim.t ≥ sim.params.endtime\n",
    "end"
   ]
  },
  {
   "cell_type": "code",
   "execution_count": 366,
   "metadata": {},
   "outputs": [],
   "source": [
    "function BlackBox.evaluate!(sim::AutoRiskSim, sample::GrayBox.EnvironmentSample)\n",
    "    logprob::Real = GrayBox.transition!(sim, sample) # Step simulation\n",
    "    d::Real       = BlackBox.distance(sim)           # Calculate miss distance\n",
    "    event::Bool   = BlackBox.isevent(sim)            # Check event indication\n",
    "    sim.prev_distance = d                            # Store previous distance\n",
    "    return (logprob::Real, d::Real, event::Bool)\n",
    "end"
   ]
  },
  {
   "cell_type": "code",
   "execution_count": 367,
   "metadata": {},
   "outputs": [
    {
     "data": {
      "text/plain": [
       "(-3.7918186914784844, 17.375626607406126, false)"
      ]
     },
     "execution_count": 367,
     "metadata": {},
     "output_type": "execute_result"
    }
   ],
   "source": [
    "begin\n",
    "    envsample2 = rand(GrayBox.environment(simx))\n",
    "    BlackBox.evaluate!(simx, envsample2) # (log-likelihood, distance, isevent)\n",
    "end"
   ]
  },
  {
   "cell_type": "code",
   "execution_count": 368,
   "metadata": {},
   "outputs": [],
   "source": [
    "function setup_ast(seed=0)\n",
    "    # Create gray-box simulation object\n",
    "    sim::GrayBox.Simulation = AutoRiskSim()\n",
    "\n",
    "    # AST MDP formulation object\n",
    "    mdp::ASTMDP = ASTMDP{ASTSampleAction}(sim)\n",
    "    mdp.params.debug = true # record metrics\n",
    "    mdp.params.top_k = 10   # record top k best trajectories\n",
    "    mdp.params.seed = seed  # set RNG seed for determinism\n",
    "\n",
    "    # Hyperparameters for MCTS-PW as the solver\n",
    "    solver = MCTSPWSolver(n_iterations=1000,        # number of algorithm iterations\n",
    "                          exploration_constant=1.0, # UCT exploration\n",
    "                          k_action=1.0,             # action widening\n",
    "                          alpha_action=0.5,         # action widening\n",
    "                          depth=sim.params.endtime) # tree depth\n",
    "\n",
    "#     solver = CEMSolver(n_iterations=100, \n",
    "#                        episode_length=sim.params.endtime)\n",
    "    \n",
    "    # Get online planner (no work done, yet)\n",
    "    planner = solve(solver, mdp)\n",
    "\n",
    "    return planner\n",
    "end;"
   ]
  },
  {
   "cell_type": "code",
   "execution_count": 369,
   "metadata": {},
   "outputs": [],
   "source": [
    "planner = setup_ast();"
   ]
  },
  {
   "cell_type": "code",
   "execution_count": 370,
   "metadata": {},
   "outputs": [
    {
     "name": "stderr",
     "output_type": "stream",
     "text": [
      "\u001b[32mProgress: 100%|█████████████████████████████████████████| Time: 0:00:54\u001b[39m\n"
     ]
    },
    {
     "data": {
      "text/plain": [
       "13-element Array{ASTAction,1}:\n",
       " ASTSampleAction\n",
       "  sample: Dict{Symbol,POMDPStressTesting.AST.GrayBox.Sample}\n",
       "\n",
       " ASTSampleAction\n",
       "  sample: Dict{Symbol,POMDPStressTesting.AST.GrayBox.Sample}\n",
       "\n",
       " ASTSampleAction\n",
       "  sample: Dict{Symbol,POMDPStressTesting.AST.GrayBox.Sample}\n",
       "\n",
       " ASTSampleAction\n",
       "  sample: Dict{Symbol,POMDPStressTesting.AST.GrayBox.Sample}\n",
       "\n",
       " ASTSampleAction\n",
       "  sample: Dict{Symbol,POMDPStressTesting.AST.GrayBox.Sample}\n",
       "\n",
       " ASTSampleAction\n",
       "  sample: Dict{Symbol,POMDPStressTesting.AST.GrayBox.Sample}\n",
       "\n",
       " ASTSampleAction\n",
       "  sample: Dict{Symbol,POMDPStressTesting.AST.GrayBox.Sample}\n",
       "\n",
       " ASTSampleAction\n",
       "  sample: Dict{Symbol,POMDPStressTesting.AST.GrayBox.Sample}\n",
       "\n",
       " ASTSampleAction\n",
       "  sample: Dict{Symbol,POMDPStressTesting.AST.GrayBox.Sample}\n",
       "\n",
       " ASTSampleAction\n",
       "  sample: Dict{Symbol,POMDPStressTesting.AST.GrayBox.Sample}\n",
       "\n",
       " ASTSampleAction\n",
       "  sample: Dict{Symbol,POMDPStressTesting.AST.GrayBox.Sample}\n",
       "\n",
       " ASTSampleAction\n",
       "  sample: Dict{Symbol,POMDPStressTesting.AST.GrayBox.Sample}\n",
       "\n",
       " ASTSampleAction\n",
       "  sample: Dict{Symbol,POMDPStressTesting.AST.GrayBox.Sample}\n"
      ]
     },
     "execution_count": 370,
     "metadata": {},
     "output_type": "execute_result"
    }
   ],
   "source": [
    "action_trace = search!(planner)"
   ]
  },
  {
   "cell_type": "code",
   "execution_count": 371,
   "metadata": {},
   "outputs": [
    {
     "data": {
      "image/png": "[encoded data removed]",
      "text/plain": [
       "PyPlot.Figure(PyObject <Figure size 700x700 with 3 Axes>)"
      ]
     },
     "metadata": {},
     "output_type": "display_data"
    },
    {
     "data": {
      "image/png": "[encoded data removed]",
      "text/plain": [
       "PyPlot.Figure(PyObject <Figure size 700x700 with 3 Axes>)"
      ]
     },
     "execution_count": 371,
     "metadata": {},
     "output_type": "execute_result"
    }
   ],
   "source": [
    "episodic_figures(planner.mdp, gui=false); POMDPStressTesting.gcf()"
   ]
  },
  {
   "cell_type": "code",
   "execution_count": 372,
   "metadata": {},
   "outputs": [
    {
     "data": {
      "image/png": "[encoded data removed]",
      "text/plain": [
       "PyPlot.Figure(PyObject <Figure size 600x500 with 2 Axes>)"
      ]
     },
     "metadata": {},
     "output_type": "display_data"
    },
    {
     "data": {
      "image/png": "[encoded data removed]",
      "text/plain": [
       "PyPlot.Figure(PyObject <Figure size 600x500 with 2 Axes>)"
      ]
     },
     "execution_count": 372,
     "metadata": {},
     "output_type": "execute_result"
    }
   ],
   "source": [
    "distribution_figures(planner.mdp, gui=false); POMDPStressTesting.gcf()"
   ]
  },
  {
   "cell_type": "code",
   "execution_count": 373,
   "metadata": {},
   "outputs": [
    {
     "name": "stdout",
     "output_type": "stream",
     "text": [
      "20.22374841615668\n",
      "18.75518661597372\n",
      "17.375626607406126\n",
      "16.085055952653686\n",
      "14.82415596248231\n",
      "13.53359615918843\n",
      "12.213369723381005\n",
      "10.863472050868445\n",
      "9.483902150486363\n",
      "8.074665627752017\n",
      "6.635781792675215\n",
      "5.167303455381723\n",
      "3.728592227637654\n",
      "2.319746753419423\n"
     ]
    },
    {
     "data": {
      "text/plain": [
       "14-element Array{Any,1}:\n",
       " 20.22374841615668\n",
       " 18.75518661597372\n",
       " 17.375626607406126\n",
       " 16.085055952653686\n",
       " 14.82415596248231\n",
       " 13.53359615918843\n",
       " 12.213369723381005\n",
       " 10.863472050868445\n",
       "  9.483902150486363\n",
       "  8.074665627752017\n",
       "  6.635781792675215\n",
       "  5.167303455381723\n",
       "  3.728592227637654\n",
       "  2.319746753419423"
      ]
     },
     "execution_count": 373,
     "metadata": {},
     "output_type": "execute_result"
    }
   ],
   "source": [
    "playback_trace = playback(planner, action_trace, BlackBox.distance, return_trace=true)"
   ]
  },
  {
   "cell_type": "code",
   "execution_count": 374,
   "metadata": {},
   "outputs": [
    {
     "name": "stdout",
     "output_type": "stream",
     "text": [
      "First failure: 503 of 74098\n",
      "Number of failures: 1370\n",
      "Failure rate: 1.8489%\n"
     ]
    },
    {
     "data": {
      "text/plain": [
       "1.8489028043941806"
      ]
     },
     "execution_count": 374,
     "metadata": {},
     "output_type": "execute_result"
    }
   ],
   "source": [
    "failure_rate = print_metrics(planner)"
   ]
  },
  {
   "cell_type": "code",
   "execution_count": 375,
   "metadata": {},
   "outputs": [
    {
     "data": {
      "text/latex": [
       "$$p = 0.0404$$\n"
      ],
      "text/markdown": [
       "$$\n",
       "p = 0.0404\n",
       "$$\n"
      ],
      "text/plain": [
       "\u001b[35m  p = 0.0404\u001b[39m"
      ]
     },
     "execution_count": 375,
     "metadata": {},
     "output_type": "execute_result"
    }
   ],
   "source": [
    "begin\n",
    "    # TODO: get this index from the `trace` itself\n",
    "    # findmax(planner.mdp.metrics.reward[planner.mdp.metrics.event])\n",
    "    # findmax(ast_mdp.metrics.reward[ast_mdp.metrics.event])\n",
    "\n",
    "    failure_likelihood =\n",
    "        round(exp(maximum(planner.mdp.metrics.logprob[planner.mdp.metrics.event])), digits=4)\n",
    "\n",
    "    Markdown.parse(string(\"\\$\\$p = \", failure_likelihood, \"\\$\\$\"))\n",
    "end"
   ]
  },
  {
   "cell_type": "code",
   "execution_count": 376,
   "metadata": {},
   "outputs": [
    {
     "name": "stdout",
     "output_type": "stream",
     "text": [
      "Scene{Entity{S,VehicleDef,Int64} where S}(2 entities)\n",
      "Scene{Entity{S,VehicleDef,Int64} where S}(2 entities)\n",
      "Scene{Entity{S,VehicleDef,Int64} where S}(2 entities)\n",
      "Scene{Entity{S,VehicleDef,Int64} where S}(2 entities)\n",
      "Scene{Entity{S,VehicleDef,Int64} where S}(2 entities)\n",
      "Scene{Entity{S,VehicleDef,Int64} where S}(2 entities)\n",
      "Scene{Entity{S,VehicleDef,Int64} where S}(2 entities)\n",
      "Scene{Entity{S,VehicleDef,Int64} where S}(2 entities)\n",
      "Scene{Entity{S,VehicleDef,Int64} where S}(2 entities)\n",
      "Scene{Entity{S,VehicleDef,Int64} where S}(2 entities)\n",
      "Scene{Entity{S,VehicleDef,Int64} where S}(2 entities)\n",
      "Scene{Entity{S,VehicleDef,Int64} where S}(2 entities)\n",
      "Scene{Entity{S,VehicleDef,Int64} where S}(2 entities)\n",
      "Scene{Entity{S,VehicleDef,Int64} where S}(2 entities)\n"
     ]
    },
    {
     "data": {
      "text/plain": [
       "14-element Array{Any,1}:\n",
       " Scene{Entity{S,VehicleDef,Int64} where S}(2 entities)\n",
       " Scene{Entity{S,VehicleDef,Int64} where S}(2 entities)\n",
       " Scene{Entity{S,VehicleDef,Int64} where S}(2 entities)\n",
       " Scene{Entity{S,VehicleDef,Int64} where S}(2 entities)\n",
       " Scene{Entity{S,VehicleDef,Int64} where S}(2 entities)\n",
       " Scene{Entity{S,VehicleDef,Int64} where S}(2 entities)\n",
       " Scene{Entity{S,VehicleDef,Int64} where S}(2 entities)\n",
       " Scene{Entity{S,VehicleDef,Int64} where S}(2 entities)\n",
       " Scene{Entity{S,VehicleDef,Int64} where S}(2 entities)\n",
       " Scene{Entity{S,VehicleDef,Int64} where S}(2 entities)\n",
       " Scene{Entity{S,VehicleDef,Int64} where S}(2 entities)\n",
       " Scene{Entity{S,VehicleDef,Int64} where S}(2 entities)\n",
       " Scene{Entity{S,VehicleDef,Int64} where S}(2 entities)\n",
       " Scene{Entity{S,VehicleDef,Int64} where S}(2 entities)"
      ]
     },
     "execution_count": 376,
     "metadata": {},
     "output_type": "execute_result"
    }
   ],
   "source": [
    "playback_trace = playback(planner, action_trace, sim->sim.state, return_trace=true)"
   ]
  },
  {
   "cell_type": "code",
   "execution_count": 377,
   "metadata": {
    "scrolled": false
   },
   "outputs": [
    {
     "data": {
      "application/vnd.webio.node+json": {
       "children": [
        {
         "children": [
          {
           "children": [
            {
             "children": [
              {
               "children": [
                {
                 "children": [
                  "t"
                 ],
                 "instanceArgs": {
                  "namespace": "html",
                  "tag": "label"
                 },
                 "nodeType": "DOM",
                 "props": {
                  "className": "interact ",
                  "style": {
                   "padding": "5px 10px 0px 10px"
                  }
                 },
                 "type": "node"
                }
               ],
               "instanceArgs": {
                "namespace": "html",
                "tag": "div"
               },
               "nodeType": "DOM",
               "props": {
                "className": "interact-flex-row-left"
               },
               "type": "node"
              },
              {
               "children": [
                {
                 "children": [],
                 "instanceArgs": {
                  "namespace": "html",
                  "tag": "input"
                 },
                 "nodeType": "DOM",
                 "props": {
                  "attributes": {
                   "data-bind": "numericValue: index, valueUpdate: 'input', event: {change: function (){this.changes(this.changes()+1)}}",
                   "orient": "horizontal",
                   "type": "range"
                  },
                  "className": "slider slider is-fullwidth",
                  "max": 14,
                  "min": 1,
                  "step": 1,
                  "style": {}
                 },
                 "type": "node"
                }
               ],
               "instanceArgs": {
                "namespace": "html",
                "tag": "div"
               },
               "nodeType": "DOM",
               "props": {
                "className": "interact-flex-row-center"
               },
               "type": "node"
              },
              {
               "children": [
                {
                 "children": [],
                 "instanceArgs": {
                  "namespace": "html",
                  "tag": "p"
                 },
                 "nodeType": "DOM",
                 "props": {
                  "attributes": {
                   "data-bind": "text: formatted_val"
                  }
                 },
                 "type": "node"
                }
               ],
               "instanceArgs": {
                "namespace": "html",
                "tag": "div"
               },
               "nodeType": "DOM",
               "props": {
                "className": "interact-flex-row-right"
               },
               "type": "node"
              }
             ],
             "instanceArgs": {
              "namespace": "html",
              "tag": "div"
             },
             "nodeType": "DOM",
             "props": {
              "className": "interact-flex-row interact-widget"
             },
             "type": "node"
            }
           ],
           "instanceArgs": {
            "handlers": {
             "changes": [
              "(function (val){return (val!=this.model[\"changes\"]()) ? (this.valueFromJulia[\"changes\"]=true, this.model[\"changes\"](val)) : undefined})"
             ],
             "index": [
              "(function (val){return (val!=this.model[\"index\"]()) ? (this.valueFromJulia[\"index\"]=true, this.model[\"index\"](val)) : undefined})"
             ]
            },
            "id": "2157446451882804341",
            "imports": {
             "data": [
              {
               "name": "knockout",
               "type": "js",
               "url": "/assetserver/f83dc9757fede95ccda667ff812a2fcf4fcea406-knockout.js"
              },
              {
               "name": "knockout_punches",
               "type": "js",
               "url": "/assetserver/489381353c6689ef066cceedc5f4603376aece34-knockout_punches.js"
              },
              {
               "name": null,
               "type": "js",
               "url": "/assetserver/2b9a0101b1182967c1bc8e647e40e503b7f91214-all.js"
              },
              {
               "name": null,
               "type": "css",
               "url": "/assetserver/16c36b047c84a455687c728543beff2b71551cae-style.css"
              },
              {
               "name": null,
               "type": "css",
               "url": "/assetserver/d905e3af6552e0c7d3e81225bc2f25b3475dc59b-bulma_confined.min.css"
              }
             ],
             "type": "async_block"
            },
            "mount_callbacks": [
             "function () {\n    var handler = (function (ko, koPunches) {\n    ko.punches.enableAll();\n    ko.bindingHandlers.numericValue = {\n        init: function(element, valueAccessor, allBindings, data, context) {\n            var stringified = ko.observable(ko.unwrap(valueAccessor()));\n            stringified.subscribe(function(value) {\n                var val = parseFloat(value);\n                if (!isNaN(val)) {\n                    valueAccessor()(val);\n                }\n            });\n            valueAccessor().subscribe(function(value) {\n                var str = JSON.stringify(value);\n                if ((str == \"0\") && ([\"-0\", \"-0.\"].indexOf(stringified()) >= 0))\n                     return;\n                 if ([\"null\", \"\"].indexOf(str) >= 0)\n                     return;\n                stringified(str);\n            });\n            ko.applyBindingsToNode(\n                element,\n                {\n                    value: stringified,\n                    valueUpdate: allBindings.get('valueUpdate'),\n                },\n                context,\n            );\n        }\n    };\n    var json_data = {\"formatted_vals\":[\"1\",\"2\",\"3\",\"4\",\"5\",\"6\",\"7\",\"8\",\"9\",\"10\",\"11\",\"12\",\"13\",\"14\"],\"changes\":WebIO.getval({\"name\":\"changes\",\"scope\":\"2157446451882804341\",\"id\":\"17567511719689979152\",\"type\":\"observable\"}),\"index\":WebIO.getval({\"name\":\"index\",\"scope\":\"2157446451882804341\",\"id\":\"8837546172422021519\",\"type\":\"observable\"})};\n    var self = this;\n    function AppViewModel() {\n        for (var key in json_data) {\n            var el = json_data[key];\n            this[key] = Array.isArray(el) ? ko.observableArray(el) : ko.observable(el);\n        }\n        \n        [this[\"formatted_val\"]=ko.computed(    function(){\n        return this.formatted_vals()[parseInt(this.index())-(1)];\n    }\n,this)]\n        [this[\"changes\"].subscribe((function (val){!(this.valueFromJulia[\"changes\"]) ? (WebIO.setval({\"name\":\"changes\",\"scope\":\"2157446451882804341\",\"id\":\"17567511719689979152\",\"type\":\"observable\"},val)) : undefined; return this.valueFromJulia[\"changes\"]=false}),self),this[\"index\"].subscribe((function (val){!(this.valueFromJulia[\"index\"]) ? (WebIO.setval({\"name\":\"index\",\"scope\":\"2157446451882804341\",\"id\":\"8837546172422021519\",\"type\":\"observable\"},val)) : undefined; return this.valueFromJulia[\"index\"]=false}),self)]\n        \n    }\n    self.model = new AppViewModel();\n    self.valueFromJulia = {};\n    for (var key in json_data) {\n        self.valueFromJulia[key] = false;\n    }\n    ko.applyBindings(self.model, self.dom);\n}\n);\n    (WebIO.importBlock({\"data\":[{\"name\":\"knockout\",\"type\":\"js\",\"url\":\"/assetserver/f83dc9757fede95ccda667ff812a2fcf4fcea406-knockout.js\"},{\"name\":\"knockout_punches\",\"type\":\"js\",\"url\":\"/assetserver/489381353c6689ef066cceedc5f4603376aece34-knockout_punches.js\"}],\"type\":\"async_block\"})).then((imports) => handler.apply(this, imports));\n}\n"
            ],
            "observables": {
             "changes": {
              "id": "17567511719689979152",
              "sync": false,
              "value": 0
             },
             "index": {
              "id": "8837546172422021519",
              "sync": true,
              "value": 7
             }
            },
            "systemjs_options": null
           },
           "nodeType": "Scope",
           "props": {},
           "type": "node"
          }
         ],
         "instanceArgs": {
          "namespace": "html",
          "tag": "div"
         },
         "nodeType": "DOM",
         "props": {
          "className": "field interact-widget"
         },
         "type": "node"
        },
        {
         "children": [
          {
           "children": [],
           "instanceArgs": {
            "id": "3790355141676916908",
            "name": "obs-node"
           },
           "nodeType": "ObservableNode",
           "props": {},
           "type": "node"
          }
         ],
         "instanceArgs": {
          "handlers": {},
          "id": "10128891727455233004",
          "imports": {
           "data": [],
           "type": "async_block"
          },
          "mount_callbacks": [],
          "observables": {
           "obs-node": {
            "id": "3790355141676916908",
            "sync": false,
            "value": {
             "children": [
              {
               "children": [],
               "instanceArgs": {
                "namespace": "html",
                "tag": "div"
               },
               "nodeType": "DOM",
               "props": {
                "setInnerHtml": "<img src='data:image/png;base64,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'></img>"
               },
               "type": "node"
              }
             ],
             "instanceArgs": {
              "namespace": "html",
              "tag": "div"
             },
             "nodeType": "DOM",
             "props": {
              "className": "interact-flex-row interact-widget"
             },
             "type": "node"
            }
           }
          },
          "systemjs_options": null
         },
         "nodeType": "Scope",
         "props": {},
         "type": "node"
        }
       ],
       "instanceArgs": {
        "namespace": "html",
        "tag": "div"
       },
       "nodeType": "DOM",
       "props": {},
       "type": "node"
      },
      "text/html": [
       "<div\n",
       "    class=\"webio-mountpoint\"\n",
       "    data-webio-mountpoint=\"1117436694826173369\"\n",
       ">\n",
       "    <script>\n",
       "    if (window.require && require.defined && require.defined(\"nbextensions/webio-jupyter-notebook\")) {\n",
       "        console.log(\"Jupyter WebIO extension detected, not mounting.\");\n",
       "    } else if (window.WebIO) {\n",
       "        WebIO.mount(\n",
       "            document.querySelector('[data-webio-mountpoint=\"1117436694826173369\"]'),\n",
       "            {\"props\":{},\"nodeType\":\"DOM\",\"type\":\"node\",\"instanceArgs\":{\"namespace\":\"html\",\"tag\":\"div\"},\"children\":[{\"props\":{\"className\":\"field interact-widget\"},\"nodeType\":\"DOM\",\"type\":\"node\",\"instanceArgs\":{\"namespace\":\"html\",\"tag\":\"div\"},\"children\":[{\"props\":{},\"nodeType\":\"Scope\",\"type\":\"node\",\"instanceArgs\":{\"imports\":{\"data\":[{\"name\":\"knockout\",\"type\":\"js\",\"url\":\"\\/assetserver\\/f83dc9757fede95ccda667ff812a2fcf4fcea406-knockout.js\"},{\"name\":\"knockout_punches\",\"type\":\"js\",\"url\":\"\\/assetserver\\/489381353c6689ef066cceedc5f4603376aece34-knockout_punches.js\"},{\"name\":null,\"type\":\"js\",\"url\":\"\\/assetserver\\/2b9a0101b1182967c1bc8e647e40e503b7f91214-all.js\"},{\"name\":null,\"type\":\"css\",\"url\":\"\\/assetserver\\/16c36b047c84a455687c728543beff2b71551cae-style.css\"},{\"name\":null,\"type\":\"css\",\"url\":\"\\/assetserver\\/d905e3af6552e0c7d3e81225bc2f25b3475dc59b-bulma_confined.min.css\"}],\"type\":\"async_block\"},\"id\":\"2157446451882804341\",\"handlers\":{\"changes\":[\"(function (val){return (val!=this.model[\\\"changes\\\"]()) ? (this.valueFromJulia[\\\"changes\\\"]=true, this.model[\\\"changes\\\"](val)) : undefined})\"],\"index\":[\"(function (val){return (val!=this.model[\\\"index\\\"]()) ? (this.valueFromJulia[\\\"index\\\"]=true, this.model[\\\"index\\\"](val)) : undefined})\"]},\"systemjs_options\":null,\"mount_callbacks\":[\"function () {\\n    var handler = (function (ko, koPunches) {\\n    ko.punches.enableAll();\\n    ko.bindingHandlers.numericValue = {\\n        init: function(element, valueAccessor, allBindings, data, context) {\\n            var stringified = ko.observable(ko.unwrap(valueAccessor()));\\n            stringified.subscribe(function(value) {\\n                var val = parseFloat(value);\\n                if (!isNaN(val)) {\\n                    valueAccessor()(val);\\n                }\\n            });\\n            valueAccessor().subscribe(function(value) {\\n                var str = JSON.stringify(value);\\n                if ((str == \\\"0\\\") && ([\\\"-0\\\", \\\"-0.\\\"].indexOf(stringified()) >= 0))\\n                     return;\\n                 if ([\\\"null\\\", \\\"\\\"].indexOf(str) >= 0)\\n                     return;\\n                stringified(str);\\n            });\\n            ko.applyBindingsToNode(\\n                element,\\n                {\\n                    value: stringified,\\n                    valueUpdate: allBindings.get('valueUpdate'),\\n                },\\n                context,\\n            );\\n        }\\n    };\\n    var json_data = {\\\"formatted_vals\\\":[\\\"1\\\",\\\"2\\\",\\\"3\\\",\\\"4\\\",\\\"5\\\",\\\"6\\\",\\\"7\\\",\\\"8\\\",\\\"9\\\",\\\"10\\\",\\\"11\\\",\\\"12\\\",\\\"13\\\",\\\"14\\\"],\\\"changes\\\":WebIO.getval({\\\"name\\\":\\\"changes\\\",\\\"scope\\\":\\\"2157446451882804341\\\",\\\"id\\\":\\\"17567511719689979152\\\",\\\"type\\\":\\\"observable\\\"}),\\\"index\\\":WebIO.getval({\\\"name\\\":\\\"index\\\",\\\"scope\\\":\\\"2157446451882804341\\\",\\\"id\\\":\\\"8837546172422021519\\\",\\\"type\\\":\\\"observable\\\"})};\\n    var self = this;\\n    function AppViewModel() {\\n        for (var key in json_data) {\\n            var el = json_data[key];\\n            this[key] = Array.isArray(el) ? ko.observableArray(el) : ko.observable(el);\\n        }\\n        \\n        [this[\\\"formatted_val\\\"]=ko.computed(    function(){\\n        return this.formatted_vals()[parseInt(this.index())-(1)];\\n    }\\n,this)]\\n        [this[\\\"changes\\\"].subscribe((function (val){!(this.valueFromJulia[\\\"changes\\\"]) ? (WebIO.setval({\\\"name\\\":\\\"changes\\\",\\\"scope\\\":\\\"2157446451882804341\\\",\\\"id\\\":\\\"17567511719689979152\\\",\\\"type\\\":\\\"observable\\\"},val)) : undefined; return this.valueFromJulia[\\\"changes\\\"]=false}),self),this[\\\"index\\\"].subscribe((function (val){!(this.valueFromJulia[\\\"index\\\"]) ? (WebIO.setval({\\\"name\\\":\\\"index\\\",\\\"scope\\\":\\\"2157446451882804341\\\",\\\"id\\\":\\\"8837546172422021519\\\",\\\"type\\\":\\\"observable\\\"},val)) : undefined; return this.valueFromJulia[\\\"index\\\"]=false}),self)]\\n        \\n    }\\n    self.model = new AppViewModel();\\n    self.valueFromJulia = {};\\n    for (var key in json_data) {\\n        self.valueFromJulia[key] = false;\\n    }\\n    ko.applyBindings(self.model, self.dom);\\n}\\n);\\n    (WebIO.importBlock({\\\"data\\\":[{\\\"name\\\":\\\"knockout\\\",\\\"type\\\":\\\"js\\\",\\\"url\\\":\\\"\\/assetserver\\/f83dc9757fede95ccda667ff812a2fcf4fcea406-knockout.js\\\"},{\\\"name\\\":\\\"knockout_punches\\\",\\\"type\\\":\\\"js\\\",\\\"url\\\":\\\"\\/assetserver\\/489381353c6689ef066cceedc5f4603376aece34-knockout_punches.js\\\"}],\\\"type\\\":\\\"async_block\\\"})).then((imports) => handler.apply(this, imports));\\n}\\n\"],\"observables\":{\"changes\":{\"sync\":false,\"id\":\"17567511719689979152\",\"value\":0},\"index\":{\"sync\":true,\"id\":\"8837546172422021519\",\"value\":7}}},\"children\":[{\"props\":{\"className\":\"interact-flex-row interact-widget\"},\"nodeType\":\"DOM\",\"type\":\"node\",\"instanceArgs\":{\"namespace\":\"html\",\"tag\":\"div\"},\"children\":[{\"props\":{\"className\":\"interact-flex-row-left\"},\"nodeType\":\"DOM\",\"type\":\"node\",\"instanceArgs\":{\"namespace\":\"html\",\"tag\":\"div\"},\"children\":[{\"props\":{\"className\":\"interact \",\"style\":{\"padding\":\"5px 10px 0px 10px\"}},\"nodeType\":\"DOM\",\"type\":\"node\",\"instanceArgs\":{\"namespace\":\"html\",\"tag\":\"label\"},\"children\":[\"t\"]}]},{\"props\":{\"className\":\"interact-flex-row-center\"},\"nodeType\":\"DOM\",\"type\":\"node\",\"instanceArgs\":{\"namespace\":\"html\",\"tag\":\"div\"},\"children\":[{\"props\":{\"max\":14,\"min\":1,\"attributes\":{\"type\":\"range\",\"data-bind\":\"numericValue: index, valueUpdate: 'input', event: {change: function (){this.changes(this.changes()+1)}}\",\"orient\":\"horizontal\"},\"step\":1,\"className\":\"slider slider is-fullwidth\",\"style\":{}},\"nodeType\":\"DOM\",\"type\":\"node\",\"instanceArgs\":{\"namespace\":\"html\",\"tag\":\"input\"},\"children\":[]}]},{\"props\":{\"className\":\"interact-flex-row-right\"},\"nodeType\":\"DOM\",\"type\":\"node\",\"instanceArgs\":{\"namespace\":\"html\",\"tag\":\"div\"},\"children\":[{\"props\":{\"attributes\":{\"data-bind\":\"text: formatted_val\"}},\"nodeType\":\"DOM\",\"type\":\"node\",\"instanceArgs\":{\"namespace\":\"html\",\"tag\":\"p\"},\"children\":[]}]}]}]}]},{\"props\":{},\"nodeType\":\"Scope\",\"type\":\"node\",\"instanceArgs\":{\"imports\":{\"data\":[],\"type\":\"async_block\"},\"id\":\"2183078803836498419\",\"handlers\":{},\"systemjs_options\":null,\"mount_callbacks\":[],\"observables\":{\"obs-node\":{\"sync\":false,\"id\":\"14643654932984376642\",\"value\":{\"props\":{\"className\":\"interact-flex-row interact-widget\"},\"nodeType\":\"DOM\",\"type\":\"node\",\"instanceArgs\":{\"namespace\":\"html\",\"tag\":\"div\"},\"children\":[{\"props\":{\"setInnerHtml\":\"<img src='data:image\\/png;base64,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'><\\/img>\"},\"nodeType\":\"DOM\",\"type\":\"node\",\"instanceArgs\":{\"namespace\":\"html\",\"tag\":\"div\"},\"children\":[]}]}}}},\"children\":[{\"props\":{},\"nodeType\":\"ObservableNode\",\"type\":\"node\",\"instanceArgs\":{\"id\":\"14643654932984376642\",\"name\":\"obs-node\"},\"children\":[]}]}]},\n",
       "            window,\n",
       "        );\n",
       "    } else {\n",
       "        document\n",
       "            .querySelector('[data-webio-mountpoint=\"1117436694826173369\"]')\n",
       "            .innerHTML = (\n",
       "                '<div style=\"padding: 1em; background-color: #f8d6da; border: 1px solid #f5c6cb\">' +\n",
       "                '<p><strong>WebIO not detected.</strong></p>' +\n",
       "                '<p>Please read ' +\n",
       "                '<a href=\"https://juliagizmos.github.io/WebIO.jl/latest/troubleshooting/not-detected/\" target=\"_blank\">the troubleshooting guide</a> ' +\n",
       "                'for more information on how to resolve this issue.</p>' +\n",
       "                '<p><a href=\"https://juliagizmos.github.io/WebIO.jl/latest/troubleshooting/not-detected/\" target=\"_blank\">https://juliagizmos.github.io/WebIO.jl/latest/troubleshooting/not-detected/</a></p>' +\n",
       "                '</div>'\n",
       "            );\n",
       "    }\n",
       "    </script>\n",
       "</div>\n"
      ],
      "text/plain": [
       "Node{WebIO.DOM}(WebIO.DOM(:html, :div), Any[Node{WebIO.DOM}(WebIO.DOM(:html, :div), Any[Scope(Node{WebIO.DOM}(WebIO.DOM(:html, :div), Any[Node{WebIO.DOM}(WebIO.DOM(:html, :div), Any[Node{WebIO.DOM}(WebIO.DOM(:html, :label), Any[\"t\"], Dict{Symbol,Any}(:className => \"interact \",:style => Dict{Any,Any}(:padding => \"5px 10px 0px 10px\")))], Dict{Symbol,Any}(:className => \"interact-flex-row-left\")), Node{WebIO.DOM}(WebIO.DOM(:html, :div), Any[Node{WebIO.DOM}(WebIO.DOM(:html, :input), Any[], Dict{Symbol,Any}(:max => 14,:min => 1,:attributes => Dict{Any,Any}(:type => \"range\",Symbol(\"data-bind\") => \"numericValue: index, valueUpdate: 'input', event: {change: function (){this.changes(this.changes()+1)}}\",\"orient\" => \"horizontal\"),:step => 1,:className => \"slider slider is-fullwidth\",:style => Dict{Any,Any}()))], Dict{Symbol,Any}(:className => \"interact-flex-row-center\")), Node{WebIO.DOM}(WebIO.DOM(:html, :div), Any[Node{WebIO.DOM}(WebIO.DOM(:html, :p), Any[], Dict{Symbol,Any}(:attributes => Dict(\"data-bind\" => \"text: formatted_val\")))], Dict{Symbol,Any}(:className => \"interact-flex-row-right\"))], Dict{Symbol,Any}(:className => \"interact-flex-row interact-widget\")), Dict{String,Tuple{Observables.AbstractObservable,Union{Nothing, Bool}}}(\"changes\" => (Observable{Int64} with 1 listeners. Value:\n",
       "0, nothing),\"index\" => (Observable{Int64} with 2 listeners. Value:\n",
       "7, nothing)), Set{String}(), nothing, Asset[Asset(\"js\", \"knockout\", \"/scratch/users/shubhgup/julia/.julia/packages/Knockout/IP1uR/src/../assets/knockout.js\"), Asset(\"js\", \"knockout_punches\", \"/scratch/users/shubhgup/julia/.julia/packages/Knockout/IP1uR/src/../assets/knockout_punches.js\"), Asset(\"js\", nothing, \"/scratch/users/shubhgup/julia/.julia/packages/InteractBase/sOe2Z/src/../assets/all.js\"), Asset(\"css\", nothing, \"/scratch/users/shubhgup/julia/.julia/packages/InteractBase/sOe2Z/src/../assets/style.css\"), Asset(\"css\", nothing, \"/scratch/users/shubhgup/julia/.julia/packages/Interact/SbgIk/src/../assets/bulma_confined.min.css\")], Dict{Any,Any}(\"changes\" => Any[WebIO.JSString(\"(function (val){return (val!=this.model[\\\"changes\\\"]()) ? (this.valueFromJulia[\\\"changes\\\"]=true, this.model[\\\"changes\\\"](val)) : undefined})\")],\"index\" => Any[WebIO.JSString(\"(function (val){return (val!=this.model[\\\"index\\\"]()) ? (this.valueFromJulia[\\\"index\\\"]=true, this.model[\\\"index\\\"](val)) : undefined})\")]), WebIO.ConnectionPool(Channel{Any}(sz_max:32,sz_curr:0), Set{AbstractConnection}(), Base.GenericCondition{Base.AlwaysLockedST}(Base.InvasiveLinkedList{Task}(Task (runnable) @0x00007f80d20fdd50, Task (runnable) @0x00007f80d20fdd50), Base.AlwaysLockedST(1))), WebIO.JSString[WebIO.JSString(\"function () {\\n    var handler = (function (ko, koPunches) {\\n    ko.punches.enableAll();\\n    ko.bindingHandlers.numericValue = {\\n        init: function(element, valueAccessor, allBindings, data, context) {\\n            var stringified = ko.observable(ko.unwrap(valueAccessor()));\\n            stringified.subscribe(function(value) {\\n                var val = parseFloat(value);\\n                if (!isNaN(val)) {\\n                    valueAccessor()(val);\\n                }\\n            });\\n            valueAccessor().subscribe(function(value) {\\n                var str = JSON.stringify(value);\\n                if ((str == \\\"0\\\") && ([\\\"-0\\\", \\\"-0.\\\"].indexOf(stringified()) >= 0))\\n                     return;\\n                 if ([\\\"null\\\", \\\"\\\"].indexOf(str) >= 0)\\n                     return;\\n                stringified(str);\\n            });\\n            ko.applyBindingsToNode(\\n                element,\\n                {\\n                    value: stringified,\\n                    valueUpdate: allBindings.get('valueUpdate'),\\n                },\\n                context,\\n            );\\n        }\\n    };\\n    var json_data = {\\\"formatted_vals\\\":[\\\"1\\\",\\\"2\\\",\\\"3\\\",\\\"4\\\",\\\"5\\\",\\\"6\\\",\\\"7\\\",\\\"8\\\",\\\"9\\\",\\\"10\\\",\\\"11\\\",\\\"12\\\",\\\"13\\\",\\\"14\\\"],\\\"changes\\\":WebIO.getval({\\\"name\\\":\\\"changes\\\",\\\"scope\\\":\\\"2157446451882804341\\\",\\\"id\\\":\\\"17567511719689979152\\\",\\\"type\\\":\\\"observable\\\"}),\\\"index\\\":WebIO.getval({\\\"name\\\":\\\"index\\\",\\\"scope\\\":\\\"2157446451882804341\\\",\\\"id\\\":\\\"8837546172422021519\\\",\\\"type\\\":\\\"observable\\\"})};\\n    var self = this;\\n    function AppViewModel() {\\n        for (var key in json_data) {\\n            var el = json_data[key];\\n            this[key] = Array.isArray(el) ? ko.observableArray(el) : ko.observable(el);\\n        }\\n        \\n        [this[\\\"formatted_val\\\"]=ko.computed(    function(){\\n        return this.formatted_vals()[parseInt(this.index())-(1)];\\n    }\\n,this)]\\n        [this[\\\"changes\\\"].subscribe((function (val){!(this.valueFromJulia[\\\"changes\\\"]) ? (WebIO.setval({\\\"name\\\":\\\"changes\\\",\\\"scope\\\":\\\"2157446451882804341\\\",\\\"id\\\":\\\"17567511719689979152\\\",\\\"type\\\":\\\"observable\\\"},val)) : undefined; return this.valueFromJulia[\\\"changes\\\"]=false}),self),this[\\\"index\\\"].subscribe((function (val){!(this.valueFromJulia[\\\"index\\\"]) ? (WebIO.setval({\\\"name\\\":\\\"index\\\",\\\"scope\\\":\\\"2157446451882804341\\\",\\\"id\\\":\\\"8837546172422021519\\\",\\\"type\\\":\\\"observable\\\"},val)) : undefined; return this.valueFromJulia[\\\"index\\\"]=false}),self)]\\n        \\n    }\\n    self.model = new AppViewModel();\\n    self.valueFromJulia = {};\\n    for (var key in json_data) {\\n        self.valueFromJulia[key] = false;\\n    }\\n    ko.applyBindings(self.model, self.dom);\\n}\\n);\\n    (WebIO.importBlock({\\\"data\\\":[{\\\"name\\\":\\\"knockout\\\",\\\"type\\\":\\\"js\\\",\\\"url\\\":\\\"/assetserver/f83dc9757fede95ccda667ff812a2fcf4fcea406-knockout.js\\\"},{\\\"name\\\":\\\"knockout_punches\\\",\\\"type\\\":\\\"js\\\",\\\"url\\\":\\\"/assetserver/489381353c6689ef066cceedc5f4603376aece34-knockout_punches.js\\\"}],\\\"type\\\":\\\"async_block\\\"})).then((imports) => handler.apply(this, imports));\\n}\\n\")])], Dict{Symbol,Any}(:className => \"field interact-widget\")), Observable{Any} with 0 listeners. Value:\n",
       "Node{WebIO.DOM}(WebIO.DOM(:html, :div), Any[Cairo.CairoSurfaceIOStream{UInt32}(Ptr{Nothing} @0x000000002a49f680, 1000.0, 600.0, IOBuffer(data=UInt8[...], readable=true, writable=true, seekable=true, append=false, size=0, maxsize=Inf, ptr=1, mark=-1))], Dict{Symbol,Any}(:className => \"interact-flex-row interact-widget\"))], Dict{Symbol,Any}())"
      ]
     },
     "execution_count": 377,
     "metadata": {
      "application/vnd.webio.node+json": {
       "kernelId": "b0f0d372-d609-4a46-87d0-eabc2b186f03"
      }
     },
     "output_type": "execute_result"
    }
   ],
   "source": [
    "# t = 10\n",
    "mp = @manipulate for t=1:length(playback_trace)\n",
    "    AutomotiveVisualization.render([planner.mdp.sim.problem.roadway, crosswalk, playback_trace[t]])\n",
    "end"
   ]
  },
  {
   "cell_type": "code",
   "execution_count": null,
   "metadata": {},
   "outputs": [],
   "source": []
  },
  {
   "cell_type": "markdown",
   "metadata": {},
   "source": [
    "### Example for localizing using GPS"
   ]
  },
  {
   "cell_type": "markdown",
   "metadata": {},
   "source": [
    "**Input**: state of agent, noise in each GPS range measurement\n",
    "\n",
    "**Output**: agent with noise parameter containing difference between estimated state and true state"
   ]
  },
  {
   "cell_type": "code",
   "execution_count": null,
   "metadata": {},
   "outputs": [],
   "source": [
    "eg1_meas = AdversarialDriving.measure_gps(ped_state, [0.0, 0.0, 0.0, 0.0])"
   ]
  },
  {
   "cell_type": "code",
   "execution_count": null,
   "metadata": {},
   "outputs": [],
   "source": [
    "ped_state.state.veh_state"
   ]
  },
  {
   "cell_type": "code",
   "execution_count": null,
   "metadata": {},
   "outputs": [],
   "source": [
    "eg1_ped = AdversarialDriving.localize(ped_state, [eg1_meas], planner.mdp.sim.problem.roadway)"
   ]
  },
  {
   "cell_type": "markdown",
   "metadata": {},
   "source": [
    "### Example for Distribution likelihood estimation under measurements"
   ]
  },
  {
   "cell_type": "markdown",
   "metadata": {},
   "source": [
    "**Input**: distribution of measurements, function mapping from measurements to states of all agents\n",
    "\n",
    "**Output**: log probability of a given set of agent states "
   ]
  },
  {
   "cell_type": "code",
   "execution_count": null,
   "metadata": {},
   "outputs": [],
   "source": [
    "eg2_range_noise = [Normal(0, 5.0), Normal(0, 5.0), Normal(0, 5.0)] # Array of Gaussian\n",
    "eg2_range_mu = [10.0, 11.0, 9.0]"
   ]
  },
  {
   "cell_type": "code",
   "execution_count": null,
   "metadata": {},
   "outputs": [],
   "source": [
    "function eg2_localize(m)\n",
    "    return [1/sqrt(2)*hypot(m[1], m[2]), 1/sqrt(2)*hypot(m[2], m[3])]\n",
    "end"
   ]
  },
  {
   "cell_type": "code",
   "execution_count": null,
   "metadata": {},
   "outputs": [],
   "source": [
    "eg2_localize([1.1, 1.3, 2.8])"
   ]
  },
  {
   "cell_type": "code",
   "execution_count": null,
   "metadata": {},
   "outputs": [],
   "source": [
    "n_samp = 1000\n",
    "eg2_noise_samp = zeros(n_samp, length(eg2_range_noise))\n",
    "for i=1:length(eg2_range_noise)\n",
    "    eg2_noise_samp[:, i] = rand(eg2_range_noise[i], n_samp)\n",
    "end\n",
    "eg2_noise_samp"
   ]
  },
  {
   "cell_type": "code",
   "execution_count": null,
   "metadata": {},
   "outputs": [],
   "source": [
    "loc_samp = zeros(n_samp, 2)\n",
    "for i=1:n_samp\n",
    "    loc_samp[i, :] = eg2_localize(eg2_range_mu + eg2_noise_samp[i, :])\n",
    "end\n",
    "loc_samp"
   ]
  },
  {
   "cell_type": "code",
   "execution_count": null,
   "metadata": {},
   "outputs": [],
   "source": [
    "using Plots"
   ]
  },
  {
   "cell_type": "code",
   "execution_count": null,
   "metadata": {},
   "outputs": [],
   "source": [
    "histogram(loc_samp[:, 1])\n",
    "histogram!(loc_samp[:, 2])"
   ]
  },
  {
   "cell_type": "markdown",
   "metadata": {},
   "source": [
    "Need to calc log likelihood from the empirical distribution"
   ]
  },
  {
   "cell_type": "code",
   "execution_count": null,
   "metadata": {},
   "outputs": [],
   "source": []
  }
 ],
 "metadata": {
  "@webio": {
   "lastCommId": "73efcb7f455e43ebb6189626311864dc",
   "lastKernelId": "b0f0d372-d609-4a46-87d0-eabc2b186f03"
  },
  "kernelspec": {
   "display_name": "Julia 1.5.1",
   "language": "julia",
   "name": "julia-1.5"
  },
  "language_info": {
   "file_extension": ".jl",
   "mimetype": "application/julia",
   "name": "julia",
   "version": "1.5.1"
  }
 },
 "nbformat": 4,
 "nbformat_minor": 2
}
